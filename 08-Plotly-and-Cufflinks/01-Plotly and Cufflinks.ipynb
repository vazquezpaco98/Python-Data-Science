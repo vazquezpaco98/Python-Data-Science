{
 "cells": [
  {
   "cell_type": "markdown",
   "metadata": {},
   "source": [
    "___\n",
    "\n",
    "<a href='http://www.pieriandata.com'> <img src='../Pierian_Data_Logo.png' /></a>\n",
    "___\n",
    "# Plotly and Cufflinks"
   ]
  },
  {
   "cell_type": "markdown",
   "metadata": {},
   "source": [
    "Plotly is a library that allows you to create interactive plots that you can use in dashboards or websites (you can save them as html files or static images).\n",
    "\n",
    "## Installation\n",
    "\n",
    "In order for this all to work, you'll need to install plotly and cufflinks to call plots directly off of a pandas dataframe. These libraries are not currently available through **conda** but are available through **pip**. Install the libraries at your command line/terminal using:\n",
    "\n",
    "    pip install plotly\n",
    "    pip install cufflinks\n",
    "\n",
    "** NOTE: Make sure you only have one installation of Python on your computer when you do this, otherwise the installation may not work. **\n",
    "\n",
    "## Imports and Set-up"
   ]
  },
  {
   "cell_type": "code",
   "execution_count": 1,
   "metadata": {
    "collapsed": true
   },
   "outputs": [],
   "source": [
    "import pandas as pd\n",
    "import numpy as np\n",
    "%matplotlib inline"
   ]
  },
  {
   "cell_type": "code",
   "execution_count": 2,
   "metadata": {
    "collapsed": false
   },
   "outputs": [
    {
     "name": "stdout",
     "output_type": "stream",
     "text": [
      "5.10.0\n"
     ]
    }
   ],
   "source": [
    "from plotly import __version__\n",
    "from plotly.offline import download_plotlyjs, init_notebook_mode, plot, iplot\n",
    "\n",
    "print(__version__) # requires version >= 1.9.0"
   ]
  },
  {
   "cell_type": "code",
   "execution_count": 3,
   "metadata": {
    "collapsed": true
   },
   "outputs": [],
   "source": [
    "import cufflinks as cf"
   ]
  },
  {
   "cell_type": "code",
   "execution_count": 4,
   "metadata": {
    "collapsed": false
   },
   "outputs": [
    {
     "data": {
      "text/html": [
       "        <script type=\"text/javascript\">\n",
       "        window.PlotlyConfig = {MathJaxConfig: 'local'};\n",
       "        if (window.MathJax && window.MathJax.Hub && window.MathJax.Hub.Config) {window.MathJax.Hub.Config({SVG: {font: \"STIX-Web\"}});}\n",
       "        if (typeof require !== 'undefined') {\n",
       "        require.undef(\"plotly\");\n",
       "        requirejs.config({\n",
       "            paths: {\n",
       "                'plotly': ['https://cdn.plot.ly/plotly-2.14.0.min']\n",
       "            }\n",
       "        });\n",
       "        require(['plotly'], function(Plotly) {\n",
       "            window._Plotly = Plotly;\n",
       "        });\n",
       "        }\n",
       "        </script>\n",
       "        "
      ]
     },
     "metadata": {},
     "output_type": "display_data"
    }
   ],
   "source": [
    "# For Notebooks\n",
    "init_notebook_mode(connected=True)"
   ]
  },
  {
   "cell_type": "code",
   "execution_count": 5,
   "metadata": {
    "collapsed": false
   },
   "outputs": [
    {
     "data": {
      "text/html": [
       "        <script type=\"text/javascript\">\n",
       "        window.PlotlyConfig = {MathJaxConfig: 'local'};\n",
       "        if (window.MathJax && window.MathJax.Hub && window.MathJax.Hub.Config) {window.MathJax.Hub.Config({SVG: {font: \"STIX-Web\"}});}\n",
       "        if (typeof require !== 'undefined') {\n",
       "        require.undef(\"plotly\");\n",
       "        requirejs.config({\n",
       "            paths: {\n",
       "                'plotly': ['https://cdn.plot.ly/plotly-2.14.0.min']\n",
       "            }\n",
       "        });\n",
       "        require(['plotly'], function(Plotly) {\n",
       "            window._Plotly = Plotly;\n",
       "        });\n",
       "        }\n",
       "        </script>\n",
       "        "
      ]
     },
     "metadata": {},
     "output_type": "display_data"
    }
   ],
   "source": [
    "# For offline use\n",
    "cf.go_offline()"
   ]
  },
  {
   "cell_type": "markdown",
   "metadata": {},
   "source": [
    "### Fake Data"
   ]
  },
  {
   "cell_type": "code",
   "execution_count": 6,
   "metadata": {
    "collapsed": false
   },
   "outputs": [],
   "source": [
    "df = pd.DataFrame(np.random.randn(100,4),columns='A B C D'.split())"
   ]
  },
  {
   "cell_type": "code",
   "execution_count": 7,
   "metadata": {
    "collapsed": false
   },
   "outputs": [
    {
     "data": {
      "text/html": [
       "<div>\n",
       "<style scoped>\n",
       "    .dataframe tbody tr th:only-of-type {\n",
       "        vertical-align: middle;\n",
       "    }\n",
       "\n",
       "    .dataframe tbody tr th {\n",
       "        vertical-align: top;\n",
       "    }\n",
       "\n",
       "    .dataframe thead th {\n",
       "        text-align: right;\n",
       "    }\n",
       "</style>\n",
       "<table border=\"1\" class=\"dataframe\">\n",
       "  <thead>\n",
       "    <tr style=\"text-align: right;\">\n",
       "      <th></th>\n",
       "      <th>A</th>\n",
       "      <th>B</th>\n",
       "      <th>C</th>\n",
       "      <th>D</th>\n",
       "    </tr>\n",
       "  </thead>\n",
       "  <tbody>\n",
       "    <tr>\n",
       "      <th>0</th>\n",
       "      <td>0.107624</td>\n",
       "      <td>-2.314891</td>\n",
       "      <td>0.659063</td>\n",
       "      <td>0.839919</td>\n",
       "    </tr>\n",
       "    <tr>\n",
       "      <th>1</th>\n",
       "      <td>-0.756442</td>\n",
       "      <td>-0.301774</td>\n",
       "      <td>1.568427</td>\n",
       "      <td>-0.636134</td>\n",
       "    </tr>\n",
       "    <tr>\n",
       "      <th>2</th>\n",
       "      <td>1.612654</td>\n",
       "      <td>0.549943</td>\n",
       "      <td>0.051661</td>\n",
       "      <td>-0.694427</td>\n",
       "    </tr>\n",
       "    <tr>\n",
       "      <th>3</th>\n",
       "      <td>0.777568</td>\n",
       "      <td>-0.952675</td>\n",
       "      <td>0.464247</td>\n",
       "      <td>-0.166757</td>\n",
       "    </tr>\n",
       "    <tr>\n",
       "      <th>4</th>\n",
       "      <td>-0.595296</td>\n",
       "      <td>1.553330</td>\n",
       "      <td>0.405027</td>\n",
       "      <td>-0.693729</td>\n",
       "    </tr>\n",
       "  </tbody>\n",
       "</table>\n",
       "</div>"
      ],
      "text/plain": [
       "          A         B         C         D\n",
       "0  0.107624 -2.314891  0.659063  0.839919\n",
       "1 -0.756442 -0.301774  1.568427 -0.636134\n",
       "2  1.612654  0.549943  0.051661 -0.694427\n",
       "3  0.777568 -0.952675  0.464247 -0.166757\n",
       "4 -0.595296  1.553330  0.405027 -0.693729"
      ]
     },
     "execution_count": 7,
     "metadata": {},
     "output_type": "execute_result"
    }
   ],
   "source": [
    "df.head()"
   ]
  },
  {
   "cell_type": "code",
   "execution_count": 8,
   "metadata": {
    "collapsed": true
   },
   "outputs": [],
   "source": [
    "df2 = pd.DataFrame({'Category':['A','B','C'],'Values':[32,43,50]})"
   ]
  },
  {
   "cell_type": "code",
   "execution_count": 9,
   "metadata": {
    "collapsed": false
   },
   "outputs": [
    {
     "data": {
      "text/html": [
       "<div>\n",
       "<style scoped>\n",
       "    .dataframe tbody tr th:only-of-type {\n",
       "        vertical-align: middle;\n",
       "    }\n",
       "\n",
       "    .dataframe tbody tr th {\n",
       "        vertical-align: top;\n",
       "    }\n",
       "\n",
       "    .dataframe thead th {\n",
       "        text-align: right;\n",
       "    }\n",
       "</style>\n",
       "<table border=\"1\" class=\"dataframe\">\n",
       "  <thead>\n",
       "    <tr style=\"text-align: right;\">\n",
       "      <th></th>\n",
       "      <th>Category</th>\n",
       "      <th>Values</th>\n",
       "    </tr>\n",
       "  </thead>\n",
       "  <tbody>\n",
       "    <tr>\n",
       "      <th>0</th>\n",
       "      <td>A</td>\n",
       "      <td>32</td>\n",
       "    </tr>\n",
       "    <tr>\n",
       "      <th>1</th>\n",
       "      <td>B</td>\n",
       "      <td>43</td>\n",
       "    </tr>\n",
       "    <tr>\n",
       "      <th>2</th>\n",
       "      <td>C</td>\n",
       "      <td>50</td>\n",
       "    </tr>\n",
       "  </tbody>\n",
       "</table>\n",
       "</div>"
      ],
      "text/plain": [
       "  Category  Values\n",
       "0        A      32\n",
       "1        B      43\n",
       "2        C      50"
      ]
     },
     "execution_count": 9,
     "metadata": {},
     "output_type": "execute_result"
    }
   ],
   "source": [
    "df2.head()"
   ]
  },
  {
   "cell_type": "markdown",
   "metadata": {},
   "source": [
    "## Using Cufflinks and iplot()\n",
    "\n",
    "* scatter\n",
    "* bar\n",
    "* box\n",
    "* spread\n",
    "* ratio\n",
    "* heatmap\n",
    "* surface\n",
    "* histogram\n",
    "* bubble"
   ]
  },
  {
   "cell_type": "markdown",
   "metadata": {},
   "source": [
    "## Scatter"
   ]
  },
  {
   "cell_type": "code",
   "execution_count": 10,
   "metadata": {
    "collapsed": false
   },
   "outputs": [
    {
     "data": {
      "application/vnd.plotly.v1+json": {
       "config": {
        "linkText": "Export to plot.ly",
        "plotlyServerURL": "https://plot.ly",
        "showLink": true
       },
       "data": [
        {
         "line": {
          "color": "rgba(255, 153, 51, 1.0)",
          "dash": "solid",
          "shape": "linear",
          "width": 1.3
         },
         "marker": {
          "size": 10,
          "symbol": "circle"
         },
         "mode": "markers",
         "name": "B",
         "text": "",
         "type": "scatter",
         "x": [
          0.10762388526296199,
          -0.7564418891284865,
          1.6126540986511892,
          0.7775682923362824,
          -0.5952959854744313,
          2.7165296870543663,
          -0.8418041837494875,
          0.4520263613717429,
          -1.1811618010748057,
          1.3017114072144773,
          1.3272738483408182,
          -1.2571625619582165,
          -1.5851832427856685,
          2.207114710090944,
          -0.9858571233790321,
          0.6254103733582416,
          1.1170542864569903,
          -0.5421854559616364,
          0.005037612594899869,
          -0.09960346946484637,
          -1.173575061482218,
          -0.7289483967404173,
          0.07800339985776875,
          -0.034754268614389135,
          -1.751240479785419,
          0.7717749524266126,
          0.08343341764260574,
          0.1986334309389733,
          -0.794258717921895,
          1.3437529637865553,
          1.1560148777149495,
          -0.34509571668566474,
          -0.0880157934620941,
          -0.5179391311478613,
          0.7021441294486146,
          0.05161627543106151,
          0.2209466178195064,
          -0.07138636983591397,
          -0.207924870196759,
          1.658956247192368,
          0.8846630544827088,
          0.6338655418849547,
          0.5243027738002651,
          0.4306726692742513,
          0.6543039138767474,
          0.6703944846780071,
          -0.45582041977913695,
          -1.5368390595450678,
          -0.43169265859801714,
          0.5775623520718516,
          0.7270362444133679,
          -0.9686402783675524,
          -0.7626460913795635,
          -0.007740911462933657,
          0.8426361921016096,
          -1.525063666185188,
          -1.4878236176538635,
          0.560411441799206,
          0.29484265879850674,
          -0.44354850857918005,
          -1.2369406866873534,
          -0.4408224576864079,
          0.42480069832885475,
          -0.7667741411620467,
          -0.700320783644171,
          1.6850601173535071,
          -0.06805298388497137,
          0.6400578864382191,
          -2.98067099973402,
          0.2247541322573582,
          -0.3052211289271923,
          -0.26910637193717996,
          -1.1397622939667247,
          1.5697320958149767,
          -1.6680788968914804,
          -0.4804863639728813,
          1.7012517997797407,
          -1.7312432770283541,
          1.0766473765396547,
          0.9987138864720232,
          -0.9536484947120728,
          -0.3166964888606845,
          -0.896993536707252,
          -1.7733819867210974,
          -0.39680350373954704,
          -0.46385931536628483,
          -0.17381558605655018,
          -0.861547502624248,
          0.5368907658398797,
          -0.38149470781202155,
          -0.04880061640656663,
          -0.9484946921437268,
          0.27269700979662254,
          0.213346612114495,
          -0.23502230780637598,
          -0.10578602471367916,
          0.8249413060109705,
          0.12317607400262938,
          0.1549693302015403,
          1.9405144461988928
         ],
         "y": [
          -2.314890678163464,
          -0.30177437212597147,
          0.5499429699705268,
          -0.9526752027541245,
          1.5533303542681645,
          -0.5078252827169001,
          0.4028555741875542,
          -0.5774718509539073,
          -0.6811341105347527,
          0.0644489320205561,
          1.811506320652103,
          0.4778354701838685,
          0.05761873599105411,
          -0.7660180917968894,
          -0.383561855691717,
          -1.9708845566145123,
          0.1790104216355467,
          -0.26930717038848323,
          -0.5021951885006355,
          0.2526883247094073,
          -1.6581072814366244,
          -0.9829489286671428,
          0.3110804762010143,
          1.7189715803691583,
          0.20830928060301285,
          -0.729721483323263,
          -0.6472670362627534,
          0.3308526113256317,
          -1.2576301538162142,
          0.8578593551258539,
          0.1531917677976979,
          -1.4114793851091527,
          -0.7115824294309413,
          -0.650709281596651,
          -0.1797312135856715,
          -0.11129089263187959,
          0.8212644920402455,
          1.436643439487427,
          0.13506679470142205,
          -1.8462888693119657,
          3.203862495207228,
          0.5752222157505211,
          -0.28073796158962405,
          -0.8701286346240297,
          -1.8053420321718303,
          -1.8486942668584059,
          -0.5068460253551225,
          0.4987691045688844,
          -0.29005597513570286,
          0.9466939194327922,
          -0.6089183281809548,
          1.1417672338470617,
          -1.088662793594401,
          0.3643038000710208,
          -0.17898847966887502,
          -0.3451979256630047,
          0.8251441391588759,
          0.16051005723422476,
          -0.44254706983371356,
          -1.2568846638341369,
          0.5454228020711138,
          1.9552256234010204,
          -0.6337597480361455,
          0.26811263823655834,
          -0.12564519258363752,
          -0.004471482700457042,
          0.5984273818105452,
          -0.330062734246072,
          -2.2387209249844617,
          -1.8689651177427342,
          -1.110306320474275,
          0.7316123635486081,
          1.7097634472311631,
          -0.9646968649446509,
          1.607143723636374,
          -1.1133374146289832,
          0.3675698426196052,
          -1.47843347031786,
          -0.824001464782571,
          1.290645718979975,
          -0.3210143193836279,
          1.0794651265744086,
          0.11045871143526716,
          0.380385812050898,
          0.27005574992279774,
          -0.2113174148967174,
          -1.1717258088038764,
          -0.17229510893765648,
          0.9314307265527947,
          -0.387760509132024,
          -0.35271724025565754,
          -0.8488360226083353,
          -1.025655885301656,
          0.26384085787714573,
          1.8120787607099624,
          0.9100289597930974,
          0.12666333933874754,
          0.11588791987941716,
          -1.9145334684976296,
          1.5043947128368997
         ]
        }
       ],
       "layout": {
        "legend": {
         "bgcolor": "#F5F6F9",
         "font": {
          "color": "#4D5663"
         }
        },
        "paper_bgcolor": "#F5F6F9",
        "plot_bgcolor": "#F5F6F9",
        "template": {
         "data": {
          "bar": [
           {
            "error_x": {
             "color": "#2a3f5f"
            },
            "error_y": {
             "color": "#2a3f5f"
            },
            "marker": {
             "line": {
              "color": "#E5ECF6",
              "width": 0.5
             },
             "pattern": {
              "fillmode": "overlay",
              "size": 10,
              "solidity": 0.2
             }
            },
            "type": "bar"
           }
          ],
          "barpolar": [
           {
            "marker": {
             "line": {
              "color": "#E5ECF6",
              "width": 0.5
             },
             "pattern": {
              "fillmode": "overlay",
              "size": 10,
              "solidity": 0.2
             }
            },
            "type": "barpolar"
           }
          ],
          "carpet": [
           {
            "aaxis": {
             "endlinecolor": "#2a3f5f",
             "gridcolor": "white",
             "linecolor": "white",
             "minorgridcolor": "white",
             "startlinecolor": "#2a3f5f"
            },
            "baxis": {
             "endlinecolor": "#2a3f5f",
             "gridcolor": "white",
             "linecolor": "white",
             "minorgridcolor": "white",
             "startlinecolor": "#2a3f5f"
            },
            "type": "carpet"
           }
          ],
          "choropleth": [
           {
            "colorbar": {
             "outlinewidth": 0,
             "ticks": ""
            },
            "type": "choropleth"
           }
          ],
          "contour": [
           {
            "colorbar": {
             "outlinewidth": 0,
             "ticks": ""
            },
            "colorscale": [
             [
              0,
              "#0d0887"
             ],
             [
              0.1111111111111111,
              "#46039f"
             ],
             [
              0.2222222222222222,
              "#7201a8"
             ],
             [
              0.3333333333333333,
              "#9c179e"
             ],
             [
              0.4444444444444444,
              "#bd3786"
             ],
             [
              0.5555555555555556,
              "#d8576b"
             ],
             [
              0.6666666666666666,
              "#ed7953"
             ],
             [
              0.7777777777777778,
              "#fb9f3a"
             ],
             [
              0.8888888888888888,
              "#fdca26"
             ],
             [
              1,
              "#f0f921"
             ]
            ],
            "type": "contour"
           }
          ],
          "contourcarpet": [
           {
            "colorbar": {
             "outlinewidth": 0,
             "ticks": ""
            },
            "type": "contourcarpet"
           }
          ],
          "heatmap": [
           {
            "colorbar": {
             "outlinewidth": 0,
             "ticks": ""
            },
            "colorscale": [
             [
              0,
              "#0d0887"
             ],
             [
              0.1111111111111111,
              "#46039f"
             ],
             [
              0.2222222222222222,
              "#7201a8"
             ],
             [
              0.3333333333333333,
              "#9c179e"
             ],
             [
              0.4444444444444444,
              "#bd3786"
             ],
             [
              0.5555555555555556,
              "#d8576b"
             ],
             [
              0.6666666666666666,
              "#ed7953"
             ],
             [
              0.7777777777777778,
              "#fb9f3a"
             ],
             [
              0.8888888888888888,
              "#fdca26"
             ],
             [
              1,
              "#f0f921"
             ]
            ],
            "type": "heatmap"
           }
          ],
          "heatmapgl": [
           {
            "colorbar": {
             "outlinewidth": 0,
             "ticks": ""
            },
            "colorscale": [
             [
              0,
              "#0d0887"
             ],
             [
              0.1111111111111111,
              "#46039f"
             ],
             [
              0.2222222222222222,
              "#7201a8"
             ],
             [
              0.3333333333333333,
              "#9c179e"
             ],
             [
              0.4444444444444444,
              "#bd3786"
             ],
             [
              0.5555555555555556,
              "#d8576b"
             ],
             [
              0.6666666666666666,
              "#ed7953"
             ],
             [
              0.7777777777777778,
              "#fb9f3a"
             ],
             [
              0.8888888888888888,
              "#fdca26"
             ],
             [
              1,
              "#f0f921"
             ]
            ],
            "type": "heatmapgl"
           }
          ],
          "histogram": [
           {
            "marker": {
             "pattern": {
              "fillmode": "overlay",
              "size": 10,
              "solidity": 0.2
             }
            },
            "type": "histogram"
           }
          ],
          "histogram2d": [
           {
            "colorbar": {
             "outlinewidth": 0,
             "ticks": ""
            },
            "colorscale": [
             [
              0,
              "#0d0887"
             ],
             [
              0.1111111111111111,
              "#46039f"
             ],
             [
              0.2222222222222222,
              "#7201a8"
             ],
             [
              0.3333333333333333,
              "#9c179e"
             ],
             [
              0.4444444444444444,
              "#bd3786"
             ],
             [
              0.5555555555555556,
              "#d8576b"
             ],
             [
              0.6666666666666666,
              "#ed7953"
             ],
             [
              0.7777777777777778,
              "#fb9f3a"
             ],
             [
              0.8888888888888888,
              "#fdca26"
             ],
             [
              1,
              "#f0f921"
             ]
            ],
            "type": "histogram2d"
           }
          ],
          "histogram2dcontour": [
           {
            "colorbar": {
             "outlinewidth": 0,
             "ticks": ""
            },
            "colorscale": [
             [
              0,
              "#0d0887"
             ],
             [
              0.1111111111111111,
              "#46039f"
             ],
             [
              0.2222222222222222,
              "#7201a8"
             ],
             [
              0.3333333333333333,
              "#9c179e"
             ],
             [
              0.4444444444444444,
              "#bd3786"
             ],
             [
              0.5555555555555556,
              "#d8576b"
             ],
             [
              0.6666666666666666,
              "#ed7953"
             ],
             [
              0.7777777777777778,
              "#fb9f3a"
             ],
             [
              0.8888888888888888,
              "#fdca26"
             ],
             [
              1,
              "#f0f921"
             ]
            ],
            "type": "histogram2dcontour"
           }
          ],
          "mesh3d": [
           {
            "colorbar": {
             "outlinewidth": 0,
             "ticks": ""
            },
            "type": "mesh3d"
           }
          ],
          "parcoords": [
           {
            "line": {
             "colorbar": {
              "outlinewidth": 0,
              "ticks": ""
             }
            },
            "type": "parcoords"
           }
          ],
          "pie": [
           {
            "automargin": true,
            "type": "pie"
           }
          ],
          "scatter": [
           {
            "fillpattern": {
             "fillmode": "overlay",
             "size": 10,
             "solidity": 0.2
            },
            "type": "scatter"
           }
          ],
          "scatter3d": [
           {
            "line": {
             "colorbar": {
              "outlinewidth": 0,
              "ticks": ""
             }
            },
            "marker": {
             "colorbar": {
              "outlinewidth": 0,
              "ticks": ""
             }
            },
            "type": "scatter3d"
           }
          ],
          "scattercarpet": [
           {
            "marker": {
             "colorbar": {
              "outlinewidth": 0,
              "ticks": ""
             }
            },
            "type": "scattercarpet"
           }
          ],
          "scattergeo": [
           {
            "marker": {
             "colorbar": {
              "outlinewidth": 0,
              "ticks": ""
             }
            },
            "type": "scattergeo"
           }
          ],
          "scattergl": [
           {
            "marker": {
             "colorbar": {
              "outlinewidth": 0,
              "ticks": ""
             }
            },
            "type": "scattergl"
           }
          ],
          "scattermapbox": [
           {
            "marker": {
             "colorbar": {
              "outlinewidth": 0,
              "ticks": ""
             }
            },
            "type": "scattermapbox"
           }
          ],
          "scatterpolar": [
           {
            "marker": {
             "colorbar": {
              "outlinewidth": 0,
              "ticks": ""
             }
            },
            "type": "scatterpolar"
           }
          ],
          "scatterpolargl": [
           {
            "marker": {
             "colorbar": {
              "outlinewidth": 0,
              "ticks": ""
             }
            },
            "type": "scatterpolargl"
           }
          ],
          "scatterternary": [
           {
            "marker": {
             "colorbar": {
              "outlinewidth": 0,
              "ticks": ""
             }
            },
            "type": "scatterternary"
           }
          ],
          "surface": [
           {
            "colorbar": {
             "outlinewidth": 0,
             "ticks": ""
            },
            "colorscale": [
             [
              0,
              "#0d0887"
             ],
             [
              0.1111111111111111,
              "#46039f"
             ],
             [
              0.2222222222222222,
              "#7201a8"
             ],
             [
              0.3333333333333333,
              "#9c179e"
             ],
             [
              0.4444444444444444,
              "#bd3786"
             ],
             [
              0.5555555555555556,
              "#d8576b"
             ],
             [
              0.6666666666666666,
              "#ed7953"
             ],
             [
              0.7777777777777778,
              "#fb9f3a"
             ],
             [
              0.8888888888888888,
              "#fdca26"
             ],
             [
              1,
              "#f0f921"
             ]
            ],
            "type": "surface"
           }
          ],
          "table": [
           {
            "cells": {
             "fill": {
              "color": "#EBF0F8"
             },
             "line": {
              "color": "white"
             }
            },
            "header": {
             "fill": {
              "color": "#C8D4E3"
             },
             "line": {
              "color": "white"
             }
            },
            "type": "table"
           }
          ]
         },
         "layout": {
          "annotationdefaults": {
           "arrowcolor": "#2a3f5f",
           "arrowhead": 0,
           "arrowwidth": 1
          },
          "autotypenumbers": "strict",
          "coloraxis": {
           "colorbar": {
            "outlinewidth": 0,
            "ticks": ""
           }
          },
          "colorscale": {
           "diverging": [
            [
             0,
             "#8e0152"
            ],
            [
             0.1,
             "#c51b7d"
            ],
            [
             0.2,
             "#de77ae"
            ],
            [
             0.3,
             "#f1b6da"
            ],
            [
             0.4,
             "#fde0ef"
            ],
            [
             0.5,
             "#f7f7f7"
            ],
            [
             0.6,
             "#e6f5d0"
            ],
            [
             0.7,
             "#b8e186"
            ],
            [
             0.8,
             "#7fbc41"
            ],
            [
             0.9,
             "#4d9221"
            ],
            [
             1,
             "#276419"
            ]
           ],
           "sequential": [
            [
             0,
             "#0d0887"
            ],
            [
             0.1111111111111111,
             "#46039f"
            ],
            [
             0.2222222222222222,
             "#7201a8"
            ],
            [
             0.3333333333333333,
             "#9c179e"
            ],
            [
             0.4444444444444444,
             "#bd3786"
            ],
            [
             0.5555555555555556,
             "#d8576b"
            ],
            [
             0.6666666666666666,
             "#ed7953"
            ],
            [
             0.7777777777777778,
             "#fb9f3a"
            ],
            [
             0.8888888888888888,
             "#fdca26"
            ],
            [
             1,
             "#f0f921"
            ]
           ],
           "sequentialminus": [
            [
             0,
             "#0d0887"
            ],
            [
             0.1111111111111111,
             "#46039f"
            ],
            [
             0.2222222222222222,
             "#7201a8"
            ],
            [
             0.3333333333333333,
             "#9c179e"
            ],
            [
             0.4444444444444444,
             "#bd3786"
            ],
            [
             0.5555555555555556,
             "#d8576b"
            ],
            [
             0.6666666666666666,
             "#ed7953"
            ],
            [
             0.7777777777777778,
             "#fb9f3a"
            ],
            [
             0.8888888888888888,
             "#fdca26"
            ],
            [
             1,
             "#f0f921"
            ]
           ]
          },
          "colorway": [
           "#636efa",
           "#EF553B",
           "#00cc96",
           "#ab63fa",
           "#FFA15A",
           "#19d3f3",
           "#FF6692",
           "#B6E880",
           "#FF97FF",
           "#FECB52"
          ],
          "font": {
           "color": "#2a3f5f"
          },
          "geo": {
           "bgcolor": "white",
           "lakecolor": "white",
           "landcolor": "#E5ECF6",
           "showlakes": true,
           "showland": true,
           "subunitcolor": "white"
          },
          "hoverlabel": {
           "align": "left"
          },
          "hovermode": "closest",
          "mapbox": {
           "style": "light"
          },
          "paper_bgcolor": "white",
          "plot_bgcolor": "#E5ECF6",
          "polar": {
           "angularaxis": {
            "gridcolor": "white",
            "linecolor": "white",
            "ticks": ""
           },
           "bgcolor": "#E5ECF6",
           "radialaxis": {
            "gridcolor": "white",
            "linecolor": "white",
            "ticks": ""
           }
          },
          "scene": {
           "xaxis": {
            "backgroundcolor": "#E5ECF6",
            "gridcolor": "white",
            "gridwidth": 2,
            "linecolor": "white",
            "showbackground": true,
            "ticks": "",
            "zerolinecolor": "white"
           },
           "yaxis": {
            "backgroundcolor": "#E5ECF6",
            "gridcolor": "white",
            "gridwidth": 2,
            "linecolor": "white",
            "showbackground": true,
            "ticks": "",
            "zerolinecolor": "white"
           },
           "zaxis": {
            "backgroundcolor": "#E5ECF6",
            "gridcolor": "white",
            "gridwidth": 2,
            "linecolor": "white",
            "showbackground": true,
            "ticks": "",
            "zerolinecolor": "white"
           }
          },
          "shapedefaults": {
           "line": {
            "color": "#2a3f5f"
           }
          },
          "ternary": {
           "aaxis": {
            "gridcolor": "white",
            "linecolor": "white",
            "ticks": ""
           },
           "baxis": {
            "gridcolor": "white",
            "linecolor": "white",
            "ticks": ""
           },
           "bgcolor": "#E5ECF6",
           "caxis": {
            "gridcolor": "white",
            "linecolor": "white",
            "ticks": ""
           }
          },
          "title": {
           "x": 0.05
          },
          "xaxis": {
           "automargin": true,
           "gridcolor": "white",
           "linecolor": "white",
           "ticks": "",
           "title": {
            "standoff": 15
           },
           "zerolinecolor": "white",
           "zerolinewidth": 2
          },
          "yaxis": {
           "automargin": true,
           "gridcolor": "white",
           "linecolor": "white",
           "ticks": "",
           "title": {
            "standoff": 15
           },
           "zerolinecolor": "white",
           "zerolinewidth": 2
          }
         }
        },
        "title": {
         "font": {
          "color": "#4D5663"
         }
        },
        "xaxis": {
         "gridcolor": "#E1E5ED",
         "showgrid": true,
         "tickfont": {
          "color": "#4D5663"
         },
         "title": {
          "font": {
           "color": "#4D5663"
          },
          "text": ""
         },
         "zerolinecolor": "#E1E5ED"
        },
        "yaxis": {
         "gridcolor": "#E1E5ED",
         "showgrid": true,
         "tickfont": {
          "color": "#4D5663"
         },
         "title": {
          "font": {
           "color": "#4D5663"
          },
          "text": ""
         },
         "zerolinecolor": "#E1E5ED"
        }
       }
      },
      "text/html": [
       "<div>                            <div id=\"a42789c1-0fb4-4c45-841c-7c6c0e41d927\" class=\"plotly-graph-div\" style=\"height:525px; width:100%;\"></div>            <script type=\"text/javascript\">                require([\"plotly\"], function(Plotly) {                    window.PLOTLYENV=window.PLOTLYENV || {};\n",
       "                    window.PLOTLYENV.BASE_URL='https://plot.ly';                                    if (document.getElementById(\"a42789c1-0fb4-4c45-841c-7c6c0e41d927\")) {                    Plotly.newPlot(                        \"a42789c1-0fb4-4c45-841c-7c6c0e41d927\",                        [{\"line\":{\"color\":\"rgba(255, 153, 51, 1.0)\",\"dash\":\"solid\",\"shape\":\"linear\",\"width\":1.3},\"marker\":{\"size\":10,\"symbol\":\"circle\"},\"mode\":\"markers\",\"name\":\"B\",\"text\":\"\",\"x\":[0.10762388526296199,-0.7564418891284865,1.6126540986511892,0.7775682923362824,-0.5952959854744313,2.7165296870543663,-0.8418041837494875,0.4520263613717429,-1.1811618010748057,1.3017114072144773,1.3272738483408182,-1.2571625619582165,-1.5851832427856685,2.207114710090944,-0.9858571233790321,0.6254103733582416,1.1170542864569903,-0.5421854559616364,0.005037612594899869,-0.09960346946484637,-1.173575061482218,-0.7289483967404173,0.07800339985776875,-0.034754268614389135,-1.751240479785419,0.7717749524266126,0.08343341764260574,0.1986334309389733,-0.794258717921895,1.3437529637865553,1.1560148777149495,-0.34509571668566474,-0.0880157934620941,-0.5179391311478613,0.7021441294486146,0.05161627543106151,0.2209466178195064,-0.07138636983591397,-0.207924870196759,1.658956247192368,0.8846630544827088,0.6338655418849547,0.5243027738002651,0.4306726692742513,0.6543039138767474,0.6703944846780071,-0.45582041977913695,-1.5368390595450678,-0.43169265859801714,0.5775623520718516,0.7270362444133679,-0.9686402783675524,-0.7626460913795635,-0.007740911462933657,0.8426361921016096,-1.525063666185188,-1.4878236176538635,0.560411441799206,0.29484265879850674,-0.44354850857918005,-1.2369406866873534,-0.4408224576864079,0.42480069832885475,-0.7667741411620467,-0.700320783644171,1.6850601173535071,-0.06805298388497137,0.6400578864382191,-2.98067099973402,0.2247541322573582,-0.3052211289271923,-0.26910637193717996,-1.1397622939667247,1.5697320958149767,-1.6680788968914804,-0.4804863639728813,1.7012517997797407,-1.7312432770283541,1.0766473765396547,0.9987138864720232,-0.9536484947120728,-0.3166964888606845,-0.896993536707252,-1.7733819867210974,-0.39680350373954704,-0.46385931536628483,-0.17381558605655018,-0.861547502624248,0.5368907658398797,-0.38149470781202155,-0.04880061640656663,-0.9484946921437268,0.27269700979662254,0.213346612114495,-0.23502230780637598,-0.10578602471367916,0.8249413060109705,0.12317607400262938,0.1549693302015403,1.9405144461988928],\"y\":[-2.314890678163464,-0.30177437212597147,0.5499429699705268,-0.9526752027541245,1.5533303542681645,-0.5078252827169001,0.4028555741875542,-0.5774718509539073,-0.6811341105347527,0.0644489320205561,1.811506320652103,0.4778354701838685,0.05761873599105411,-0.7660180917968894,-0.383561855691717,-1.9708845566145123,0.1790104216355467,-0.26930717038848323,-0.5021951885006355,0.2526883247094073,-1.6581072814366244,-0.9829489286671428,0.3110804762010143,1.7189715803691583,0.20830928060301285,-0.729721483323263,-0.6472670362627534,0.3308526113256317,-1.2576301538162142,0.8578593551258539,0.1531917677976979,-1.4114793851091527,-0.7115824294309413,-0.650709281596651,-0.1797312135856715,-0.11129089263187959,0.8212644920402455,1.436643439487427,0.13506679470142205,-1.8462888693119657,3.203862495207228,0.5752222157505211,-0.28073796158962405,-0.8701286346240297,-1.8053420321718303,-1.8486942668584059,-0.5068460253551225,0.4987691045688844,-0.29005597513570286,0.9466939194327922,-0.6089183281809548,1.1417672338470617,-1.088662793594401,0.3643038000710208,-0.17898847966887502,-0.3451979256630047,0.8251441391588759,0.16051005723422476,-0.44254706983371356,-1.2568846638341369,0.5454228020711138,1.9552256234010204,-0.6337597480361455,0.26811263823655834,-0.12564519258363752,-0.004471482700457042,0.5984273818105452,-0.330062734246072,-2.2387209249844617,-1.8689651177427342,-1.110306320474275,0.7316123635486081,1.7097634472311631,-0.9646968649446509,1.607143723636374,-1.1133374146289832,0.3675698426196052,-1.47843347031786,-0.824001464782571,1.290645718979975,-0.3210143193836279,1.0794651265744086,0.11045871143526716,0.380385812050898,0.27005574992279774,-0.2113174148967174,-1.1717258088038764,-0.17229510893765648,0.9314307265527947,-0.387760509132024,-0.35271724025565754,-0.8488360226083353,-1.025655885301656,0.26384085787714573,1.8120787607099624,0.9100289597930974,0.12666333933874754,0.11588791987941716,-1.9145334684976296,1.5043947128368997],\"type\":\"scatter\"}],                        {\"legend\":{\"bgcolor\":\"#F5F6F9\",\"font\":{\"color\":\"#4D5663\"}},\"paper_bgcolor\":\"#F5F6F9\",\"plot_bgcolor\":\"#F5F6F9\",\"template\":{\"data\":{\"barpolar\":[{\"marker\":{\"line\":{\"color\":\"#E5ECF6\",\"width\":0.5},\"pattern\":{\"fillmode\":\"overlay\",\"size\":10,\"solidity\":0.2}},\"type\":\"barpolar\"}],\"bar\":[{\"error_x\":{\"color\":\"#2a3f5f\"},\"error_y\":{\"color\":\"#2a3f5f\"},\"marker\":{\"line\":{\"color\":\"#E5ECF6\",\"width\":0.5},\"pattern\":{\"fillmode\":\"overlay\",\"size\":10,\"solidity\":0.2}},\"type\":\"bar\"}],\"carpet\":[{\"aaxis\":{\"endlinecolor\":\"#2a3f5f\",\"gridcolor\":\"white\",\"linecolor\":\"white\",\"minorgridcolor\":\"white\",\"startlinecolor\":\"#2a3f5f\"},\"baxis\":{\"endlinecolor\":\"#2a3f5f\",\"gridcolor\":\"white\",\"linecolor\":\"white\",\"minorgridcolor\":\"white\",\"startlinecolor\":\"#2a3f5f\"},\"type\":\"carpet\"}],\"choropleth\":[{\"colorbar\":{\"outlinewidth\":0,\"ticks\":\"\"},\"type\":\"choropleth\"}],\"contourcarpet\":[{\"colorbar\":{\"outlinewidth\":0,\"ticks\":\"\"},\"type\":\"contourcarpet\"}],\"contour\":[{\"colorbar\":{\"outlinewidth\":0,\"ticks\":\"\"},\"colorscale\":[[0.0,\"#0d0887\"],[0.1111111111111111,\"#46039f\"],[0.2222222222222222,\"#7201a8\"],[0.3333333333333333,\"#9c179e\"],[0.4444444444444444,\"#bd3786\"],[0.5555555555555556,\"#d8576b\"],[0.6666666666666666,\"#ed7953\"],[0.7777777777777778,\"#fb9f3a\"],[0.8888888888888888,\"#fdca26\"],[1.0,\"#f0f921\"]],\"type\":\"contour\"}],\"heatmapgl\":[{\"colorbar\":{\"outlinewidth\":0,\"ticks\":\"\"},\"colorscale\":[[0.0,\"#0d0887\"],[0.1111111111111111,\"#46039f\"],[0.2222222222222222,\"#7201a8\"],[0.3333333333333333,\"#9c179e\"],[0.4444444444444444,\"#bd3786\"],[0.5555555555555556,\"#d8576b\"],[0.6666666666666666,\"#ed7953\"],[0.7777777777777778,\"#fb9f3a\"],[0.8888888888888888,\"#fdca26\"],[1.0,\"#f0f921\"]],\"type\":\"heatmapgl\"}],\"heatmap\":[{\"colorbar\":{\"outlinewidth\":0,\"ticks\":\"\"},\"colorscale\":[[0.0,\"#0d0887\"],[0.1111111111111111,\"#46039f\"],[0.2222222222222222,\"#7201a8\"],[0.3333333333333333,\"#9c179e\"],[0.4444444444444444,\"#bd3786\"],[0.5555555555555556,\"#d8576b\"],[0.6666666666666666,\"#ed7953\"],[0.7777777777777778,\"#fb9f3a\"],[0.8888888888888888,\"#fdca26\"],[1.0,\"#f0f921\"]],\"type\":\"heatmap\"}],\"histogram2dcontour\":[{\"colorbar\":{\"outlinewidth\":0,\"ticks\":\"\"},\"colorscale\":[[0.0,\"#0d0887\"],[0.1111111111111111,\"#46039f\"],[0.2222222222222222,\"#7201a8\"],[0.3333333333333333,\"#9c179e\"],[0.4444444444444444,\"#bd3786\"],[0.5555555555555556,\"#d8576b\"],[0.6666666666666666,\"#ed7953\"],[0.7777777777777778,\"#fb9f3a\"],[0.8888888888888888,\"#fdca26\"],[1.0,\"#f0f921\"]],\"type\":\"histogram2dcontour\"}],\"histogram2d\":[{\"colorbar\":{\"outlinewidth\":0,\"ticks\":\"\"},\"colorscale\":[[0.0,\"#0d0887\"],[0.1111111111111111,\"#46039f\"],[0.2222222222222222,\"#7201a8\"],[0.3333333333333333,\"#9c179e\"],[0.4444444444444444,\"#bd3786\"],[0.5555555555555556,\"#d8576b\"],[0.6666666666666666,\"#ed7953\"],[0.7777777777777778,\"#fb9f3a\"],[0.8888888888888888,\"#fdca26\"],[1.0,\"#f0f921\"]],\"type\":\"histogram2d\"}],\"histogram\":[{\"marker\":{\"pattern\":{\"fillmode\":\"overlay\",\"size\":10,\"solidity\":0.2}},\"type\":\"histogram\"}],\"mesh3d\":[{\"colorbar\":{\"outlinewidth\":0,\"ticks\":\"\"},\"type\":\"mesh3d\"}],\"parcoords\":[{\"line\":{\"colorbar\":{\"outlinewidth\":0,\"ticks\":\"\"}},\"type\":\"parcoords\"}],\"pie\":[{\"automargin\":true,\"type\":\"pie\"}],\"scatter3d\":[{\"line\":{\"colorbar\":{\"outlinewidth\":0,\"ticks\":\"\"}},\"marker\":{\"colorbar\":{\"outlinewidth\":0,\"ticks\":\"\"}},\"type\":\"scatter3d\"}],\"scattercarpet\":[{\"marker\":{\"colorbar\":{\"outlinewidth\":0,\"ticks\":\"\"}},\"type\":\"scattercarpet\"}],\"scattergeo\":[{\"marker\":{\"colorbar\":{\"outlinewidth\":0,\"ticks\":\"\"}},\"type\":\"scattergeo\"}],\"scattergl\":[{\"marker\":{\"colorbar\":{\"outlinewidth\":0,\"ticks\":\"\"}},\"type\":\"scattergl\"}],\"scattermapbox\":[{\"marker\":{\"colorbar\":{\"outlinewidth\":0,\"ticks\":\"\"}},\"type\":\"scattermapbox\"}],\"scatterpolargl\":[{\"marker\":{\"colorbar\":{\"outlinewidth\":0,\"ticks\":\"\"}},\"type\":\"scatterpolargl\"}],\"scatterpolar\":[{\"marker\":{\"colorbar\":{\"outlinewidth\":0,\"ticks\":\"\"}},\"type\":\"scatterpolar\"}],\"scatter\":[{\"fillpattern\":{\"fillmode\":\"overlay\",\"size\":10,\"solidity\":0.2},\"type\":\"scatter\"}],\"scatterternary\":[{\"marker\":{\"colorbar\":{\"outlinewidth\":0,\"ticks\":\"\"}},\"type\":\"scatterternary\"}],\"surface\":[{\"colorbar\":{\"outlinewidth\":0,\"ticks\":\"\"},\"colorscale\":[[0.0,\"#0d0887\"],[0.1111111111111111,\"#46039f\"],[0.2222222222222222,\"#7201a8\"],[0.3333333333333333,\"#9c179e\"],[0.4444444444444444,\"#bd3786\"],[0.5555555555555556,\"#d8576b\"],[0.6666666666666666,\"#ed7953\"],[0.7777777777777778,\"#fb9f3a\"],[0.8888888888888888,\"#fdca26\"],[1.0,\"#f0f921\"]],\"type\":\"surface\"}],\"table\":[{\"cells\":{\"fill\":{\"color\":\"#EBF0F8\"},\"line\":{\"color\":\"white\"}},\"header\":{\"fill\":{\"color\":\"#C8D4E3\"},\"line\":{\"color\":\"white\"}},\"type\":\"table\"}]},\"layout\":{\"annotationdefaults\":{\"arrowcolor\":\"#2a3f5f\",\"arrowhead\":0,\"arrowwidth\":1},\"autotypenumbers\":\"strict\",\"coloraxis\":{\"colorbar\":{\"outlinewidth\":0,\"ticks\":\"\"}},\"colorscale\":{\"diverging\":[[0,\"#8e0152\"],[0.1,\"#c51b7d\"],[0.2,\"#de77ae\"],[0.3,\"#f1b6da\"],[0.4,\"#fde0ef\"],[0.5,\"#f7f7f7\"],[0.6,\"#e6f5d0\"],[0.7,\"#b8e186\"],[0.8,\"#7fbc41\"],[0.9,\"#4d9221\"],[1,\"#276419\"]],\"sequential\":[[0.0,\"#0d0887\"],[0.1111111111111111,\"#46039f\"],[0.2222222222222222,\"#7201a8\"],[0.3333333333333333,\"#9c179e\"],[0.4444444444444444,\"#bd3786\"],[0.5555555555555556,\"#d8576b\"],[0.6666666666666666,\"#ed7953\"],[0.7777777777777778,\"#fb9f3a\"],[0.8888888888888888,\"#fdca26\"],[1.0,\"#f0f921\"]],\"sequentialminus\":[[0.0,\"#0d0887\"],[0.1111111111111111,\"#46039f\"],[0.2222222222222222,\"#7201a8\"],[0.3333333333333333,\"#9c179e\"],[0.4444444444444444,\"#bd3786\"],[0.5555555555555556,\"#d8576b\"],[0.6666666666666666,\"#ed7953\"],[0.7777777777777778,\"#fb9f3a\"],[0.8888888888888888,\"#fdca26\"],[1.0,\"#f0f921\"]]},\"colorway\":[\"#636efa\",\"#EF553B\",\"#00cc96\",\"#ab63fa\",\"#FFA15A\",\"#19d3f3\",\"#FF6692\",\"#B6E880\",\"#FF97FF\",\"#FECB52\"],\"font\":{\"color\":\"#2a3f5f\"},\"geo\":{\"bgcolor\":\"white\",\"lakecolor\":\"white\",\"landcolor\":\"#E5ECF6\",\"showlakes\":true,\"showland\":true,\"subunitcolor\":\"white\"},\"hoverlabel\":{\"align\":\"left\"},\"hovermode\":\"closest\",\"mapbox\":{\"style\":\"light\"},\"paper_bgcolor\":\"white\",\"plot_bgcolor\":\"#E5ECF6\",\"polar\":{\"angularaxis\":{\"gridcolor\":\"white\",\"linecolor\":\"white\",\"ticks\":\"\"},\"bgcolor\":\"#E5ECF6\",\"radialaxis\":{\"gridcolor\":\"white\",\"linecolor\":\"white\",\"ticks\":\"\"}},\"scene\":{\"xaxis\":{\"backgroundcolor\":\"#E5ECF6\",\"gridcolor\":\"white\",\"gridwidth\":2,\"linecolor\":\"white\",\"showbackground\":true,\"ticks\":\"\",\"zerolinecolor\":\"white\"},\"yaxis\":{\"backgroundcolor\":\"#E5ECF6\",\"gridcolor\":\"white\",\"gridwidth\":2,\"linecolor\":\"white\",\"showbackground\":true,\"ticks\":\"\",\"zerolinecolor\":\"white\"},\"zaxis\":{\"backgroundcolor\":\"#E5ECF6\",\"gridcolor\":\"white\",\"gridwidth\":2,\"linecolor\":\"white\",\"showbackground\":true,\"ticks\":\"\",\"zerolinecolor\":\"white\"}},\"shapedefaults\":{\"line\":{\"color\":\"#2a3f5f\"}},\"ternary\":{\"aaxis\":{\"gridcolor\":\"white\",\"linecolor\":\"white\",\"ticks\":\"\"},\"baxis\":{\"gridcolor\":\"white\",\"linecolor\":\"white\",\"ticks\":\"\"},\"bgcolor\":\"#E5ECF6\",\"caxis\":{\"gridcolor\":\"white\",\"linecolor\":\"white\",\"ticks\":\"\"}},\"title\":{\"x\":0.05},\"xaxis\":{\"automargin\":true,\"gridcolor\":\"white\",\"linecolor\":\"white\",\"ticks\":\"\",\"title\":{\"standoff\":15},\"zerolinecolor\":\"white\",\"zerolinewidth\":2},\"yaxis\":{\"automargin\":true,\"gridcolor\":\"white\",\"linecolor\":\"white\",\"ticks\":\"\",\"title\":{\"standoff\":15},\"zerolinecolor\":\"white\",\"zerolinewidth\":2}}},\"title\":{\"font\":{\"color\":\"#4D5663\"}},\"xaxis\":{\"gridcolor\":\"#E1E5ED\",\"showgrid\":true,\"tickfont\":{\"color\":\"#4D5663\"},\"title\":{\"font\":{\"color\":\"#4D5663\"},\"text\":\"\"},\"zerolinecolor\":\"#E1E5ED\"},\"yaxis\":{\"gridcolor\":\"#E1E5ED\",\"showgrid\":true,\"tickfont\":{\"color\":\"#4D5663\"},\"title\":{\"font\":{\"color\":\"#4D5663\"},\"text\":\"\"},\"zerolinecolor\":\"#E1E5ED\"}},                        {\"showLink\": true, \"linkText\": \"Export to plot.ly\", \"plotlyServerURL\": \"https://plot.ly\", \"responsive\": true}                    ).then(function(){\n",
       "                            \n",
       "var gd = document.getElementById('a42789c1-0fb4-4c45-841c-7c6c0e41d927');\n",
       "var x = new MutationObserver(function (mutations, observer) {{\n",
       "        var display = window.getComputedStyle(gd).display;\n",
       "        if (!display || display === 'none') {{\n",
       "            console.log([gd, 'removed!']);\n",
       "            Plotly.purge(gd);\n",
       "            observer.disconnect();\n",
       "        }}\n",
       "}});\n",
       "\n",
       "// Listen for the removal of the full notebook cells\n",
       "var notebookContainer = gd.closest('#notebook-container');\n",
       "if (notebookContainer) {{\n",
       "    x.observe(notebookContainer, {childList: true});\n",
       "}}\n",
       "\n",
       "// Listen for the clearing of the current output cell\n",
       "var outputEl = gd.closest('.output');\n",
       "if (outputEl) {{\n",
       "    x.observe(outputEl, {childList: true});\n",
       "}}\n",
       "\n",
       "                        })                };                });            </script>        </div>"
      ]
     },
     "metadata": {},
     "output_type": "display_data"
    }
   ],
   "source": [
    "df.iplot(kind='scatter',x='A',y='B',mode='markers',size=10)"
   ]
  },
  {
   "cell_type": "markdown",
   "metadata": {},
   "source": [
    "## Bar Plots"
   ]
  },
  {
   "cell_type": "code",
   "execution_count": 11,
   "metadata": {
    "collapsed": false
   },
   "outputs": [
    {
     "data": {
      "application/vnd.plotly.v1+json": {
       "config": {
        "linkText": "Export to plot.ly",
        "plotlyServerURL": "https://plot.ly",
        "showLink": true
       },
       "data": [
        {
         "marker": {
          "color": "rgba(255, 153, 51, 0.6)",
          "line": {
           "color": "rgba(255, 153, 51, 1.0)",
           "width": 1
          }
         },
         "name": "Values",
         "orientation": "v",
         "text": "",
         "type": "bar",
         "x": [
          "A",
          "B",
          "C"
         ],
         "y": [
          32,
          43,
          50
         ]
        }
       ],
       "layout": {
        "legend": {
         "bgcolor": "#F5F6F9",
         "font": {
          "color": "#4D5663"
         }
        },
        "paper_bgcolor": "#F5F6F9",
        "plot_bgcolor": "#F5F6F9",
        "template": {
         "data": {
          "bar": [
           {
            "error_x": {
             "color": "#2a3f5f"
            },
            "error_y": {
             "color": "#2a3f5f"
            },
            "marker": {
             "line": {
              "color": "#E5ECF6",
              "width": 0.5
             },
             "pattern": {
              "fillmode": "overlay",
              "size": 10,
              "solidity": 0.2
             }
            },
            "type": "bar"
           }
          ],
          "barpolar": [
           {
            "marker": {
             "line": {
              "color": "#E5ECF6",
              "width": 0.5
             },
             "pattern": {
              "fillmode": "overlay",
              "size": 10,
              "solidity": 0.2
             }
            },
            "type": "barpolar"
           }
          ],
          "carpet": [
           {
            "aaxis": {
             "endlinecolor": "#2a3f5f",
             "gridcolor": "white",
             "linecolor": "white",
             "minorgridcolor": "white",
             "startlinecolor": "#2a3f5f"
            },
            "baxis": {
             "endlinecolor": "#2a3f5f",
             "gridcolor": "white",
             "linecolor": "white",
             "minorgridcolor": "white",
             "startlinecolor": "#2a3f5f"
            },
            "type": "carpet"
           }
          ],
          "choropleth": [
           {
            "colorbar": {
             "outlinewidth": 0,
             "ticks": ""
            },
            "type": "choropleth"
           }
          ],
          "contour": [
           {
            "colorbar": {
             "outlinewidth": 0,
             "ticks": ""
            },
            "colorscale": [
             [
              0,
              "#0d0887"
             ],
             [
              0.1111111111111111,
              "#46039f"
             ],
             [
              0.2222222222222222,
              "#7201a8"
             ],
             [
              0.3333333333333333,
              "#9c179e"
             ],
             [
              0.4444444444444444,
              "#bd3786"
             ],
             [
              0.5555555555555556,
              "#d8576b"
             ],
             [
              0.6666666666666666,
              "#ed7953"
             ],
             [
              0.7777777777777778,
              "#fb9f3a"
             ],
             [
              0.8888888888888888,
              "#fdca26"
             ],
             [
              1,
              "#f0f921"
             ]
            ],
            "type": "contour"
           }
          ],
          "contourcarpet": [
           {
            "colorbar": {
             "outlinewidth": 0,
             "ticks": ""
            },
            "type": "contourcarpet"
           }
          ],
          "heatmap": [
           {
            "colorbar": {
             "outlinewidth": 0,
             "ticks": ""
            },
            "colorscale": [
             [
              0,
              "#0d0887"
             ],
             [
              0.1111111111111111,
              "#46039f"
             ],
             [
              0.2222222222222222,
              "#7201a8"
             ],
             [
              0.3333333333333333,
              "#9c179e"
             ],
             [
              0.4444444444444444,
              "#bd3786"
             ],
             [
              0.5555555555555556,
              "#d8576b"
             ],
             [
              0.6666666666666666,
              "#ed7953"
             ],
             [
              0.7777777777777778,
              "#fb9f3a"
             ],
             [
              0.8888888888888888,
              "#fdca26"
             ],
             [
              1,
              "#f0f921"
             ]
            ],
            "type": "heatmap"
           }
          ],
          "heatmapgl": [
           {
            "colorbar": {
             "outlinewidth": 0,
             "ticks": ""
            },
            "colorscale": [
             [
              0,
              "#0d0887"
             ],
             [
              0.1111111111111111,
              "#46039f"
             ],
             [
              0.2222222222222222,
              "#7201a8"
             ],
             [
              0.3333333333333333,
              "#9c179e"
             ],
             [
              0.4444444444444444,
              "#bd3786"
             ],
             [
              0.5555555555555556,
              "#d8576b"
             ],
             [
              0.6666666666666666,
              "#ed7953"
             ],
             [
              0.7777777777777778,
              "#fb9f3a"
             ],
             [
              0.8888888888888888,
              "#fdca26"
             ],
             [
              1,
              "#f0f921"
             ]
            ],
            "type": "heatmapgl"
           }
          ],
          "histogram": [
           {
            "marker": {
             "pattern": {
              "fillmode": "overlay",
              "size": 10,
              "solidity": 0.2
             }
            },
            "type": "histogram"
           }
          ],
          "histogram2d": [
           {
            "colorbar": {
             "outlinewidth": 0,
             "ticks": ""
            },
            "colorscale": [
             [
              0,
              "#0d0887"
             ],
             [
              0.1111111111111111,
              "#46039f"
             ],
             [
              0.2222222222222222,
              "#7201a8"
             ],
             [
              0.3333333333333333,
              "#9c179e"
             ],
             [
              0.4444444444444444,
              "#bd3786"
             ],
             [
              0.5555555555555556,
              "#d8576b"
             ],
             [
              0.6666666666666666,
              "#ed7953"
             ],
             [
              0.7777777777777778,
              "#fb9f3a"
             ],
             [
              0.8888888888888888,
              "#fdca26"
             ],
             [
              1,
              "#f0f921"
             ]
            ],
            "type": "histogram2d"
           }
          ],
          "histogram2dcontour": [
           {
            "colorbar": {
             "outlinewidth": 0,
             "ticks": ""
            },
            "colorscale": [
             [
              0,
              "#0d0887"
             ],
             [
              0.1111111111111111,
              "#46039f"
             ],
             [
              0.2222222222222222,
              "#7201a8"
             ],
             [
              0.3333333333333333,
              "#9c179e"
             ],
             [
              0.4444444444444444,
              "#bd3786"
             ],
             [
              0.5555555555555556,
              "#d8576b"
             ],
             [
              0.6666666666666666,
              "#ed7953"
             ],
             [
              0.7777777777777778,
              "#fb9f3a"
             ],
             [
              0.8888888888888888,
              "#fdca26"
             ],
             [
              1,
              "#f0f921"
             ]
            ],
            "type": "histogram2dcontour"
           }
          ],
          "mesh3d": [
           {
            "colorbar": {
             "outlinewidth": 0,
             "ticks": ""
            },
            "type": "mesh3d"
           }
          ],
          "parcoords": [
           {
            "line": {
             "colorbar": {
              "outlinewidth": 0,
              "ticks": ""
             }
            },
            "type": "parcoords"
           }
          ],
          "pie": [
           {
            "automargin": true,
            "type": "pie"
           }
          ],
          "scatter": [
           {
            "fillpattern": {
             "fillmode": "overlay",
             "size": 10,
             "solidity": 0.2
            },
            "type": "scatter"
           }
          ],
          "scatter3d": [
           {
            "line": {
             "colorbar": {
              "outlinewidth": 0,
              "ticks": ""
             }
            },
            "marker": {
             "colorbar": {
              "outlinewidth": 0,
              "ticks": ""
             }
            },
            "type": "scatter3d"
           }
          ],
          "scattercarpet": [
           {
            "marker": {
             "colorbar": {
              "outlinewidth": 0,
              "ticks": ""
             }
            },
            "type": "scattercarpet"
           }
          ],
          "scattergeo": [
           {
            "marker": {
             "colorbar": {
              "outlinewidth": 0,
              "ticks": ""
             }
            },
            "type": "scattergeo"
           }
          ],
          "scattergl": [
           {
            "marker": {
             "colorbar": {
              "outlinewidth": 0,
              "ticks": ""
             }
            },
            "type": "scattergl"
           }
          ],
          "scattermapbox": [
           {
            "marker": {
             "colorbar": {
              "outlinewidth": 0,
              "ticks": ""
             }
            },
            "type": "scattermapbox"
           }
          ],
          "scatterpolar": [
           {
            "marker": {
             "colorbar": {
              "outlinewidth": 0,
              "ticks": ""
             }
            },
            "type": "scatterpolar"
           }
          ],
          "scatterpolargl": [
           {
            "marker": {
             "colorbar": {
              "outlinewidth": 0,
              "ticks": ""
             }
            },
            "type": "scatterpolargl"
           }
          ],
          "scatterternary": [
           {
            "marker": {
             "colorbar": {
              "outlinewidth": 0,
              "ticks": ""
             }
            },
            "type": "scatterternary"
           }
          ],
          "surface": [
           {
            "colorbar": {
             "outlinewidth": 0,
             "ticks": ""
            },
            "colorscale": [
             [
              0,
              "#0d0887"
             ],
             [
              0.1111111111111111,
              "#46039f"
             ],
             [
              0.2222222222222222,
              "#7201a8"
             ],
             [
              0.3333333333333333,
              "#9c179e"
             ],
             [
              0.4444444444444444,
              "#bd3786"
             ],
             [
              0.5555555555555556,
              "#d8576b"
             ],
             [
              0.6666666666666666,
              "#ed7953"
             ],
             [
              0.7777777777777778,
              "#fb9f3a"
             ],
             [
              0.8888888888888888,
              "#fdca26"
             ],
             [
              1,
              "#f0f921"
             ]
            ],
            "type": "surface"
           }
          ],
          "table": [
           {
            "cells": {
             "fill": {
              "color": "#EBF0F8"
             },
             "line": {
              "color": "white"
             }
            },
            "header": {
             "fill": {
              "color": "#C8D4E3"
             },
             "line": {
              "color": "white"
             }
            },
            "type": "table"
           }
          ]
         },
         "layout": {
          "annotationdefaults": {
           "arrowcolor": "#2a3f5f",
           "arrowhead": 0,
           "arrowwidth": 1
          },
          "autotypenumbers": "strict",
          "coloraxis": {
           "colorbar": {
            "outlinewidth": 0,
            "ticks": ""
           }
          },
          "colorscale": {
           "diverging": [
            [
             0,
             "#8e0152"
            ],
            [
             0.1,
             "#c51b7d"
            ],
            [
             0.2,
             "#de77ae"
            ],
            [
             0.3,
             "#f1b6da"
            ],
            [
             0.4,
             "#fde0ef"
            ],
            [
             0.5,
             "#f7f7f7"
            ],
            [
             0.6,
             "#e6f5d0"
            ],
            [
             0.7,
             "#b8e186"
            ],
            [
             0.8,
             "#7fbc41"
            ],
            [
             0.9,
             "#4d9221"
            ],
            [
             1,
             "#276419"
            ]
           ],
           "sequential": [
            [
             0,
             "#0d0887"
            ],
            [
             0.1111111111111111,
             "#46039f"
            ],
            [
             0.2222222222222222,
             "#7201a8"
            ],
            [
             0.3333333333333333,
             "#9c179e"
            ],
            [
             0.4444444444444444,
             "#bd3786"
            ],
            [
             0.5555555555555556,
             "#d8576b"
            ],
            [
             0.6666666666666666,
             "#ed7953"
            ],
            [
             0.7777777777777778,
             "#fb9f3a"
            ],
            [
             0.8888888888888888,
             "#fdca26"
            ],
            [
             1,
             "#f0f921"
            ]
           ],
           "sequentialminus": [
            [
             0,
             "#0d0887"
            ],
            [
             0.1111111111111111,
             "#46039f"
            ],
            [
             0.2222222222222222,
             "#7201a8"
            ],
            [
             0.3333333333333333,
             "#9c179e"
            ],
            [
             0.4444444444444444,
             "#bd3786"
            ],
            [
             0.5555555555555556,
             "#d8576b"
            ],
            [
             0.6666666666666666,
             "#ed7953"
            ],
            [
             0.7777777777777778,
             "#fb9f3a"
            ],
            [
             0.8888888888888888,
             "#fdca26"
            ],
            [
             1,
             "#f0f921"
            ]
           ]
          },
          "colorway": [
           "#636efa",
           "#EF553B",
           "#00cc96",
           "#ab63fa",
           "#FFA15A",
           "#19d3f3",
           "#FF6692",
           "#B6E880",
           "#FF97FF",
           "#FECB52"
          ],
          "font": {
           "color": "#2a3f5f"
          },
          "geo": {
           "bgcolor": "white",
           "lakecolor": "white",
           "landcolor": "#E5ECF6",
           "showlakes": true,
           "showland": true,
           "subunitcolor": "white"
          },
          "hoverlabel": {
           "align": "left"
          },
          "hovermode": "closest",
          "mapbox": {
           "style": "light"
          },
          "paper_bgcolor": "white",
          "plot_bgcolor": "#E5ECF6",
          "polar": {
           "angularaxis": {
            "gridcolor": "white",
            "linecolor": "white",
            "ticks": ""
           },
           "bgcolor": "#E5ECF6",
           "radialaxis": {
            "gridcolor": "white",
            "linecolor": "white",
            "ticks": ""
           }
          },
          "scene": {
           "xaxis": {
            "backgroundcolor": "#E5ECF6",
            "gridcolor": "white",
            "gridwidth": 2,
            "linecolor": "white",
            "showbackground": true,
            "ticks": "",
            "zerolinecolor": "white"
           },
           "yaxis": {
            "backgroundcolor": "#E5ECF6",
            "gridcolor": "white",
            "gridwidth": 2,
            "linecolor": "white",
            "showbackground": true,
            "ticks": "",
            "zerolinecolor": "white"
           },
           "zaxis": {
            "backgroundcolor": "#E5ECF6",
            "gridcolor": "white",
            "gridwidth": 2,
            "linecolor": "white",
            "showbackground": true,
            "ticks": "",
            "zerolinecolor": "white"
           }
          },
          "shapedefaults": {
           "line": {
            "color": "#2a3f5f"
           }
          },
          "ternary": {
           "aaxis": {
            "gridcolor": "white",
            "linecolor": "white",
            "ticks": ""
           },
           "baxis": {
            "gridcolor": "white",
            "linecolor": "white",
            "ticks": ""
           },
           "bgcolor": "#E5ECF6",
           "caxis": {
            "gridcolor": "white",
            "linecolor": "white",
            "ticks": ""
           }
          },
          "title": {
           "x": 0.05
          },
          "xaxis": {
           "automargin": true,
           "gridcolor": "white",
           "linecolor": "white",
           "ticks": "",
           "title": {
            "standoff": 15
           },
           "zerolinecolor": "white",
           "zerolinewidth": 2
          },
          "yaxis": {
           "automargin": true,
           "gridcolor": "white",
           "linecolor": "white",
           "ticks": "",
           "title": {
            "standoff": 15
           },
           "zerolinecolor": "white",
           "zerolinewidth": 2
          }
         }
        },
        "title": {
         "font": {
          "color": "#4D5663"
         }
        },
        "xaxis": {
         "gridcolor": "#E1E5ED",
         "showgrid": true,
         "tickfont": {
          "color": "#4D5663"
         },
         "title": {
          "font": {
           "color": "#4D5663"
          },
          "text": ""
         },
         "zerolinecolor": "#E1E5ED"
        },
        "yaxis": {
         "gridcolor": "#E1E5ED",
         "showgrid": true,
         "tickfont": {
          "color": "#4D5663"
         },
         "title": {
          "font": {
           "color": "#4D5663"
          },
          "text": ""
         },
         "zerolinecolor": "#E1E5ED"
        }
       }
      },
      "text/html": [
       "<div>                            <div id=\"c41642af-9464-4a86-941f-a5ae559a76ca\" class=\"plotly-graph-div\" style=\"height:525px; width:100%;\"></div>            <script type=\"text/javascript\">                require([\"plotly\"], function(Plotly) {                    window.PLOTLYENV=window.PLOTLYENV || {};\n",
       "                    window.PLOTLYENV.BASE_URL='https://plot.ly';                                    if (document.getElementById(\"c41642af-9464-4a86-941f-a5ae559a76ca\")) {                    Plotly.newPlot(                        \"c41642af-9464-4a86-941f-a5ae559a76ca\",                        [{\"marker\":{\"color\":\"rgba(255, 153, 51, 0.6)\",\"line\":{\"color\":\"rgba(255, 153, 51, 1.0)\",\"width\":1}},\"name\":\"Values\",\"orientation\":\"v\",\"text\":\"\",\"x\":[\"A\",\"B\",\"C\"],\"y\":[32,43,50],\"type\":\"bar\"}],                        {\"legend\":{\"bgcolor\":\"#F5F6F9\",\"font\":{\"color\":\"#4D5663\"}},\"paper_bgcolor\":\"#F5F6F9\",\"plot_bgcolor\":\"#F5F6F9\",\"template\":{\"data\":{\"barpolar\":[{\"marker\":{\"line\":{\"color\":\"#E5ECF6\",\"width\":0.5},\"pattern\":{\"fillmode\":\"overlay\",\"size\":10,\"solidity\":0.2}},\"type\":\"barpolar\"}],\"bar\":[{\"error_x\":{\"color\":\"#2a3f5f\"},\"error_y\":{\"color\":\"#2a3f5f\"},\"marker\":{\"line\":{\"color\":\"#E5ECF6\",\"width\":0.5},\"pattern\":{\"fillmode\":\"overlay\",\"size\":10,\"solidity\":0.2}},\"type\":\"bar\"}],\"carpet\":[{\"aaxis\":{\"endlinecolor\":\"#2a3f5f\",\"gridcolor\":\"white\",\"linecolor\":\"white\",\"minorgridcolor\":\"white\",\"startlinecolor\":\"#2a3f5f\"},\"baxis\":{\"endlinecolor\":\"#2a3f5f\",\"gridcolor\":\"white\",\"linecolor\":\"white\",\"minorgridcolor\":\"white\",\"startlinecolor\":\"#2a3f5f\"},\"type\":\"carpet\"}],\"choropleth\":[{\"colorbar\":{\"outlinewidth\":0,\"ticks\":\"\"},\"type\":\"choropleth\"}],\"contourcarpet\":[{\"colorbar\":{\"outlinewidth\":0,\"ticks\":\"\"},\"type\":\"contourcarpet\"}],\"contour\":[{\"colorbar\":{\"outlinewidth\":0,\"ticks\":\"\"},\"colorscale\":[[0.0,\"#0d0887\"],[0.1111111111111111,\"#46039f\"],[0.2222222222222222,\"#7201a8\"],[0.3333333333333333,\"#9c179e\"],[0.4444444444444444,\"#bd3786\"],[0.5555555555555556,\"#d8576b\"],[0.6666666666666666,\"#ed7953\"],[0.7777777777777778,\"#fb9f3a\"],[0.8888888888888888,\"#fdca26\"],[1.0,\"#f0f921\"]],\"type\":\"contour\"}],\"heatmapgl\":[{\"colorbar\":{\"outlinewidth\":0,\"ticks\":\"\"},\"colorscale\":[[0.0,\"#0d0887\"],[0.1111111111111111,\"#46039f\"],[0.2222222222222222,\"#7201a8\"],[0.3333333333333333,\"#9c179e\"],[0.4444444444444444,\"#bd3786\"],[0.5555555555555556,\"#d8576b\"],[0.6666666666666666,\"#ed7953\"],[0.7777777777777778,\"#fb9f3a\"],[0.8888888888888888,\"#fdca26\"],[1.0,\"#f0f921\"]],\"type\":\"heatmapgl\"}],\"heatmap\":[{\"colorbar\":{\"outlinewidth\":0,\"ticks\":\"\"},\"colorscale\":[[0.0,\"#0d0887\"],[0.1111111111111111,\"#46039f\"],[0.2222222222222222,\"#7201a8\"],[0.3333333333333333,\"#9c179e\"],[0.4444444444444444,\"#bd3786\"],[0.5555555555555556,\"#d8576b\"],[0.6666666666666666,\"#ed7953\"],[0.7777777777777778,\"#fb9f3a\"],[0.8888888888888888,\"#fdca26\"],[1.0,\"#f0f921\"]],\"type\":\"heatmap\"}],\"histogram2dcontour\":[{\"colorbar\":{\"outlinewidth\":0,\"ticks\":\"\"},\"colorscale\":[[0.0,\"#0d0887\"],[0.1111111111111111,\"#46039f\"],[0.2222222222222222,\"#7201a8\"],[0.3333333333333333,\"#9c179e\"],[0.4444444444444444,\"#bd3786\"],[0.5555555555555556,\"#d8576b\"],[0.6666666666666666,\"#ed7953\"],[0.7777777777777778,\"#fb9f3a\"],[0.8888888888888888,\"#fdca26\"],[1.0,\"#f0f921\"]],\"type\":\"histogram2dcontour\"}],\"histogram2d\":[{\"colorbar\":{\"outlinewidth\":0,\"ticks\":\"\"},\"colorscale\":[[0.0,\"#0d0887\"],[0.1111111111111111,\"#46039f\"],[0.2222222222222222,\"#7201a8\"],[0.3333333333333333,\"#9c179e\"],[0.4444444444444444,\"#bd3786\"],[0.5555555555555556,\"#d8576b\"],[0.6666666666666666,\"#ed7953\"],[0.7777777777777778,\"#fb9f3a\"],[0.8888888888888888,\"#fdca26\"],[1.0,\"#f0f921\"]],\"type\":\"histogram2d\"}],\"histogram\":[{\"marker\":{\"pattern\":{\"fillmode\":\"overlay\",\"size\":10,\"solidity\":0.2}},\"type\":\"histogram\"}],\"mesh3d\":[{\"colorbar\":{\"outlinewidth\":0,\"ticks\":\"\"},\"type\":\"mesh3d\"}],\"parcoords\":[{\"line\":{\"colorbar\":{\"outlinewidth\":0,\"ticks\":\"\"}},\"type\":\"parcoords\"}],\"pie\":[{\"automargin\":true,\"type\":\"pie\"}],\"scatter3d\":[{\"line\":{\"colorbar\":{\"outlinewidth\":0,\"ticks\":\"\"}},\"marker\":{\"colorbar\":{\"outlinewidth\":0,\"ticks\":\"\"}},\"type\":\"scatter3d\"}],\"scattercarpet\":[{\"marker\":{\"colorbar\":{\"outlinewidth\":0,\"ticks\":\"\"}},\"type\":\"scattercarpet\"}],\"scattergeo\":[{\"marker\":{\"colorbar\":{\"outlinewidth\":0,\"ticks\":\"\"}},\"type\":\"scattergeo\"}],\"scattergl\":[{\"marker\":{\"colorbar\":{\"outlinewidth\":0,\"ticks\":\"\"}},\"type\":\"scattergl\"}],\"scattermapbox\":[{\"marker\":{\"colorbar\":{\"outlinewidth\":0,\"ticks\":\"\"}},\"type\":\"scattermapbox\"}],\"scatterpolargl\":[{\"marker\":{\"colorbar\":{\"outlinewidth\":0,\"ticks\":\"\"}},\"type\":\"scatterpolargl\"}],\"scatterpolar\":[{\"marker\":{\"colorbar\":{\"outlinewidth\":0,\"ticks\":\"\"}},\"type\":\"scatterpolar\"}],\"scatter\":[{\"fillpattern\":{\"fillmode\":\"overlay\",\"size\":10,\"solidity\":0.2},\"type\":\"scatter\"}],\"scatterternary\":[{\"marker\":{\"colorbar\":{\"outlinewidth\":0,\"ticks\":\"\"}},\"type\":\"scatterternary\"}],\"surface\":[{\"colorbar\":{\"outlinewidth\":0,\"ticks\":\"\"},\"colorscale\":[[0.0,\"#0d0887\"],[0.1111111111111111,\"#46039f\"],[0.2222222222222222,\"#7201a8\"],[0.3333333333333333,\"#9c179e\"],[0.4444444444444444,\"#bd3786\"],[0.5555555555555556,\"#d8576b\"],[0.6666666666666666,\"#ed7953\"],[0.7777777777777778,\"#fb9f3a\"],[0.8888888888888888,\"#fdca26\"],[1.0,\"#f0f921\"]],\"type\":\"surface\"}],\"table\":[{\"cells\":{\"fill\":{\"color\":\"#EBF0F8\"},\"line\":{\"color\":\"white\"}},\"header\":{\"fill\":{\"color\":\"#C8D4E3\"},\"line\":{\"color\":\"white\"}},\"type\":\"table\"}]},\"layout\":{\"annotationdefaults\":{\"arrowcolor\":\"#2a3f5f\",\"arrowhead\":0,\"arrowwidth\":1},\"autotypenumbers\":\"strict\",\"coloraxis\":{\"colorbar\":{\"outlinewidth\":0,\"ticks\":\"\"}},\"colorscale\":{\"diverging\":[[0,\"#8e0152\"],[0.1,\"#c51b7d\"],[0.2,\"#de77ae\"],[0.3,\"#f1b6da\"],[0.4,\"#fde0ef\"],[0.5,\"#f7f7f7\"],[0.6,\"#e6f5d0\"],[0.7,\"#b8e186\"],[0.8,\"#7fbc41\"],[0.9,\"#4d9221\"],[1,\"#276419\"]],\"sequential\":[[0.0,\"#0d0887\"],[0.1111111111111111,\"#46039f\"],[0.2222222222222222,\"#7201a8\"],[0.3333333333333333,\"#9c179e\"],[0.4444444444444444,\"#bd3786\"],[0.5555555555555556,\"#d8576b\"],[0.6666666666666666,\"#ed7953\"],[0.7777777777777778,\"#fb9f3a\"],[0.8888888888888888,\"#fdca26\"],[1.0,\"#f0f921\"]],\"sequentialminus\":[[0.0,\"#0d0887\"],[0.1111111111111111,\"#46039f\"],[0.2222222222222222,\"#7201a8\"],[0.3333333333333333,\"#9c179e\"],[0.4444444444444444,\"#bd3786\"],[0.5555555555555556,\"#d8576b\"],[0.6666666666666666,\"#ed7953\"],[0.7777777777777778,\"#fb9f3a\"],[0.8888888888888888,\"#fdca26\"],[1.0,\"#f0f921\"]]},\"colorway\":[\"#636efa\",\"#EF553B\",\"#00cc96\",\"#ab63fa\",\"#FFA15A\",\"#19d3f3\",\"#FF6692\",\"#B6E880\",\"#FF97FF\",\"#FECB52\"],\"font\":{\"color\":\"#2a3f5f\"},\"geo\":{\"bgcolor\":\"white\",\"lakecolor\":\"white\",\"landcolor\":\"#E5ECF6\",\"showlakes\":true,\"showland\":true,\"subunitcolor\":\"white\"},\"hoverlabel\":{\"align\":\"left\"},\"hovermode\":\"closest\",\"mapbox\":{\"style\":\"light\"},\"paper_bgcolor\":\"white\",\"plot_bgcolor\":\"#E5ECF6\",\"polar\":{\"angularaxis\":{\"gridcolor\":\"white\",\"linecolor\":\"white\",\"ticks\":\"\"},\"bgcolor\":\"#E5ECF6\",\"radialaxis\":{\"gridcolor\":\"white\",\"linecolor\":\"white\",\"ticks\":\"\"}},\"scene\":{\"xaxis\":{\"backgroundcolor\":\"#E5ECF6\",\"gridcolor\":\"white\",\"gridwidth\":2,\"linecolor\":\"white\",\"showbackground\":true,\"ticks\":\"\",\"zerolinecolor\":\"white\"},\"yaxis\":{\"backgroundcolor\":\"#E5ECF6\",\"gridcolor\":\"white\",\"gridwidth\":2,\"linecolor\":\"white\",\"showbackground\":true,\"ticks\":\"\",\"zerolinecolor\":\"white\"},\"zaxis\":{\"backgroundcolor\":\"#E5ECF6\",\"gridcolor\":\"white\",\"gridwidth\":2,\"linecolor\":\"white\",\"showbackground\":true,\"ticks\":\"\",\"zerolinecolor\":\"white\"}},\"shapedefaults\":{\"line\":{\"color\":\"#2a3f5f\"}},\"ternary\":{\"aaxis\":{\"gridcolor\":\"white\",\"linecolor\":\"white\",\"ticks\":\"\"},\"baxis\":{\"gridcolor\":\"white\",\"linecolor\":\"white\",\"ticks\":\"\"},\"bgcolor\":\"#E5ECF6\",\"caxis\":{\"gridcolor\":\"white\",\"linecolor\":\"white\",\"ticks\":\"\"}},\"title\":{\"x\":0.05},\"xaxis\":{\"automargin\":true,\"gridcolor\":\"white\",\"linecolor\":\"white\",\"ticks\":\"\",\"title\":{\"standoff\":15},\"zerolinecolor\":\"white\",\"zerolinewidth\":2},\"yaxis\":{\"automargin\":true,\"gridcolor\":\"white\",\"linecolor\":\"white\",\"ticks\":\"\",\"title\":{\"standoff\":15},\"zerolinecolor\":\"white\",\"zerolinewidth\":2}}},\"title\":{\"font\":{\"color\":\"#4D5663\"}},\"xaxis\":{\"gridcolor\":\"#E1E5ED\",\"showgrid\":true,\"tickfont\":{\"color\":\"#4D5663\"},\"title\":{\"font\":{\"color\":\"#4D5663\"},\"text\":\"\"},\"zerolinecolor\":\"#E1E5ED\"},\"yaxis\":{\"gridcolor\":\"#E1E5ED\",\"showgrid\":true,\"tickfont\":{\"color\":\"#4D5663\"},\"title\":{\"font\":{\"color\":\"#4D5663\"},\"text\":\"\"},\"zerolinecolor\":\"#E1E5ED\"}},                        {\"showLink\": true, \"linkText\": \"Export to plot.ly\", \"plotlyServerURL\": \"https://plot.ly\", \"responsive\": true}                    ).then(function(){\n",
       "                            \n",
       "var gd = document.getElementById('c41642af-9464-4a86-941f-a5ae559a76ca');\n",
       "var x = new MutationObserver(function (mutations, observer) {{\n",
       "        var display = window.getComputedStyle(gd).display;\n",
       "        if (!display || display === 'none') {{\n",
       "            console.log([gd, 'removed!']);\n",
       "            Plotly.purge(gd);\n",
       "            observer.disconnect();\n",
       "        }}\n",
       "}});\n",
       "\n",
       "// Listen for the removal of the full notebook cells\n",
       "var notebookContainer = gd.closest('#notebook-container');\n",
       "if (notebookContainer) {{\n",
       "    x.observe(notebookContainer, {childList: true});\n",
       "}}\n",
       "\n",
       "// Listen for the clearing of the current output cell\n",
       "var outputEl = gd.closest('.output');\n",
       "if (outputEl) {{\n",
       "    x.observe(outputEl, {childList: true});\n",
       "}}\n",
       "\n",
       "                        })                };                });            </script>        </div>"
      ]
     },
     "metadata": {},
     "output_type": "display_data"
    }
   ],
   "source": [
    "df2.iplot(kind='bar',x='Category',y='Values')"
   ]
  },
  {
   "cell_type": "code",
   "execution_count": 12,
   "metadata": {
    "collapsed": false
   },
   "outputs": [
    {
     "data": {
      "application/vnd.plotly.v1+json": {
       "config": {
        "linkText": "Export to plot.ly",
        "plotlyServerURL": "https://plot.ly",
        "showLink": true
       },
       "data": [
        {
         "marker": {
          "color": "rgba(255, 153, 51, 0.6)",
          "line": {
           "color": "rgba(255, 153, 51, 1.0)",
           "width": 1
          }
         },
         "name": "None",
         "orientation": "v",
         "text": "",
         "type": "bar",
         "x": [
          "A",
          "B",
          "C",
          "D"
         ],
         "y": [
          100,
          100,
          100,
          100
         ]
        }
       ],
       "layout": {
        "legend": {
         "bgcolor": "#F5F6F9",
         "font": {
          "color": "#4D5663"
         }
        },
        "paper_bgcolor": "#F5F6F9",
        "plot_bgcolor": "#F5F6F9",
        "template": {
         "data": {
          "bar": [
           {
            "error_x": {
             "color": "#2a3f5f"
            },
            "error_y": {
             "color": "#2a3f5f"
            },
            "marker": {
             "line": {
              "color": "#E5ECF6",
              "width": 0.5
             },
             "pattern": {
              "fillmode": "overlay",
              "size": 10,
              "solidity": 0.2
             }
            },
            "type": "bar"
           }
          ],
          "barpolar": [
           {
            "marker": {
             "line": {
              "color": "#E5ECF6",
              "width": 0.5
             },
             "pattern": {
              "fillmode": "overlay",
              "size": 10,
              "solidity": 0.2
             }
            },
            "type": "barpolar"
           }
          ],
          "carpet": [
           {
            "aaxis": {
             "endlinecolor": "#2a3f5f",
             "gridcolor": "white",
             "linecolor": "white",
             "minorgridcolor": "white",
             "startlinecolor": "#2a3f5f"
            },
            "baxis": {
             "endlinecolor": "#2a3f5f",
             "gridcolor": "white",
             "linecolor": "white",
             "minorgridcolor": "white",
             "startlinecolor": "#2a3f5f"
            },
            "type": "carpet"
           }
          ],
          "choropleth": [
           {
            "colorbar": {
             "outlinewidth": 0,
             "ticks": ""
            },
            "type": "choropleth"
           }
          ],
          "contour": [
           {
            "colorbar": {
             "outlinewidth": 0,
             "ticks": ""
            },
            "colorscale": [
             [
              0,
              "#0d0887"
             ],
             [
              0.1111111111111111,
              "#46039f"
             ],
             [
              0.2222222222222222,
              "#7201a8"
             ],
             [
              0.3333333333333333,
              "#9c179e"
             ],
             [
              0.4444444444444444,
              "#bd3786"
             ],
             [
              0.5555555555555556,
              "#d8576b"
             ],
             [
              0.6666666666666666,
              "#ed7953"
             ],
             [
              0.7777777777777778,
              "#fb9f3a"
             ],
             [
              0.8888888888888888,
              "#fdca26"
             ],
             [
              1,
              "#f0f921"
             ]
            ],
            "type": "contour"
           }
          ],
          "contourcarpet": [
           {
            "colorbar": {
             "outlinewidth": 0,
             "ticks": ""
            },
            "type": "contourcarpet"
           }
          ],
          "heatmap": [
           {
            "colorbar": {
             "outlinewidth": 0,
             "ticks": ""
            },
            "colorscale": [
             [
              0,
              "#0d0887"
             ],
             [
              0.1111111111111111,
              "#46039f"
             ],
             [
              0.2222222222222222,
              "#7201a8"
             ],
             [
              0.3333333333333333,
              "#9c179e"
             ],
             [
              0.4444444444444444,
              "#bd3786"
             ],
             [
              0.5555555555555556,
              "#d8576b"
             ],
             [
              0.6666666666666666,
              "#ed7953"
             ],
             [
              0.7777777777777778,
              "#fb9f3a"
             ],
             [
              0.8888888888888888,
              "#fdca26"
             ],
             [
              1,
              "#f0f921"
             ]
            ],
            "type": "heatmap"
           }
          ],
          "heatmapgl": [
           {
            "colorbar": {
             "outlinewidth": 0,
             "ticks": ""
            },
            "colorscale": [
             [
              0,
              "#0d0887"
             ],
             [
              0.1111111111111111,
              "#46039f"
             ],
             [
              0.2222222222222222,
              "#7201a8"
             ],
             [
              0.3333333333333333,
              "#9c179e"
             ],
             [
              0.4444444444444444,
              "#bd3786"
             ],
             [
              0.5555555555555556,
              "#d8576b"
             ],
             [
              0.6666666666666666,
              "#ed7953"
             ],
             [
              0.7777777777777778,
              "#fb9f3a"
             ],
             [
              0.8888888888888888,
              "#fdca26"
             ],
             [
              1,
              "#f0f921"
             ]
            ],
            "type": "heatmapgl"
           }
          ],
          "histogram": [
           {
            "marker": {
             "pattern": {
              "fillmode": "overlay",
              "size": 10,
              "solidity": 0.2
             }
            },
            "type": "histogram"
           }
          ],
          "histogram2d": [
           {
            "colorbar": {
             "outlinewidth": 0,
             "ticks": ""
            },
            "colorscale": [
             [
              0,
              "#0d0887"
             ],
             [
              0.1111111111111111,
              "#46039f"
             ],
             [
              0.2222222222222222,
              "#7201a8"
             ],
             [
              0.3333333333333333,
              "#9c179e"
             ],
             [
              0.4444444444444444,
              "#bd3786"
             ],
             [
              0.5555555555555556,
              "#d8576b"
             ],
             [
              0.6666666666666666,
              "#ed7953"
             ],
             [
              0.7777777777777778,
              "#fb9f3a"
             ],
             [
              0.8888888888888888,
              "#fdca26"
             ],
             [
              1,
              "#f0f921"
             ]
            ],
            "type": "histogram2d"
           }
          ],
          "histogram2dcontour": [
           {
            "colorbar": {
             "outlinewidth": 0,
             "ticks": ""
            },
            "colorscale": [
             [
              0,
              "#0d0887"
             ],
             [
              0.1111111111111111,
              "#46039f"
             ],
             [
              0.2222222222222222,
              "#7201a8"
             ],
             [
              0.3333333333333333,
              "#9c179e"
             ],
             [
              0.4444444444444444,
              "#bd3786"
             ],
             [
              0.5555555555555556,
              "#d8576b"
             ],
             [
              0.6666666666666666,
              "#ed7953"
             ],
             [
              0.7777777777777778,
              "#fb9f3a"
             ],
             [
              0.8888888888888888,
              "#fdca26"
             ],
             [
              1,
              "#f0f921"
             ]
            ],
            "type": "histogram2dcontour"
           }
          ],
          "mesh3d": [
           {
            "colorbar": {
             "outlinewidth": 0,
             "ticks": ""
            },
            "type": "mesh3d"
           }
          ],
          "parcoords": [
           {
            "line": {
             "colorbar": {
              "outlinewidth": 0,
              "ticks": ""
             }
            },
            "type": "parcoords"
           }
          ],
          "pie": [
           {
            "automargin": true,
            "type": "pie"
           }
          ],
          "scatter": [
           {
            "fillpattern": {
             "fillmode": "overlay",
             "size": 10,
             "solidity": 0.2
            },
            "type": "scatter"
           }
          ],
          "scatter3d": [
           {
            "line": {
             "colorbar": {
              "outlinewidth": 0,
              "ticks": ""
             }
            },
            "marker": {
             "colorbar": {
              "outlinewidth": 0,
              "ticks": ""
             }
            },
            "type": "scatter3d"
           }
          ],
          "scattercarpet": [
           {
            "marker": {
             "colorbar": {
              "outlinewidth": 0,
              "ticks": ""
             }
            },
            "type": "scattercarpet"
           }
          ],
          "scattergeo": [
           {
            "marker": {
             "colorbar": {
              "outlinewidth": 0,
              "ticks": ""
             }
            },
            "type": "scattergeo"
           }
          ],
          "scattergl": [
           {
            "marker": {
             "colorbar": {
              "outlinewidth": 0,
              "ticks": ""
             }
            },
            "type": "scattergl"
           }
          ],
          "scattermapbox": [
           {
            "marker": {
             "colorbar": {
              "outlinewidth": 0,
              "ticks": ""
             }
            },
            "type": "scattermapbox"
           }
          ],
          "scatterpolar": [
           {
            "marker": {
             "colorbar": {
              "outlinewidth": 0,
              "ticks": ""
             }
            },
            "type": "scatterpolar"
           }
          ],
          "scatterpolargl": [
           {
            "marker": {
             "colorbar": {
              "outlinewidth": 0,
              "ticks": ""
             }
            },
            "type": "scatterpolargl"
           }
          ],
          "scatterternary": [
           {
            "marker": {
             "colorbar": {
              "outlinewidth": 0,
              "ticks": ""
             }
            },
            "type": "scatterternary"
           }
          ],
          "surface": [
           {
            "colorbar": {
             "outlinewidth": 0,
             "ticks": ""
            },
            "colorscale": [
             [
              0,
              "#0d0887"
             ],
             [
              0.1111111111111111,
              "#46039f"
             ],
             [
              0.2222222222222222,
              "#7201a8"
             ],
             [
              0.3333333333333333,
              "#9c179e"
             ],
             [
              0.4444444444444444,
              "#bd3786"
             ],
             [
              0.5555555555555556,
              "#d8576b"
             ],
             [
              0.6666666666666666,
              "#ed7953"
             ],
             [
              0.7777777777777778,
              "#fb9f3a"
             ],
             [
              0.8888888888888888,
              "#fdca26"
             ],
             [
              1,
              "#f0f921"
             ]
            ],
            "type": "surface"
           }
          ],
          "table": [
           {
            "cells": {
             "fill": {
              "color": "#EBF0F8"
             },
             "line": {
              "color": "white"
             }
            },
            "header": {
             "fill": {
              "color": "#C8D4E3"
             },
             "line": {
              "color": "white"
             }
            },
            "type": "table"
           }
          ]
         },
         "layout": {
          "annotationdefaults": {
           "arrowcolor": "#2a3f5f",
           "arrowhead": 0,
           "arrowwidth": 1
          },
          "autotypenumbers": "strict",
          "coloraxis": {
           "colorbar": {
            "outlinewidth": 0,
            "ticks": ""
           }
          },
          "colorscale": {
           "diverging": [
            [
             0,
             "#8e0152"
            ],
            [
             0.1,
             "#c51b7d"
            ],
            [
             0.2,
             "#de77ae"
            ],
            [
             0.3,
             "#f1b6da"
            ],
            [
             0.4,
             "#fde0ef"
            ],
            [
             0.5,
             "#f7f7f7"
            ],
            [
             0.6,
             "#e6f5d0"
            ],
            [
             0.7,
             "#b8e186"
            ],
            [
             0.8,
             "#7fbc41"
            ],
            [
             0.9,
             "#4d9221"
            ],
            [
             1,
             "#276419"
            ]
           ],
           "sequential": [
            [
             0,
             "#0d0887"
            ],
            [
             0.1111111111111111,
             "#46039f"
            ],
            [
             0.2222222222222222,
             "#7201a8"
            ],
            [
             0.3333333333333333,
             "#9c179e"
            ],
            [
             0.4444444444444444,
             "#bd3786"
            ],
            [
             0.5555555555555556,
             "#d8576b"
            ],
            [
             0.6666666666666666,
             "#ed7953"
            ],
            [
             0.7777777777777778,
             "#fb9f3a"
            ],
            [
             0.8888888888888888,
             "#fdca26"
            ],
            [
             1,
             "#f0f921"
            ]
           ],
           "sequentialminus": [
            [
             0,
             "#0d0887"
            ],
            [
             0.1111111111111111,
             "#46039f"
            ],
            [
             0.2222222222222222,
             "#7201a8"
            ],
            [
             0.3333333333333333,
             "#9c179e"
            ],
            [
             0.4444444444444444,
             "#bd3786"
            ],
            [
             0.5555555555555556,
             "#d8576b"
            ],
            [
             0.6666666666666666,
             "#ed7953"
            ],
            [
             0.7777777777777778,
             "#fb9f3a"
            ],
            [
             0.8888888888888888,
             "#fdca26"
            ],
            [
             1,
             "#f0f921"
            ]
           ]
          },
          "colorway": [
           "#636efa",
           "#EF553B",
           "#00cc96",
           "#ab63fa",
           "#FFA15A",
           "#19d3f3",
           "#FF6692",
           "#B6E880",
           "#FF97FF",
           "#FECB52"
          ],
          "font": {
           "color": "#2a3f5f"
          },
          "geo": {
           "bgcolor": "white",
           "lakecolor": "white",
           "landcolor": "#E5ECF6",
           "showlakes": true,
           "showland": true,
           "subunitcolor": "white"
          },
          "hoverlabel": {
           "align": "left"
          },
          "hovermode": "closest",
          "mapbox": {
           "style": "light"
          },
          "paper_bgcolor": "white",
          "plot_bgcolor": "#E5ECF6",
          "polar": {
           "angularaxis": {
            "gridcolor": "white",
            "linecolor": "white",
            "ticks": ""
           },
           "bgcolor": "#E5ECF6",
           "radialaxis": {
            "gridcolor": "white",
            "linecolor": "white",
            "ticks": ""
           }
          },
          "scene": {
           "xaxis": {
            "backgroundcolor": "#E5ECF6",
            "gridcolor": "white",
            "gridwidth": 2,
            "linecolor": "white",
            "showbackground": true,
            "ticks": "",
            "zerolinecolor": "white"
           },
           "yaxis": {
            "backgroundcolor": "#E5ECF6",
            "gridcolor": "white",
            "gridwidth": 2,
            "linecolor": "white",
            "showbackground": true,
            "ticks": "",
            "zerolinecolor": "white"
           },
           "zaxis": {
            "backgroundcolor": "#E5ECF6",
            "gridcolor": "white",
            "gridwidth": 2,
            "linecolor": "white",
            "showbackground": true,
            "ticks": "",
            "zerolinecolor": "white"
           }
          },
          "shapedefaults": {
           "line": {
            "color": "#2a3f5f"
           }
          },
          "ternary": {
           "aaxis": {
            "gridcolor": "white",
            "linecolor": "white",
            "ticks": ""
           },
           "baxis": {
            "gridcolor": "white",
            "linecolor": "white",
            "ticks": ""
           },
           "bgcolor": "#E5ECF6",
           "caxis": {
            "gridcolor": "white",
            "linecolor": "white",
            "ticks": ""
           }
          },
          "title": {
           "x": 0.05
          },
          "xaxis": {
           "automargin": true,
           "gridcolor": "white",
           "linecolor": "white",
           "ticks": "",
           "title": {
            "standoff": 15
           },
           "zerolinecolor": "white",
           "zerolinewidth": 2
          },
          "yaxis": {
           "automargin": true,
           "gridcolor": "white",
           "linecolor": "white",
           "ticks": "",
           "title": {
            "standoff": 15
           },
           "zerolinecolor": "white",
           "zerolinewidth": 2
          }
         }
        },
        "title": {
         "font": {
          "color": "#4D5663"
         }
        },
        "xaxis": {
         "gridcolor": "#E1E5ED",
         "showgrid": true,
         "tickfont": {
          "color": "#4D5663"
         },
         "title": {
          "font": {
           "color": "#4D5663"
          },
          "text": ""
         },
         "zerolinecolor": "#E1E5ED"
        },
        "yaxis": {
         "gridcolor": "#E1E5ED",
         "showgrid": true,
         "tickfont": {
          "color": "#4D5663"
         },
         "title": {
          "font": {
           "color": "#4D5663"
          },
          "text": ""
         },
         "zerolinecolor": "#E1E5ED"
        }
       }
      },
      "text/html": [
       "<div>                            <div id=\"50a294a9-832b-43fd-b763-768b6b283a6c\" class=\"plotly-graph-div\" style=\"height:525px; width:100%;\"></div>            <script type=\"text/javascript\">                require([\"plotly\"], function(Plotly) {                    window.PLOTLYENV=window.PLOTLYENV || {};\n",
       "                    window.PLOTLYENV.BASE_URL='https://plot.ly';                                    if (document.getElementById(\"50a294a9-832b-43fd-b763-768b6b283a6c\")) {                    Plotly.newPlot(                        \"50a294a9-832b-43fd-b763-768b6b283a6c\",                        [{\"marker\":{\"color\":\"rgba(255, 153, 51, 0.6)\",\"line\":{\"color\":\"rgba(255, 153, 51, 1.0)\",\"width\":1}},\"name\":\"None\",\"orientation\":\"v\",\"text\":\"\",\"x\":[\"A\",\"B\",\"C\",\"D\"],\"y\":[100,100,100,100],\"type\":\"bar\"}],                        {\"legend\":{\"bgcolor\":\"#F5F6F9\",\"font\":{\"color\":\"#4D5663\"}},\"paper_bgcolor\":\"#F5F6F9\",\"plot_bgcolor\":\"#F5F6F9\",\"template\":{\"data\":{\"barpolar\":[{\"marker\":{\"line\":{\"color\":\"#E5ECF6\",\"width\":0.5},\"pattern\":{\"fillmode\":\"overlay\",\"size\":10,\"solidity\":0.2}},\"type\":\"barpolar\"}],\"bar\":[{\"error_x\":{\"color\":\"#2a3f5f\"},\"error_y\":{\"color\":\"#2a3f5f\"},\"marker\":{\"line\":{\"color\":\"#E5ECF6\",\"width\":0.5},\"pattern\":{\"fillmode\":\"overlay\",\"size\":10,\"solidity\":0.2}},\"type\":\"bar\"}],\"carpet\":[{\"aaxis\":{\"endlinecolor\":\"#2a3f5f\",\"gridcolor\":\"white\",\"linecolor\":\"white\",\"minorgridcolor\":\"white\",\"startlinecolor\":\"#2a3f5f\"},\"baxis\":{\"endlinecolor\":\"#2a3f5f\",\"gridcolor\":\"white\",\"linecolor\":\"white\",\"minorgridcolor\":\"white\",\"startlinecolor\":\"#2a3f5f\"},\"type\":\"carpet\"}],\"choropleth\":[{\"colorbar\":{\"outlinewidth\":0,\"ticks\":\"\"},\"type\":\"choropleth\"}],\"contourcarpet\":[{\"colorbar\":{\"outlinewidth\":0,\"ticks\":\"\"},\"type\":\"contourcarpet\"}],\"contour\":[{\"colorbar\":{\"outlinewidth\":0,\"ticks\":\"\"},\"colorscale\":[[0.0,\"#0d0887\"],[0.1111111111111111,\"#46039f\"],[0.2222222222222222,\"#7201a8\"],[0.3333333333333333,\"#9c179e\"],[0.4444444444444444,\"#bd3786\"],[0.5555555555555556,\"#d8576b\"],[0.6666666666666666,\"#ed7953\"],[0.7777777777777778,\"#fb9f3a\"],[0.8888888888888888,\"#fdca26\"],[1.0,\"#f0f921\"]],\"type\":\"contour\"}],\"heatmapgl\":[{\"colorbar\":{\"outlinewidth\":0,\"ticks\":\"\"},\"colorscale\":[[0.0,\"#0d0887\"],[0.1111111111111111,\"#46039f\"],[0.2222222222222222,\"#7201a8\"],[0.3333333333333333,\"#9c179e\"],[0.4444444444444444,\"#bd3786\"],[0.5555555555555556,\"#d8576b\"],[0.6666666666666666,\"#ed7953\"],[0.7777777777777778,\"#fb9f3a\"],[0.8888888888888888,\"#fdca26\"],[1.0,\"#f0f921\"]],\"type\":\"heatmapgl\"}],\"heatmap\":[{\"colorbar\":{\"outlinewidth\":0,\"ticks\":\"\"},\"colorscale\":[[0.0,\"#0d0887\"],[0.1111111111111111,\"#46039f\"],[0.2222222222222222,\"#7201a8\"],[0.3333333333333333,\"#9c179e\"],[0.4444444444444444,\"#bd3786\"],[0.5555555555555556,\"#d8576b\"],[0.6666666666666666,\"#ed7953\"],[0.7777777777777778,\"#fb9f3a\"],[0.8888888888888888,\"#fdca26\"],[1.0,\"#f0f921\"]],\"type\":\"heatmap\"}],\"histogram2dcontour\":[{\"colorbar\":{\"outlinewidth\":0,\"ticks\":\"\"},\"colorscale\":[[0.0,\"#0d0887\"],[0.1111111111111111,\"#46039f\"],[0.2222222222222222,\"#7201a8\"],[0.3333333333333333,\"#9c179e\"],[0.4444444444444444,\"#bd3786\"],[0.5555555555555556,\"#d8576b\"],[0.6666666666666666,\"#ed7953\"],[0.7777777777777778,\"#fb9f3a\"],[0.8888888888888888,\"#fdca26\"],[1.0,\"#f0f921\"]],\"type\":\"histogram2dcontour\"}],\"histogram2d\":[{\"colorbar\":{\"outlinewidth\":0,\"ticks\":\"\"},\"colorscale\":[[0.0,\"#0d0887\"],[0.1111111111111111,\"#46039f\"],[0.2222222222222222,\"#7201a8\"],[0.3333333333333333,\"#9c179e\"],[0.4444444444444444,\"#bd3786\"],[0.5555555555555556,\"#d8576b\"],[0.6666666666666666,\"#ed7953\"],[0.7777777777777778,\"#fb9f3a\"],[0.8888888888888888,\"#fdca26\"],[1.0,\"#f0f921\"]],\"type\":\"histogram2d\"}],\"histogram\":[{\"marker\":{\"pattern\":{\"fillmode\":\"overlay\",\"size\":10,\"solidity\":0.2}},\"type\":\"histogram\"}],\"mesh3d\":[{\"colorbar\":{\"outlinewidth\":0,\"ticks\":\"\"},\"type\":\"mesh3d\"}],\"parcoords\":[{\"line\":{\"colorbar\":{\"outlinewidth\":0,\"ticks\":\"\"}},\"type\":\"parcoords\"}],\"pie\":[{\"automargin\":true,\"type\":\"pie\"}],\"scatter3d\":[{\"line\":{\"colorbar\":{\"outlinewidth\":0,\"ticks\":\"\"}},\"marker\":{\"colorbar\":{\"outlinewidth\":0,\"ticks\":\"\"}},\"type\":\"scatter3d\"}],\"scattercarpet\":[{\"marker\":{\"colorbar\":{\"outlinewidth\":0,\"ticks\":\"\"}},\"type\":\"scattercarpet\"}],\"scattergeo\":[{\"marker\":{\"colorbar\":{\"outlinewidth\":0,\"ticks\":\"\"}},\"type\":\"scattergeo\"}],\"scattergl\":[{\"marker\":{\"colorbar\":{\"outlinewidth\":0,\"ticks\":\"\"}},\"type\":\"scattergl\"}],\"scattermapbox\":[{\"marker\":{\"colorbar\":{\"outlinewidth\":0,\"ticks\":\"\"}},\"type\":\"scattermapbox\"}],\"scatterpolargl\":[{\"marker\":{\"colorbar\":{\"outlinewidth\":0,\"ticks\":\"\"}},\"type\":\"scatterpolargl\"}],\"scatterpolar\":[{\"marker\":{\"colorbar\":{\"outlinewidth\":0,\"ticks\":\"\"}},\"type\":\"scatterpolar\"}],\"scatter\":[{\"fillpattern\":{\"fillmode\":\"overlay\",\"size\":10,\"solidity\":0.2},\"type\":\"scatter\"}],\"scatterternary\":[{\"marker\":{\"colorbar\":{\"outlinewidth\":0,\"ticks\":\"\"}},\"type\":\"scatterternary\"}],\"surface\":[{\"colorbar\":{\"outlinewidth\":0,\"ticks\":\"\"},\"colorscale\":[[0.0,\"#0d0887\"],[0.1111111111111111,\"#46039f\"],[0.2222222222222222,\"#7201a8\"],[0.3333333333333333,\"#9c179e\"],[0.4444444444444444,\"#bd3786\"],[0.5555555555555556,\"#d8576b\"],[0.6666666666666666,\"#ed7953\"],[0.7777777777777778,\"#fb9f3a\"],[0.8888888888888888,\"#fdca26\"],[1.0,\"#f0f921\"]],\"type\":\"surface\"}],\"table\":[{\"cells\":{\"fill\":{\"color\":\"#EBF0F8\"},\"line\":{\"color\":\"white\"}},\"header\":{\"fill\":{\"color\":\"#C8D4E3\"},\"line\":{\"color\":\"white\"}},\"type\":\"table\"}]},\"layout\":{\"annotationdefaults\":{\"arrowcolor\":\"#2a3f5f\",\"arrowhead\":0,\"arrowwidth\":1},\"autotypenumbers\":\"strict\",\"coloraxis\":{\"colorbar\":{\"outlinewidth\":0,\"ticks\":\"\"}},\"colorscale\":{\"diverging\":[[0,\"#8e0152\"],[0.1,\"#c51b7d\"],[0.2,\"#de77ae\"],[0.3,\"#f1b6da\"],[0.4,\"#fde0ef\"],[0.5,\"#f7f7f7\"],[0.6,\"#e6f5d0\"],[0.7,\"#b8e186\"],[0.8,\"#7fbc41\"],[0.9,\"#4d9221\"],[1,\"#276419\"]],\"sequential\":[[0.0,\"#0d0887\"],[0.1111111111111111,\"#46039f\"],[0.2222222222222222,\"#7201a8\"],[0.3333333333333333,\"#9c179e\"],[0.4444444444444444,\"#bd3786\"],[0.5555555555555556,\"#d8576b\"],[0.6666666666666666,\"#ed7953\"],[0.7777777777777778,\"#fb9f3a\"],[0.8888888888888888,\"#fdca26\"],[1.0,\"#f0f921\"]],\"sequentialminus\":[[0.0,\"#0d0887\"],[0.1111111111111111,\"#46039f\"],[0.2222222222222222,\"#7201a8\"],[0.3333333333333333,\"#9c179e\"],[0.4444444444444444,\"#bd3786\"],[0.5555555555555556,\"#d8576b\"],[0.6666666666666666,\"#ed7953\"],[0.7777777777777778,\"#fb9f3a\"],[0.8888888888888888,\"#fdca26\"],[1.0,\"#f0f921\"]]},\"colorway\":[\"#636efa\",\"#EF553B\",\"#00cc96\",\"#ab63fa\",\"#FFA15A\",\"#19d3f3\",\"#FF6692\",\"#B6E880\",\"#FF97FF\",\"#FECB52\"],\"font\":{\"color\":\"#2a3f5f\"},\"geo\":{\"bgcolor\":\"white\",\"lakecolor\":\"white\",\"landcolor\":\"#E5ECF6\",\"showlakes\":true,\"showland\":true,\"subunitcolor\":\"white\"},\"hoverlabel\":{\"align\":\"left\"},\"hovermode\":\"closest\",\"mapbox\":{\"style\":\"light\"},\"paper_bgcolor\":\"white\",\"plot_bgcolor\":\"#E5ECF6\",\"polar\":{\"angularaxis\":{\"gridcolor\":\"white\",\"linecolor\":\"white\",\"ticks\":\"\"},\"bgcolor\":\"#E5ECF6\",\"radialaxis\":{\"gridcolor\":\"white\",\"linecolor\":\"white\",\"ticks\":\"\"}},\"scene\":{\"xaxis\":{\"backgroundcolor\":\"#E5ECF6\",\"gridcolor\":\"white\",\"gridwidth\":2,\"linecolor\":\"white\",\"showbackground\":true,\"ticks\":\"\",\"zerolinecolor\":\"white\"},\"yaxis\":{\"backgroundcolor\":\"#E5ECF6\",\"gridcolor\":\"white\",\"gridwidth\":2,\"linecolor\":\"white\",\"showbackground\":true,\"ticks\":\"\",\"zerolinecolor\":\"white\"},\"zaxis\":{\"backgroundcolor\":\"#E5ECF6\",\"gridcolor\":\"white\",\"gridwidth\":2,\"linecolor\":\"white\",\"showbackground\":true,\"ticks\":\"\",\"zerolinecolor\":\"white\"}},\"shapedefaults\":{\"line\":{\"color\":\"#2a3f5f\"}},\"ternary\":{\"aaxis\":{\"gridcolor\":\"white\",\"linecolor\":\"white\",\"ticks\":\"\"},\"baxis\":{\"gridcolor\":\"white\",\"linecolor\":\"white\",\"ticks\":\"\"},\"bgcolor\":\"#E5ECF6\",\"caxis\":{\"gridcolor\":\"white\",\"linecolor\":\"white\",\"ticks\":\"\"}},\"title\":{\"x\":0.05},\"xaxis\":{\"automargin\":true,\"gridcolor\":\"white\",\"linecolor\":\"white\",\"ticks\":\"\",\"title\":{\"standoff\":15},\"zerolinecolor\":\"white\",\"zerolinewidth\":2},\"yaxis\":{\"automargin\":true,\"gridcolor\":\"white\",\"linecolor\":\"white\",\"ticks\":\"\",\"title\":{\"standoff\":15},\"zerolinecolor\":\"white\",\"zerolinewidth\":2}}},\"title\":{\"font\":{\"color\":\"#4D5663\"}},\"xaxis\":{\"gridcolor\":\"#E1E5ED\",\"showgrid\":true,\"tickfont\":{\"color\":\"#4D5663\"},\"title\":{\"font\":{\"color\":\"#4D5663\"},\"text\":\"\"},\"zerolinecolor\":\"#E1E5ED\"},\"yaxis\":{\"gridcolor\":\"#E1E5ED\",\"showgrid\":true,\"tickfont\":{\"color\":\"#4D5663\"},\"title\":{\"font\":{\"color\":\"#4D5663\"},\"text\":\"\"},\"zerolinecolor\":\"#E1E5ED\"}},                        {\"showLink\": true, \"linkText\": \"Export to plot.ly\", \"plotlyServerURL\": \"https://plot.ly\", \"responsive\": true}                    ).then(function(){\n",
       "                            \n",
       "var gd = document.getElementById('50a294a9-832b-43fd-b763-768b6b283a6c');\n",
       "var x = new MutationObserver(function (mutations, observer) {{\n",
       "        var display = window.getComputedStyle(gd).display;\n",
       "        if (!display || display === 'none') {{\n",
       "            console.log([gd, 'removed!']);\n",
       "            Plotly.purge(gd);\n",
       "            observer.disconnect();\n",
       "        }}\n",
       "}});\n",
       "\n",
       "// Listen for the removal of the full notebook cells\n",
       "var notebookContainer = gd.closest('#notebook-container');\n",
       "if (notebookContainer) {{\n",
       "    x.observe(notebookContainer, {childList: true});\n",
       "}}\n",
       "\n",
       "// Listen for the clearing of the current output cell\n",
       "var outputEl = gd.closest('.output');\n",
       "if (outputEl) {{\n",
       "    x.observe(outputEl, {childList: true});\n",
       "}}\n",
       "\n",
       "                        })                };                });            </script>        </div>"
      ]
     },
     "metadata": {},
     "output_type": "display_data"
    }
   ],
   "source": [
    "df.count().iplot(kind='bar')"
   ]
  },
  {
   "cell_type": "markdown",
   "metadata": {},
   "source": [
    "## Boxplots"
   ]
  },
  {
   "cell_type": "code",
   "execution_count": 13,
   "metadata": {
    "collapsed": false
   },
   "outputs": [
    {
     "data": {
      "application/vnd.plotly.v1+json": {
       "config": {
        "linkText": "Export to plot.ly",
        "plotlyServerURL": "https://plot.ly",
        "showLink": true
       },
       "data": [
        {
         "boxpoints": false,
         "line": {
          "width": 1.3
         },
         "marker": {
          "color": "rgba(255, 153, 51, 1.0)"
         },
         "name": "A",
         "orientation": "v",
         "type": "box",
         "y": [
          0.10762388526296199,
          -0.7564418891284865,
          1.6126540986511892,
          0.7775682923362824,
          -0.5952959854744313,
          2.7165296870543663,
          -0.8418041837494875,
          0.4520263613717429,
          -1.1811618010748057,
          1.3017114072144773,
          1.3272738483408182,
          -1.2571625619582165,
          -1.5851832427856685,
          2.207114710090944,
          -0.9858571233790321,
          0.6254103733582416,
          1.1170542864569903,
          -0.5421854559616364,
          0.005037612594899869,
          -0.09960346946484637,
          -1.173575061482218,
          -0.7289483967404173,
          0.07800339985776875,
          -0.034754268614389135,
          -1.751240479785419,
          0.7717749524266126,
          0.08343341764260574,
          0.1986334309389733,
          -0.794258717921895,
          1.3437529637865553,
          1.1560148777149495,
          -0.34509571668566474,
          -0.0880157934620941,
          -0.5179391311478613,
          0.7021441294486146,
          0.05161627543106151,
          0.2209466178195064,
          -0.07138636983591397,
          -0.207924870196759,
          1.658956247192368,
          0.8846630544827088,
          0.6338655418849547,
          0.5243027738002651,
          0.4306726692742513,
          0.6543039138767474,
          0.6703944846780071,
          -0.45582041977913695,
          -1.5368390595450678,
          -0.43169265859801714,
          0.5775623520718516,
          0.7270362444133679,
          -0.9686402783675524,
          -0.7626460913795635,
          -0.007740911462933657,
          0.8426361921016096,
          -1.525063666185188,
          -1.4878236176538635,
          0.560411441799206,
          0.29484265879850674,
          -0.44354850857918005,
          -1.2369406866873534,
          -0.4408224576864079,
          0.42480069832885475,
          -0.7667741411620467,
          -0.700320783644171,
          1.6850601173535071,
          -0.06805298388497137,
          0.6400578864382191,
          -2.98067099973402,
          0.2247541322573582,
          -0.3052211289271923,
          -0.26910637193717996,
          -1.1397622939667247,
          1.5697320958149767,
          -1.6680788968914804,
          -0.4804863639728813,
          1.7012517997797407,
          -1.7312432770283541,
          1.0766473765396547,
          0.9987138864720232,
          -0.9536484947120728,
          -0.3166964888606845,
          -0.896993536707252,
          -1.7733819867210974,
          -0.39680350373954704,
          -0.46385931536628483,
          -0.17381558605655018,
          -0.861547502624248,
          0.5368907658398797,
          -0.38149470781202155,
          -0.04880061640656663,
          -0.9484946921437268,
          0.27269700979662254,
          0.213346612114495,
          -0.23502230780637598,
          -0.10578602471367916,
          0.8249413060109705,
          0.12317607400262938,
          0.1549693302015403,
          1.9405144461988928
         ]
        },
        {
         "boxpoints": false,
         "line": {
          "width": 1.3
         },
         "marker": {
          "color": "rgba(55, 128, 191, 1.0)"
         },
         "name": "B",
         "orientation": "v",
         "type": "box",
         "y": [
          -2.314890678163464,
          -0.30177437212597147,
          0.5499429699705268,
          -0.9526752027541245,
          1.5533303542681645,
          -0.5078252827169001,
          0.4028555741875542,
          -0.5774718509539073,
          -0.6811341105347527,
          0.0644489320205561,
          1.811506320652103,
          0.4778354701838685,
          0.05761873599105411,
          -0.7660180917968894,
          -0.383561855691717,
          -1.9708845566145123,
          0.1790104216355467,
          -0.26930717038848323,
          -0.5021951885006355,
          0.2526883247094073,
          -1.6581072814366244,
          -0.9829489286671428,
          0.3110804762010143,
          1.7189715803691583,
          0.20830928060301285,
          -0.729721483323263,
          -0.6472670362627534,
          0.3308526113256317,
          -1.2576301538162142,
          0.8578593551258539,
          0.1531917677976979,
          -1.4114793851091527,
          -0.7115824294309413,
          -0.650709281596651,
          -0.1797312135856715,
          -0.11129089263187959,
          0.8212644920402455,
          1.436643439487427,
          0.13506679470142205,
          -1.8462888693119657,
          3.203862495207228,
          0.5752222157505211,
          -0.28073796158962405,
          -0.8701286346240297,
          -1.8053420321718303,
          -1.8486942668584059,
          -0.5068460253551225,
          0.4987691045688844,
          -0.29005597513570286,
          0.9466939194327922,
          -0.6089183281809548,
          1.1417672338470617,
          -1.088662793594401,
          0.3643038000710208,
          -0.17898847966887502,
          -0.3451979256630047,
          0.8251441391588759,
          0.16051005723422476,
          -0.44254706983371356,
          -1.2568846638341369,
          0.5454228020711138,
          1.9552256234010204,
          -0.6337597480361455,
          0.26811263823655834,
          -0.12564519258363752,
          -0.004471482700457042,
          0.5984273818105452,
          -0.330062734246072,
          -2.2387209249844617,
          -1.8689651177427342,
          -1.110306320474275,
          0.7316123635486081,
          1.7097634472311631,
          -0.9646968649446509,
          1.607143723636374,
          -1.1133374146289832,
          0.3675698426196052,
          -1.47843347031786,
          -0.824001464782571,
          1.290645718979975,
          -0.3210143193836279,
          1.0794651265744086,
          0.11045871143526716,
          0.380385812050898,
          0.27005574992279774,
          -0.2113174148967174,
          -1.1717258088038764,
          -0.17229510893765648,
          0.9314307265527947,
          -0.387760509132024,
          -0.35271724025565754,
          -0.8488360226083353,
          -1.025655885301656,
          0.26384085787714573,
          1.8120787607099624,
          0.9100289597930974,
          0.12666333933874754,
          0.11588791987941716,
          -1.9145334684976296,
          1.5043947128368997
         ]
        },
        {
         "boxpoints": false,
         "line": {
          "width": 1.3
         },
         "marker": {
          "color": "rgba(50, 171, 96, 1.0)"
         },
         "name": "C",
         "orientation": "v",
         "type": "box",
         "y": [
          0.659062814123277,
          1.5684267703572246,
          0.05166116754989549,
          0.46424658709960276,
          0.4050267213964662,
          2.0513283440009213,
          0.15750168343706802,
          -1.2329616702978836,
          0.5468719624032921,
          0.4416206439542919,
          -0.19645572330201946,
          -0.522753499684,
          -0.28937813933244405,
          1.1569261054775832,
          0.2569883333209594,
          0.2220818014438884,
          0.9165207932446514,
          -1.143328182878145,
          1.4209775300608973,
          -0.6012633718532,
          -0.48611314848006837,
          -0.8796448245996384,
          -1.3444120569513685,
          0.4143508605018087,
          -0.5823443413856135,
          -0.2044878046225266,
          -0.7264987790673539,
          0.9444323657861515,
          -2.4554935073322084,
          0.3798461265137401,
          -1.2225752495033184,
          0.09793376438513397,
          0.35257145224202996,
          -1.035542480908029,
          0.42945250978354016,
          -1.2326425021376675,
          0.1993267694995079,
          3.21372178644483,
          -1.1317301474085883,
          0.12085425455187246,
          1.1500923110299464,
          0.617484558430184,
          -1.2399772087696725,
          0.023010425110181525,
          1.415054263505035,
          0.7571069872113684,
          0.5613023690551945,
          0.22974122208954417,
          -0.6962210502279587,
          -0.40616915166043815,
          2.7410444523894473,
          1.0826517837633405,
          0.8823904705286962,
          0.08569291305464524,
          1.1113534788639665,
          -0.0915372683949695,
          -1.0215343669866888,
          -0.9394341034505724,
          0.4982691287074044,
          -0.3588624149024244,
          -1.1314248780811467,
          0.8254307475119398,
          0.6451356387380806,
          0.13217533667654016,
          -0.2704089866434351,
          0.3629990732169382,
          0.1633434676493273,
          -1.0570817420017171,
          -1.3529533392728874,
          -0.18267517728312124,
          -0.4683112176250565,
          0.7707081821810905,
          -0.7660753684229836,
          0.22553479481983998,
          -0.06091220606052293,
          0.47461198687766865,
          -0.32251182807487,
          1.2487471371610814,
          -1.390360852402884,
          -0.6526355233986028,
          -1.0971539355141071,
          -0.4557383313076427,
          -1.1381957884531135,
          -0.7889075195025212,
          1.2072943416083557,
          -1.9847888053087293,
          0.5650817298590286,
          -0.28213575609956015,
          1.2981720046455998,
          1.42998960193017,
          0.5067691772062698,
          1.0041224521924397,
          -1.6626838024333388,
          -1.5773173585756795,
          0.4476668577684265,
          3.488402897257025,
          0.34940914337165174,
          -0.3227581348436228,
          0.5708815815411163,
          -0.4215012284826513
         ]
        },
        {
         "boxpoints": false,
         "line": {
          "width": 1.3
         },
         "marker": {
          "color": "rgba(128, 0, 128, 1.0)"
         },
         "name": "D",
         "orientation": "v",
         "type": "box",
         "y": [
          0.8399191798078127,
          -0.63613390094695,
          -0.6944267984119925,
          -0.16675655325343755,
          -0.6937286430279299,
          -0.6383933164652055,
          1.1838273421110919,
          0.8632458637605457,
          -2.4516200133467154,
          -0.6602935677065107,
          -0.5874492075325497,
          0.4489119378994047,
          0.17187108257270475,
          0.1005341681036597,
          1.0344491025576719,
          2.290733801957848,
          -2.6916747786740514,
          -1.0333249903820707,
          -0.28714038600110514,
          0.2151524479664407,
          -0.522330248044562,
          0.1460967975588475,
          -2.095354632496688,
          0.85300691028129,
          0.32218022167716703,
          0.6611188916737772,
          0.219235674187028,
          0.6043626270171994,
          -0.5438815110570238,
          -0.7867836688902382,
          -0.25254881660967504,
          -1.5437911531037813,
          -1.6282974051807124,
          -1.1702586742488221,
          -0.9637666275652607,
          0.7723413917401876,
          0.7038889240751445,
          -0.38785006405429523,
          2.4265069934883408,
          -0.015921305419591723,
          0.8621043683969853,
          0.035899320952788416,
          2.031734815832546,
          -0.08098571602998135,
          -0.7840014032171135,
          -1.0709852710850423,
          -1.8652551205239034,
          -1.0276108653166263,
          1.2840941764181228,
          1.0206444603407554,
          1.739851001966569,
          0.08703164224434952,
          -1.4892129630743196,
          -0.4671250530447547,
          0.8725253114037612,
          0.588163926968566,
          -1.2486585866449216,
          -0.7070050812333557,
          0.5235491861515154,
          1.5620810028531162,
          -0.06908401748320098,
          -0.4990292166845264,
          -1.062643465222129,
          2.0822509410822283,
          0.9928278924066326,
          -0.9652404737144156,
          0.280586945441175,
          0.7035157556270332,
          -1.1136901925402503,
          -1.3264639273382348,
          0.039743349401929536,
          1.0370694338987092,
          0.32534663217337756,
          -0.7106130799040847,
          -0.2127939105775505,
          -1.0119043204034097,
          0.7242887254965652,
          -0.20146537838860515,
          1.6360298709824186,
          1.666755550941301,
          0.44747132992870225,
          0.4554476841226329,
          0.8719859144802454,
          -0.38477249829957627,
          0.17703395334653876,
          -0.5275512900512666,
          1.2214633912240875,
          -0.9564945519115773,
          2.0123352038174613,
          -0.727155236871999,
          0.7309473294394849,
          -0.11855236572483953,
          -0.4100704251237475,
          1.6969969830770206,
          0.5558336307222187,
          0.40568516385858794,
          -1.4660740655556281,
          0.26765095807405315,
          -0.8985948023209357,
          -2.071210861648605
         ]
        }
       ],
       "layout": {
        "legend": {
         "bgcolor": "#F5F6F9",
         "font": {
          "color": "#4D5663"
         }
        },
        "paper_bgcolor": "#F5F6F9",
        "plot_bgcolor": "#F5F6F9",
        "template": {
         "data": {
          "bar": [
           {
            "error_x": {
             "color": "#2a3f5f"
            },
            "error_y": {
             "color": "#2a3f5f"
            },
            "marker": {
             "line": {
              "color": "#E5ECF6",
              "width": 0.5
             },
             "pattern": {
              "fillmode": "overlay",
              "size": 10,
              "solidity": 0.2
             }
            },
            "type": "bar"
           }
          ],
          "barpolar": [
           {
            "marker": {
             "line": {
              "color": "#E5ECF6",
              "width": 0.5
             },
             "pattern": {
              "fillmode": "overlay",
              "size": 10,
              "solidity": 0.2
             }
            },
            "type": "barpolar"
           }
          ],
          "carpet": [
           {
            "aaxis": {
             "endlinecolor": "#2a3f5f",
             "gridcolor": "white",
             "linecolor": "white",
             "minorgridcolor": "white",
             "startlinecolor": "#2a3f5f"
            },
            "baxis": {
             "endlinecolor": "#2a3f5f",
             "gridcolor": "white",
             "linecolor": "white",
             "minorgridcolor": "white",
             "startlinecolor": "#2a3f5f"
            },
            "type": "carpet"
           }
          ],
          "choropleth": [
           {
            "colorbar": {
             "outlinewidth": 0,
             "ticks": ""
            },
            "type": "choropleth"
           }
          ],
          "contour": [
           {
            "colorbar": {
             "outlinewidth": 0,
             "ticks": ""
            },
            "colorscale": [
             [
              0,
              "#0d0887"
             ],
             [
              0.1111111111111111,
              "#46039f"
             ],
             [
              0.2222222222222222,
              "#7201a8"
             ],
             [
              0.3333333333333333,
              "#9c179e"
             ],
             [
              0.4444444444444444,
              "#bd3786"
             ],
             [
              0.5555555555555556,
              "#d8576b"
             ],
             [
              0.6666666666666666,
              "#ed7953"
             ],
             [
              0.7777777777777778,
              "#fb9f3a"
             ],
             [
              0.8888888888888888,
              "#fdca26"
             ],
             [
              1,
              "#f0f921"
             ]
            ],
            "type": "contour"
           }
          ],
          "contourcarpet": [
           {
            "colorbar": {
             "outlinewidth": 0,
             "ticks": ""
            },
            "type": "contourcarpet"
           }
          ],
          "heatmap": [
           {
            "colorbar": {
             "outlinewidth": 0,
             "ticks": ""
            },
            "colorscale": [
             [
              0,
              "#0d0887"
             ],
             [
              0.1111111111111111,
              "#46039f"
             ],
             [
              0.2222222222222222,
              "#7201a8"
             ],
             [
              0.3333333333333333,
              "#9c179e"
             ],
             [
              0.4444444444444444,
              "#bd3786"
             ],
             [
              0.5555555555555556,
              "#d8576b"
             ],
             [
              0.6666666666666666,
              "#ed7953"
             ],
             [
              0.7777777777777778,
              "#fb9f3a"
             ],
             [
              0.8888888888888888,
              "#fdca26"
             ],
             [
              1,
              "#f0f921"
             ]
            ],
            "type": "heatmap"
           }
          ],
          "heatmapgl": [
           {
            "colorbar": {
             "outlinewidth": 0,
             "ticks": ""
            },
            "colorscale": [
             [
              0,
              "#0d0887"
             ],
             [
              0.1111111111111111,
              "#46039f"
             ],
             [
              0.2222222222222222,
              "#7201a8"
             ],
             [
              0.3333333333333333,
              "#9c179e"
             ],
             [
              0.4444444444444444,
              "#bd3786"
             ],
             [
              0.5555555555555556,
              "#d8576b"
             ],
             [
              0.6666666666666666,
              "#ed7953"
             ],
             [
              0.7777777777777778,
              "#fb9f3a"
             ],
             [
              0.8888888888888888,
              "#fdca26"
             ],
             [
              1,
              "#f0f921"
             ]
            ],
            "type": "heatmapgl"
           }
          ],
          "histogram": [
           {
            "marker": {
             "pattern": {
              "fillmode": "overlay",
              "size": 10,
              "solidity": 0.2
             }
            },
            "type": "histogram"
           }
          ],
          "histogram2d": [
           {
            "colorbar": {
             "outlinewidth": 0,
             "ticks": ""
            },
            "colorscale": [
             [
              0,
              "#0d0887"
             ],
             [
              0.1111111111111111,
              "#46039f"
             ],
             [
              0.2222222222222222,
              "#7201a8"
             ],
             [
              0.3333333333333333,
              "#9c179e"
             ],
             [
              0.4444444444444444,
              "#bd3786"
             ],
             [
              0.5555555555555556,
              "#d8576b"
             ],
             [
              0.6666666666666666,
              "#ed7953"
             ],
             [
              0.7777777777777778,
              "#fb9f3a"
             ],
             [
              0.8888888888888888,
              "#fdca26"
             ],
             [
              1,
              "#f0f921"
             ]
            ],
            "type": "histogram2d"
           }
          ],
          "histogram2dcontour": [
           {
            "colorbar": {
             "outlinewidth": 0,
             "ticks": ""
            },
            "colorscale": [
             [
              0,
              "#0d0887"
             ],
             [
              0.1111111111111111,
              "#46039f"
             ],
             [
              0.2222222222222222,
              "#7201a8"
             ],
             [
              0.3333333333333333,
              "#9c179e"
             ],
             [
              0.4444444444444444,
              "#bd3786"
             ],
             [
              0.5555555555555556,
              "#d8576b"
             ],
             [
              0.6666666666666666,
              "#ed7953"
             ],
             [
              0.7777777777777778,
              "#fb9f3a"
             ],
             [
              0.8888888888888888,
              "#fdca26"
             ],
             [
              1,
              "#f0f921"
             ]
            ],
            "type": "histogram2dcontour"
           }
          ],
          "mesh3d": [
           {
            "colorbar": {
             "outlinewidth": 0,
             "ticks": ""
            },
            "type": "mesh3d"
           }
          ],
          "parcoords": [
           {
            "line": {
             "colorbar": {
              "outlinewidth": 0,
              "ticks": ""
             }
            },
            "type": "parcoords"
           }
          ],
          "pie": [
           {
            "automargin": true,
            "type": "pie"
           }
          ],
          "scatter": [
           {
            "fillpattern": {
             "fillmode": "overlay",
             "size": 10,
             "solidity": 0.2
            },
            "type": "scatter"
           }
          ],
          "scatter3d": [
           {
            "line": {
             "colorbar": {
              "outlinewidth": 0,
              "ticks": ""
             }
            },
            "marker": {
             "colorbar": {
              "outlinewidth": 0,
              "ticks": ""
             }
            },
            "type": "scatter3d"
           }
          ],
          "scattercarpet": [
           {
            "marker": {
             "colorbar": {
              "outlinewidth": 0,
              "ticks": ""
             }
            },
            "type": "scattercarpet"
           }
          ],
          "scattergeo": [
           {
            "marker": {
             "colorbar": {
              "outlinewidth": 0,
              "ticks": ""
             }
            },
            "type": "scattergeo"
           }
          ],
          "scattergl": [
           {
            "marker": {
             "colorbar": {
              "outlinewidth": 0,
              "ticks": ""
             }
            },
            "type": "scattergl"
           }
          ],
          "scattermapbox": [
           {
            "marker": {
             "colorbar": {
              "outlinewidth": 0,
              "ticks": ""
             }
            },
            "type": "scattermapbox"
           }
          ],
          "scatterpolar": [
           {
            "marker": {
             "colorbar": {
              "outlinewidth": 0,
              "ticks": ""
             }
            },
            "type": "scatterpolar"
           }
          ],
          "scatterpolargl": [
           {
            "marker": {
             "colorbar": {
              "outlinewidth": 0,
              "ticks": ""
             }
            },
            "type": "scatterpolargl"
           }
          ],
          "scatterternary": [
           {
            "marker": {
             "colorbar": {
              "outlinewidth": 0,
              "ticks": ""
             }
            },
            "type": "scatterternary"
           }
          ],
          "surface": [
           {
            "colorbar": {
             "outlinewidth": 0,
             "ticks": ""
            },
            "colorscale": [
             [
              0,
              "#0d0887"
             ],
             [
              0.1111111111111111,
              "#46039f"
             ],
             [
              0.2222222222222222,
              "#7201a8"
             ],
             [
              0.3333333333333333,
              "#9c179e"
             ],
             [
              0.4444444444444444,
              "#bd3786"
             ],
             [
              0.5555555555555556,
              "#d8576b"
             ],
             [
              0.6666666666666666,
              "#ed7953"
             ],
             [
              0.7777777777777778,
              "#fb9f3a"
             ],
             [
              0.8888888888888888,
              "#fdca26"
             ],
             [
              1,
              "#f0f921"
             ]
            ],
            "type": "surface"
           }
          ],
          "table": [
           {
            "cells": {
             "fill": {
              "color": "#EBF0F8"
             },
             "line": {
              "color": "white"
             }
            },
            "header": {
             "fill": {
              "color": "#C8D4E3"
             },
             "line": {
              "color": "white"
             }
            },
            "type": "table"
           }
          ]
         },
         "layout": {
          "annotationdefaults": {
           "arrowcolor": "#2a3f5f",
           "arrowhead": 0,
           "arrowwidth": 1
          },
          "autotypenumbers": "strict",
          "coloraxis": {
           "colorbar": {
            "outlinewidth": 0,
            "ticks": ""
           }
          },
          "colorscale": {
           "diverging": [
            [
             0,
             "#8e0152"
            ],
            [
             0.1,
             "#c51b7d"
            ],
            [
             0.2,
             "#de77ae"
            ],
            [
             0.3,
             "#f1b6da"
            ],
            [
             0.4,
             "#fde0ef"
            ],
            [
             0.5,
             "#f7f7f7"
            ],
            [
             0.6,
             "#e6f5d0"
            ],
            [
             0.7,
             "#b8e186"
            ],
            [
             0.8,
             "#7fbc41"
            ],
            [
             0.9,
             "#4d9221"
            ],
            [
             1,
             "#276419"
            ]
           ],
           "sequential": [
            [
             0,
             "#0d0887"
            ],
            [
             0.1111111111111111,
             "#46039f"
            ],
            [
             0.2222222222222222,
             "#7201a8"
            ],
            [
             0.3333333333333333,
             "#9c179e"
            ],
            [
             0.4444444444444444,
             "#bd3786"
            ],
            [
             0.5555555555555556,
             "#d8576b"
            ],
            [
             0.6666666666666666,
             "#ed7953"
            ],
            [
             0.7777777777777778,
             "#fb9f3a"
            ],
            [
             0.8888888888888888,
             "#fdca26"
            ],
            [
             1,
             "#f0f921"
            ]
           ],
           "sequentialminus": [
            [
             0,
             "#0d0887"
            ],
            [
             0.1111111111111111,
             "#46039f"
            ],
            [
             0.2222222222222222,
             "#7201a8"
            ],
            [
             0.3333333333333333,
             "#9c179e"
            ],
            [
             0.4444444444444444,
             "#bd3786"
            ],
            [
             0.5555555555555556,
             "#d8576b"
            ],
            [
             0.6666666666666666,
             "#ed7953"
            ],
            [
             0.7777777777777778,
             "#fb9f3a"
            ],
            [
             0.8888888888888888,
             "#fdca26"
            ],
            [
             1,
             "#f0f921"
            ]
           ]
          },
          "colorway": [
           "#636efa",
           "#EF553B",
           "#00cc96",
           "#ab63fa",
           "#FFA15A",
           "#19d3f3",
           "#FF6692",
           "#B6E880",
           "#FF97FF",
           "#FECB52"
          ],
          "font": {
           "color": "#2a3f5f"
          },
          "geo": {
           "bgcolor": "white",
           "lakecolor": "white",
           "landcolor": "#E5ECF6",
           "showlakes": true,
           "showland": true,
           "subunitcolor": "white"
          },
          "hoverlabel": {
           "align": "left"
          },
          "hovermode": "closest",
          "mapbox": {
           "style": "light"
          },
          "paper_bgcolor": "white",
          "plot_bgcolor": "#E5ECF6",
          "polar": {
           "angularaxis": {
            "gridcolor": "white",
            "linecolor": "white",
            "ticks": ""
           },
           "bgcolor": "#E5ECF6",
           "radialaxis": {
            "gridcolor": "white",
            "linecolor": "white",
            "ticks": ""
           }
          },
          "scene": {
           "xaxis": {
            "backgroundcolor": "#E5ECF6",
            "gridcolor": "white",
            "gridwidth": 2,
            "linecolor": "white",
            "showbackground": true,
            "ticks": "",
            "zerolinecolor": "white"
           },
           "yaxis": {
            "backgroundcolor": "#E5ECF6",
            "gridcolor": "white",
            "gridwidth": 2,
            "linecolor": "white",
            "showbackground": true,
            "ticks": "",
            "zerolinecolor": "white"
           },
           "zaxis": {
            "backgroundcolor": "#E5ECF6",
            "gridcolor": "white",
            "gridwidth": 2,
            "linecolor": "white",
            "showbackground": true,
            "ticks": "",
            "zerolinecolor": "white"
           }
          },
          "shapedefaults": {
           "line": {
            "color": "#2a3f5f"
           }
          },
          "ternary": {
           "aaxis": {
            "gridcolor": "white",
            "linecolor": "white",
            "ticks": ""
           },
           "baxis": {
            "gridcolor": "white",
            "linecolor": "white",
            "ticks": ""
           },
           "bgcolor": "#E5ECF6",
           "caxis": {
            "gridcolor": "white",
            "linecolor": "white",
            "ticks": ""
           }
          },
          "title": {
           "x": 0.05
          },
          "xaxis": {
           "automargin": true,
           "gridcolor": "white",
           "linecolor": "white",
           "ticks": "",
           "title": {
            "standoff": 15
           },
           "zerolinecolor": "white",
           "zerolinewidth": 2
          },
          "yaxis": {
           "automargin": true,
           "gridcolor": "white",
           "linecolor": "white",
           "ticks": "",
           "title": {
            "standoff": 15
           },
           "zerolinecolor": "white",
           "zerolinewidth": 2
          }
         }
        },
        "title": {
         "font": {
          "color": "#4D5663"
         }
        },
        "xaxis": {
         "gridcolor": "#E1E5ED",
         "showgrid": true,
         "tickfont": {
          "color": "#4D5663"
         },
         "title": {
          "font": {
           "color": "#4D5663"
          },
          "text": ""
         },
         "zerolinecolor": "#E1E5ED"
        },
        "yaxis": {
         "gridcolor": "#E1E5ED",
         "showgrid": true,
         "tickfont": {
          "color": "#4D5663"
         },
         "title": {
          "font": {
           "color": "#4D5663"
          },
          "text": ""
         },
         "zerolinecolor": "#E1E5ED"
        }
       }
      },
      "text/html": [
       "<div>                            <div id=\"aea82444-78f2-4228-af82-48ec1010cc49\" class=\"plotly-graph-div\" style=\"height:525px; width:100%;\"></div>            <script type=\"text/javascript\">                require([\"plotly\"], function(Plotly) {                    window.PLOTLYENV=window.PLOTLYENV || {};\n",
       "                    window.PLOTLYENV.BASE_URL='https://plot.ly';                                    if (document.getElementById(\"aea82444-78f2-4228-af82-48ec1010cc49\")) {                    Plotly.newPlot(                        \"aea82444-78f2-4228-af82-48ec1010cc49\",                        [{\"boxpoints\":false,\"line\":{\"width\":1.3},\"marker\":{\"color\":\"rgba(255, 153, 51, 1.0)\"},\"name\":\"A\",\"orientation\":\"v\",\"y\":[0.10762388526296199,-0.7564418891284865,1.6126540986511892,0.7775682923362824,-0.5952959854744313,2.7165296870543663,-0.8418041837494875,0.4520263613717429,-1.1811618010748057,1.3017114072144773,1.3272738483408182,-1.2571625619582165,-1.5851832427856685,2.207114710090944,-0.9858571233790321,0.6254103733582416,1.1170542864569903,-0.5421854559616364,0.005037612594899869,-0.09960346946484637,-1.173575061482218,-0.7289483967404173,0.07800339985776875,-0.034754268614389135,-1.751240479785419,0.7717749524266126,0.08343341764260574,0.1986334309389733,-0.794258717921895,1.3437529637865553,1.1560148777149495,-0.34509571668566474,-0.0880157934620941,-0.5179391311478613,0.7021441294486146,0.05161627543106151,0.2209466178195064,-0.07138636983591397,-0.207924870196759,1.658956247192368,0.8846630544827088,0.6338655418849547,0.5243027738002651,0.4306726692742513,0.6543039138767474,0.6703944846780071,-0.45582041977913695,-1.5368390595450678,-0.43169265859801714,0.5775623520718516,0.7270362444133679,-0.9686402783675524,-0.7626460913795635,-0.007740911462933657,0.8426361921016096,-1.525063666185188,-1.4878236176538635,0.560411441799206,0.29484265879850674,-0.44354850857918005,-1.2369406866873534,-0.4408224576864079,0.42480069832885475,-0.7667741411620467,-0.700320783644171,1.6850601173535071,-0.06805298388497137,0.6400578864382191,-2.98067099973402,0.2247541322573582,-0.3052211289271923,-0.26910637193717996,-1.1397622939667247,1.5697320958149767,-1.6680788968914804,-0.4804863639728813,1.7012517997797407,-1.7312432770283541,1.0766473765396547,0.9987138864720232,-0.9536484947120728,-0.3166964888606845,-0.896993536707252,-1.7733819867210974,-0.39680350373954704,-0.46385931536628483,-0.17381558605655018,-0.861547502624248,0.5368907658398797,-0.38149470781202155,-0.04880061640656663,-0.9484946921437268,0.27269700979662254,0.213346612114495,-0.23502230780637598,-0.10578602471367916,0.8249413060109705,0.12317607400262938,0.1549693302015403,1.9405144461988928],\"type\":\"box\"},{\"boxpoints\":false,\"line\":{\"width\":1.3},\"marker\":{\"color\":\"rgba(55, 128, 191, 1.0)\"},\"name\":\"B\",\"orientation\":\"v\",\"y\":[-2.314890678163464,-0.30177437212597147,0.5499429699705268,-0.9526752027541245,1.5533303542681645,-0.5078252827169001,0.4028555741875542,-0.5774718509539073,-0.6811341105347527,0.0644489320205561,1.811506320652103,0.4778354701838685,0.05761873599105411,-0.7660180917968894,-0.383561855691717,-1.9708845566145123,0.1790104216355467,-0.26930717038848323,-0.5021951885006355,0.2526883247094073,-1.6581072814366244,-0.9829489286671428,0.3110804762010143,1.7189715803691583,0.20830928060301285,-0.729721483323263,-0.6472670362627534,0.3308526113256317,-1.2576301538162142,0.8578593551258539,0.1531917677976979,-1.4114793851091527,-0.7115824294309413,-0.650709281596651,-0.1797312135856715,-0.11129089263187959,0.8212644920402455,1.436643439487427,0.13506679470142205,-1.8462888693119657,3.203862495207228,0.5752222157505211,-0.28073796158962405,-0.8701286346240297,-1.8053420321718303,-1.8486942668584059,-0.5068460253551225,0.4987691045688844,-0.29005597513570286,0.9466939194327922,-0.6089183281809548,1.1417672338470617,-1.088662793594401,0.3643038000710208,-0.17898847966887502,-0.3451979256630047,0.8251441391588759,0.16051005723422476,-0.44254706983371356,-1.2568846638341369,0.5454228020711138,1.9552256234010204,-0.6337597480361455,0.26811263823655834,-0.12564519258363752,-0.004471482700457042,0.5984273818105452,-0.330062734246072,-2.2387209249844617,-1.8689651177427342,-1.110306320474275,0.7316123635486081,1.7097634472311631,-0.9646968649446509,1.607143723636374,-1.1133374146289832,0.3675698426196052,-1.47843347031786,-0.824001464782571,1.290645718979975,-0.3210143193836279,1.0794651265744086,0.11045871143526716,0.380385812050898,0.27005574992279774,-0.2113174148967174,-1.1717258088038764,-0.17229510893765648,0.9314307265527947,-0.387760509132024,-0.35271724025565754,-0.8488360226083353,-1.025655885301656,0.26384085787714573,1.8120787607099624,0.9100289597930974,0.12666333933874754,0.11588791987941716,-1.9145334684976296,1.5043947128368997],\"type\":\"box\"},{\"boxpoints\":false,\"line\":{\"width\":1.3},\"marker\":{\"color\":\"rgba(50, 171, 96, 1.0)\"},\"name\":\"C\",\"orientation\":\"v\",\"y\":[0.659062814123277,1.5684267703572246,0.05166116754989549,0.46424658709960276,0.4050267213964662,2.0513283440009213,0.15750168343706802,-1.2329616702978836,0.5468719624032921,0.4416206439542919,-0.19645572330201946,-0.522753499684,-0.28937813933244405,1.1569261054775832,0.2569883333209594,0.2220818014438884,0.9165207932446514,-1.143328182878145,1.4209775300608973,-0.6012633718532,-0.48611314848006837,-0.8796448245996384,-1.3444120569513685,0.4143508605018087,-0.5823443413856135,-0.2044878046225266,-0.7264987790673539,0.9444323657861515,-2.4554935073322084,0.3798461265137401,-1.2225752495033184,0.09793376438513397,0.35257145224202996,-1.035542480908029,0.42945250978354016,-1.2326425021376675,0.1993267694995079,3.21372178644483,-1.1317301474085883,0.12085425455187246,1.1500923110299464,0.617484558430184,-1.2399772087696725,0.023010425110181525,1.415054263505035,0.7571069872113684,0.5613023690551945,0.22974122208954417,-0.6962210502279587,-0.40616915166043815,2.7410444523894473,1.0826517837633405,0.8823904705286962,0.08569291305464524,1.1113534788639665,-0.0915372683949695,-1.0215343669866888,-0.9394341034505724,0.4982691287074044,-0.3588624149024244,-1.1314248780811467,0.8254307475119398,0.6451356387380806,0.13217533667654016,-0.2704089866434351,0.3629990732169382,0.1633434676493273,-1.0570817420017171,-1.3529533392728874,-0.18267517728312124,-0.4683112176250565,0.7707081821810905,-0.7660753684229836,0.22553479481983998,-0.06091220606052293,0.47461198687766865,-0.32251182807487,1.2487471371610814,-1.390360852402884,-0.6526355233986028,-1.0971539355141071,-0.4557383313076427,-1.1381957884531135,-0.7889075195025212,1.2072943416083557,-1.9847888053087293,0.5650817298590286,-0.28213575609956015,1.2981720046455998,1.42998960193017,0.5067691772062698,1.0041224521924397,-1.6626838024333388,-1.5773173585756795,0.4476668577684265,3.488402897257025,0.34940914337165174,-0.3227581348436228,0.5708815815411163,-0.4215012284826513],\"type\":\"box\"},{\"boxpoints\":false,\"line\":{\"width\":1.3},\"marker\":{\"color\":\"rgba(128, 0, 128, 1.0)\"},\"name\":\"D\",\"orientation\":\"v\",\"y\":[0.8399191798078127,-0.63613390094695,-0.6944267984119925,-0.16675655325343755,-0.6937286430279299,-0.6383933164652055,1.1838273421110919,0.8632458637605457,-2.4516200133467154,-0.6602935677065107,-0.5874492075325497,0.4489119378994047,0.17187108257270475,0.1005341681036597,1.0344491025576719,2.290733801957848,-2.6916747786740514,-1.0333249903820707,-0.28714038600110514,0.2151524479664407,-0.522330248044562,0.1460967975588475,-2.095354632496688,0.85300691028129,0.32218022167716703,0.6611188916737772,0.219235674187028,0.6043626270171994,-0.5438815110570238,-0.7867836688902382,-0.25254881660967504,-1.5437911531037813,-1.6282974051807124,-1.1702586742488221,-0.9637666275652607,0.7723413917401876,0.7038889240751445,-0.38785006405429523,2.4265069934883408,-0.015921305419591723,0.8621043683969853,0.035899320952788416,2.031734815832546,-0.08098571602998135,-0.7840014032171135,-1.0709852710850423,-1.8652551205239034,-1.0276108653166263,1.2840941764181228,1.0206444603407554,1.739851001966569,0.08703164224434952,-1.4892129630743196,-0.4671250530447547,0.8725253114037612,0.588163926968566,-1.2486585866449216,-0.7070050812333557,0.5235491861515154,1.5620810028531162,-0.06908401748320098,-0.4990292166845264,-1.062643465222129,2.0822509410822283,0.9928278924066326,-0.9652404737144156,0.280586945441175,0.7035157556270332,-1.1136901925402503,-1.3264639273382348,0.039743349401929536,1.0370694338987092,0.32534663217337756,-0.7106130799040847,-0.2127939105775505,-1.0119043204034097,0.7242887254965652,-0.20146537838860515,1.6360298709824186,1.666755550941301,0.44747132992870225,0.4554476841226329,0.8719859144802454,-0.38477249829957627,0.17703395334653876,-0.5275512900512666,1.2214633912240875,-0.9564945519115773,2.0123352038174613,-0.727155236871999,0.7309473294394849,-0.11855236572483953,-0.4100704251237475,1.6969969830770206,0.5558336307222187,0.40568516385858794,-1.4660740655556281,0.26765095807405315,-0.8985948023209357,-2.071210861648605],\"type\":\"box\"}],                        {\"legend\":{\"bgcolor\":\"#F5F6F9\",\"font\":{\"color\":\"#4D5663\"}},\"paper_bgcolor\":\"#F5F6F9\",\"plot_bgcolor\":\"#F5F6F9\",\"template\":{\"data\":{\"barpolar\":[{\"marker\":{\"line\":{\"color\":\"#E5ECF6\",\"width\":0.5},\"pattern\":{\"fillmode\":\"overlay\",\"size\":10,\"solidity\":0.2}},\"type\":\"barpolar\"}],\"bar\":[{\"error_x\":{\"color\":\"#2a3f5f\"},\"error_y\":{\"color\":\"#2a3f5f\"},\"marker\":{\"line\":{\"color\":\"#E5ECF6\",\"width\":0.5},\"pattern\":{\"fillmode\":\"overlay\",\"size\":10,\"solidity\":0.2}},\"type\":\"bar\"}],\"carpet\":[{\"aaxis\":{\"endlinecolor\":\"#2a3f5f\",\"gridcolor\":\"white\",\"linecolor\":\"white\",\"minorgridcolor\":\"white\",\"startlinecolor\":\"#2a3f5f\"},\"baxis\":{\"endlinecolor\":\"#2a3f5f\",\"gridcolor\":\"white\",\"linecolor\":\"white\",\"minorgridcolor\":\"white\",\"startlinecolor\":\"#2a3f5f\"},\"type\":\"carpet\"}],\"choropleth\":[{\"colorbar\":{\"outlinewidth\":0,\"ticks\":\"\"},\"type\":\"choropleth\"}],\"contourcarpet\":[{\"colorbar\":{\"outlinewidth\":0,\"ticks\":\"\"},\"type\":\"contourcarpet\"}],\"contour\":[{\"colorbar\":{\"outlinewidth\":0,\"ticks\":\"\"},\"colorscale\":[[0.0,\"#0d0887\"],[0.1111111111111111,\"#46039f\"],[0.2222222222222222,\"#7201a8\"],[0.3333333333333333,\"#9c179e\"],[0.4444444444444444,\"#bd3786\"],[0.5555555555555556,\"#d8576b\"],[0.6666666666666666,\"#ed7953\"],[0.7777777777777778,\"#fb9f3a\"],[0.8888888888888888,\"#fdca26\"],[1.0,\"#f0f921\"]],\"type\":\"contour\"}],\"heatmapgl\":[{\"colorbar\":{\"outlinewidth\":0,\"ticks\":\"\"},\"colorscale\":[[0.0,\"#0d0887\"],[0.1111111111111111,\"#46039f\"],[0.2222222222222222,\"#7201a8\"],[0.3333333333333333,\"#9c179e\"],[0.4444444444444444,\"#bd3786\"],[0.5555555555555556,\"#d8576b\"],[0.6666666666666666,\"#ed7953\"],[0.7777777777777778,\"#fb9f3a\"],[0.8888888888888888,\"#fdca26\"],[1.0,\"#f0f921\"]],\"type\":\"heatmapgl\"}],\"heatmap\":[{\"colorbar\":{\"outlinewidth\":0,\"ticks\":\"\"},\"colorscale\":[[0.0,\"#0d0887\"],[0.1111111111111111,\"#46039f\"],[0.2222222222222222,\"#7201a8\"],[0.3333333333333333,\"#9c179e\"],[0.4444444444444444,\"#bd3786\"],[0.5555555555555556,\"#d8576b\"],[0.6666666666666666,\"#ed7953\"],[0.7777777777777778,\"#fb9f3a\"],[0.8888888888888888,\"#fdca26\"],[1.0,\"#f0f921\"]],\"type\":\"heatmap\"}],\"histogram2dcontour\":[{\"colorbar\":{\"outlinewidth\":0,\"ticks\":\"\"},\"colorscale\":[[0.0,\"#0d0887\"],[0.1111111111111111,\"#46039f\"],[0.2222222222222222,\"#7201a8\"],[0.3333333333333333,\"#9c179e\"],[0.4444444444444444,\"#bd3786\"],[0.5555555555555556,\"#d8576b\"],[0.6666666666666666,\"#ed7953\"],[0.7777777777777778,\"#fb9f3a\"],[0.8888888888888888,\"#fdca26\"],[1.0,\"#f0f921\"]],\"type\":\"histogram2dcontour\"}],\"histogram2d\":[{\"colorbar\":{\"outlinewidth\":0,\"ticks\":\"\"},\"colorscale\":[[0.0,\"#0d0887\"],[0.1111111111111111,\"#46039f\"],[0.2222222222222222,\"#7201a8\"],[0.3333333333333333,\"#9c179e\"],[0.4444444444444444,\"#bd3786\"],[0.5555555555555556,\"#d8576b\"],[0.6666666666666666,\"#ed7953\"],[0.7777777777777778,\"#fb9f3a\"],[0.8888888888888888,\"#fdca26\"],[1.0,\"#f0f921\"]],\"type\":\"histogram2d\"}],\"histogram\":[{\"marker\":{\"pattern\":{\"fillmode\":\"overlay\",\"size\":10,\"solidity\":0.2}},\"type\":\"histogram\"}],\"mesh3d\":[{\"colorbar\":{\"outlinewidth\":0,\"ticks\":\"\"},\"type\":\"mesh3d\"}],\"parcoords\":[{\"line\":{\"colorbar\":{\"outlinewidth\":0,\"ticks\":\"\"}},\"type\":\"parcoords\"}],\"pie\":[{\"automargin\":true,\"type\":\"pie\"}],\"scatter3d\":[{\"line\":{\"colorbar\":{\"outlinewidth\":0,\"ticks\":\"\"}},\"marker\":{\"colorbar\":{\"outlinewidth\":0,\"ticks\":\"\"}},\"type\":\"scatter3d\"}],\"scattercarpet\":[{\"marker\":{\"colorbar\":{\"outlinewidth\":0,\"ticks\":\"\"}},\"type\":\"scattercarpet\"}],\"scattergeo\":[{\"marker\":{\"colorbar\":{\"outlinewidth\":0,\"ticks\":\"\"}},\"type\":\"scattergeo\"}],\"scattergl\":[{\"marker\":{\"colorbar\":{\"outlinewidth\":0,\"ticks\":\"\"}},\"type\":\"scattergl\"}],\"scattermapbox\":[{\"marker\":{\"colorbar\":{\"outlinewidth\":0,\"ticks\":\"\"}},\"type\":\"scattermapbox\"}],\"scatterpolargl\":[{\"marker\":{\"colorbar\":{\"outlinewidth\":0,\"ticks\":\"\"}},\"type\":\"scatterpolargl\"}],\"scatterpolar\":[{\"marker\":{\"colorbar\":{\"outlinewidth\":0,\"ticks\":\"\"}},\"type\":\"scatterpolar\"}],\"scatter\":[{\"fillpattern\":{\"fillmode\":\"overlay\",\"size\":10,\"solidity\":0.2},\"type\":\"scatter\"}],\"scatterternary\":[{\"marker\":{\"colorbar\":{\"outlinewidth\":0,\"ticks\":\"\"}},\"type\":\"scatterternary\"}],\"surface\":[{\"colorbar\":{\"outlinewidth\":0,\"ticks\":\"\"},\"colorscale\":[[0.0,\"#0d0887\"],[0.1111111111111111,\"#46039f\"],[0.2222222222222222,\"#7201a8\"],[0.3333333333333333,\"#9c179e\"],[0.4444444444444444,\"#bd3786\"],[0.5555555555555556,\"#d8576b\"],[0.6666666666666666,\"#ed7953\"],[0.7777777777777778,\"#fb9f3a\"],[0.8888888888888888,\"#fdca26\"],[1.0,\"#f0f921\"]],\"type\":\"surface\"}],\"table\":[{\"cells\":{\"fill\":{\"color\":\"#EBF0F8\"},\"line\":{\"color\":\"white\"}},\"header\":{\"fill\":{\"color\":\"#C8D4E3\"},\"line\":{\"color\":\"white\"}},\"type\":\"table\"}]},\"layout\":{\"annotationdefaults\":{\"arrowcolor\":\"#2a3f5f\",\"arrowhead\":0,\"arrowwidth\":1},\"autotypenumbers\":\"strict\",\"coloraxis\":{\"colorbar\":{\"outlinewidth\":0,\"ticks\":\"\"}},\"colorscale\":{\"diverging\":[[0,\"#8e0152\"],[0.1,\"#c51b7d\"],[0.2,\"#de77ae\"],[0.3,\"#f1b6da\"],[0.4,\"#fde0ef\"],[0.5,\"#f7f7f7\"],[0.6,\"#e6f5d0\"],[0.7,\"#b8e186\"],[0.8,\"#7fbc41\"],[0.9,\"#4d9221\"],[1,\"#276419\"]],\"sequential\":[[0.0,\"#0d0887\"],[0.1111111111111111,\"#46039f\"],[0.2222222222222222,\"#7201a8\"],[0.3333333333333333,\"#9c179e\"],[0.4444444444444444,\"#bd3786\"],[0.5555555555555556,\"#d8576b\"],[0.6666666666666666,\"#ed7953\"],[0.7777777777777778,\"#fb9f3a\"],[0.8888888888888888,\"#fdca26\"],[1.0,\"#f0f921\"]],\"sequentialminus\":[[0.0,\"#0d0887\"],[0.1111111111111111,\"#46039f\"],[0.2222222222222222,\"#7201a8\"],[0.3333333333333333,\"#9c179e\"],[0.4444444444444444,\"#bd3786\"],[0.5555555555555556,\"#d8576b\"],[0.6666666666666666,\"#ed7953\"],[0.7777777777777778,\"#fb9f3a\"],[0.8888888888888888,\"#fdca26\"],[1.0,\"#f0f921\"]]},\"colorway\":[\"#636efa\",\"#EF553B\",\"#00cc96\",\"#ab63fa\",\"#FFA15A\",\"#19d3f3\",\"#FF6692\",\"#B6E880\",\"#FF97FF\",\"#FECB52\"],\"font\":{\"color\":\"#2a3f5f\"},\"geo\":{\"bgcolor\":\"white\",\"lakecolor\":\"white\",\"landcolor\":\"#E5ECF6\",\"showlakes\":true,\"showland\":true,\"subunitcolor\":\"white\"},\"hoverlabel\":{\"align\":\"left\"},\"hovermode\":\"closest\",\"mapbox\":{\"style\":\"light\"},\"paper_bgcolor\":\"white\",\"plot_bgcolor\":\"#E5ECF6\",\"polar\":{\"angularaxis\":{\"gridcolor\":\"white\",\"linecolor\":\"white\",\"ticks\":\"\"},\"bgcolor\":\"#E5ECF6\",\"radialaxis\":{\"gridcolor\":\"white\",\"linecolor\":\"white\",\"ticks\":\"\"}},\"scene\":{\"xaxis\":{\"backgroundcolor\":\"#E5ECF6\",\"gridcolor\":\"white\",\"gridwidth\":2,\"linecolor\":\"white\",\"showbackground\":true,\"ticks\":\"\",\"zerolinecolor\":\"white\"},\"yaxis\":{\"backgroundcolor\":\"#E5ECF6\",\"gridcolor\":\"white\",\"gridwidth\":2,\"linecolor\":\"white\",\"showbackground\":true,\"ticks\":\"\",\"zerolinecolor\":\"white\"},\"zaxis\":{\"backgroundcolor\":\"#E5ECF6\",\"gridcolor\":\"white\",\"gridwidth\":2,\"linecolor\":\"white\",\"showbackground\":true,\"ticks\":\"\",\"zerolinecolor\":\"white\"}},\"shapedefaults\":{\"line\":{\"color\":\"#2a3f5f\"}},\"ternary\":{\"aaxis\":{\"gridcolor\":\"white\",\"linecolor\":\"white\",\"ticks\":\"\"},\"baxis\":{\"gridcolor\":\"white\",\"linecolor\":\"white\",\"ticks\":\"\"},\"bgcolor\":\"#E5ECF6\",\"caxis\":{\"gridcolor\":\"white\",\"linecolor\":\"white\",\"ticks\":\"\"}},\"title\":{\"x\":0.05},\"xaxis\":{\"automargin\":true,\"gridcolor\":\"white\",\"linecolor\":\"white\",\"ticks\":\"\",\"title\":{\"standoff\":15},\"zerolinecolor\":\"white\",\"zerolinewidth\":2},\"yaxis\":{\"automargin\":true,\"gridcolor\":\"white\",\"linecolor\":\"white\",\"ticks\":\"\",\"title\":{\"standoff\":15},\"zerolinecolor\":\"white\",\"zerolinewidth\":2}}},\"title\":{\"font\":{\"color\":\"#4D5663\"}},\"xaxis\":{\"gridcolor\":\"#E1E5ED\",\"showgrid\":true,\"tickfont\":{\"color\":\"#4D5663\"},\"title\":{\"font\":{\"color\":\"#4D5663\"},\"text\":\"\"},\"zerolinecolor\":\"#E1E5ED\"},\"yaxis\":{\"gridcolor\":\"#E1E5ED\",\"showgrid\":true,\"tickfont\":{\"color\":\"#4D5663\"},\"title\":{\"font\":{\"color\":\"#4D5663\"},\"text\":\"\"},\"zerolinecolor\":\"#E1E5ED\"}},                        {\"showLink\": true, \"linkText\": \"Export to plot.ly\", \"plotlyServerURL\": \"https://plot.ly\", \"responsive\": true}                    ).then(function(){\n",
       "                            \n",
       "var gd = document.getElementById('aea82444-78f2-4228-af82-48ec1010cc49');\n",
       "var x = new MutationObserver(function (mutations, observer) {{\n",
       "        var display = window.getComputedStyle(gd).display;\n",
       "        if (!display || display === 'none') {{\n",
       "            console.log([gd, 'removed!']);\n",
       "            Plotly.purge(gd);\n",
       "            observer.disconnect();\n",
       "        }}\n",
       "}});\n",
       "\n",
       "// Listen for the removal of the full notebook cells\n",
       "var notebookContainer = gd.closest('#notebook-container');\n",
       "if (notebookContainer) {{\n",
       "    x.observe(notebookContainer, {childList: true});\n",
       "}}\n",
       "\n",
       "// Listen for the clearing of the current output cell\n",
       "var outputEl = gd.closest('.output');\n",
       "if (outputEl) {{\n",
       "    x.observe(outputEl, {childList: true});\n",
       "}}\n",
       "\n",
       "                        })                };                });            </script>        </div>"
      ]
     },
     "metadata": {},
     "output_type": "display_data"
    }
   ],
   "source": [
    "df.iplot(kind='box')"
   ]
  },
  {
   "cell_type": "markdown",
   "metadata": {},
   "source": [
    "## 3d Surface"
   ]
  },
  {
   "cell_type": "code",
   "execution_count": 14,
   "metadata": {
    "collapsed": false
   },
   "outputs": [
    {
     "data": {
      "application/vnd.plotly.v1+json": {
       "config": {
        "linkText": "Export to plot.ly",
        "plotlyServerURL": "https://plot.ly",
        "showLink": true
       },
       "data": [
        {
         "colorscale": [
          [
           0,
           "rgb(165,0,38)"
          ],
          [
           0.1,
           "rgb(215,48,39)"
          ],
          [
           0.2,
           "rgb(244,109,67)"
          ],
          [
           0.3,
           "rgb(253,174,97)"
          ],
          [
           0.4,
           "rgb(254,224,144)"
          ],
          [
           0.5,
           "rgb(255,255,191)"
          ],
          [
           0.6,
           "rgb(224,243,248)"
          ],
          [
           0.7,
           "rgb(171,217,233)"
          ],
          [
           0.8,
           "rgb(116,173,209)"
          ],
          [
           0.9,
           "rgb(69,117,180)"
          ],
          [
           1,
           "rgb(49,54,149)"
          ]
         ],
         "type": "surface",
         "x": [
          0,
          1,
          2,
          3,
          4
         ],
         "y": [
          "x",
          "y",
          "z"
         ],
         "z": [
          [
           1,
           2,
           3,
           4,
           5
          ],
          [
           10,
           20,
           30,
           20,
           10
          ],
          [
           5,
           4,
           3,
           2,
           1
          ]
         ]
        }
       ],
       "layout": {
        "legend": {
         "bgcolor": "#F5F6F9",
         "font": {
          "color": "#4D5663"
         }
        },
        "paper_bgcolor": "#F5F6F9",
        "plot_bgcolor": "#F5F6F9",
        "template": {
         "data": {
          "bar": [
           {
            "error_x": {
             "color": "#2a3f5f"
            },
            "error_y": {
             "color": "#2a3f5f"
            },
            "marker": {
             "line": {
              "color": "#E5ECF6",
              "width": 0.5
             },
             "pattern": {
              "fillmode": "overlay",
              "size": 10,
              "solidity": 0.2
             }
            },
            "type": "bar"
           }
          ],
          "barpolar": [
           {
            "marker": {
             "line": {
              "color": "#E5ECF6",
              "width": 0.5
             },
             "pattern": {
              "fillmode": "overlay",
              "size": 10,
              "solidity": 0.2
             }
            },
            "type": "barpolar"
           }
          ],
          "carpet": [
           {
            "aaxis": {
             "endlinecolor": "#2a3f5f",
             "gridcolor": "white",
             "linecolor": "white",
             "minorgridcolor": "white",
             "startlinecolor": "#2a3f5f"
            },
            "baxis": {
             "endlinecolor": "#2a3f5f",
             "gridcolor": "white",
             "linecolor": "white",
             "minorgridcolor": "white",
             "startlinecolor": "#2a3f5f"
            },
            "type": "carpet"
           }
          ],
          "choropleth": [
           {
            "colorbar": {
             "outlinewidth": 0,
             "ticks": ""
            },
            "type": "choropleth"
           }
          ],
          "contour": [
           {
            "colorbar": {
             "outlinewidth": 0,
             "ticks": ""
            },
            "colorscale": [
             [
              0,
              "#0d0887"
             ],
             [
              0.1111111111111111,
              "#46039f"
             ],
             [
              0.2222222222222222,
              "#7201a8"
             ],
             [
              0.3333333333333333,
              "#9c179e"
             ],
             [
              0.4444444444444444,
              "#bd3786"
             ],
             [
              0.5555555555555556,
              "#d8576b"
             ],
             [
              0.6666666666666666,
              "#ed7953"
             ],
             [
              0.7777777777777778,
              "#fb9f3a"
             ],
             [
              0.8888888888888888,
              "#fdca26"
             ],
             [
              1,
              "#f0f921"
             ]
            ],
            "type": "contour"
           }
          ],
          "contourcarpet": [
           {
            "colorbar": {
             "outlinewidth": 0,
             "ticks": ""
            },
            "type": "contourcarpet"
           }
          ],
          "heatmap": [
           {
            "colorbar": {
             "outlinewidth": 0,
             "ticks": ""
            },
            "colorscale": [
             [
              0,
              "#0d0887"
             ],
             [
              0.1111111111111111,
              "#46039f"
             ],
             [
              0.2222222222222222,
              "#7201a8"
             ],
             [
              0.3333333333333333,
              "#9c179e"
             ],
             [
              0.4444444444444444,
              "#bd3786"
             ],
             [
              0.5555555555555556,
              "#d8576b"
             ],
             [
              0.6666666666666666,
              "#ed7953"
             ],
             [
              0.7777777777777778,
              "#fb9f3a"
             ],
             [
              0.8888888888888888,
              "#fdca26"
             ],
             [
              1,
              "#f0f921"
             ]
            ],
            "type": "heatmap"
           }
          ],
          "heatmapgl": [
           {
            "colorbar": {
             "outlinewidth": 0,
             "ticks": ""
            },
            "colorscale": [
             [
              0,
              "#0d0887"
             ],
             [
              0.1111111111111111,
              "#46039f"
             ],
             [
              0.2222222222222222,
              "#7201a8"
             ],
             [
              0.3333333333333333,
              "#9c179e"
             ],
             [
              0.4444444444444444,
              "#bd3786"
             ],
             [
              0.5555555555555556,
              "#d8576b"
             ],
             [
              0.6666666666666666,
              "#ed7953"
             ],
             [
              0.7777777777777778,
              "#fb9f3a"
             ],
             [
              0.8888888888888888,
              "#fdca26"
             ],
             [
              1,
              "#f0f921"
             ]
            ],
            "type": "heatmapgl"
           }
          ],
          "histogram": [
           {
            "marker": {
             "pattern": {
              "fillmode": "overlay",
              "size": 10,
              "solidity": 0.2
             }
            },
            "type": "histogram"
           }
          ],
          "histogram2d": [
           {
            "colorbar": {
             "outlinewidth": 0,
             "ticks": ""
            },
            "colorscale": [
             [
              0,
              "#0d0887"
             ],
             [
              0.1111111111111111,
              "#46039f"
             ],
             [
              0.2222222222222222,
              "#7201a8"
             ],
             [
              0.3333333333333333,
              "#9c179e"
             ],
             [
              0.4444444444444444,
              "#bd3786"
             ],
             [
              0.5555555555555556,
              "#d8576b"
             ],
             [
              0.6666666666666666,
              "#ed7953"
             ],
             [
              0.7777777777777778,
              "#fb9f3a"
             ],
             [
              0.8888888888888888,
              "#fdca26"
             ],
             [
              1,
              "#f0f921"
             ]
            ],
            "type": "histogram2d"
           }
          ],
          "histogram2dcontour": [
           {
            "colorbar": {
             "outlinewidth": 0,
             "ticks": ""
            },
            "colorscale": [
             [
              0,
              "#0d0887"
             ],
             [
              0.1111111111111111,
              "#46039f"
             ],
             [
              0.2222222222222222,
              "#7201a8"
             ],
             [
              0.3333333333333333,
              "#9c179e"
             ],
             [
              0.4444444444444444,
              "#bd3786"
             ],
             [
              0.5555555555555556,
              "#d8576b"
             ],
             [
              0.6666666666666666,
              "#ed7953"
             ],
             [
              0.7777777777777778,
              "#fb9f3a"
             ],
             [
              0.8888888888888888,
              "#fdca26"
             ],
             [
              1,
              "#f0f921"
             ]
            ],
            "type": "histogram2dcontour"
           }
          ],
          "mesh3d": [
           {
            "colorbar": {
             "outlinewidth": 0,
             "ticks": ""
            },
            "type": "mesh3d"
           }
          ],
          "parcoords": [
           {
            "line": {
             "colorbar": {
              "outlinewidth": 0,
              "ticks": ""
             }
            },
            "type": "parcoords"
           }
          ],
          "pie": [
           {
            "automargin": true,
            "type": "pie"
           }
          ],
          "scatter": [
           {
            "fillpattern": {
             "fillmode": "overlay",
             "size": 10,
             "solidity": 0.2
            },
            "type": "scatter"
           }
          ],
          "scatter3d": [
           {
            "line": {
             "colorbar": {
              "outlinewidth": 0,
              "ticks": ""
             }
            },
            "marker": {
             "colorbar": {
              "outlinewidth": 0,
              "ticks": ""
             }
            },
            "type": "scatter3d"
           }
          ],
          "scattercarpet": [
           {
            "marker": {
             "colorbar": {
              "outlinewidth": 0,
              "ticks": ""
             }
            },
            "type": "scattercarpet"
           }
          ],
          "scattergeo": [
           {
            "marker": {
             "colorbar": {
              "outlinewidth": 0,
              "ticks": ""
             }
            },
            "type": "scattergeo"
           }
          ],
          "scattergl": [
           {
            "marker": {
             "colorbar": {
              "outlinewidth": 0,
              "ticks": ""
             }
            },
            "type": "scattergl"
           }
          ],
          "scattermapbox": [
           {
            "marker": {
             "colorbar": {
              "outlinewidth": 0,
              "ticks": ""
             }
            },
            "type": "scattermapbox"
           }
          ],
          "scatterpolar": [
           {
            "marker": {
             "colorbar": {
              "outlinewidth": 0,
              "ticks": ""
             }
            },
            "type": "scatterpolar"
           }
          ],
          "scatterpolargl": [
           {
            "marker": {
             "colorbar": {
              "outlinewidth": 0,
              "ticks": ""
             }
            },
            "type": "scatterpolargl"
           }
          ],
          "scatterternary": [
           {
            "marker": {
             "colorbar": {
              "outlinewidth": 0,
              "ticks": ""
             }
            },
            "type": "scatterternary"
           }
          ],
          "surface": [
           {
            "colorbar": {
             "outlinewidth": 0,
             "ticks": ""
            },
            "colorscale": [
             [
              0,
              "#0d0887"
             ],
             [
              0.1111111111111111,
              "#46039f"
             ],
             [
              0.2222222222222222,
              "#7201a8"
             ],
             [
              0.3333333333333333,
              "#9c179e"
             ],
             [
              0.4444444444444444,
              "#bd3786"
             ],
             [
              0.5555555555555556,
              "#d8576b"
             ],
             [
              0.6666666666666666,
              "#ed7953"
             ],
             [
              0.7777777777777778,
              "#fb9f3a"
             ],
             [
              0.8888888888888888,
              "#fdca26"
             ],
             [
              1,
              "#f0f921"
             ]
            ],
            "type": "surface"
           }
          ],
          "table": [
           {
            "cells": {
             "fill": {
              "color": "#EBF0F8"
             },
             "line": {
              "color": "white"
             }
            },
            "header": {
             "fill": {
              "color": "#C8D4E3"
             },
             "line": {
              "color": "white"
             }
            },
            "type": "table"
           }
          ]
         },
         "layout": {
          "annotationdefaults": {
           "arrowcolor": "#2a3f5f",
           "arrowhead": 0,
           "arrowwidth": 1
          },
          "autotypenumbers": "strict",
          "coloraxis": {
           "colorbar": {
            "outlinewidth": 0,
            "ticks": ""
           }
          },
          "colorscale": {
           "diverging": [
            [
             0,
             "#8e0152"
            ],
            [
             0.1,
             "#c51b7d"
            ],
            [
             0.2,
             "#de77ae"
            ],
            [
             0.3,
             "#f1b6da"
            ],
            [
             0.4,
             "#fde0ef"
            ],
            [
             0.5,
             "#f7f7f7"
            ],
            [
             0.6,
             "#e6f5d0"
            ],
            [
             0.7,
             "#b8e186"
            ],
            [
             0.8,
             "#7fbc41"
            ],
            [
             0.9,
             "#4d9221"
            ],
            [
             1,
             "#276419"
            ]
           ],
           "sequential": [
            [
             0,
             "#0d0887"
            ],
            [
             0.1111111111111111,
             "#46039f"
            ],
            [
             0.2222222222222222,
             "#7201a8"
            ],
            [
             0.3333333333333333,
             "#9c179e"
            ],
            [
             0.4444444444444444,
             "#bd3786"
            ],
            [
             0.5555555555555556,
             "#d8576b"
            ],
            [
             0.6666666666666666,
             "#ed7953"
            ],
            [
             0.7777777777777778,
             "#fb9f3a"
            ],
            [
             0.8888888888888888,
             "#fdca26"
            ],
            [
             1,
             "#f0f921"
            ]
           ],
           "sequentialminus": [
            [
             0,
             "#0d0887"
            ],
            [
             0.1111111111111111,
             "#46039f"
            ],
            [
             0.2222222222222222,
             "#7201a8"
            ],
            [
             0.3333333333333333,
             "#9c179e"
            ],
            [
             0.4444444444444444,
             "#bd3786"
            ],
            [
             0.5555555555555556,
             "#d8576b"
            ],
            [
             0.6666666666666666,
             "#ed7953"
            ],
            [
             0.7777777777777778,
             "#fb9f3a"
            ],
            [
             0.8888888888888888,
             "#fdca26"
            ],
            [
             1,
             "#f0f921"
            ]
           ]
          },
          "colorway": [
           "#636efa",
           "#EF553B",
           "#00cc96",
           "#ab63fa",
           "#FFA15A",
           "#19d3f3",
           "#FF6692",
           "#B6E880",
           "#FF97FF",
           "#FECB52"
          ],
          "font": {
           "color": "#2a3f5f"
          },
          "geo": {
           "bgcolor": "white",
           "lakecolor": "white",
           "landcolor": "#E5ECF6",
           "showlakes": true,
           "showland": true,
           "subunitcolor": "white"
          },
          "hoverlabel": {
           "align": "left"
          },
          "hovermode": "closest",
          "mapbox": {
           "style": "light"
          },
          "paper_bgcolor": "white",
          "plot_bgcolor": "#E5ECF6",
          "polar": {
           "angularaxis": {
            "gridcolor": "white",
            "linecolor": "white",
            "ticks": ""
           },
           "bgcolor": "#E5ECF6",
           "radialaxis": {
            "gridcolor": "white",
            "linecolor": "white",
            "ticks": ""
           }
          },
          "scene": {
           "xaxis": {
            "backgroundcolor": "#E5ECF6",
            "gridcolor": "white",
            "gridwidth": 2,
            "linecolor": "white",
            "showbackground": true,
            "ticks": "",
            "zerolinecolor": "white"
           },
           "yaxis": {
            "backgroundcolor": "#E5ECF6",
            "gridcolor": "white",
            "gridwidth": 2,
            "linecolor": "white",
            "showbackground": true,
            "ticks": "",
            "zerolinecolor": "white"
           },
           "zaxis": {
            "backgroundcolor": "#E5ECF6",
            "gridcolor": "white",
            "gridwidth": 2,
            "linecolor": "white",
            "showbackground": true,
            "ticks": "",
            "zerolinecolor": "white"
           }
          },
          "shapedefaults": {
           "line": {
            "color": "#2a3f5f"
           }
          },
          "ternary": {
           "aaxis": {
            "gridcolor": "white",
            "linecolor": "white",
            "ticks": ""
           },
           "baxis": {
            "gridcolor": "white",
            "linecolor": "white",
            "ticks": ""
           },
           "bgcolor": "#E5ECF6",
           "caxis": {
            "gridcolor": "white",
            "linecolor": "white",
            "ticks": ""
           }
          },
          "title": {
           "x": 0.05
          },
          "xaxis": {
           "automargin": true,
           "gridcolor": "white",
           "linecolor": "white",
           "ticks": "",
           "title": {
            "standoff": 15
           },
           "zerolinecolor": "white",
           "zerolinewidth": 2
          },
          "yaxis": {
           "automargin": true,
           "gridcolor": "white",
           "linecolor": "white",
           "ticks": "",
           "title": {
            "standoff": 15
           },
           "zerolinecolor": "white",
           "zerolinewidth": 2
          }
         }
        },
        "title": {
         "font": {
          "color": "#4D5663"
         }
        },
        "xaxis": {
         "gridcolor": "#E1E5ED",
         "showgrid": true,
         "tickfont": {
          "color": "#4D5663"
         },
         "title": {
          "font": {
           "color": "#4D5663"
          },
          "text": ""
         },
         "zerolinecolor": "#E1E5ED"
        },
        "yaxis": {
         "gridcolor": "#E1E5ED",
         "showgrid": true,
         "tickfont": {
          "color": "#4D5663"
         },
         "title": {
          "font": {
           "color": "#4D5663"
          },
          "text": ""
         },
         "zerolinecolor": "#E1E5ED"
        }
       }
      },
      "text/html": [
       "<div>                            <div id=\"d35d2cda-1770-473e-97d0-a53fe3d58d5e\" class=\"plotly-graph-div\" style=\"height:525px; width:100%;\"></div>            <script type=\"text/javascript\">                require([\"plotly\"], function(Plotly) {                    window.PLOTLYENV=window.PLOTLYENV || {};\n",
       "                    window.PLOTLYENV.BASE_URL='https://plot.ly';                                    if (document.getElementById(\"d35d2cda-1770-473e-97d0-a53fe3d58d5e\")) {                    Plotly.newPlot(                        \"d35d2cda-1770-473e-97d0-a53fe3d58d5e\",                        [{\"colorscale\":[[0.0,\"rgb(165,0,38)\"],[0.1,\"rgb(215,48,39)\"],[0.2,\"rgb(244,109,67)\"],[0.3,\"rgb(253,174,97)\"],[0.4,\"rgb(254,224,144)\"],[0.5,\"rgb(255,255,191)\"],[0.6,\"rgb(224,243,248)\"],[0.7,\"rgb(171,217,233)\"],[0.8,\"rgb(116,173,209)\"],[0.9,\"rgb(69,117,180)\"],[1.0,\"rgb(49,54,149)\"]],\"x\":[0,1,2,3,4],\"y\":[\"x\",\"y\",\"z\"],\"z\":[[1,2,3,4,5],[10,20,30,20,10],[5,4,3,2,1]],\"type\":\"surface\"}],                        {\"legend\":{\"bgcolor\":\"#F5F6F9\",\"font\":{\"color\":\"#4D5663\"}},\"paper_bgcolor\":\"#F5F6F9\",\"plot_bgcolor\":\"#F5F6F9\",\"template\":{\"data\":{\"barpolar\":[{\"marker\":{\"line\":{\"color\":\"#E5ECF6\",\"width\":0.5},\"pattern\":{\"fillmode\":\"overlay\",\"size\":10,\"solidity\":0.2}},\"type\":\"barpolar\"}],\"bar\":[{\"error_x\":{\"color\":\"#2a3f5f\"},\"error_y\":{\"color\":\"#2a3f5f\"},\"marker\":{\"line\":{\"color\":\"#E5ECF6\",\"width\":0.5},\"pattern\":{\"fillmode\":\"overlay\",\"size\":10,\"solidity\":0.2}},\"type\":\"bar\"}],\"carpet\":[{\"aaxis\":{\"endlinecolor\":\"#2a3f5f\",\"gridcolor\":\"white\",\"linecolor\":\"white\",\"minorgridcolor\":\"white\",\"startlinecolor\":\"#2a3f5f\"},\"baxis\":{\"endlinecolor\":\"#2a3f5f\",\"gridcolor\":\"white\",\"linecolor\":\"white\",\"minorgridcolor\":\"white\",\"startlinecolor\":\"#2a3f5f\"},\"type\":\"carpet\"}],\"choropleth\":[{\"colorbar\":{\"outlinewidth\":0,\"ticks\":\"\"},\"type\":\"choropleth\"}],\"contourcarpet\":[{\"colorbar\":{\"outlinewidth\":0,\"ticks\":\"\"},\"type\":\"contourcarpet\"}],\"contour\":[{\"colorbar\":{\"outlinewidth\":0,\"ticks\":\"\"},\"colorscale\":[[0.0,\"#0d0887\"],[0.1111111111111111,\"#46039f\"],[0.2222222222222222,\"#7201a8\"],[0.3333333333333333,\"#9c179e\"],[0.4444444444444444,\"#bd3786\"],[0.5555555555555556,\"#d8576b\"],[0.6666666666666666,\"#ed7953\"],[0.7777777777777778,\"#fb9f3a\"],[0.8888888888888888,\"#fdca26\"],[1.0,\"#f0f921\"]],\"type\":\"contour\"}],\"heatmapgl\":[{\"colorbar\":{\"outlinewidth\":0,\"ticks\":\"\"},\"colorscale\":[[0.0,\"#0d0887\"],[0.1111111111111111,\"#46039f\"],[0.2222222222222222,\"#7201a8\"],[0.3333333333333333,\"#9c179e\"],[0.4444444444444444,\"#bd3786\"],[0.5555555555555556,\"#d8576b\"],[0.6666666666666666,\"#ed7953\"],[0.7777777777777778,\"#fb9f3a\"],[0.8888888888888888,\"#fdca26\"],[1.0,\"#f0f921\"]],\"type\":\"heatmapgl\"}],\"heatmap\":[{\"colorbar\":{\"outlinewidth\":0,\"ticks\":\"\"},\"colorscale\":[[0.0,\"#0d0887\"],[0.1111111111111111,\"#46039f\"],[0.2222222222222222,\"#7201a8\"],[0.3333333333333333,\"#9c179e\"],[0.4444444444444444,\"#bd3786\"],[0.5555555555555556,\"#d8576b\"],[0.6666666666666666,\"#ed7953\"],[0.7777777777777778,\"#fb9f3a\"],[0.8888888888888888,\"#fdca26\"],[1.0,\"#f0f921\"]],\"type\":\"heatmap\"}],\"histogram2dcontour\":[{\"colorbar\":{\"outlinewidth\":0,\"ticks\":\"\"},\"colorscale\":[[0.0,\"#0d0887\"],[0.1111111111111111,\"#46039f\"],[0.2222222222222222,\"#7201a8\"],[0.3333333333333333,\"#9c179e\"],[0.4444444444444444,\"#bd3786\"],[0.5555555555555556,\"#d8576b\"],[0.6666666666666666,\"#ed7953\"],[0.7777777777777778,\"#fb9f3a\"],[0.8888888888888888,\"#fdca26\"],[1.0,\"#f0f921\"]],\"type\":\"histogram2dcontour\"}],\"histogram2d\":[{\"colorbar\":{\"outlinewidth\":0,\"ticks\":\"\"},\"colorscale\":[[0.0,\"#0d0887\"],[0.1111111111111111,\"#46039f\"],[0.2222222222222222,\"#7201a8\"],[0.3333333333333333,\"#9c179e\"],[0.4444444444444444,\"#bd3786\"],[0.5555555555555556,\"#d8576b\"],[0.6666666666666666,\"#ed7953\"],[0.7777777777777778,\"#fb9f3a\"],[0.8888888888888888,\"#fdca26\"],[1.0,\"#f0f921\"]],\"type\":\"histogram2d\"}],\"histogram\":[{\"marker\":{\"pattern\":{\"fillmode\":\"overlay\",\"size\":10,\"solidity\":0.2}},\"type\":\"histogram\"}],\"mesh3d\":[{\"colorbar\":{\"outlinewidth\":0,\"ticks\":\"\"},\"type\":\"mesh3d\"}],\"parcoords\":[{\"line\":{\"colorbar\":{\"outlinewidth\":0,\"ticks\":\"\"}},\"type\":\"parcoords\"}],\"pie\":[{\"automargin\":true,\"type\":\"pie\"}],\"scatter3d\":[{\"line\":{\"colorbar\":{\"outlinewidth\":0,\"ticks\":\"\"}},\"marker\":{\"colorbar\":{\"outlinewidth\":0,\"ticks\":\"\"}},\"type\":\"scatter3d\"}],\"scattercarpet\":[{\"marker\":{\"colorbar\":{\"outlinewidth\":0,\"ticks\":\"\"}},\"type\":\"scattercarpet\"}],\"scattergeo\":[{\"marker\":{\"colorbar\":{\"outlinewidth\":0,\"ticks\":\"\"}},\"type\":\"scattergeo\"}],\"scattergl\":[{\"marker\":{\"colorbar\":{\"outlinewidth\":0,\"ticks\":\"\"}},\"type\":\"scattergl\"}],\"scattermapbox\":[{\"marker\":{\"colorbar\":{\"outlinewidth\":0,\"ticks\":\"\"}},\"type\":\"scattermapbox\"}],\"scatterpolargl\":[{\"marker\":{\"colorbar\":{\"outlinewidth\":0,\"ticks\":\"\"}},\"type\":\"scatterpolargl\"}],\"scatterpolar\":[{\"marker\":{\"colorbar\":{\"outlinewidth\":0,\"ticks\":\"\"}},\"type\":\"scatterpolar\"}],\"scatter\":[{\"fillpattern\":{\"fillmode\":\"overlay\",\"size\":10,\"solidity\":0.2},\"type\":\"scatter\"}],\"scatterternary\":[{\"marker\":{\"colorbar\":{\"outlinewidth\":0,\"ticks\":\"\"}},\"type\":\"scatterternary\"}],\"surface\":[{\"colorbar\":{\"outlinewidth\":0,\"ticks\":\"\"},\"colorscale\":[[0.0,\"#0d0887\"],[0.1111111111111111,\"#46039f\"],[0.2222222222222222,\"#7201a8\"],[0.3333333333333333,\"#9c179e\"],[0.4444444444444444,\"#bd3786\"],[0.5555555555555556,\"#d8576b\"],[0.6666666666666666,\"#ed7953\"],[0.7777777777777778,\"#fb9f3a\"],[0.8888888888888888,\"#fdca26\"],[1.0,\"#f0f921\"]],\"type\":\"surface\"}],\"table\":[{\"cells\":{\"fill\":{\"color\":\"#EBF0F8\"},\"line\":{\"color\":\"white\"}},\"header\":{\"fill\":{\"color\":\"#C8D4E3\"},\"line\":{\"color\":\"white\"}},\"type\":\"table\"}]},\"layout\":{\"annotationdefaults\":{\"arrowcolor\":\"#2a3f5f\",\"arrowhead\":0,\"arrowwidth\":1},\"autotypenumbers\":\"strict\",\"coloraxis\":{\"colorbar\":{\"outlinewidth\":0,\"ticks\":\"\"}},\"colorscale\":{\"diverging\":[[0,\"#8e0152\"],[0.1,\"#c51b7d\"],[0.2,\"#de77ae\"],[0.3,\"#f1b6da\"],[0.4,\"#fde0ef\"],[0.5,\"#f7f7f7\"],[0.6,\"#e6f5d0\"],[0.7,\"#b8e186\"],[0.8,\"#7fbc41\"],[0.9,\"#4d9221\"],[1,\"#276419\"]],\"sequential\":[[0.0,\"#0d0887\"],[0.1111111111111111,\"#46039f\"],[0.2222222222222222,\"#7201a8\"],[0.3333333333333333,\"#9c179e\"],[0.4444444444444444,\"#bd3786\"],[0.5555555555555556,\"#d8576b\"],[0.6666666666666666,\"#ed7953\"],[0.7777777777777778,\"#fb9f3a\"],[0.8888888888888888,\"#fdca26\"],[1.0,\"#f0f921\"]],\"sequentialminus\":[[0.0,\"#0d0887\"],[0.1111111111111111,\"#46039f\"],[0.2222222222222222,\"#7201a8\"],[0.3333333333333333,\"#9c179e\"],[0.4444444444444444,\"#bd3786\"],[0.5555555555555556,\"#d8576b\"],[0.6666666666666666,\"#ed7953\"],[0.7777777777777778,\"#fb9f3a\"],[0.8888888888888888,\"#fdca26\"],[1.0,\"#f0f921\"]]},\"colorway\":[\"#636efa\",\"#EF553B\",\"#00cc96\",\"#ab63fa\",\"#FFA15A\",\"#19d3f3\",\"#FF6692\",\"#B6E880\",\"#FF97FF\",\"#FECB52\"],\"font\":{\"color\":\"#2a3f5f\"},\"geo\":{\"bgcolor\":\"white\",\"lakecolor\":\"white\",\"landcolor\":\"#E5ECF6\",\"showlakes\":true,\"showland\":true,\"subunitcolor\":\"white\"},\"hoverlabel\":{\"align\":\"left\"},\"hovermode\":\"closest\",\"mapbox\":{\"style\":\"light\"},\"paper_bgcolor\":\"white\",\"plot_bgcolor\":\"#E5ECF6\",\"polar\":{\"angularaxis\":{\"gridcolor\":\"white\",\"linecolor\":\"white\",\"ticks\":\"\"},\"bgcolor\":\"#E5ECF6\",\"radialaxis\":{\"gridcolor\":\"white\",\"linecolor\":\"white\",\"ticks\":\"\"}},\"scene\":{\"xaxis\":{\"backgroundcolor\":\"#E5ECF6\",\"gridcolor\":\"white\",\"gridwidth\":2,\"linecolor\":\"white\",\"showbackground\":true,\"ticks\":\"\",\"zerolinecolor\":\"white\"},\"yaxis\":{\"backgroundcolor\":\"#E5ECF6\",\"gridcolor\":\"white\",\"gridwidth\":2,\"linecolor\":\"white\",\"showbackground\":true,\"ticks\":\"\",\"zerolinecolor\":\"white\"},\"zaxis\":{\"backgroundcolor\":\"#E5ECF6\",\"gridcolor\":\"white\",\"gridwidth\":2,\"linecolor\":\"white\",\"showbackground\":true,\"ticks\":\"\",\"zerolinecolor\":\"white\"}},\"shapedefaults\":{\"line\":{\"color\":\"#2a3f5f\"}},\"ternary\":{\"aaxis\":{\"gridcolor\":\"white\",\"linecolor\":\"white\",\"ticks\":\"\"},\"baxis\":{\"gridcolor\":\"white\",\"linecolor\":\"white\",\"ticks\":\"\"},\"bgcolor\":\"#E5ECF6\",\"caxis\":{\"gridcolor\":\"white\",\"linecolor\":\"white\",\"ticks\":\"\"}},\"title\":{\"x\":0.05},\"xaxis\":{\"automargin\":true,\"gridcolor\":\"white\",\"linecolor\":\"white\",\"ticks\":\"\",\"title\":{\"standoff\":15},\"zerolinecolor\":\"white\",\"zerolinewidth\":2},\"yaxis\":{\"automargin\":true,\"gridcolor\":\"white\",\"linecolor\":\"white\",\"ticks\":\"\",\"title\":{\"standoff\":15},\"zerolinecolor\":\"white\",\"zerolinewidth\":2}}},\"title\":{\"font\":{\"color\":\"#4D5663\"}},\"xaxis\":{\"gridcolor\":\"#E1E5ED\",\"showgrid\":true,\"tickfont\":{\"color\":\"#4D5663\"},\"title\":{\"font\":{\"color\":\"#4D5663\"},\"text\":\"\"},\"zerolinecolor\":\"#E1E5ED\"},\"yaxis\":{\"gridcolor\":\"#E1E5ED\",\"showgrid\":true,\"tickfont\":{\"color\":\"#4D5663\"},\"title\":{\"font\":{\"color\":\"#4D5663\"},\"text\":\"\"},\"zerolinecolor\":\"#E1E5ED\"}},                        {\"showLink\": true, \"linkText\": \"Export to plot.ly\", \"plotlyServerURL\": \"https://plot.ly\", \"responsive\": true}                    ).then(function(){\n",
       "                            \n",
       "var gd = document.getElementById('d35d2cda-1770-473e-97d0-a53fe3d58d5e');\n",
       "var x = new MutationObserver(function (mutations, observer) {{\n",
       "        var display = window.getComputedStyle(gd).display;\n",
       "        if (!display || display === 'none') {{\n",
       "            console.log([gd, 'removed!']);\n",
       "            Plotly.purge(gd);\n",
       "            observer.disconnect();\n",
       "        }}\n",
       "}});\n",
       "\n",
       "// Listen for the removal of the full notebook cells\n",
       "var notebookContainer = gd.closest('#notebook-container');\n",
       "if (notebookContainer) {{\n",
       "    x.observe(notebookContainer, {childList: true});\n",
       "}}\n",
       "\n",
       "// Listen for the clearing of the current output cell\n",
       "var outputEl = gd.closest('.output');\n",
       "if (outputEl) {{\n",
       "    x.observe(outputEl, {childList: true});\n",
       "}}\n",
       "\n",
       "                        })                };                });            </script>        </div>"
      ]
     },
     "metadata": {},
     "output_type": "display_data"
    }
   ],
   "source": [
    "df3 = pd.DataFrame({'x':[1,2,3,4,5],'y':[10,20,30,20,10],'z':[5,4,3,2,1]})\n",
    "df3.iplot(kind='surface',colorscale='rdylbu')"
   ]
  },
  {
   "cell_type": "markdown",
   "metadata": {},
   "source": [
    "## Spread"
   ]
  },
  {
   "cell_type": "code",
   "execution_count": 15,
   "metadata": {
    "collapsed": false
   },
   "outputs": [
    {
     "name": "stderr",
     "output_type": "stream",
     "text": [
      "c:\\Users\\frvazque\\AppData\\Local\\Programs\\Python\\Python310\\lib\\site-packages\\cufflinks\\plotlytools.py:849: FutureWarning:\n",
      "\n",
      "The pandas.np module is deprecated and will be removed from pandas in a future version. Import numpy directly instead.\n",
      "\n",
      "c:\\Users\\frvazque\\AppData\\Local\\Programs\\Python\\Python310\\lib\\site-packages\\cufflinks\\plotlytools.py:850: FutureWarning:\n",
      "\n",
      "The pandas.np module is deprecated and will be removed from pandas in a future version. Import numpy directly instead.\n",
      "\n"
     ]
    },
    {
     "data": {
      "application/vnd.plotly.v1+json": {
       "config": {
        "linkText": "Export to plot.ly",
        "plotlyServerURL": "https://plot.ly",
        "showLink": true
       },
       "data": [
        {
         "line": {
          "color": "rgba(255, 153, 51, 1.0)",
          "dash": "solid",
          "shape": "linear",
          "width": 1.3
         },
         "mode": "lines",
         "name": "A",
         "text": "",
         "type": "scatter",
         "x": [
          0,
          1,
          2,
          3,
          4,
          5,
          6,
          7,
          8,
          9,
          10,
          11,
          12,
          13,
          14,
          15,
          16,
          17,
          18,
          19,
          20,
          21,
          22,
          23,
          24,
          25,
          26,
          27,
          28,
          29,
          30,
          31,
          32,
          33,
          34,
          35,
          36,
          37,
          38,
          39,
          40,
          41,
          42,
          43,
          44,
          45,
          46,
          47,
          48,
          49,
          50,
          51,
          52,
          53,
          54,
          55,
          56,
          57,
          58,
          59,
          60,
          61,
          62,
          63,
          64,
          65,
          66,
          67,
          68,
          69,
          70,
          71,
          72,
          73,
          74,
          75,
          76,
          77,
          78,
          79,
          80,
          81,
          82,
          83,
          84,
          85,
          86,
          87,
          88,
          89,
          90,
          91,
          92,
          93,
          94,
          95,
          96,
          97,
          98,
          99
         ],
         "y": [
          0.10762388526296199,
          -0.7564418891284865,
          1.6126540986511892,
          0.7775682923362824,
          -0.5952959854744313,
          2.7165296870543663,
          -0.8418041837494875,
          0.4520263613717429,
          -1.1811618010748057,
          1.3017114072144773,
          1.3272738483408182,
          -1.2571625619582165,
          -1.5851832427856685,
          2.207114710090944,
          -0.9858571233790321,
          0.6254103733582416,
          1.1170542864569903,
          -0.5421854559616364,
          0.005037612594899869,
          -0.09960346946484637,
          -1.173575061482218,
          -0.7289483967404173,
          0.07800339985776875,
          -0.034754268614389135,
          -1.751240479785419,
          0.7717749524266126,
          0.08343341764260574,
          0.1986334309389733,
          -0.794258717921895,
          1.3437529637865553,
          1.1560148777149495,
          -0.34509571668566474,
          -0.0880157934620941,
          -0.5179391311478613,
          0.7021441294486146,
          0.05161627543106151,
          0.2209466178195064,
          -0.07138636983591397,
          -0.207924870196759,
          1.658956247192368,
          0.8846630544827088,
          0.6338655418849547,
          0.5243027738002651,
          0.4306726692742513,
          0.6543039138767474,
          0.6703944846780071,
          -0.45582041977913695,
          -1.5368390595450678,
          -0.43169265859801714,
          0.5775623520718516,
          0.7270362444133679,
          -0.9686402783675524,
          -0.7626460913795635,
          -0.007740911462933657,
          0.8426361921016096,
          -1.525063666185188,
          -1.4878236176538635,
          0.560411441799206,
          0.29484265879850674,
          -0.44354850857918005,
          -1.2369406866873534,
          -0.4408224576864079,
          0.42480069832885475,
          -0.7667741411620467,
          -0.700320783644171,
          1.6850601173535071,
          -0.06805298388497137,
          0.6400578864382191,
          -2.98067099973402,
          0.2247541322573582,
          -0.3052211289271923,
          -0.26910637193717996,
          -1.1397622939667247,
          1.5697320958149767,
          -1.6680788968914804,
          -0.4804863639728813,
          1.7012517997797407,
          -1.7312432770283541,
          1.0766473765396547,
          0.9987138864720232,
          -0.9536484947120728,
          -0.3166964888606845,
          -0.896993536707252,
          -1.7733819867210974,
          -0.39680350373954704,
          -0.46385931536628483,
          -0.17381558605655018,
          -0.861547502624248,
          0.5368907658398797,
          -0.38149470781202155,
          -0.04880061640656663,
          -0.9484946921437268,
          0.27269700979662254,
          0.213346612114495,
          -0.23502230780637598,
          -0.10578602471367916,
          0.8249413060109705,
          0.12317607400262938,
          0.1549693302015403,
          1.9405144461988928
         ]
        },
        {
         "line": {
          "color": "rgba(55, 128, 191, 1.0)",
          "dash": "solid",
          "shape": "linear",
          "width": 1.3
         },
         "mode": "lines",
         "name": "B",
         "text": "",
         "type": "scatter",
         "x": [
          0,
          1,
          2,
          3,
          4,
          5,
          6,
          7,
          8,
          9,
          10,
          11,
          12,
          13,
          14,
          15,
          16,
          17,
          18,
          19,
          20,
          21,
          22,
          23,
          24,
          25,
          26,
          27,
          28,
          29,
          30,
          31,
          32,
          33,
          34,
          35,
          36,
          37,
          38,
          39,
          40,
          41,
          42,
          43,
          44,
          45,
          46,
          47,
          48,
          49,
          50,
          51,
          52,
          53,
          54,
          55,
          56,
          57,
          58,
          59,
          60,
          61,
          62,
          63,
          64,
          65,
          66,
          67,
          68,
          69,
          70,
          71,
          72,
          73,
          74,
          75,
          76,
          77,
          78,
          79,
          80,
          81,
          82,
          83,
          84,
          85,
          86,
          87,
          88,
          89,
          90,
          91,
          92,
          93,
          94,
          95,
          96,
          97,
          98,
          99
         ],
         "y": [
          -2.314890678163464,
          -0.30177437212597147,
          0.5499429699705268,
          -0.9526752027541245,
          1.5533303542681645,
          -0.5078252827169001,
          0.4028555741875542,
          -0.5774718509539073,
          -0.6811341105347527,
          0.0644489320205561,
          1.811506320652103,
          0.4778354701838685,
          0.05761873599105411,
          -0.7660180917968894,
          -0.383561855691717,
          -1.9708845566145123,
          0.1790104216355467,
          -0.26930717038848323,
          -0.5021951885006355,
          0.2526883247094073,
          -1.6581072814366244,
          -0.9829489286671428,
          0.3110804762010143,
          1.7189715803691583,
          0.20830928060301285,
          -0.729721483323263,
          -0.6472670362627534,
          0.3308526113256317,
          -1.2576301538162142,
          0.8578593551258539,
          0.1531917677976979,
          -1.4114793851091527,
          -0.7115824294309413,
          -0.650709281596651,
          -0.1797312135856715,
          -0.11129089263187959,
          0.8212644920402455,
          1.436643439487427,
          0.13506679470142205,
          -1.8462888693119657,
          3.203862495207228,
          0.5752222157505211,
          -0.28073796158962405,
          -0.8701286346240297,
          -1.8053420321718303,
          -1.8486942668584059,
          -0.5068460253551225,
          0.4987691045688844,
          -0.29005597513570286,
          0.9466939194327922,
          -0.6089183281809548,
          1.1417672338470617,
          -1.088662793594401,
          0.3643038000710208,
          -0.17898847966887502,
          -0.3451979256630047,
          0.8251441391588759,
          0.16051005723422476,
          -0.44254706983371356,
          -1.2568846638341369,
          0.5454228020711138,
          1.9552256234010204,
          -0.6337597480361455,
          0.26811263823655834,
          -0.12564519258363752,
          -0.004471482700457042,
          0.5984273818105452,
          -0.330062734246072,
          -2.2387209249844617,
          -1.8689651177427342,
          -1.110306320474275,
          0.7316123635486081,
          1.7097634472311631,
          -0.9646968649446509,
          1.607143723636374,
          -1.1133374146289832,
          0.3675698426196052,
          -1.47843347031786,
          -0.824001464782571,
          1.290645718979975,
          -0.3210143193836279,
          1.0794651265744086,
          0.11045871143526716,
          0.380385812050898,
          0.27005574992279774,
          -0.2113174148967174,
          -1.1717258088038764,
          -0.17229510893765648,
          0.9314307265527947,
          -0.387760509132024,
          -0.35271724025565754,
          -0.8488360226083353,
          -1.025655885301656,
          0.26384085787714573,
          1.8120787607099624,
          0.9100289597930974,
          0.12666333933874754,
          0.11588791987941716,
          -1.9145334684976296,
          1.5043947128368997
         ]
        },
        {
         "connectgaps": false,
         "fill": "tozeroy",
         "line": {
          "color": "green",
          "dash": "solid",
          "shape": "linear",
          "width": 0.5
         },
         "mode": "lines",
         "name": "Spread",
         "showlegend": false,
         "type": "scatter",
         "x": [
          0,
          1,
          2,
          3,
          4,
          5,
          6,
          7,
          8,
          9,
          10,
          11,
          12,
          13,
          14,
          15,
          16,
          17,
          18,
          19,
          20,
          21,
          22,
          23,
          24,
          25,
          26,
          27,
          28,
          29,
          30,
          31,
          32,
          33,
          34,
          35,
          36,
          37,
          38,
          39,
          40,
          41,
          42,
          43,
          44,
          45,
          46,
          47,
          48,
          49,
          50,
          51,
          52,
          53,
          54,
          55,
          56,
          57,
          58,
          59,
          60,
          61,
          62,
          63,
          64,
          65,
          66,
          67,
          68,
          69,
          70,
          71,
          72,
          73,
          74,
          75,
          76,
          77,
          78,
          79,
          80,
          81,
          82,
          83,
          84,
          85,
          86,
          87,
          88,
          89,
          90,
          91,
          92,
          93,
          94,
          95,
          96,
          97,
          98,
          99
         ],
         "xaxis": "x2",
         "y": [
          2.422514563426426,
          "",
          1.0627111286806623,
          1.730243495090407,
          "",
          3.2243549697712663,
          "",
          1.0294982123256502,
          "",
          1.2372624751939212,
          "",
          "",
          "",
          2.9731328018878336,
          "",
          2.596294929972754,
          0.9380438648214436,
          "",
          0.5072328010955354,
          "",
          0.48453221995440643,
          0.25400053192672545,
          "",
          "",
          "",
          1.5014964357498757,
          0.7307004539053591,
          "",
          0.4633714358943193,
          0.4858936086607014,
          1.0028231099172515,
          1.066383668423488,
          0.6235666359688472,
          0.1327701504487897,
          0.881875343034286,
          0.1629071680629411,
          "",
          "",
          "",
          3.5052451165043337,
          "",
          0.05864332613443357,
          0.8050407353898892,
          1.300801303898281,
          2.459645946048578,
          2.519088751536413,
          0.05102560557598551,
          "",
          "",
          "",
          1.3359545725943227,
          "",
          0.3260167022148376,
          "",
          1.0216246717704847,
          "",
          "",
          0.39990138456498125,
          0.7373897286322203,
          0.8133361552549568,
          "",
          "",
          1.0585604463650002,
          "",
          "",
          1.6895316000539642,
          "",
          0.9701206206842912,
          "",
          2.0937192500000923,
          0.8050851915470827,
          "",
          "",
          2.5344289607596275,
          "",
          0.6328510506561018,
          1.3336819571601355,
          "",
          1.9006488413222256,
          "",
          "",
          "",
          "",
          "",
          "",
          "",
          0.9979102227473262,
          "",
          "",
          0.006265801320002429,
          0.3039166238490909,
          "",
          1.2983528950982786,
          "",
          "",
          "",
          0.698277966672223,
          0.007288154123212223,
          2.06950279869917,
          0.43611973336199306
         ],
         "yaxis": "y2"
        },
        {
         "connectgaps": false,
         "fill": "tozeroy",
         "line": {
          "color": "red",
          "dash": "solid",
          "shape": "linear",
          "width": 0.5
         },
         "mode": "lines",
         "name": "Spread",
         "showlegend": false,
         "type": "scatter",
         "x": [
          0,
          1,
          2,
          3,
          4,
          5,
          6,
          7,
          8,
          9,
          10,
          11,
          12,
          13,
          14,
          15,
          16,
          17,
          18,
          19,
          20,
          21,
          22,
          23,
          24,
          25,
          26,
          27,
          28,
          29,
          30,
          31,
          32,
          33,
          34,
          35,
          36,
          37,
          38,
          39,
          40,
          41,
          42,
          43,
          44,
          45,
          46,
          47,
          48,
          49,
          50,
          51,
          52,
          53,
          54,
          55,
          56,
          57,
          58,
          59,
          60,
          61,
          62,
          63,
          64,
          65,
          66,
          67,
          68,
          69,
          70,
          71,
          72,
          73,
          74,
          75,
          76,
          77,
          78,
          79,
          80,
          81,
          82,
          83,
          84,
          85,
          86,
          87,
          88,
          89,
          90,
          91,
          92,
          93,
          94,
          95,
          96,
          97,
          98,
          99
         ],
         "xaxis": "x2",
         "y": [
          "",
          -0.45466751700251506,
          "",
          "",
          -2.148626339742596,
          "",
          -1.2446597579370418,
          "",
          -0.500027690540053,
          "",
          -0.48423247231128475,
          -1.734998032142085,
          -1.6428019787767225,
          "",
          -0.602295267687315,
          "",
          "",
          -0.27287828557315313,
          "",
          -0.35229179417425366,
          "",
          "",
          -0.23307707634324557,
          -1.7537258489835474,
          -1.959549760388432,
          "",
          "",
          -0.13221918038665842,
          "",
          "",
          "",
          "",
          "",
          "",
          "",
          "",
          -0.6003178742207391,
          -1.508029809323341,
          -0.34299166489818106,
          "",
          -2.3191994407245193,
          "",
          "",
          "",
          "",
          "",
          "",
          -2.035608164113952,
          -0.14163668346231428,
          -0.36913156736094066,
          "",
          -2.110407512214614,
          "",
          -0.37204471153395446,
          "",
          -1.1798657405221833,
          -2.312967756812739,
          "",
          "",
          "",
          -1.7823634887584672,
          -2.3960480810874283,
          "",
          -1.034886779398605,
          -0.5746755910605336,
          "",
          -0.6664803656955166,
          "",
          -0.7419500747495582,
          "",
          "",
          -1.000718735485788,
          -2.849525741197888,
          "",
          -3.2752226205278543,
          "",
          "",
          -0.252809806710494,
          "",
          -0.29193183250795174,
          -0.6326341753284449,
          -1.396161615435093,
          -1.0074522481425192,
          -2.1537677987719954,
          -0.6668592536623448,
          -0.2525419004695674,
          "",
          -0.6892523936865915,
          -0.39453996071291497,
          "",
          "",
          -0.09965866953539149,
          "",
          -0.05049424576265074,
          -2.0471010685163384,
          -1.0158149845067765,
          "",
          "",
          "",
          ""
         ],
         "yaxis": "y2"
        }
       ],
       "layout": {
        "hovermode": "x",
        "legend": {
         "bgcolor": "#F5F6F9",
         "font": {
          "color": "#4D5663"
         }
        },
        "paper_bgcolor": "#F5F6F9",
        "plot_bgcolor": "#F5F6F9",
        "template": {
         "data": {
          "bar": [
           {
            "error_x": {
             "color": "#2a3f5f"
            },
            "error_y": {
             "color": "#2a3f5f"
            },
            "marker": {
             "line": {
              "color": "#E5ECF6",
              "width": 0.5
             },
             "pattern": {
              "fillmode": "overlay",
              "size": 10,
              "solidity": 0.2
             }
            },
            "type": "bar"
           }
          ],
          "barpolar": [
           {
            "marker": {
             "line": {
              "color": "#E5ECF6",
              "width": 0.5
             },
             "pattern": {
              "fillmode": "overlay",
              "size": 10,
              "solidity": 0.2
             }
            },
            "type": "barpolar"
           }
          ],
          "carpet": [
           {
            "aaxis": {
             "endlinecolor": "#2a3f5f",
             "gridcolor": "white",
             "linecolor": "white",
             "minorgridcolor": "white",
             "startlinecolor": "#2a3f5f"
            },
            "baxis": {
             "endlinecolor": "#2a3f5f",
             "gridcolor": "white",
             "linecolor": "white",
             "minorgridcolor": "white",
             "startlinecolor": "#2a3f5f"
            },
            "type": "carpet"
           }
          ],
          "choropleth": [
           {
            "colorbar": {
             "outlinewidth": 0,
             "ticks": ""
            },
            "type": "choropleth"
           }
          ],
          "contour": [
           {
            "colorbar": {
             "outlinewidth": 0,
             "ticks": ""
            },
            "colorscale": [
             [
              0,
              "#0d0887"
             ],
             [
              0.1111111111111111,
              "#46039f"
             ],
             [
              0.2222222222222222,
              "#7201a8"
             ],
             [
              0.3333333333333333,
              "#9c179e"
             ],
             [
              0.4444444444444444,
              "#bd3786"
             ],
             [
              0.5555555555555556,
              "#d8576b"
             ],
             [
              0.6666666666666666,
              "#ed7953"
             ],
             [
              0.7777777777777778,
              "#fb9f3a"
             ],
             [
              0.8888888888888888,
              "#fdca26"
             ],
             [
              1,
              "#f0f921"
             ]
            ],
            "type": "contour"
           }
          ],
          "contourcarpet": [
           {
            "colorbar": {
             "outlinewidth": 0,
             "ticks": ""
            },
            "type": "contourcarpet"
           }
          ],
          "heatmap": [
           {
            "colorbar": {
             "outlinewidth": 0,
             "ticks": ""
            },
            "colorscale": [
             [
              0,
              "#0d0887"
             ],
             [
              0.1111111111111111,
              "#46039f"
             ],
             [
              0.2222222222222222,
              "#7201a8"
             ],
             [
              0.3333333333333333,
              "#9c179e"
             ],
             [
              0.4444444444444444,
              "#bd3786"
             ],
             [
              0.5555555555555556,
              "#d8576b"
             ],
             [
              0.6666666666666666,
              "#ed7953"
             ],
             [
              0.7777777777777778,
              "#fb9f3a"
             ],
             [
              0.8888888888888888,
              "#fdca26"
             ],
             [
              1,
              "#f0f921"
             ]
            ],
            "type": "heatmap"
           }
          ],
          "heatmapgl": [
           {
            "colorbar": {
             "outlinewidth": 0,
             "ticks": ""
            },
            "colorscale": [
             [
              0,
              "#0d0887"
             ],
             [
              0.1111111111111111,
              "#46039f"
             ],
             [
              0.2222222222222222,
              "#7201a8"
             ],
             [
              0.3333333333333333,
              "#9c179e"
             ],
             [
              0.4444444444444444,
              "#bd3786"
             ],
             [
              0.5555555555555556,
              "#d8576b"
             ],
             [
              0.6666666666666666,
              "#ed7953"
             ],
             [
              0.7777777777777778,
              "#fb9f3a"
             ],
             [
              0.8888888888888888,
              "#fdca26"
             ],
             [
              1,
              "#f0f921"
             ]
            ],
            "type": "heatmapgl"
           }
          ],
          "histogram": [
           {
            "marker": {
             "pattern": {
              "fillmode": "overlay",
              "size": 10,
              "solidity": 0.2
             }
            },
            "type": "histogram"
           }
          ],
          "histogram2d": [
           {
            "colorbar": {
             "outlinewidth": 0,
             "ticks": ""
            },
            "colorscale": [
             [
              0,
              "#0d0887"
             ],
             [
              0.1111111111111111,
              "#46039f"
             ],
             [
              0.2222222222222222,
              "#7201a8"
             ],
             [
              0.3333333333333333,
              "#9c179e"
             ],
             [
              0.4444444444444444,
              "#bd3786"
             ],
             [
              0.5555555555555556,
              "#d8576b"
             ],
             [
              0.6666666666666666,
              "#ed7953"
             ],
             [
              0.7777777777777778,
              "#fb9f3a"
             ],
             [
              0.8888888888888888,
              "#fdca26"
             ],
             [
              1,
              "#f0f921"
             ]
            ],
            "type": "histogram2d"
           }
          ],
          "histogram2dcontour": [
           {
            "colorbar": {
             "outlinewidth": 0,
             "ticks": ""
            },
            "colorscale": [
             [
              0,
              "#0d0887"
             ],
             [
              0.1111111111111111,
              "#46039f"
             ],
             [
              0.2222222222222222,
              "#7201a8"
             ],
             [
              0.3333333333333333,
              "#9c179e"
             ],
             [
              0.4444444444444444,
              "#bd3786"
             ],
             [
              0.5555555555555556,
              "#d8576b"
             ],
             [
              0.6666666666666666,
              "#ed7953"
             ],
             [
              0.7777777777777778,
              "#fb9f3a"
             ],
             [
              0.8888888888888888,
              "#fdca26"
             ],
             [
              1,
              "#f0f921"
             ]
            ],
            "type": "histogram2dcontour"
           }
          ],
          "mesh3d": [
           {
            "colorbar": {
             "outlinewidth": 0,
             "ticks": ""
            },
            "type": "mesh3d"
           }
          ],
          "parcoords": [
           {
            "line": {
             "colorbar": {
              "outlinewidth": 0,
              "ticks": ""
             }
            },
            "type": "parcoords"
           }
          ],
          "pie": [
           {
            "automargin": true,
            "type": "pie"
           }
          ],
          "scatter": [
           {
            "fillpattern": {
             "fillmode": "overlay",
             "size": 10,
             "solidity": 0.2
            },
            "type": "scatter"
           }
          ],
          "scatter3d": [
           {
            "line": {
             "colorbar": {
              "outlinewidth": 0,
              "ticks": ""
             }
            },
            "marker": {
             "colorbar": {
              "outlinewidth": 0,
              "ticks": ""
             }
            },
            "type": "scatter3d"
           }
          ],
          "scattercarpet": [
           {
            "marker": {
             "colorbar": {
              "outlinewidth": 0,
              "ticks": ""
             }
            },
            "type": "scattercarpet"
           }
          ],
          "scattergeo": [
           {
            "marker": {
             "colorbar": {
              "outlinewidth": 0,
              "ticks": ""
             }
            },
            "type": "scattergeo"
           }
          ],
          "scattergl": [
           {
            "marker": {
             "colorbar": {
              "outlinewidth": 0,
              "ticks": ""
             }
            },
            "type": "scattergl"
           }
          ],
          "scattermapbox": [
           {
            "marker": {
             "colorbar": {
              "outlinewidth": 0,
              "ticks": ""
             }
            },
            "type": "scattermapbox"
           }
          ],
          "scatterpolar": [
           {
            "marker": {
             "colorbar": {
              "outlinewidth": 0,
              "ticks": ""
             }
            },
            "type": "scatterpolar"
           }
          ],
          "scatterpolargl": [
           {
            "marker": {
             "colorbar": {
              "outlinewidth": 0,
              "ticks": ""
             }
            },
            "type": "scatterpolargl"
           }
          ],
          "scatterternary": [
           {
            "marker": {
             "colorbar": {
              "outlinewidth": 0,
              "ticks": ""
             }
            },
            "type": "scatterternary"
           }
          ],
          "surface": [
           {
            "colorbar": {
             "outlinewidth": 0,
             "ticks": ""
            },
            "colorscale": [
             [
              0,
              "#0d0887"
             ],
             [
              0.1111111111111111,
              "#46039f"
             ],
             [
              0.2222222222222222,
              "#7201a8"
             ],
             [
              0.3333333333333333,
              "#9c179e"
             ],
             [
              0.4444444444444444,
              "#bd3786"
             ],
             [
              0.5555555555555556,
              "#d8576b"
             ],
             [
              0.6666666666666666,
              "#ed7953"
             ],
             [
              0.7777777777777778,
              "#fb9f3a"
             ],
             [
              0.8888888888888888,
              "#fdca26"
             ],
             [
              1,
              "#f0f921"
             ]
            ],
            "type": "surface"
           }
          ],
          "table": [
           {
            "cells": {
             "fill": {
              "color": "#EBF0F8"
             },
             "line": {
              "color": "white"
             }
            },
            "header": {
             "fill": {
              "color": "#C8D4E3"
             },
             "line": {
              "color": "white"
             }
            },
            "type": "table"
           }
          ]
         },
         "layout": {
          "annotationdefaults": {
           "arrowcolor": "#2a3f5f",
           "arrowhead": 0,
           "arrowwidth": 1
          },
          "autotypenumbers": "strict",
          "coloraxis": {
           "colorbar": {
            "outlinewidth": 0,
            "ticks": ""
           }
          },
          "colorscale": {
           "diverging": [
            [
             0,
             "#8e0152"
            ],
            [
             0.1,
             "#c51b7d"
            ],
            [
             0.2,
             "#de77ae"
            ],
            [
             0.3,
             "#f1b6da"
            ],
            [
             0.4,
             "#fde0ef"
            ],
            [
             0.5,
             "#f7f7f7"
            ],
            [
             0.6,
             "#e6f5d0"
            ],
            [
             0.7,
             "#b8e186"
            ],
            [
             0.8,
             "#7fbc41"
            ],
            [
             0.9,
             "#4d9221"
            ],
            [
             1,
             "#276419"
            ]
           ],
           "sequential": [
            [
             0,
             "#0d0887"
            ],
            [
             0.1111111111111111,
             "#46039f"
            ],
            [
             0.2222222222222222,
             "#7201a8"
            ],
            [
             0.3333333333333333,
             "#9c179e"
            ],
            [
             0.4444444444444444,
             "#bd3786"
            ],
            [
             0.5555555555555556,
             "#d8576b"
            ],
            [
             0.6666666666666666,
             "#ed7953"
            ],
            [
             0.7777777777777778,
             "#fb9f3a"
            ],
            [
             0.8888888888888888,
             "#fdca26"
            ],
            [
             1,
             "#f0f921"
            ]
           ],
           "sequentialminus": [
            [
             0,
             "#0d0887"
            ],
            [
             0.1111111111111111,
             "#46039f"
            ],
            [
             0.2222222222222222,
             "#7201a8"
            ],
            [
             0.3333333333333333,
             "#9c179e"
            ],
            [
             0.4444444444444444,
             "#bd3786"
            ],
            [
             0.5555555555555556,
             "#d8576b"
            ],
            [
             0.6666666666666666,
             "#ed7953"
            ],
            [
             0.7777777777777778,
             "#fb9f3a"
            ],
            [
             0.8888888888888888,
             "#fdca26"
            ],
            [
             1,
             "#f0f921"
            ]
           ]
          },
          "colorway": [
           "#636efa",
           "#EF553B",
           "#00cc96",
           "#ab63fa",
           "#FFA15A",
           "#19d3f3",
           "#FF6692",
           "#B6E880",
           "#FF97FF",
           "#FECB52"
          ],
          "font": {
           "color": "#2a3f5f"
          },
          "geo": {
           "bgcolor": "white",
           "lakecolor": "white",
           "landcolor": "#E5ECF6",
           "showlakes": true,
           "showland": true,
           "subunitcolor": "white"
          },
          "hoverlabel": {
           "align": "left"
          },
          "hovermode": "closest",
          "mapbox": {
           "style": "light"
          },
          "paper_bgcolor": "white",
          "plot_bgcolor": "#E5ECF6",
          "polar": {
           "angularaxis": {
            "gridcolor": "white",
            "linecolor": "white",
            "ticks": ""
           },
           "bgcolor": "#E5ECF6",
           "radialaxis": {
            "gridcolor": "white",
            "linecolor": "white",
            "ticks": ""
           }
          },
          "scene": {
           "xaxis": {
            "backgroundcolor": "#E5ECF6",
            "gridcolor": "white",
            "gridwidth": 2,
            "linecolor": "white",
            "showbackground": true,
            "ticks": "",
            "zerolinecolor": "white"
           },
           "yaxis": {
            "backgroundcolor": "#E5ECF6",
            "gridcolor": "white",
            "gridwidth": 2,
            "linecolor": "white",
            "showbackground": true,
            "ticks": "",
            "zerolinecolor": "white"
           },
           "zaxis": {
            "backgroundcolor": "#E5ECF6",
            "gridcolor": "white",
            "gridwidth": 2,
            "linecolor": "white",
            "showbackground": true,
            "ticks": "",
            "zerolinecolor": "white"
           }
          },
          "shapedefaults": {
           "line": {
            "color": "#2a3f5f"
           }
          },
          "ternary": {
           "aaxis": {
            "gridcolor": "white",
            "linecolor": "white",
            "ticks": ""
           },
           "baxis": {
            "gridcolor": "white",
            "linecolor": "white",
            "ticks": ""
           },
           "bgcolor": "#E5ECF6",
           "caxis": {
            "gridcolor": "white",
            "linecolor": "white",
            "ticks": ""
           }
          },
          "title": {
           "x": 0.05
          },
          "xaxis": {
           "automargin": true,
           "gridcolor": "white",
           "linecolor": "white",
           "ticks": "",
           "title": {
            "standoff": 15
           },
           "zerolinecolor": "white",
           "zerolinewidth": 2
          },
          "yaxis": {
           "automargin": true,
           "gridcolor": "white",
           "linecolor": "white",
           "ticks": "",
           "title": {
            "standoff": 15
           },
           "zerolinecolor": "white",
           "zerolinewidth": 2
          }
         }
        },
        "title": {
         "font": {
          "color": "#4D5663"
         }
        },
        "xaxis": {
         "gridcolor": "#E1E5ED",
         "showgrid": true,
         "tickfont": {
          "color": "#4D5663"
         },
         "title": {
          "font": {
           "color": "#4D5663"
          },
          "text": ""
         },
         "zerolinecolor": "#E1E5ED"
        },
        "xaxis2": {
         "anchor": "y2",
         "gridcolor": "#E1E5ED",
         "showgrid": true,
         "showticklabels": false,
         "tickfont": {
          "color": "#4D5663"
         },
         "title": {
          "font": {
           "color": "#4D5663"
          },
          "text": ""
         },
         "zerolinecolor": "#E1E5ED"
        },
        "yaxis": {
         "domain": [
          0.3,
          1
         ],
         "gridcolor": "#E1E5ED",
         "showgrid": true,
         "tickfont": {
          "color": "#4D5663"
         },
         "title": {
          "font": {
           "color": "#4D5663"
          },
          "text": ""
         },
         "zerolinecolor": "#E1E5ED"
        },
        "yaxis2": {
         "domain": [
          0,
          0.25
         ],
         "gridcolor": "#E1E5ED",
         "showgrid": true,
         "tickfont": {
          "color": "#4D5663"
         },
         "title": {
          "font": {
           "color": "#4D5663"
          },
          "text": "Spread"
         },
         "zerolinecolor": "#E1E5ED"
        }
       }
      },
      "text/html": [
       "<div>                            <div id=\"049299e3-f30b-409f-bdcb-0ce159dc7121\" class=\"plotly-graph-div\" style=\"height:525px; width:100%;\"></div>            <script type=\"text/javascript\">                require([\"plotly\"], function(Plotly) {                    window.PLOTLYENV=window.PLOTLYENV || {};\n",
       "                    window.PLOTLYENV.BASE_URL='https://plot.ly';                                    if (document.getElementById(\"049299e3-f30b-409f-bdcb-0ce159dc7121\")) {                    Plotly.newPlot(                        \"049299e3-f30b-409f-bdcb-0ce159dc7121\",                        [{\"line\":{\"color\":\"rgba(255, 153, 51, 1.0)\",\"dash\":\"solid\",\"shape\":\"linear\",\"width\":1.3},\"mode\":\"lines\",\"name\":\"A\",\"text\":\"\",\"x\":[0,1,2,3,4,5,6,7,8,9,10,11,12,13,14,15,16,17,18,19,20,21,22,23,24,25,26,27,28,29,30,31,32,33,34,35,36,37,38,39,40,41,42,43,44,45,46,47,48,49,50,51,52,53,54,55,56,57,58,59,60,61,62,63,64,65,66,67,68,69,70,71,72,73,74,75,76,77,78,79,80,81,82,83,84,85,86,87,88,89,90,91,92,93,94,95,96,97,98,99],\"y\":[0.10762388526296199,-0.7564418891284865,1.6126540986511892,0.7775682923362824,-0.5952959854744313,2.7165296870543663,-0.8418041837494875,0.4520263613717429,-1.1811618010748057,1.3017114072144773,1.3272738483408182,-1.2571625619582165,-1.5851832427856685,2.207114710090944,-0.9858571233790321,0.6254103733582416,1.1170542864569903,-0.5421854559616364,0.005037612594899869,-0.09960346946484637,-1.173575061482218,-0.7289483967404173,0.07800339985776875,-0.034754268614389135,-1.751240479785419,0.7717749524266126,0.08343341764260574,0.1986334309389733,-0.794258717921895,1.3437529637865553,1.1560148777149495,-0.34509571668566474,-0.0880157934620941,-0.5179391311478613,0.7021441294486146,0.05161627543106151,0.2209466178195064,-0.07138636983591397,-0.207924870196759,1.658956247192368,0.8846630544827088,0.6338655418849547,0.5243027738002651,0.4306726692742513,0.6543039138767474,0.6703944846780071,-0.45582041977913695,-1.5368390595450678,-0.43169265859801714,0.5775623520718516,0.7270362444133679,-0.9686402783675524,-0.7626460913795635,-0.007740911462933657,0.8426361921016096,-1.525063666185188,-1.4878236176538635,0.560411441799206,0.29484265879850674,-0.44354850857918005,-1.2369406866873534,-0.4408224576864079,0.42480069832885475,-0.7667741411620467,-0.700320783644171,1.6850601173535071,-0.06805298388497137,0.6400578864382191,-2.98067099973402,0.2247541322573582,-0.3052211289271923,-0.26910637193717996,-1.1397622939667247,1.5697320958149767,-1.6680788968914804,-0.4804863639728813,1.7012517997797407,-1.7312432770283541,1.0766473765396547,0.9987138864720232,-0.9536484947120728,-0.3166964888606845,-0.896993536707252,-1.7733819867210974,-0.39680350373954704,-0.46385931536628483,-0.17381558605655018,-0.861547502624248,0.5368907658398797,-0.38149470781202155,-0.04880061640656663,-0.9484946921437268,0.27269700979662254,0.213346612114495,-0.23502230780637598,-0.10578602471367916,0.8249413060109705,0.12317607400262938,0.1549693302015403,1.9405144461988928],\"type\":\"scatter\"},{\"line\":{\"color\":\"rgba(55, 128, 191, 1.0)\",\"dash\":\"solid\",\"shape\":\"linear\",\"width\":1.3},\"mode\":\"lines\",\"name\":\"B\",\"text\":\"\",\"x\":[0,1,2,3,4,5,6,7,8,9,10,11,12,13,14,15,16,17,18,19,20,21,22,23,24,25,26,27,28,29,30,31,32,33,34,35,36,37,38,39,40,41,42,43,44,45,46,47,48,49,50,51,52,53,54,55,56,57,58,59,60,61,62,63,64,65,66,67,68,69,70,71,72,73,74,75,76,77,78,79,80,81,82,83,84,85,86,87,88,89,90,91,92,93,94,95,96,97,98,99],\"y\":[-2.314890678163464,-0.30177437212597147,0.5499429699705268,-0.9526752027541245,1.5533303542681645,-0.5078252827169001,0.4028555741875542,-0.5774718509539073,-0.6811341105347527,0.0644489320205561,1.811506320652103,0.4778354701838685,0.05761873599105411,-0.7660180917968894,-0.383561855691717,-1.9708845566145123,0.1790104216355467,-0.26930717038848323,-0.5021951885006355,0.2526883247094073,-1.6581072814366244,-0.9829489286671428,0.3110804762010143,1.7189715803691583,0.20830928060301285,-0.729721483323263,-0.6472670362627534,0.3308526113256317,-1.2576301538162142,0.8578593551258539,0.1531917677976979,-1.4114793851091527,-0.7115824294309413,-0.650709281596651,-0.1797312135856715,-0.11129089263187959,0.8212644920402455,1.436643439487427,0.13506679470142205,-1.8462888693119657,3.203862495207228,0.5752222157505211,-0.28073796158962405,-0.8701286346240297,-1.8053420321718303,-1.8486942668584059,-0.5068460253551225,0.4987691045688844,-0.29005597513570286,0.9466939194327922,-0.6089183281809548,1.1417672338470617,-1.088662793594401,0.3643038000710208,-0.17898847966887502,-0.3451979256630047,0.8251441391588759,0.16051005723422476,-0.44254706983371356,-1.2568846638341369,0.5454228020711138,1.9552256234010204,-0.6337597480361455,0.26811263823655834,-0.12564519258363752,-0.004471482700457042,0.5984273818105452,-0.330062734246072,-2.2387209249844617,-1.8689651177427342,-1.110306320474275,0.7316123635486081,1.7097634472311631,-0.9646968649446509,1.607143723636374,-1.1133374146289832,0.3675698426196052,-1.47843347031786,-0.824001464782571,1.290645718979975,-0.3210143193836279,1.0794651265744086,0.11045871143526716,0.380385812050898,0.27005574992279774,-0.2113174148967174,-1.1717258088038764,-0.17229510893765648,0.9314307265527947,-0.387760509132024,-0.35271724025565754,-0.8488360226083353,-1.025655885301656,0.26384085787714573,1.8120787607099624,0.9100289597930974,0.12666333933874754,0.11588791987941716,-1.9145334684976296,1.5043947128368997],\"type\":\"scatter\"},{\"connectgaps\":false,\"fill\":\"tozeroy\",\"line\":{\"color\":\"green\",\"dash\":\"solid\",\"shape\":\"linear\",\"width\":0.5},\"mode\":\"lines\",\"name\":\"Spread\",\"showlegend\":false,\"x\":[0,1,2,3,4,5,6,7,8,9,10,11,12,13,14,15,16,17,18,19,20,21,22,23,24,25,26,27,28,29,30,31,32,33,34,35,36,37,38,39,40,41,42,43,44,45,46,47,48,49,50,51,52,53,54,55,56,57,58,59,60,61,62,63,64,65,66,67,68,69,70,71,72,73,74,75,76,77,78,79,80,81,82,83,84,85,86,87,88,89,90,91,92,93,94,95,96,97,98,99],\"xaxis\":\"x2\",\"y\":[2.422514563426426,\"\",1.0627111286806623,1.730243495090407,\"\",3.2243549697712663,\"\",1.0294982123256502,\"\",1.2372624751939212,\"\",\"\",\"\",2.9731328018878336,\"\",2.596294929972754,0.9380438648214436,\"\",0.5072328010955354,\"\",0.48453221995440643,0.25400053192672545,\"\",\"\",\"\",1.5014964357498757,0.7307004539053591,\"\",0.4633714358943193,0.4858936086607014,1.0028231099172515,1.066383668423488,0.6235666359688472,0.1327701504487897,0.881875343034286,0.1629071680629411,\"\",\"\",\"\",3.5052451165043337,\"\",0.05864332613443357,0.8050407353898892,1.300801303898281,2.459645946048578,2.519088751536413,0.05102560557598551,\"\",\"\",\"\",1.3359545725943227,\"\",0.3260167022148376,\"\",1.0216246717704847,\"\",\"\",0.39990138456498125,0.7373897286322203,0.8133361552549568,\"\",\"\",1.0585604463650002,\"\",\"\",1.6895316000539642,\"\",0.9701206206842912,\"\",2.0937192500000923,0.8050851915470827,\"\",\"\",2.5344289607596275,\"\",0.6328510506561018,1.3336819571601355,\"\",1.9006488413222256,\"\",\"\",\"\",\"\",\"\",\"\",\"\",0.9979102227473262,\"\",\"\",0.006265801320002429,0.3039166238490909,\"\",1.2983528950982786,\"\",\"\",\"\",0.698277966672223,0.007288154123212223,2.06950279869917,0.43611973336199306],\"yaxis\":\"y2\",\"type\":\"scatter\"},{\"connectgaps\":false,\"fill\":\"tozeroy\",\"line\":{\"color\":\"red\",\"dash\":\"solid\",\"shape\":\"linear\",\"width\":0.5},\"mode\":\"lines\",\"name\":\"Spread\",\"showlegend\":false,\"x\":[0,1,2,3,4,5,6,7,8,9,10,11,12,13,14,15,16,17,18,19,20,21,22,23,24,25,26,27,28,29,30,31,32,33,34,35,36,37,38,39,40,41,42,43,44,45,46,47,48,49,50,51,52,53,54,55,56,57,58,59,60,61,62,63,64,65,66,67,68,69,70,71,72,73,74,75,76,77,78,79,80,81,82,83,84,85,86,87,88,89,90,91,92,93,94,95,96,97,98,99],\"xaxis\":\"x2\",\"y\":[\"\",-0.45466751700251506,\"\",\"\",-2.148626339742596,\"\",-1.2446597579370418,\"\",-0.500027690540053,\"\",-0.48423247231128475,-1.734998032142085,-1.6428019787767225,\"\",-0.602295267687315,\"\",\"\",-0.27287828557315313,\"\",-0.35229179417425366,\"\",\"\",-0.23307707634324557,-1.7537258489835474,-1.959549760388432,\"\",\"\",-0.13221918038665842,\"\",\"\",\"\",\"\",\"\",\"\",\"\",\"\",-0.6003178742207391,-1.508029809323341,-0.34299166489818106,\"\",-2.3191994407245193,\"\",\"\",\"\",\"\",\"\",\"\",-2.035608164113952,-0.14163668346231428,-0.36913156736094066,\"\",-2.110407512214614,\"\",-0.37204471153395446,\"\",-1.1798657405221833,-2.312967756812739,\"\",\"\",\"\",-1.7823634887584672,-2.3960480810874283,\"\",-1.034886779398605,-0.5746755910605336,\"\",-0.6664803656955166,\"\",-0.7419500747495582,\"\",\"\",-1.000718735485788,-2.849525741197888,\"\",-3.2752226205278543,\"\",\"\",-0.252809806710494,\"\",-0.29193183250795174,-0.6326341753284449,-1.396161615435093,-1.0074522481425192,-2.1537677987719954,-0.6668592536623448,-0.2525419004695674,\"\",-0.6892523936865915,-0.39453996071291497,\"\",\"\",-0.09965866953539149,\"\",-0.05049424576265074,-2.0471010685163384,-1.0158149845067765,\"\",\"\",\"\",\"\"],\"yaxis\":\"y2\",\"type\":\"scatter\"}],                        {\"hovermode\":\"x\",\"legend\":{\"bgcolor\":\"#F5F6F9\",\"font\":{\"color\":\"#4D5663\"}},\"paper_bgcolor\":\"#F5F6F9\",\"plot_bgcolor\":\"#F5F6F9\",\"template\":{\"data\":{\"barpolar\":[{\"marker\":{\"line\":{\"color\":\"#E5ECF6\",\"width\":0.5},\"pattern\":{\"fillmode\":\"overlay\",\"size\":10,\"solidity\":0.2}},\"type\":\"barpolar\"}],\"bar\":[{\"error_x\":{\"color\":\"#2a3f5f\"},\"error_y\":{\"color\":\"#2a3f5f\"},\"marker\":{\"line\":{\"color\":\"#E5ECF6\",\"width\":0.5},\"pattern\":{\"fillmode\":\"overlay\",\"size\":10,\"solidity\":0.2}},\"type\":\"bar\"}],\"carpet\":[{\"aaxis\":{\"endlinecolor\":\"#2a3f5f\",\"gridcolor\":\"white\",\"linecolor\":\"white\",\"minorgridcolor\":\"white\",\"startlinecolor\":\"#2a3f5f\"},\"baxis\":{\"endlinecolor\":\"#2a3f5f\",\"gridcolor\":\"white\",\"linecolor\":\"white\",\"minorgridcolor\":\"white\",\"startlinecolor\":\"#2a3f5f\"},\"type\":\"carpet\"}],\"choropleth\":[{\"colorbar\":{\"outlinewidth\":0,\"ticks\":\"\"},\"type\":\"choropleth\"}],\"contourcarpet\":[{\"colorbar\":{\"outlinewidth\":0,\"ticks\":\"\"},\"type\":\"contourcarpet\"}],\"contour\":[{\"colorbar\":{\"outlinewidth\":0,\"ticks\":\"\"},\"colorscale\":[[0.0,\"#0d0887\"],[0.1111111111111111,\"#46039f\"],[0.2222222222222222,\"#7201a8\"],[0.3333333333333333,\"#9c179e\"],[0.4444444444444444,\"#bd3786\"],[0.5555555555555556,\"#d8576b\"],[0.6666666666666666,\"#ed7953\"],[0.7777777777777778,\"#fb9f3a\"],[0.8888888888888888,\"#fdca26\"],[1.0,\"#f0f921\"]],\"type\":\"contour\"}],\"heatmapgl\":[{\"colorbar\":{\"outlinewidth\":0,\"ticks\":\"\"},\"colorscale\":[[0.0,\"#0d0887\"],[0.1111111111111111,\"#46039f\"],[0.2222222222222222,\"#7201a8\"],[0.3333333333333333,\"#9c179e\"],[0.4444444444444444,\"#bd3786\"],[0.5555555555555556,\"#d8576b\"],[0.6666666666666666,\"#ed7953\"],[0.7777777777777778,\"#fb9f3a\"],[0.8888888888888888,\"#fdca26\"],[1.0,\"#f0f921\"]],\"type\":\"heatmapgl\"}],\"heatmap\":[{\"colorbar\":{\"outlinewidth\":0,\"ticks\":\"\"},\"colorscale\":[[0.0,\"#0d0887\"],[0.1111111111111111,\"#46039f\"],[0.2222222222222222,\"#7201a8\"],[0.3333333333333333,\"#9c179e\"],[0.4444444444444444,\"#bd3786\"],[0.5555555555555556,\"#d8576b\"],[0.6666666666666666,\"#ed7953\"],[0.7777777777777778,\"#fb9f3a\"],[0.8888888888888888,\"#fdca26\"],[1.0,\"#f0f921\"]],\"type\":\"heatmap\"}],\"histogram2dcontour\":[{\"colorbar\":{\"outlinewidth\":0,\"ticks\":\"\"},\"colorscale\":[[0.0,\"#0d0887\"],[0.1111111111111111,\"#46039f\"],[0.2222222222222222,\"#7201a8\"],[0.3333333333333333,\"#9c179e\"],[0.4444444444444444,\"#bd3786\"],[0.5555555555555556,\"#d8576b\"],[0.6666666666666666,\"#ed7953\"],[0.7777777777777778,\"#fb9f3a\"],[0.8888888888888888,\"#fdca26\"],[1.0,\"#f0f921\"]],\"type\":\"histogram2dcontour\"}],\"histogram2d\":[{\"colorbar\":{\"outlinewidth\":0,\"ticks\":\"\"},\"colorscale\":[[0.0,\"#0d0887\"],[0.1111111111111111,\"#46039f\"],[0.2222222222222222,\"#7201a8\"],[0.3333333333333333,\"#9c179e\"],[0.4444444444444444,\"#bd3786\"],[0.5555555555555556,\"#d8576b\"],[0.6666666666666666,\"#ed7953\"],[0.7777777777777778,\"#fb9f3a\"],[0.8888888888888888,\"#fdca26\"],[1.0,\"#f0f921\"]],\"type\":\"histogram2d\"}],\"histogram\":[{\"marker\":{\"pattern\":{\"fillmode\":\"overlay\",\"size\":10,\"solidity\":0.2}},\"type\":\"histogram\"}],\"mesh3d\":[{\"colorbar\":{\"outlinewidth\":0,\"ticks\":\"\"},\"type\":\"mesh3d\"}],\"parcoords\":[{\"line\":{\"colorbar\":{\"outlinewidth\":0,\"ticks\":\"\"}},\"type\":\"parcoords\"}],\"pie\":[{\"automargin\":true,\"type\":\"pie\"}],\"scatter3d\":[{\"line\":{\"colorbar\":{\"outlinewidth\":0,\"ticks\":\"\"}},\"marker\":{\"colorbar\":{\"outlinewidth\":0,\"ticks\":\"\"}},\"type\":\"scatter3d\"}],\"scattercarpet\":[{\"marker\":{\"colorbar\":{\"outlinewidth\":0,\"ticks\":\"\"}},\"type\":\"scattercarpet\"}],\"scattergeo\":[{\"marker\":{\"colorbar\":{\"outlinewidth\":0,\"ticks\":\"\"}},\"type\":\"scattergeo\"}],\"scattergl\":[{\"marker\":{\"colorbar\":{\"outlinewidth\":0,\"ticks\":\"\"}},\"type\":\"scattergl\"}],\"scattermapbox\":[{\"marker\":{\"colorbar\":{\"outlinewidth\":0,\"ticks\":\"\"}},\"type\":\"scattermapbox\"}],\"scatterpolargl\":[{\"marker\":{\"colorbar\":{\"outlinewidth\":0,\"ticks\":\"\"}},\"type\":\"scatterpolargl\"}],\"scatterpolar\":[{\"marker\":{\"colorbar\":{\"outlinewidth\":0,\"ticks\":\"\"}},\"type\":\"scatterpolar\"}],\"scatter\":[{\"fillpattern\":{\"fillmode\":\"overlay\",\"size\":10,\"solidity\":0.2},\"type\":\"scatter\"}],\"scatterternary\":[{\"marker\":{\"colorbar\":{\"outlinewidth\":0,\"ticks\":\"\"}},\"type\":\"scatterternary\"}],\"surface\":[{\"colorbar\":{\"outlinewidth\":0,\"ticks\":\"\"},\"colorscale\":[[0.0,\"#0d0887\"],[0.1111111111111111,\"#46039f\"],[0.2222222222222222,\"#7201a8\"],[0.3333333333333333,\"#9c179e\"],[0.4444444444444444,\"#bd3786\"],[0.5555555555555556,\"#d8576b\"],[0.6666666666666666,\"#ed7953\"],[0.7777777777777778,\"#fb9f3a\"],[0.8888888888888888,\"#fdca26\"],[1.0,\"#f0f921\"]],\"type\":\"surface\"}],\"table\":[{\"cells\":{\"fill\":{\"color\":\"#EBF0F8\"},\"line\":{\"color\":\"white\"}},\"header\":{\"fill\":{\"color\":\"#C8D4E3\"},\"line\":{\"color\":\"white\"}},\"type\":\"table\"}]},\"layout\":{\"annotationdefaults\":{\"arrowcolor\":\"#2a3f5f\",\"arrowhead\":0,\"arrowwidth\":1},\"autotypenumbers\":\"strict\",\"coloraxis\":{\"colorbar\":{\"outlinewidth\":0,\"ticks\":\"\"}},\"colorscale\":{\"diverging\":[[0,\"#8e0152\"],[0.1,\"#c51b7d\"],[0.2,\"#de77ae\"],[0.3,\"#f1b6da\"],[0.4,\"#fde0ef\"],[0.5,\"#f7f7f7\"],[0.6,\"#e6f5d0\"],[0.7,\"#b8e186\"],[0.8,\"#7fbc41\"],[0.9,\"#4d9221\"],[1,\"#276419\"]],\"sequential\":[[0.0,\"#0d0887\"],[0.1111111111111111,\"#46039f\"],[0.2222222222222222,\"#7201a8\"],[0.3333333333333333,\"#9c179e\"],[0.4444444444444444,\"#bd3786\"],[0.5555555555555556,\"#d8576b\"],[0.6666666666666666,\"#ed7953\"],[0.7777777777777778,\"#fb9f3a\"],[0.8888888888888888,\"#fdca26\"],[1.0,\"#f0f921\"]],\"sequentialminus\":[[0.0,\"#0d0887\"],[0.1111111111111111,\"#46039f\"],[0.2222222222222222,\"#7201a8\"],[0.3333333333333333,\"#9c179e\"],[0.4444444444444444,\"#bd3786\"],[0.5555555555555556,\"#d8576b\"],[0.6666666666666666,\"#ed7953\"],[0.7777777777777778,\"#fb9f3a\"],[0.8888888888888888,\"#fdca26\"],[1.0,\"#f0f921\"]]},\"colorway\":[\"#636efa\",\"#EF553B\",\"#00cc96\",\"#ab63fa\",\"#FFA15A\",\"#19d3f3\",\"#FF6692\",\"#B6E880\",\"#FF97FF\",\"#FECB52\"],\"font\":{\"color\":\"#2a3f5f\"},\"geo\":{\"bgcolor\":\"white\",\"lakecolor\":\"white\",\"landcolor\":\"#E5ECF6\",\"showlakes\":true,\"showland\":true,\"subunitcolor\":\"white\"},\"hoverlabel\":{\"align\":\"left\"},\"hovermode\":\"closest\",\"mapbox\":{\"style\":\"light\"},\"paper_bgcolor\":\"white\",\"plot_bgcolor\":\"#E5ECF6\",\"polar\":{\"angularaxis\":{\"gridcolor\":\"white\",\"linecolor\":\"white\",\"ticks\":\"\"},\"bgcolor\":\"#E5ECF6\",\"radialaxis\":{\"gridcolor\":\"white\",\"linecolor\":\"white\",\"ticks\":\"\"}},\"scene\":{\"xaxis\":{\"backgroundcolor\":\"#E5ECF6\",\"gridcolor\":\"white\",\"gridwidth\":2,\"linecolor\":\"white\",\"showbackground\":true,\"ticks\":\"\",\"zerolinecolor\":\"white\"},\"yaxis\":{\"backgroundcolor\":\"#E5ECF6\",\"gridcolor\":\"white\",\"gridwidth\":2,\"linecolor\":\"white\",\"showbackground\":true,\"ticks\":\"\",\"zerolinecolor\":\"white\"},\"zaxis\":{\"backgroundcolor\":\"#E5ECF6\",\"gridcolor\":\"white\",\"gridwidth\":2,\"linecolor\":\"white\",\"showbackground\":true,\"ticks\":\"\",\"zerolinecolor\":\"white\"}},\"shapedefaults\":{\"line\":{\"color\":\"#2a3f5f\"}},\"ternary\":{\"aaxis\":{\"gridcolor\":\"white\",\"linecolor\":\"white\",\"ticks\":\"\"},\"baxis\":{\"gridcolor\":\"white\",\"linecolor\":\"white\",\"ticks\":\"\"},\"bgcolor\":\"#E5ECF6\",\"caxis\":{\"gridcolor\":\"white\",\"linecolor\":\"white\",\"ticks\":\"\"}},\"title\":{\"x\":0.05},\"xaxis\":{\"automargin\":true,\"gridcolor\":\"white\",\"linecolor\":\"white\",\"ticks\":\"\",\"title\":{\"standoff\":15},\"zerolinecolor\":\"white\",\"zerolinewidth\":2},\"yaxis\":{\"automargin\":true,\"gridcolor\":\"white\",\"linecolor\":\"white\",\"ticks\":\"\",\"title\":{\"standoff\":15},\"zerolinecolor\":\"white\",\"zerolinewidth\":2}}},\"title\":{\"font\":{\"color\":\"#4D5663\"}},\"xaxis\":{\"gridcolor\":\"#E1E5ED\",\"showgrid\":true,\"tickfont\":{\"color\":\"#4D5663\"},\"title\":{\"font\":{\"color\":\"#4D5663\"},\"text\":\"\"},\"zerolinecolor\":\"#E1E5ED\"},\"yaxis\":{\"domain\":[0.3,1],\"gridcolor\":\"#E1E5ED\",\"showgrid\":true,\"tickfont\":{\"color\":\"#4D5663\"},\"title\":{\"font\":{\"color\":\"#4D5663\"},\"text\":\"\"},\"zerolinecolor\":\"#E1E5ED\"},\"yaxis2\":{\"domain\":[0,0.25],\"gridcolor\":\"#E1E5ED\",\"showgrid\":true,\"tickfont\":{\"color\":\"#4D5663\"},\"title\":{\"font\":{\"color\":\"#4D5663\"},\"text\":\"Spread\"},\"zerolinecolor\":\"#E1E5ED\"},\"xaxis2\":{\"anchor\":\"y2\",\"gridcolor\":\"#E1E5ED\",\"showgrid\":true,\"showticklabels\":false,\"tickfont\":{\"color\":\"#4D5663\"},\"title\":{\"font\":{\"color\":\"#4D5663\"},\"text\":\"\"},\"zerolinecolor\":\"#E1E5ED\"}},                        {\"showLink\": true, \"linkText\": \"Export to plot.ly\", \"plotlyServerURL\": \"https://plot.ly\", \"responsive\": true}                    ).then(function(){\n",
       "                            \n",
       "var gd = document.getElementById('049299e3-f30b-409f-bdcb-0ce159dc7121');\n",
       "var x = new MutationObserver(function (mutations, observer) {{\n",
       "        var display = window.getComputedStyle(gd).display;\n",
       "        if (!display || display === 'none') {{\n",
       "            console.log([gd, 'removed!']);\n",
       "            Plotly.purge(gd);\n",
       "            observer.disconnect();\n",
       "        }}\n",
       "}});\n",
       "\n",
       "// Listen for the removal of the full notebook cells\n",
       "var notebookContainer = gd.closest('#notebook-container');\n",
       "if (notebookContainer) {{\n",
       "    x.observe(notebookContainer, {childList: true});\n",
       "}}\n",
       "\n",
       "// Listen for the clearing of the current output cell\n",
       "var outputEl = gd.closest('.output');\n",
       "if (outputEl) {{\n",
       "    x.observe(outputEl, {childList: true});\n",
       "}}\n",
       "\n",
       "                        })                };                });            </script>        </div>"
      ]
     },
     "metadata": {},
     "output_type": "display_data"
    }
   ],
   "source": [
    "df[['A','B']].iplot(kind='spread')"
   ]
  },
  {
   "cell_type": "markdown",
   "metadata": {},
   "source": [
    "## histogram"
   ]
  },
  {
   "cell_type": "code",
   "execution_count": 16,
   "metadata": {
    "collapsed": false
   },
   "outputs": [
    {
     "data": {
      "application/vnd.plotly.v1+json": {
       "config": {
        "linkText": "Export to plot.ly",
        "plotlyServerURL": "https://plot.ly",
        "showLink": true
       },
       "data": [
        {
         "histfunc": "count",
         "histnorm": "",
         "marker": {
          "color": "rgba(255, 153, 51, 1.0)",
          "line": {
           "color": "#4D5663",
           "width": 1.3
          }
         },
         "name": "A",
         "nbinsx": 25,
         "opacity": 0.8,
         "orientation": "v",
         "type": "histogram",
         "x": [
          0.10762388526296199,
          -0.7564418891284865,
          1.6126540986511892,
          0.7775682923362824,
          -0.5952959854744313,
          2.7165296870543663,
          -0.8418041837494875,
          0.4520263613717429,
          -1.1811618010748057,
          1.3017114072144773,
          1.3272738483408182,
          -1.2571625619582165,
          -1.5851832427856685,
          2.207114710090944,
          -0.9858571233790321,
          0.6254103733582416,
          1.1170542864569903,
          -0.5421854559616364,
          0.005037612594899869,
          -0.09960346946484637,
          -1.173575061482218,
          -0.7289483967404173,
          0.07800339985776875,
          -0.034754268614389135,
          -1.751240479785419,
          0.7717749524266126,
          0.08343341764260574,
          0.1986334309389733,
          -0.794258717921895,
          1.3437529637865553,
          1.1560148777149495,
          -0.34509571668566474,
          -0.0880157934620941,
          -0.5179391311478613,
          0.7021441294486146,
          0.05161627543106151,
          0.2209466178195064,
          -0.07138636983591397,
          -0.207924870196759,
          1.658956247192368,
          0.8846630544827088,
          0.6338655418849547,
          0.5243027738002651,
          0.4306726692742513,
          0.6543039138767474,
          0.6703944846780071,
          -0.45582041977913695,
          -1.5368390595450678,
          -0.43169265859801714,
          0.5775623520718516,
          0.7270362444133679,
          -0.9686402783675524,
          -0.7626460913795635,
          -0.007740911462933657,
          0.8426361921016096,
          -1.525063666185188,
          -1.4878236176538635,
          0.560411441799206,
          0.29484265879850674,
          -0.44354850857918005,
          -1.2369406866873534,
          -0.4408224576864079,
          0.42480069832885475,
          -0.7667741411620467,
          -0.700320783644171,
          1.6850601173535071,
          -0.06805298388497137,
          0.6400578864382191,
          -2.98067099973402,
          0.2247541322573582,
          -0.3052211289271923,
          -0.26910637193717996,
          -1.1397622939667247,
          1.5697320958149767,
          -1.6680788968914804,
          -0.4804863639728813,
          1.7012517997797407,
          -1.7312432770283541,
          1.0766473765396547,
          0.9987138864720232,
          -0.9536484947120728,
          -0.3166964888606845,
          -0.896993536707252,
          -1.7733819867210974,
          -0.39680350373954704,
          -0.46385931536628483,
          -0.17381558605655018,
          -0.861547502624248,
          0.5368907658398797,
          -0.38149470781202155,
          -0.04880061640656663,
          -0.9484946921437268,
          0.27269700979662254,
          0.213346612114495,
          -0.23502230780637598,
          -0.10578602471367916,
          0.8249413060109705,
          0.12317607400262938,
          0.1549693302015403,
          1.9405144461988928
         ]
        }
       ],
       "layout": {
        "barmode": "overlay",
        "legend": {
         "bgcolor": "#F5F6F9",
         "font": {
          "color": "#4D5663"
         }
        },
        "paper_bgcolor": "#F5F6F9",
        "plot_bgcolor": "#F5F6F9",
        "template": {
         "data": {
          "bar": [
           {
            "error_x": {
             "color": "#2a3f5f"
            },
            "error_y": {
             "color": "#2a3f5f"
            },
            "marker": {
             "line": {
              "color": "#E5ECF6",
              "width": 0.5
             },
             "pattern": {
              "fillmode": "overlay",
              "size": 10,
              "solidity": 0.2
             }
            },
            "type": "bar"
           }
          ],
          "barpolar": [
           {
            "marker": {
             "line": {
              "color": "#E5ECF6",
              "width": 0.5
             },
             "pattern": {
              "fillmode": "overlay",
              "size": 10,
              "solidity": 0.2
             }
            },
            "type": "barpolar"
           }
          ],
          "carpet": [
           {
            "aaxis": {
             "endlinecolor": "#2a3f5f",
             "gridcolor": "white",
             "linecolor": "white",
             "minorgridcolor": "white",
             "startlinecolor": "#2a3f5f"
            },
            "baxis": {
             "endlinecolor": "#2a3f5f",
             "gridcolor": "white",
             "linecolor": "white",
             "minorgridcolor": "white",
             "startlinecolor": "#2a3f5f"
            },
            "type": "carpet"
           }
          ],
          "choropleth": [
           {
            "colorbar": {
             "outlinewidth": 0,
             "ticks": ""
            },
            "type": "choropleth"
           }
          ],
          "contour": [
           {
            "colorbar": {
             "outlinewidth": 0,
             "ticks": ""
            },
            "colorscale": [
             [
              0,
              "#0d0887"
             ],
             [
              0.1111111111111111,
              "#46039f"
             ],
             [
              0.2222222222222222,
              "#7201a8"
             ],
             [
              0.3333333333333333,
              "#9c179e"
             ],
             [
              0.4444444444444444,
              "#bd3786"
             ],
             [
              0.5555555555555556,
              "#d8576b"
             ],
             [
              0.6666666666666666,
              "#ed7953"
             ],
             [
              0.7777777777777778,
              "#fb9f3a"
             ],
             [
              0.8888888888888888,
              "#fdca26"
             ],
             [
              1,
              "#f0f921"
             ]
            ],
            "type": "contour"
           }
          ],
          "contourcarpet": [
           {
            "colorbar": {
             "outlinewidth": 0,
             "ticks": ""
            },
            "type": "contourcarpet"
           }
          ],
          "heatmap": [
           {
            "colorbar": {
             "outlinewidth": 0,
             "ticks": ""
            },
            "colorscale": [
             [
              0,
              "#0d0887"
             ],
             [
              0.1111111111111111,
              "#46039f"
             ],
             [
              0.2222222222222222,
              "#7201a8"
             ],
             [
              0.3333333333333333,
              "#9c179e"
             ],
             [
              0.4444444444444444,
              "#bd3786"
             ],
             [
              0.5555555555555556,
              "#d8576b"
             ],
             [
              0.6666666666666666,
              "#ed7953"
             ],
             [
              0.7777777777777778,
              "#fb9f3a"
             ],
             [
              0.8888888888888888,
              "#fdca26"
             ],
             [
              1,
              "#f0f921"
             ]
            ],
            "type": "heatmap"
           }
          ],
          "heatmapgl": [
           {
            "colorbar": {
             "outlinewidth": 0,
             "ticks": ""
            },
            "colorscale": [
             [
              0,
              "#0d0887"
             ],
             [
              0.1111111111111111,
              "#46039f"
             ],
             [
              0.2222222222222222,
              "#7201a8"
             ],
             [
              0.3333333333333333,
              "#9c179e"
             ],
             [
              0.4444444444444444,
              "#bd3786"
             ],
             [
              0.5555555555555556,
              "#d8576b"
             ],
             [
              0.6666666666666666,
              "#ed7953"
             ],
             [
              0.7777777777777778,
              "#fb9f3a"
             ],
             [
              0.8888888888888888,
              "#fdca26"
             ],
             [
              1,
              "#f0f921"
             ]
            ],
            "type": "heatmapgl"
           }
          ],
          "histogram": [
           {
            "marker": {
             "pattern": {
              "fillmode": "overlay",
              "size": 10,
              "solidity": 0.2
             }
            },
            "type": "histogram"
           }
          ],
          "histogram2d": [
           {
            "colorbar": {
             "outlinewidth": 0,
             "ticks": ""
            },
            "colorscale": [
             [
              0,
              "#0d0887"
             ],
             [
              0.1111111111111111,
              "#46039f"
             ],
             [
              0.2222222222222222,
              "#7201a8"
             ],
             [
              0.3333333333333333,
              "#9c179e"
             ],
             [
              0.4444444444444444,
              "#bd3786"
             ],
             [
              0.5555555555555556,
              "#d8576b"
             ],
             [
              0.6666666666666666,
              "#ed7953"
             ],
             [
              0.7777777777777778,
              "#fb9f3a"
             ],
             [
              0.8888888888888888,
              "#fdca26"
             ],
             [
              1,
              "#f0f921"
             ]
            ],
            "type": "histogram2d"
           }
          ],
          "histogram2dcontour": [
           {
            "colorbar": {
             "outlinewidth": 0,
             "ticks": ""
            },
            "colorscale": [
             [
              0,
              "#0d0887"
             ],
             [
              0.1111111111111111,
              "#46039f"
             ],
             [
              0.2222222222222222,
              "#7201a8"
             ],
             [
              0.3333333333333333,
              "#9c179e"
             ],
             [
              0.4444444444444444,
              "#bd3786"
             ],
             [
              0.5555555555555556,
              "#d8576b"
             ],
             [
              0.6666666666666666,
              "#ed7953"
             ],
             [
              0.7777777777777778,
              "#fb9f3a"
             ],
             [
              0.8888888888888888,
              "#fdca26"
             ],
             [
              1,
              "#f0f921"
             ]
            ],
            "type": "histogram2dcontour"
           }
          ],
          "mesh3d": [
           {
            "colorbar": {
             "outlinewidth": 0,
             "ticks": ""
            },
            "type": "mesh3d"
           }
          ],
          "parcoords": [
           {
            "line": {
             "colorbar": {
              "outlinewidth": 0,
              "ticks": ""
             }
            },
            "type": "parcoords"
           }
          ],
          "pie": [
           {
            "automargin": true,
            "type": "pie"
           }
          ],
          "scatter": [
           {
            "fillpattern": {
             "fillmode": "overlay",
             "size": 10,
             "solidity": 0.2
            },
            "type": "scatter"
           }
          ],
          "scatter3d": [
           {
            "line": {
             "colorbar": {
              "outlinewidth": 0,
              "ticks": ""
             }
            },
            "marker": {
             "colorbar": {
              "outlinewidth": 0,
              "ticks": ""
             }
            },
            "type": "scatter3d"
           }
          ],
          "scattercarpet": [
           {
            "marker": {
             "colorbar": {
              "outlinewidth": 0,
              "ticks": ""
             }
            },
            "type": "scattercarpet"
           }
          ],
          "scattergeo": [
           {
            "marker": {
             "colorbar": {
              "outlinewidth": 0,
              "ticks": ""
             }
            },
            "type": "scattergeo"
           }
          ],
          "scattergl": [
           {
            "marker": {
             "colorbar": {
              "outlinewidth": 0,
              "ticks": ""
             }
            },
            "type": "scattergl"
           }
          ],
          "scattermapbox": [
           {
            "marker": {
             "colorbar": {
              "outlinewidth": 0,
              "ticks": ""
             }
            },
            "type": "scattermapbox"
           }
          ],
          "scatterpolar": [
           {
            "marker": {
             "colorbar": {
              "outlinewidth": 0,
              "ticks": ""
             }
            },
            "type": "scatterpolar"
           }
          ],
          "scatterpolargl": [
           {
            "marker": {
             "colorbar": {
              "outlinewidth": 0,
              "ticks": ""
             }
            },
            "type": "scatterpolargl"
           }
          ],
          "scatterternary": [
           {
            "marker": {
             "colorbar": {
              "outlinewidth": 0,
              "ticks": ""
             }
            },
            "type": "scatterternary"
           }
          ],
          "surface": [
           {
            "colorbar": {
             "outlinewidth": 0,
             "ticks": ""
            },
            "colorscale": [
             [
              0,
              "#0d0887"
             ],
             [
              0.1111111111111111,
              "#46039f"
             ],
             [
              0.2222222222222222,
              "#7201a8"
             ],
             [
              0.3333333333333333,
              "#9c179e"
             ],
             [
              0.4444444444444444,
              "#bd3786"
             ],
             [
              0.5555555555555556,
              "#d8576b"
             ],
             [
              0.6666666666666666,
              "#ed7953"
             ],
             [
              0.7777777777777778,
              "#fb9f3a"
             ],
             [
              0.8888888888888888,
              "#fdca26"
             ],
             [
              1,
              "#f0f921"
             ]
            ],
            "type": "surface"
           }
          ],
          "table": [
           {
            "cells": {
             "fill": {
              "color": "#EBF0F8"
             },
             "line": {
              "color": "white"
             }
            },
            "header": {
             "fill": {
              "color": "#C8D4E3"
             },
             "line": {
              "color": "white"
             }
            },
            "type": "table"
           }
          ]
         },
         "layout": {
          "annotationdefaults": {
           "arrowcolor": "#2a3f5f",
           "arrowhead": 0,
           "arrowwidth": 1
          },
          "autotypenumbers": "strict",
          "coloraxis": {
           "colorbar": {
            "outlinewidth": 0,
            "ticks": ""
           }
          },
          "colorscale": {
           "diverging": [
            [
             0,
             "#8e0152"
            ],
            [
             0.1,
             "#c51b7d"
            ],
            [
             0.2,
             "#de77ae"
            ],
            [
             0.3,
             "#f1b6da"
            ],
            [
             0.4,
             "#fde0ef"
            ],
            [
             0.5,
             "#f7f7f7"
            ],
            [
             0.6,
             "#e6f5d0"
            ],
            [
             0.7,
             "#b8e186"
            ],
            [
             0.8,
             "#7fbc41"
            ],
            [
             0.9,
             "#4d9221"
            ],
            [
             1,
             "#276419"
            ]
           ],
           "sequential": [
            [
             0,
             "#0d0887"
            ],
            [
             0.1111111111111111,
             "#46039f"
            ],
            [
             0.2222222222222222,
             "#7201a8"
            ],
            [
             0.3333333333333333,
             "#9c179e"
            ],
            [
             0.4444444444444444,
             "#bd3786"
            ],
            [
             0.5555555555555556,
             "#d8576b"
            ],
            [
             0.6666666666666666,
             "#ed7953"
            ],
            [
             0.7777777777777778,
             "#fb9f3a"
            ],
            [
             0.8888888888888888,
             "#fdca26"
            ],
            [
             1,
             "#f0f921"
            ]
           ],
           "sequentialminus": [
            [
             0,
             "#0d0887"
            ],
            [
             0.1111111111111111,
             "#46039f"
            ],
            [
             0.2222222222222222,
             "#7201a8"
            ],
            [
             0.3333333333333333,
             "#9c179e"
            ],
            [
             0.4444444444444444,
             "#bd3786"
            ],
            [
             0.5555555555555556,
             "#d8576b"
            ],
            [
             0.6666666666666666,
             "#ed7953"
            ],
            [
             0.7777777777777778,
             "#fb9f3a"
            ],
            [
             0.8888888888888888,
             "#fdca26"
            ],
            [
             1,
             "#f0f921"
            ]
           ]
          },
          "colorway": [
           "#636efa",
           "#EF553B",
           "#00cc96",
           "#ab63fa",
           "#FFA15A",
           "#19d3f3",
           "#FF6692",
           "#B6E880",
           "#FF97FF",
           "#FECB52"
          ],
          "font": {
           "color": "#2a3f5f"
          },
          "geo": {
           "bgcolor": "white",
           "lakecolor": "white",
           "landcolor": "#E5ECF6",
           "showlakes": true,
           "showland": true,
           "subunitcolor": "white"
          },
          "hoverlabel": {
           "align": "left"
          },
          "hovermode": "closest",
          "mapbox": {
           "style": "light"
          },
          "paper_bgcolor": "white",
          "plot_bgcolor": "#E5ECF6",
          "polar": {
           "angularaxis": {
            "gridcolor": "white",
            "linecolor": "white",
            "ticks": ""
           },
           "bgcolor": "#E5ECF6",
           "radialaxis": {
            "gridcolor": "white",
            "linecolor": "white",
            "ticks": ""
           }
          },
          "scene": {
           "xaxis": {
            "backgroundcolor": "#E5ECF6",
            "gridcolor": "white",
            "gridwidth": 2,
            "linecolor": "white",
            "showbackground": true,
            "ticks": "",
            "zerolinecolor": "white"
           },
           "yaxis": {
            "backgroundcolor": "#E5ECF6",
            "gridcolor": "white",
            "gridwidth": 2,
            "linecolor": "white",
            "showbackground": true,
            "ticks": "",
            "zerolinecolor": "white"
           },
           "zaxis": {
            "backgroundcolor": "#E5ECF6",
            "gridcolor": "white",
            "gridwidth": 2,
            "linecolor": "white",
            "showbackground": true,
            "ticks": "",
            "zerolinecolor": "white"
           }
          },
          "shapedefaults": {
           "line": {
            "color": "#2a3f5f"
           }
          },
          "ternary": {
           "aaxis": {
            "gridcolor": "white",
            "linecolor": "white",
            "ticks": ""
           },
           "baxis": {
            "gridcolor": "white",
            "linecolor": "white",
            "ticks": ""
           },
           "bgcolor": "#E5ECF6",
           "caxis": {
            "gridcolor": "white",
            "linecolor": "white",
            "ticks": ""
           }
          },
          "title": {
           "x": 0.05
          },
          "xaxis": {
           "automargin": true,
           "gridcolor": "white",
           "linecolor": "white",
           "ticks": "",
           "title": {
            "standoff": 15
           },
           "zerolinecolor": "white",
           "zerolinewidth": 2
          },
          "yaxis": {
           "automargin": true,
           "gridcolor": "white",
           "linecolor": "white",
           "ticks": "",
           "title": {
            "standoff": 15
           },
           "zerolinecolor": "white",
           "zerolinewidth": 2
          }
         }
        },
        "title": {
         "font": {
          "color": "#4D5663"
         }
        },
        "xaxis": {
         "gridcolor": "#E1E5ED",
         "showgrid": true,
         "tickfont": {
          "color": "#4D5663"
         },
         "title": {
          "font": {
           "color": "#4D5663"
          },
          "text": ""
         },
         "zerolinecolor": "#E1E5ED"
        },
        "yaxis": {
         "gridcolor": "#E1E5ED",
         "showgrid": true,
         "tickfont": {
          "color": "#4D5663"
         },
         "title": {
          "font": {
           "color": "#4D5663"
          },
          "text": ""
         },
         "zerolinecolor": "#E1E5ED"
        }
       }
      },
      "text/html": [
       "<div>                            <div id=\"6a21add9-ef69-42ce-a95d-31e3dc7e7554\" class=\"plotly-graph-div\" style=\"height:525px; width:100%;\"></div>            <script type=\"text/javascript\">                require([\"plotly\"], function(Plotly) {                    window.PLOTLYENV=window.PLOTLYENV || {};\n",
       "                    window.PLOTLYENV.BASE_URL='https://plot.ly';                                    if (document.getElementById(\"6a21add9-ef69-42ce-a95d-31e3dc7e7554\")) {                    Plotly.newPlot(                        \"6a21add9-ef69-42ce-a95d-31e3dc7e7554\",                        [{\"histfunc\":\"count\",\"histnorm\":\"\",\"marker\":{\"color\":\"rgba(255, 153, 51, 1.0)\",\"line\":{\"color\":\"#4D5663\",\"width\":1.3}},\"name\":\"A\",\"nbinsx\":25,\"opacity\":0.8,\"orientation\":\"v\",\"x\":[0.10762388526296199,-0.7564418891284865,1.6126540986511892,0.7775682923362824,-0.5952959854744313,2.7165296870543663,-0.8418041837494875,0.4520263613717429,-1.1811618010748057,1.3017114072144773,1.3272738483408182,-1.2571625619582165,-1.5851832427856685,2.207114710090944,-0.9858571233790321,0.6254103733582416,1.1170542864569903,-0.5421854559616364,0.005037612594899869,-0.09960346946484637,-1.173575061482218,-0.7289483967404173,0.07800339985776875,-0.034754268614389135,-1.751240479785419,0.7717749524266126,0.08343341764260574,0.1986334309389733,-0.794258717921895,1.3437529637865553,1.1560148777149495,-0.34509571668566474,-0.0880157934620941,-0.5179391311478613,0.7021441294486146,0.05161627543106151,0.2209466178195064,-0.07138636983591397,-0.207924870196759,1.658956247192368,0.8846630544827088,0.6338655418849547,0.5243027738002651,0.4306726692742513,0.6543039138767474,0.6703944846780071,-0.45582041977913695,-1.5368390595450678,-0.43169265859801714,0.5775623520718516,0.7270362444133679,-0.9686402783675524,-0.7626460913795635,-0.007740911462933657,0.8426361921016096,-1.525063666185188,-1.4878236176538635,0.560411441799206,0.29484265879850674,-0.44354850857918005,-1.2369406866873534,-0.4408224576864079,0.42480069832885475,-0.7667741411620467,-0.700320783644171,1.6850601173535071,-0.06805298388497137,0.6400578864382191,-2.98067099973402,0.2247541322573582,-0.3052211289271923,-0.26910637193717996,-1.1397622939667247,1.5697320958149767,-1.6680788968914804,-0.4804863639728813,1.7012517997797407,-1.7312432770283541,1.0766473765396547,0.9987138864720232,-0.9536484947120728,-0.3166964888606845,-0.896993536707252,-1.7733819867210974,-0.39680350373954704,-0.46385931536628483,-0.17381558605655018,-0.861547502624248,0.5368907658398797,-0.38149470781202155,-0.04880061640656663,-0.9484946921437268,0.27269700979662254,0.213346612114495,-0.23502230780637598,-0.10578602471367916,0.8249413060109705,0.12317607400262938,0.1549693302015403,1.9405144461988928],\"type\":\"histogram\"}],                        {\"barmode\":\"overlay\",\"legend\":{\"bgcolor\":\"#F5F6F9\",\"font\":{\"color\":\"#4D5663\"}},\"paper_bgcolor\":\"#F5F6F9\",\"plot_bgcolor\":\"#F5F6F9\",\"template\":{\"data\":{\"barpolar\":[{\"marker\":{\"line\":{\"color\":\"#E5ECF6\",\"width\":0.5},\"pattern\":{\"fillmode\":\"overlay\",\"size\":10,\"solidity\":0.2}},\"type\":\"barpolar\"}],\"bar\":[{\"error_x\":{\"color\":\"#2a3f5f\"},\"error_y\":{\"color\":\"#2a3f5f\"},\"marker\":{\"line\":{\"color\":\"#E5ECF6\",\"width\":0.5},\"pattern\":{\"fillmode\":\"overlay\",\"size\":10,\"solidity\":0.2}},\"type\":\"bar\"}],\"carpet\":[{\"aaxis\":{\"endlinecolor\":\"#2a3f5f\",\"gridcolor\":\"white\",\"linecolor\":\"white\",\"minorgridcolor\":\"white\",\"startlinecolor\":\"#2a3f5f\"},\"baxis\":{\"endlinecolor\":\"#2a3f5f\",\"gridcolor\":\"white\",\"linecolor\":\"white\",\"minorgridcolor\":\"white\",\"startlinecolor\":\"#2a3f5f\"},\"type\":\"carpet\"}],\"choropleth\":[{\"colorbar\":{\"outlinewidth\":0,\"ticks\":\"\"},\"type\":\"choropleth\"}],\"contourcarpet\":[{\"colorbar\":{\"outlinewidth\":0,\"ticks\":\"\"},\"type\":\"contourcarpet\"}],\"contour\":[{\"colorbar\":{\"outlinewidth\":0,\"ticks\":\"\"},\"colorscale\":[[0.0,\"#0d0887\"],[0.1111111111111111,\"#46039f\"],[0.2222222222222222,\"#7201a8\"],[0.3333333333333333,\"#9c179e\"],[0.4444444444444444,\"#bd3786\"],[0.5555555555555556,\"#d8576b\"],[0.6666666666666666,\"#ed7953\"],[0.7777777777777778,\"#fb9f3a\"],[0.8888888888888888,\"#fdca26\"],[1.0,\"#f0f921\"]],\"type\":\"contour\"}],\"heatmapgl\":[{\"colorbar\":{\"outlinewidth\":0,\"ticks\":\"\"},\"colorscale\":[[0.0,\"#0d0887\"],[0.1111111111111111,\"#46039f\"],[0.2222222222222222,\"#7201a8\"],[0.3333333333333333,\"#9c179e\"],[0.4444444444444444,\"#bd3786\"],[0.5555555555555556,\"#d8576b\"],[0.6666666666666666,\"#ed7953\"],[0.7777777777777778,\"#fb9f3a\"],[0.8888888888888888,\"#fdca26\"],[1.0,\"#f0f921\"]],\"type\":\"heatmapgl\"}],\"heatmap\":[{\"colorbar\":{\"outlinewidth\":0,\"ticks\":\"\"},\"colorscale\":[[0.0,\"#0d0887\"],[0.1111111111111111,\"#46039f\"],[0.2222222222222222,\"#7201a8\"],[0.3333333333333333,\"#9c179e\"],[0.4444444444444444,\"#bd3786\"],[0.5555555555555556,\"#d8576b\"],[0.6666666666666666,\"#ed7953\"],[0.7777777777777778,\"#fb9f3a\"],[0.8888888888888888,\"#fdca26\"],[1.0,\"#f0f921\"]],\"type\":\"heatmap\"}],\"histogram2dcontour\":[{\"colorbar\":{\"outlinewidth\":0,\"ticks\":\"\"},\"colorscale\":[[0.0,\"#0d0887\"],[0.1111111111111111,\"#46039f\"],[0.2222222222222222,\"#7201a8\"],[0.3333333333333333,\"#9c179e\"],[0.4444444444444444,\"#bd3786\"],[0.5555555555555556,\"#d8576b\"],[0.6666666666666666,\"#ed7953\"],[0.7777777777777778,\"#fb9f3a\"],[0.8888888888888888,\"#fdca26\"],[1.0,\"#f0f921\"]],\"type\":\"histogram2dcontour\"}],\"histogram2d\":[{\"colorbar\":{\"outlinewidth\":0,\"ticks\":\"\"},\"colorscale\":[[0.0,\"#0d0887\"],[0.1111111111111111,\"#46039f\"],[0.2222222222222222,\"#7201a8\"],[0.3333333333333333,\"#9c179e\"],[0.4444444444444444,\"#bd3786\"],[0.5555555555555556,\"#d8576b\"],[0.6666666666666666,\"#ed7953\"],[0.7777777777777778,\"#fb9f3a\"],[0.8888888888888888,\"#fdca26\"],[1.0,\"#f0f921\"]],\"type\":\"histogram2d\"}],\"histogram\":[{\"marker\":{\"pattern\":{\"fillmode\":\"overlay\",\"size\":10,\"solidity\":0.2}},\"type\":\"histogram\"}],\"mesh3d\":[{\"colorbar\":{\"outlinewidth\":0,\"ticks\":\"\"},\"type\":\"mesh3d\"}],\"parcoords\":[{\"line\":{\"colorbar\":{\"outlinewidth\":0,\"ticks\":\"\"}},\"type\":\"parcoords\"}],\"pie\":[{\"automargin\":true,\"type\":\"pie\"}],\"scatter3d\":[{\"line\":{\"colorbar\":{\"outlinewidth\":0,\"ticks\":\"\"}},\"marker\":{\"colorbar\":{\"outlinewidth\":0,\"ticks\":\"\"}},\"type\":\"scatter3d\"}],\"scattercarpet\":[{\"marker\":{\"colorbar\":{\"outlinewidth\":0,\"ticks\":\"\"}},\"type\":\"scattercarpet\"}],\"scattergeo\":[{\"marker\":{\"colorbar\":{\"outlinewidth\":0,\"ticks\":\"\"}},\"type\":\"scattergeo\"}],\"scattergl\":[{\"marker\":{\"colorbar\":{\"outlinewidth\":0,\"ticks\":\"\"}},\"type\":\"scattergl\"}],\"scattermapbox\":[{\"marker\":{\"colorbar\":{\"outlinewidth\":0,\"ticks\":\"\"}},\"type\":\"scattermapbox\"}],\"scatterpolargl\":[{\"marker\":{\"colorbar\":{\"outlinewidth\":0,\"ticks\":\"\"}},\"type\":\"scatterpolargl\"}],\"scatterpolar\":[{\"marker\":{\"colorbar\":{\"outlinewidth\":0,\"ticks\":\"\"}},\"type\":\"scatterpolar\"}],\"scatter\":[{\"fillpattern\":{\"fillmode\":\"overlay\",\"size\":10,\"solidity\":0.2},\"type\":\"scatter\"}],\"scatterternary\":[{\"marker\":{\"colorbar\":{\"outlinewidth\":0,\"ticks\":\"\"}},\"type\":\"scatterternary\"}],\"surface\":[{\"colorbar\":{\"outlinewidth\":0,\"ticks\":\"\"},\"colorscale\":[[0.0,\"#0d0887\"],[0.1111111111111111,\"#46039f\"],[0.2222222222222222,\"#7201a8\"],[0.3333333333333333,\"#9c179e\"],[0.4444444444444444,\"#bd3786\"],[0.5555555555555556,\"#d8576b\"],[0.6666666666666666,\"#ed7953\"],[0.7777777777777778,\"#fb9f3a\"],[0.8888888888888888,\"#fdca26\"],[1.0,\"#f0f921\"]],\"type\":\"surface\"}],\"table\":[{\"cells\":{\"fill\":{\"color\":\"#EBF0F8\"},\"line\":{\"color\":\"white\"}},\"header\":{\"fill\":{\"color\":\"#C8D4E3\"},\"line\":{\"color\":\"white\"}},\"type\":\"table\"}]},\"layout\":{\"annotationdefaults\":{\"arrowcolor\":\"#2a3f5f\",\"arrowhead\":0,\"arrowwidth\":1},\"autotypenumbers\":\"strict\",\"coloraxis\":{\"colorbar\":{\"outlinewidth\":0,\"ticks\":\"\"}},\"colorscale\":{\"diverging\":[[0,\"#8e0152\"],[0.1,\"#c51b7d\"],[0.2,\"#de77ae\"],[0.3,\"#f1b6da\"],[0.4,\"#fde0ef\"],[0.5,\"#f7f7f7\"],[0.6,\"#e6f5d0\"],[0.7,\"#b8e186\"],[0.8,\"#7fbc41\"],[0.9,\"#4d9221\"],[1,\"#276419\"]],\"sequential\":[[0.0,\"#0d0887\"],[0.1111111111111111,\"#46039f\"],[0.2222222222222222,\"#7201a8\"],[0.3333333333333333,\"#9c179e\"],[0.4444444444444444,\"#bd3786\"],[0.5555555555555556,\"#d8576b\"],[0.6666666666666666,\"#ed7953\"],[0.7777777777777778,\"#fb9f3a\"],[0.8888888888888888,\"#fdca26\"],[1.0,\"#f0f921\"]],\"sequentialminus\":[[0.0,\"#0d0887\"],[0.1111111111111111,\"#46039f\"],[0.2222222222222222,\"#7201a8\"],[0.3333333333333333,\"#9c179e\"],[0.4444444444444444,\"#bd3786\"],[0.5555555555555556,\"#d8576b\"],[0.6666666666666666,\"#ed7953\"],[0.7777777777777778,\"#fb9f3a\"],[0.8888888888888888,\"#fdca26\"],[1.0,\"#f0f921\"]]},\"colorway\":[\"#636efa\",\"#EF553B\",\"#00cc96\",\"#ab63fa\",\"#FFA15A\",\"#19d3f3\",\"#FF6692\",\"#B6E880\",\"#FF97FF\",\"#FECB52\"],\"font\":{\"color\":\"#2a3f5f\"},\"geo\":{\"bgcolor\":\"white\",\"lakecolor\":\"white\",\"landcolor\":\"#E5ECF6\",\"showlakes\":true,\"showland\":true,\"subunitcolor\":\"white\"},\"hoverlabel\":{\"align\":\"left\"},\"hovermode\":\"closest\",\"mapbox\":{\"style\":\"light\"},\"paper_bgcolor\":\"white\",\"plot_bgcolor\":\"#E5ECF6\",\"polar\":{\"angularaxis\":{\"gridcolor\":\"white\",\"linecolor\":\"white\",\"ticks\":\"\"},\"bgcolor\":\"#E5ECF6\",\"radialaxis\":{\"gridcolor\":\"white\",\"linecolor\":\"white\",\"ticks\":\"\"}},\"scene\":{\"xaxis\":{\"backgroundcolor\":\"#E5ECF6\",\"gridcolor\":\"white\",\"gridwidth\":2,\"linecolor\":\"white\",\"showbackground\":true,\"ticks\":\"\",\"zerolinecolor\":\"white\"},\"yaxis\":{\"backgroundcolor\":\"#E5ECF6\",\"gridcolor\":\"white\",\"gridwidth\":2,\"linecolor\":\"white\",\"showbackground\":true,\"ticks\":\"\",\"zerolinecolor\":\"white\"},\"zaxis\":{\"backgroundcolor\":\"#E5ECF6\",\"gridcolor\":\"white\",\"gridwidth\":2,\"linecolor\":\"white\",\"showbackground\":true,\"ticks\":\"\",\"zerolinecolor\":\"white\"}},\"shapedefaults\":{\"line\":{\"color\":\"#2a3f5f\"}},\"ternary\":{\"aaxis\":{\"gridcolor\":\"white\",\"linecolor\":\"white\",\"ticks\":\"\"},\"baxis\":{\"gridcolor\":\"white\",\"linecolor\":\"white\",\"ticks\":\"\"},\"bgcolor\":\"#E5ECF6\",\"caxis\":{\"gridcolor\":\"white\",\"linecolor\":\"white\",\"ticks\":\"\"}},\"title\":{\"x\":0.05},\"xaxis\":{\"automargin\":true,\"gridcolor\":\"white\",\"linecolor\":\"white\",\"ticks\":\"\",\"title\":{\"standoff\":15},\"zerolinecolor\":\"white\",\"zerolinewidth\":2},\"yaxis\":{\"automargin\":true,\"gridcolor\":\"white\",\"linecolor\":\"white\",\"ticks\":\"\",\"title\":{\"standoff\":15},\"zerolinecolor\":\"white\",\"zerolinewidth\":2}}},\"title\":{\"font\":{\"color\":\"#4D5663\"}},\"xaxis\":{\"gridcolor\":\"#E1E5ED\",\"showgrid\":true,\"tickfont\":{\"color\":\"#4D5663\"},\"title\":{\"font\":{\"color\":\"#4D5663\"},\"text\":\"\"},\"zerolinecolor\":\"#E1E5ED\"},\"yaxis\":{\"gridcolor\":\"#E1E5ED\",\"showgrid\":true,\"tickfont\":{\"color\":\"#4D5663\"},\"title\":{\"font\":{\"color\":\"#4D5663\"},\"text\":\"\"},\"zerolinecolor\":\"#E1E5ED\"}},                        {\"showLink\": true, \"linkText\": \"Export to plot.ly\", \"plotlyServerURL\": \"https://plot.ly\", \"responsive\": true}                    ).then(function(){\n",
       "                            \n",
       "var gd = document.getElementById('6a21add9-ef69-42ce-a95d-31e3dc7e7554');\n",
       "var x = new MutationObserver(function (mutations, observer) {{\n",
       "        var display = window.getComputedStyle(gd).display;\n",
       "        if (!display || display === 'none') {{\n",
       "            console.log([gd, 'removed!']);\n",
       "            Plotly.purge(gd);\n",
       "            observer.disconnect();\n",
       "        }}\n",
       "}});\n",
       "\n",
       "// Listen for the removal of the full notebook cells\n",
       "var notebookContainer = gd.closest('#notebook-container');\n",
       "if (notebookContainer) {{\n",
       "    x.observe(notebookContainer, {childList: true});\n",
       "}}\n",
       "\n",
       "// Listen for the clearing of the current output cell\n",
       "var outputEl = gd.closest('.output');\n",
       "if (outputEl) {{\n",
       "    x.observe(outputEl, {childList: true});\n",
       "}}\n",
       "\n",
       "                        })                };                });            </script>        </div>"
      ]
     },
     "metadata": {},
     "output_type": "display_data"
    }
   ],
   "source": [
    "df['A'].iplot(kind='hist',bins=25)"
   ]
  },
  {
   "cell_type": "code",
   "execution_count": null,
   "metadata": {
    "collapsed": false
   },
   "outputs": [],
   "source": [
    "df.iplot(kind='bubble',x='A',y='B',size='C')"
   ]
  },
  {
   "cell_type": "markdown",
   "metadata": {},
   "source": [
    "## scatter_matrix()\n",
    "\n",
    "Similar to sns.pairplot()"
   ]
  },
  {
   "cell_type": "code",
   "execution_count": 17,
   "metadata": {
    "collapsed": false
   },
   "outputs": [
    {
     "data": {
      "application/vnd.plotly.v1+json": {
       "config": {
        "linkText": "Export to plot.ly",
        "plotlyServerURL": "https://plot.ly",
        "showLink": true
       },
       "data": [
        {
         "histfunc": "count",
         "histnorm": "",
         "marker": {
          "color": "rgba(255, 153, 51, 1.0)",
          "line": {
           "color": "#4D5663",
           "width": 1.3
          }
         },
         "name": "A",
         "nbinsx": 10,
         "opacity": 0.8,
         "orientation": "v",
         "type": "histogram",
         "x": [
          0.10762388526296199,
          -0.7564418891284865,
          1.6126540986511892,
          0.7775682923362824,
          -0.5952959854744313,
          2.7165296870543663,
          -0.8418041837494875,
          0.4520263613717429,
          -1.1811618010748057,
          1.3017114072144773,
          1.3272738483408182,
          -1.2571625619582165,
          -1.5851832427856685,
          2.207114710090944,
          -0.9858571233790321,
          0.6254103733582416,
          1.1170542864569903,
          -0.5421854559616364,
          0.005037612594899869,
          -0.09960346946484637,
          -1.173575061482218,
          -0.7289483967404173,
          0.07800339985776875,
          -0.034754268614389135,
          -1.751240479785419,
          0.7717749524266126,
          0.08343341764260574,
          0.1986334309389733,
          -0.794258717921895,
          1.3437529637865553,
          1.1560148777149495,
          -0.34509571668566474,
          -0.0880157934620941,
          -0.5179391311478613,
          0.7021441294486146,
          0.05161627543106151,
          0.2209466178195064,
          -0.07138636983591397,
          -0.207924870196759,
          1.658956247192368,
          0.8846630544827088,
          0.6338655418849547,
          0.5243027738002651,
          0.4306726692742513,
          0.6543039138767474,
          0.6703944846780071,
          -0.45582041977913695,
          -1.5368390595450678,
          -0.43169265859801714,
          0.5775623520718516,
          0.7270362444133679,
          -0.9686402783675524,
          -0.7626460913795635,
          -0.007740911462933657,
          0.8426361921016096,
          -1.525063666185188,
          -1.4878236176538635,
          0.560411441799206,
          0.29484265879850674,
          -0.44354850857918005,
          -1.2369406866873534,
          -0.4408224576864079,
          0.42480069832885475,
          -0.7667741411620467,
          -0.700320783644171,
          1.6850601173535071,
          -0.06805298388497137,
          0.6400578864382191,
          -2.98067099973402,
          0.2247541322573582,
          -0.3052211289271923,
          -0.26910637193717996,
          -1.1397622939667247,
          1.5697320958149767,
          -1.6680788968914804,
          -0.4804863639728813,
          1.7012517997797407,
          -1.7312432770283541,
          1.0766473765396547,
          0.9987138864720232,
          -0.9536484947120728,
          -0.3166964888606845,
          -0.896993536707252,
          -1.7733819867210974,
          -0.39680350373954704,
          -0.46385931536628483,
          -0.17381558605655018,
          -0.861547502624248,
          0.5368907658398797,
          -0.38149470781202155,
          -0.04880061640656663,
          -0.9484946921437268,
          0.27269700979662254,
          0.213346612114495,
          -0.23502230780637598,
          -0.10578602471367916,
          0.8249413060109705,
          0.12317607400262938,
          0.1549693302015403,
          1.9405144461988928
         ],
         "xaxis": "x",
         "yaxis": "y"
        },
        {
         "line": {
          "color": "rgba(128, 128, 128, 1.0)",
          "dash": "solid",
          "shape": "linear",
          "width": 1.3
         },
         "marker": {
          "size": 2,
          "symbol": "circle"
         },
         "mode": "markers",
         "name": "A",
         "text": "",
         "type": "scatter",
         "x": [
          -2.314890678163464,
          -0.30177437212597147,
          0.5499429699705268,
          -0.9526752027541245,
          1.5533303542681645,
          -0.5078252827169001,
          0.4028555741875542,
          -0.5774718509539073,
          -0.6811341105347527,
          0.0644489320205561,
          1.811506320652103,
          0.4778354701838685,
          0.05761873599105411,
          -0.7660180917968894,
          -0.383561855691717,
          -1.9708845566145123,
          0.1790104216355467,
          -0.26930717038848323,
          -0.5021951885006355,
          0.2526883247094073,
          -1.6581072814366244,
          -0.9829489286671428,
          0.3110804762010143,
          1.7189715803691583,
          0.20830928060301285,
          -0.729721483323263,
          -0.6472670362627534,
          0.3308526113256317,
          -1.2576301538162142,
          0.8578593551258539,
          0.1531917677976979,
          -1.4114793851091527,
          -0.7115824294309413,
          -0.650709281596651,
          -0.1797312135856715,
          -0.11129089263187959,
          0.8212644920402455,
          1.436643439487427,
          0.13506679470142205,
          -1.8462888693119657,
          3.203862495207228,
          0.5752222157505211,
          -0.28073796158962405,
          -0.8701286346240297,
          -1.8053420321718303,
          -1.8486942668584059,
          -0.5068460253551225,
          0.4987691045688844,
          -0.29005597513570286,
          0.9466939194327922,
          -0.6089183281809548,
          1.1417672338470617,
          -1.088662793594401,
          0.3643038000710208,
          -0.17898847966887502,
          -0.3451979256630047,
          0.8251441391588759,
          0.16051005723422476,
          -0.44254706983371356,
          -1.2568846638341369,
          0.5454228020711138,
          1.9552256234010204,
          -0.6337597480361455,
          0.26811263823655834,
          -0.12564519258363752,
          -0.004471482700457042,
          0.5984273818105452,
          -0.330062734246072,
          -2.2387209249844617,
          -1.8689651177427342,
          -1.110306320474275,
          0.7316123635486081,
          1.7097634472311631,
          -0.9646968649446509,
          1.607143723636374,
          -1.1133374146289832,
          0.3675698426196052,
          -1.47843347031786,
          -0.824001464782571,
          1.290645718979975,
          -0.3210143193836279,
          1.0794651265744086,
          0.11045871143526716,
          0.380385812050898,
          0.27005574992279774,
          -0.2113174148967174,
          -1.1717258088038764,
          -0.17229510893765648,
          0.9314307265527947,
          -0.387760509132024,
          -0.35271724025565754,
          -0.8488360226083353,
          -1.025655885301656,
          0.26384085787714573,
          1.8120787607099624,
          0.9100289597930974,
          0.12666333933874754,
          0.11588791987941716,
          -1.9145334684976296,
          1.5043947128368997
         ],
         "xaxis": "x2",
         "y": [
          0.10762388526296199,
          -0.7564418891284865,
          1.6126540986511892,
          0.7775682923362824,
          -0.5952959854744313,
          2.7165296870543663,
          -0.8418041837494875,
          0.4520263613717429,
          -1.1811618010748057,
          1.3017114072144773,
          1.3272738483408182,
          -1.2571625619582165,
          -1.5851832427856685,
          2.207114710090944,
          -0.9858571233790321,
          0.6254103733582416,
          1.1170542864569903,
          -0.5421854559616364,
          0.005037612594899869,
          -0.09960346946484637,
          -1.173575061482218,
          -0.7289483967404173,
          0.07800339985776875,
          -0.034754268614389135,
          -1.751240479785419,
          0.7717749524266126,
          0.08343341764260574,
          0.1986334309389733,
          -0.794258717921895,
          1.3437529637865553,
          1.1560148777149495,
          -0.34509571668566474,
          -0.0880157934620941,
          -0.5179391311478613,
          0.7021441294486146,
          0.05161627543106151,
          0.2209466178195064,
          -0.07138636983591397,
          -0.207924870196759,
          1.658956247192368,
          0.8846630544827088,
          0.6338655418849547,
          0.5243027738002651,
          0.4306726692742513,
          0.6543039138767474,
          0.6703944846780071,
          -0.45582041977913695,
          -1.5368390595450678,
          -0.43169265859801714,
          0.5775623520718516,
          0.7270362444133679,
          -0.9686402783675524,
          -0.7626460913795635,
          -0.007740911462933657,
          0.8426361921016096,
          -1.525063666185188,
          -1.4878236176538635,
          0.560411441799206,
          0.29484265879850674,
          -0.44354850857918005,
          -1.2369406866873534,
          -0.4408224576864079,
          0.42480069832885475,
          -0.7667741411620467,
          -0.700320783644171,
          1.6850601173535071,
          -0.06805298388497137,
          0.6400578864382191,
          -2.98067099973402,
          0.2247541322573582,
          -0.3052211289271923,
          -0.26910637193717996,
          -1.1397622939667247,
          1.5697320958149767,
          -1.6680788968914804,
          -0.4804863639728813,
          1.7012517997797407,
          -1.7312432770283541,
          1.0766473765396547,
          0.9987138864720232,
          -0.9536484947120728,
          -0.3166964888606845,
          -0.896993536707252,
          -1.7733819867210974,
          -0.39680350373954704,
          -0.46385931536628483,
          -0.17381558605655018,
          -0.861547502624248,
          0.5368907658398797,
          -0.38149470781202155,
          -0.04880061640656663,
          -0.9484946921437268,
          0.27269700979662254,
          0.213346612114495,
          -0.23502230780637598,
          -0.10578602471367916,
          0.8249413060109705,
          0.12317607400262938,
          0.1549693302015403,
          1.9405144461988928
         ],
         "yaxis": "y2"
        },
        {
         "line": {
          "color": "rgba(128, 128, 128, 1.0)",
          "dash": "solid",
          "shape": "linear",
          "width": 1.3
         },
         "marker": {
          "size": 2,
          "symbol": "circle"
         },
         "mode": "markers",
         "name": "A",
         "text": "",
         "type": "scatter",
         "x": [
          0.659062814123277,
          1.5684267703572246,
          0.05166116754989549,
          0.46424658709960276,
          0.4050267213964662,
          2.0513283440009213,
          0.15750168343706802,
          -1.2329616702978836,
          0.5468719624032921,
          0.4416206439542919,
          -0.19645572330201946,
          -0.522753499684,
          -0.28937813933244405,
          1.1569261054775832,
          0.2569883333209594,
          0.2220818014438884,
          0.9165207932446514,
          -1.143328182878145,
          1.4209775300608973,
          -0.6012633718532,
          -0.48611314848006837,
          -0.8796448245996384,
          -1.3444120569513685,
          0.4143508605018087,
          -0.5823443413856135,
          -0.2044878046225266,
          -0.7264987790673539,
          0.9444323657861515,
          -2.4554935073322084,
          0.3798461265137401,
          -1.2225752495033184,
          0.09793376438513397,
          0.35257145224202996,
          -1.035542480908029,
          0.42945250978354016,
          -1.2326425021376675,
          0.1993267694995079,
          3.21372178644483,
          -1.1317301474085883,
          0.12085425455187246,
          1.1500923110299464,
          0.617484558430184,
          -1.2399772087696725,
          0.023010425110181525,
          1.415054263505035,
          0.7571069872113684,
          0.5613023690551945,
          0.22974122208954417,
          -0.6962210502279587,
          -0.40616915166043815,
          2.7410444523894473,
          1.0826517837633405,
          0.8823904705286962,
          0.08569291305464524,
          1.1113534788639665,
          -0.0915372683949695,
          -1.0215343669866888,
          -0.9394341034505724,
          0.4982691287074044,
          -0.3588624149024244,
          -1.1314248780811467,
          0.8254307475119398,
          0.6451356387380806,
          0.13217533667654016,
          -0.2704089866434351,
          0.3629990732169382,
          0.1633434676493273,
          -1.0570817420017171,
          -1.3529533392728874,
          -0.18267517728312124,
          -0.4683112176250565,
          0.7707081821810905,
          -0.7660753684229836,
          0.22553479481983998,
          -0.06091220606052293,
          0.47461198687766865,
          -0.32251182807487,
          1.2487471371610814,
          -1.390360852402884,
          -0.6526355233986028,
          -1.0971539355141071,
          -0.4557383313076427,
          -1.1381957884531135,
          -0.7889075195025212,
          1.2072943416083557,
          -1.9847888053087293,
          0.5650817298590286,
          -0.28213575609956015,
          1.2981720046455998,
          1.42998960193017,
          0.5067691772062698,
          1.0041224521924397,
          -1.6626838024333388,
          -1.5773173585756795,
          0.4476668577684265,
          3.488402897257025,
          0.34940914337165174,
          -0.3227581348436228,
          0.5708815815411163,
          -0.4215012284826513
         ],
         "xaxis": "x3",
         "y": [
          0.10762388526296199,
          -0.7564418891284865,
          1.6126540986511892,
          0.7775682923362824,
          -0.5952959854744313,
          2.7165296870543663,
          -0.8418041837494875,
          0.4520263613717429,
          -1.1811618010748057,
          1.3017114072144773,
          1.3272738483408182,
          -1.2571625619582165,
          -1.5851832427856685,
          2.207114710090944,
          -0.9858571233790321,
          0.6254103733582416,
          1.1170542864569903,
          -0.5421854559616364,
          0.005037612594899869,
          -0.09960346946484637,
          -1.173575061482218,
          -0.7289483967404173,
          0.07800339985776875,
          -0.034754268614389135,
          -1.751240479785419,
          0.7717749524266126,
          0.08343341764260574,
          0.1986334309389733,
          -0.794258717921895,
          1.3437529637865553,
          1.1560148777149495,
          -0.34509571668566474,
          -0.0880157934620941,
          -0.5179391311478613,
          0.7021441294486146,
          0.05161627543106151,
          0.2209466178195064,
          -0.07138636983591397,
          -0.207924870196759,
          1.658956247192368,
          0.8846630544827088,
          0.6338655418849547,
          0.5243027738002651,
          0.4306726692742513,
          0.6543039138767474,
          0.6703944846780071,
          -0.45582041977913695,
          -1.5368390595450678,
          -0.43169265859801714,
          0.5775623520718516,
          0.7270362444133679,
          -0.9686402783675524,
          -0.7626460913795635,
          -0.007740911462933657,
          0.8426361921016096,
          -1.525063666185188,
          -1.4878236176538635,
          0.560411441799206,
          0.29484265879850674,
          -0.44354850857918005,
          -1.2369406866873534,
          -0.4408224576864079,
          0.42480069832885475,
          -0.7667741411620467,
          -0.700320783644171,
          1.6850601173535071,
          -0.06805298388497137,
          0.6400578864382191,
          -2.98067099973402,
          0.2247541322573582,
          -0.3052211289271923,
          -0.26910637193717996,
          -1.1397622939667247,
          1.5697320958149767,
          -1.6680788968914804,
          -0.4804863639728813,
          1.7012517997797407,
          -1.7312432770283541,
          1.0766473765396547,
          0.9987138864720232,
          -0.9536484947120728,
          -0.3166964888606845,
          -0.896993536707252,
          -1.7733819867210974,
          -0.39680350373954704,
          -0.46385931536628483,
          -0.17381558605655018,
          -0.861547502624248,
          0.5368907658398797,
          -0.38149470781202155,
          -0.04880061640656663,
          -0.9484946921437268,
          0.27269700979662254,
          0.213346612114495,
          -0.23502230780637598,
          -0.10578602471367916,
          0.8249413060109705,
          0.12317607400262938,
          0.1549693302015403,
          1.9405144461988928
         ],
         "yaxis": "y3"
        },
        {
         "line": {
          "color": "rgba(128, 128, 128, 1.0)",
          "dash": "solid",
          "shape": "linear",
          "width": 1.3
         },
         "marker": {
          "size": 2,
          "symbol": "circle"
         },
         "mode": "markers",
         "name": "A",
         "text": "",
         "type": "scatter",
         "x": [
          0.8399191798078127,
          -0.63613390094695,
          -0.6944267984119925,
          -0.16675655325343755,
          -0.6937286430279299,
          -0.6383933164652055,
          1.1838273421110919,
          0.8632458637605457,
          -2.4516200133467154,
          -0.6602935677065107,
          -0.5874492075325497,
          0.4489119378994047,
          0.17187108257270475,
          0.1005341681036597,
          1.0344491025576719,
          2.290733801957848,
          -2.6916747786740514,
          -1.0333249903820707,
          -0.28714038600110514,
          0.2151524479664407,
          -0.522330248044562,
          0.1460967975588475,
          -2.095354632496688,
          0.85300691028129,
          0.32218022167716703,
          0.6611188916737772,
          0.219235674187028,
          0.6043626270171994,
          -0.5438815110570238,
          -0.7867836688902382,
          -0.25254881660967504,
          -1.5437911531037813,
          -1.6282974051807124,
          -1.1702586742488221,
          -0.9637666275652607,
          0.7723413917401876,
          0.7038889240751445,
          -0.38785006405429523,
          2.4265069934883408,
          -0.015921305419591723,
          0.8621043683969853,
          0.035899320952788416,
          2.031734815832546,
          -0.08098571602998135,
          -0.7840014032171135,
          -1.0709852710850423,
          -1.8652551205239034,
          -1.0276108653166263,
          1.2840941764181228,
          1.0206444603407554,
          1.739851001966569,
          0.08703164224434952,
          -1.4892129630743196,
          -0.4671250530447547,
          0.8725253114037612,
          0.588163926968566,
          -1.2486585866449216,
          -0.7070050812333557,
          0.5235491861515154,
          1.5620810028531162,
          -0.06908401748320098,
          -0.4990292166845264,
          -1.062643465222129,
          2.0822509410822283,
          0.9928278924066326,
          -0.9652404737144156,
          0.280586945441175,
          0.7035157556270332,
          -1.1136901925402503,
          -1.3264639273382348,
          0.039743349401929536,
          1.0370694338987092,
          0.32534663217337756,
          -0.7106130799040847,
          -0.2127939105775505,
          -1.0119043204034097,
          0.7242887254965652,
          -0.20146537838860515,
          1.6360298709824186,
          1.666755550941301,
          0.44747132992870225,
          0.4554476841226329,
          0.8719859144802454,
          -0.38477249829957627,
          0.17703395334653876,
          -0.5275512900512666,
          1.2214633912240875,
          -0.9564945519115773,
          2.0123352038174613,
          -0.727155236871999,
          0.7309473294394849,
          -0.11855236572483953,
          -0.4100704251237475,
          1.6969969830770206,
          0.5558336307222187,
          0.40568516385858794,
          -1.4660740655556281,
          0.26765095807405315,
          -0.8985948023209357,
          -2.071210861648605
         ],
         "xaxis": "x4",
         "y": [
          0.10762388526296199,
          -0.7564418891284865,
          1.6126540986511892,
          0.7775682923362824,
          -0.5952959854744313,
          2.7165296870543663,
          -0.8418041837494875,
          0.4520263613717429,
          -1.1811618010748057,
          1.3017114072144773,
          1.3272738483408182,
          -1.2571625619582165,
          -1.5851832427856685,
          2.207114710090944,
          -0.9858571233790321,
          0.6254103733582416,
          1.1170542864569903,
          -0.5421854559616364,
          0.005037612594899869,
          -0.09960346946484637,
          -1.173575061482218,
          -0.7289483967404173,
          0.07800339985776875,
          -0.034754268614389135,
          -1.751240479785419,
          0.7717749524266126,
          0.08343341764260574,
          0.1986334309389733,
          -0.794258717921895,
          1.3437529637865553,
          1.1560148777149495,
          -0.34509571668566474,
          -0.0880157934620941,
          -0.5179391311478613,
          0.7021441294486146,
          0.05161627543106151,
          0.2209466178195064,
          -0.07138636983591397,
          -0.207924870196759,
          1.658956247192368,
          0.8846630544827088,
          0.6338655418849547,
          0.5243027738002651,
          0.4306726692742513,
          0.6543039138767474,
          0.6703944846780071,
          -0.45582041977913695,
          -1.5368390595450678,
          -0.43169265859801714,
          0.5775623520718516,
          0.7270362444133679,
          -0.9686402783675524,
          -0.7626460913795635,
          -0.007740911462933657,
          0.8426361921016096,
          -1.525063666185188,
          -1.4878236176538635,
          0.560411441799206,
          0.29484265879850674,
          -0.44354850857918005,
          -1.2369406866873534,
          -0.4408224576864079,
          0.42480069832885475,
          -0.7667741411620467,
          -0.700320783644171,
          1.6850601173535071,
          -0.06805298388497137,
          0.6400578864382191,
          -2.98067099973402,
          0.2247541322573582,
          -0.3052211289271923,
          -0.26910637193717996,
          -1.1397622939667247,
          1.5697320958149767,
          -1.6680788968914804,
          -0.4804863639728813,
          1.7012517997797407,
          -1.7312432770283541,
          1.0766473765396547,
          0.9987138864720232,
          -0.9536484947120728,
          -0.3166964888606845,
          -0.896993536707252,
          -1.7733819867210974,
          -0.39680350373954704,
          -0.46385931536628483,
          -0.17381558605655018,
          -0.861547502624248,
          0.5368907658398797,
          -0.38149470781202155,
          -0.04880061640656663,
          -0.9484946921437268,
          0.27269700979662254,
          0.213346612114495,
          -0.23502230780637598,
          -0.10578602471367916,
          0.8249413060109705,
          0.12317607400262938,
          0.1549693302015403,
          1.9405144461988928
         ],
         "yaxis": "y4"
        },
        {
         "line": {
          "color": "rgba(128, 128, 128, 1.0)",
          "dash": "solid",
          "shape": "linear",
          "width": 1.3
         },
         "marker": {
          "size": 2,
          "symbol": "circle"
         },
         "mode": "markers",
         "name": "B",
         "text": "",
         "type": "scatter",
         "x": [
          0.10762388526296199,
          -0.7564418891284865,
          1.6126540986511892,
          0.7775682923362824,
          -0.5952959854744313,
          2.7165296870543663,
          -0.8418041837494875,
          0.4520263613717429,
          -1.1811618010748057,
          1.3017114072144773,
          1.3272738483408182,
          -1.2571625619582165,
          -1.5851832427856685,
          2.207114710090944,
          -0.9858571233790321,
          0.6254103733582416,
          1.1170542864569903,
          -0.5421854559616364,
          0.005037612594899869,
          -0.09960346946484637,
          -1.173575061482218,
          -0.7289483967404173,
          0.07800339985776875,
          -0.034754268614389135,
          -1.751240479785419,
          0.7717749524266126,
          0.08343341764260574,
          0.1986334309389733,
          -0.794258717921895,
          1.3437529637865553,
          1.1560148777149495,
          -0.34509571668566474,
          -0.0880157934620941,
          -0.5179391311478613,
          0.7021441294486146,
          0.05161627543106151,
          0.2209466178195064,
          -0.07138636983591397,
          -0.207924870196759,
          1.658956247192368,
          0.8846630544827088,
          0.6338655418849547,
          0.5243027738002651,
          0.4306726692742513,
          0.6543039138767474,
          0.6703944846780071,
          -0.45582041977913695,
          -1.5368390595450678,
          -0.43169265859801714,
          0.5775623520718516,
          0.7270362444133679,
          -0.9686402783675524,
          -0.7626460913795635,
          -0.007740911462933657,
          0.8426361921016096,
          -1.525063666185188,
          -1.4878236176538635,
          0.560411441799206,
          0.29484265879850674,
          -0.44354850857918005,
          -1.2369406866873534,
          -0.4408224576864079,
          0.42480069832885475,
          -0.7667741411620467,
          -0.700320783644171,
          1.6850601173535071,
          -0.06805298388497137,
          0.6400578864382191,
          -2.98067099973402,
          0.2247541322573582,
          -0.3052211289271923,
          -0.26910637193717996,
          -1.1397622939667247,
          1.5697320958149767,
          -1.6680788968914804,
          -0.4804863639728813,
          1.7012517997797407,
          -1.7312432770283541,
          1.0766473765396547,
          0.9987138864720232,
          -0.9536484947120728,
          -0.3166964888606845,
          -0.896993536707252,
          -1.7733819867210974,
          -0.39680350373954704,
          -0.46385931536628483,
          -0.17381558605655018,
          -0.861547502624248,
          0.5368907658398797,
          -0.38149470781202155,
          -0.04880061640656663,
          -0.9484946921437268,
          0.27269700979662254,
          0.213346612114495,
          -0.23502230780637598,
          -0.10578602471367916,
          0.8249413060109705,
          0.12317607400262938,
          0.1549693302015403,
          1.9405144461988928
         ],
         "xaxis": "x5",
         "y": [
          -2.314890678163464,
          -0.30177437212597147,
          0.5499429699705268,
          -0.9526752027541245,
          1.5533303542681645,
          -0.5078252827169001,
          0.4028555741875542,
          -0.5774718509539073,
          -0.6811341105347527,
          0.0644489320205561,
          1.811506320652103,
          0.4778354701838685,
          0.05761873599105411,
          -0.7660180917968894,
          -0.383561855691717,
          -1.9708845566145123,
          0.1790104216355467,
          -0.26930717038848323,
          -0.5021951885006355,
          0.2526883247094073,
          -1.6581072814366244,
          -0.9829489286671428,
          0.3110804762010143,
          1.7189715803691583,
          0.20830928060301285,
          -0.729721483323263,
          -0.6472670362627534,
          0.3308526113256317,
          -1.2576301538162142,
          0.8578593551258539,
          0.1531917677976979,
          -1.4114793851091527,
          -0.7115824294309413,
          -0.650709281596651,
          -0.1797312135856715,
          -0.11129089263187959,
          0.8212644920402455,
          1.436643439487427,
          0.13506679470142205,
          -1.8462888693119657,
          3.203862495207228,
          0.5752222157505211,
          -0.28073796158962405,
          -0.8701286346240297,
          -1.8053420321718303,
          -1.8486942668584059,
          -0.5068460253551225,
          0.4987691045688844,
          -0.29005597513570286,
          0.9466939194327922,
          -0.6089183281809548,
          1.1417672338470617,
          -1.088662793594401,
          0.3643038000710208,
          -0.17898847966887502,
          -0.3451979256630047,
          0.8251441391588759,
          0.16051005723422476,
          -0.44254706983371356,
          -1.2568846638341369,
          0.5454228020711138,
          1.9552256234010204,
          -0.6337597480361455,
          0.26811263823655834,
          -0.12564519258363752,
          -0.004471482700457042,
          0.5984273818105452,
          -0.330062734246072,
          -2.2387209249844617,
          -1.8689651177427342,
          -1.110306320474275,
          0.7316123635486081,
          1.7097634472311631,
          -0.9646968649446509,
          1.607143723636374,
          -1.1133374146289832,
          0.3675698426196052,
          -1.47843347031786,
          -0.824001464782571,
          1.290645718979975,
          -0.3210143193836279,
          1.0794651265744086,
          0.11045871143526716,
          0.380385812050898,
          0.27005574992279774,
          -0.2113174148967174,
          -1.1717258088038764,
          -0.17229510893765648,
          0.9314307265527947,
          -0.387760509132024,
          -0.35271724025565754,
          -0.8488360226083353,
          -1.025655885301656,
          0.26384085787714573,
          1.8120787607099624,
          0.9100289597930974,
          0.12666333933874754,
          0.11588791987941716,
          -1.9145334684976296,
          1.5043947128368997
         ],
         "yaxis": "y5"
        },
        {
         "histfunc": "count",
         "histnorm": "",
         "marker": {
          "color": "rgba(55, 128, 191, 1.0)",
          "line": {
           "color": "#4D5663",
           "width": 1.3
          }
         },
         "name": "B",
         "nbinsx": 10,
         "opacity": 0.8,
         "orientation": "v",
         "type": "histogram",
         "x": [
          -2.314890678163464,
          -0.30177437212597147,
          0.5499429699705268,
          -0.9526752027541245,
          1.5533303542681645,
          -0.5078252827169001,
          0.4028555741875542,
          -0.5774718509539073,
          -0.6811341105347527,
          0.0644489320205561,
          1.811506320652103,
          0.4778354701838685,
          0.05761873599105411,
          -0.7660180917968894,
          -0.383561855691717,
          -1.9708845566145123,
          0.1790104216355467,
          -0.26930717038848323,
          -0.5021951885006355,
          0.2526883247094073,
          -1.6581072814366244,
          -0.9829489286671428,
          0.3110804762010143,
          1.7189715803691583,
          0.20830928060301285,
          -0.729721483323263,
          -0.6472670362627534,
          0.3308526113256317,
          -1.2576301538162142,
          0.8578593551258539,
          0.1531917677976979,
          -1.4114793851091527,
          -0.7115824294309413,
          -0.650709281596651,
          -0.1797312135856715,
          -0.11129089263187959,
          0.8212644920402455,
          1.436643439487427,
          0.13506679470142205,
          -1.8462888693119657,
          3.203862495207228,
          0.5752222157505211,
          -0.28073796158962405,
          -0.8701286346240297,
          -1.8053420321718303,
          -1.8486942668584059,
          -0.5068460253551225,
          0.4987691045688844,
          -0.29005597513570286,
          0.9466939194327922,
          -0.6089183281809548,
          1.1417672338470617,
          -1.088662793594401,
          0.3643038000710208,
          -0.17898847966887502,
          -0.3451979256630047,
          0.8251441391588759,
          0.16051005723422476,
          -0.44254706983371356,
          -1.2568846638341369,
          0.5454228020711138,
          1.9552256234010204,
          -0.6337597480361455,
          0.26811263823655834,
          -0.12564519258363752,
          -0.004471482700457042,
          0.5984273818105452,
          -0.330062734246072,
          -2.2387209249844617,
          -1.8689651177427342,
          -1.110306320474275,
          0.7316123635486081,
          1.7097634472311631,
          -0.9646968649446509,
          1.607143723636374,
          -1.1133374146289832,
          0.3675698426196052,
          -1.47843347031786,
          -0.824001464782571,
          1.290645718979975,
          -0.3210143193836279,
          1.0794651265744086,
          0.11045871143526716,
          0.380385812050898,
          0.27005574992279774,
          -0.2113174148967174,
          -1.1717258088038764,
          -0.17229510893765648,
          0.9314307265527947,
          -0.387760509132024,
          -0.35271724025565754,
          -0.8488360226083353,
          -1.025655885301656,
          0.26384085787714573,
          1.8120787607099624,
          0.9100289597930974,
          0.12666333933874754,
          0.11588791987941716,
          -1.9145334684976296,
          1.5043947128368997
         ],
         "xaxis": "x6",
         "yaxis": "y6"
        },
        {
         "line": {
          "color": "rgba(128, 128, 128, 1.0)",
          "dash": "solid",
          "shape": "linear",
          "width": 1.3
         },
         "marker": {
          "size": 2,
          "symbol": "circle"
         },
         "mode": "markers",
         "name": "B",
         "text": "",
         "type": "scatter",
         "x": [
          0.659062814123277,
          1.5684267703572246,
          0.05166116754989549,
          0.46424658709960276,
          0.4050267213964662,
          2.0513283440009213,
          0.15750168343706802,
          -1.2329616702978836,
          0.5468719624032921,
          0.4416206439542919,
          -0.19645572330201946,
          -0.522753499684,
          -0.28937813933244405,
          1.1569261054775832,
          0.2569883333209594,
          0.2220818014438884,
          0.9165207932446514,
          -1.143328182878145,
          1.4209775300608973,
          -0.6012633718532,
          -0.48611314848006837,
          -0.8796448245996384,
          -1.3444120569513685,
          0.4143508605018087,
          -0.5823443413856135,
          -0.2044878046225266,
          -0.7264987790673539,
          0.9444323657861515,
          -2.4554935073322084,
          0.3798461265137401,
          -1.2225752495033184,
          0.09793376438513397,
          0.35257145224202996,
          -1.035542480908029,
          0.42945250978354016,
          -1.2326425021376675,
          0.1993267694995079,
          3.21372178644483,
          -1.1317301474085883,
          0.12085425455187246,
          1.1500923110299464,
          0.617484558430184,
          -1.2399772087696725,
          0.023010425110181525,
          1.415054263505035,
          0.7571069872113684,
          0.5613023690551945,
          0.22974122208954417,
          -0.6962210502279587,
          -0.40616915166043815,
          2.7410444523894473,
          1.0826517837633405,
          0.8823904705286962,
          0.08569291305464524,
          1.1113534788639665,
          -0.0915372683949695,
          -1.0215343669866888,
          -0.9394341034505724,
          0.4982691287074044,
          -0.3588624149024244,
          -1.1314248780811467,
          0.8254307475119398,
          0.6451356387380806,
          0.13217533667654016,
          -0.2704089866434351,
          0.3629990732169382,
          0.1633434676493273,
          -1.0570817420017171,
          -1.3529533392728874,
          -0.18267517728312124,
          -0.4683112176250565,
          0.7707081821810905,
          -0.7660753684229836,
          0.22553479481983998,
          -0.06091220606052293,
          0.47461198687766865,
          -0.32251182807487,
          1.2487471371610814,
          -1.390360852402884,
          -0.6526355233986028,
          -1.0971539355141071,
          -0.4557383313076427,
          -1.1381957884531135,
          -0.7889075195025212,
          1.2072943416083557,
          -1.9847888053087293,
          0.5650817298590286,
          -0.28213575609956015,
          1.2981720046455998,
          1.42998960193017,
          0.5067691772062698,
          1.0041224521924397,
          -1.6626838024333388,
          -1.5773173585756795,
          0.4476668577684265,
          3.488402897257025,
          0.34940914337165174,
          -0.3227581348436228,
          0.5708815815411163,
          -0.4215012284826513
         ],
         "xaxis": "x7",
         "y": [
          -2.314890678163464,
          -0.30177437212597147,
          0.5499429699705268,
          -0.9526752027541245,
          1.5533303542681645,
          -0.5078252827169001,
          0.4028555741875542,
          -0.5774718509539073,
          -0.6811341105347527,
          0.0644489320205561,
          1.811506320652103,
          0.4778354701838685,
          0.05761873599105411,
          -0.7660180917968894,
          -0.383561855691717,
          -1.9708845566145123,
          0.1790104216355467,
          -0.26930717038848323,
          -0.5021951885006355,
          0.2526883247094073,
          -1.6581072814366244,
          -0.9829489286671428,
          0.3110804762010143,
          1.7189715803691583,
          0.20830928060301285,
          -0.729721483323263,
          -0.6472670362627534,
          0.3308526113256317,
          -1.2576301538162142,
          0.8578593551258539,
          0.1531917677976979,
          -1.4114793851091527,
          -0.7115824294309413,
          -0.650709281596651,
          -0.1797312135856715,
          -0.11129089263187959,
          0.8212644920402455,
          1.436643439487427,
          0.13506679470142205,
          -1.8462888693119657,
          3.203862495207228,
          0.5752222157505211,
          -0.28073796158962405,
          -0.8701286346240297,
          -1.8053420321718303,
          -1.8486942668584059,
          -0.5068460253551225,
          0.4987691045688844,
          -0.29005597513570286,
          0.9466939194327922,
          -0.6089183281809548,
          1.1417672338470617,
          -1.088662793594401,
          0.3643038000710208,
          -0.17898847966887502,
          -0.3451979256630047,
          0.8251441391588759,
          0.16051005723422476,
          -0.44254706983371356,
          -1.2568846638341369,
          0.5454228020711138,
          1.9552256234010204,
          -0.6337597480361455,
          0.26811263823655834,
          -0.12564519258363752,
          -0.004471482700457042,
          0.5984273818105452,
          -0.330062734246072,
          -2.2387209249844617,
          -1.8689651177427342,
          -1.110306320474275,
          0.7316123635486081,
          1.7097634472311631,
          -0.9646968649446509,
          1.607143723636374,
          -1.1133374146289832,
          0.3675698426196052,
          -1.47843347031786,
          -0.824001464782571,
          1.290645718979975,
          -0.3210143193836279,
          1.0794651265744086,
          0.11045871143526716,
          0.380385812050898,
          0.27005574992279774,
          -0.2113174148967174,
          -1.1717258088038764,
          -0.17229510893765648,
          0.9314307265527947,
          -0.387760509132024,
          -0.35271724025565754,
          -0.8488360226083353,
          -1.025655885301656,
          0.26384085787714573,
          1.8120787607099624,
          0.9100289597930974,
          0.12666333933874754,
          0.11588791987941716,
          -1.9145334684976296,
          1.5043947128368997
         ],
         "yaxis": "y7"
        },
        {
         "line": {
          "color": "rgba(128, 128, 128, 1.0)",
          "dash": "solid",
          "shape": "linear",
          "width": 1.3
         },
         "marker": {
          "size": 2,
          "symbol": "circle"
         },
         "mode": "markers",
         "name": "B",
         "text": "",
         "type": "scatter",
         "x": [
          0.8399191798078127,
          -0.63613390094695,
          -0.6944267984119925,
          -0.16675655325343755,
          -0.6937286430279299,
          -0.6383933164652055,
          1.1838273421110919,
          0.8632458637605457,
          -2.4516200133467154,
          -0.6602935677065107,
          -0.5874492075325497,
          0.4489119378994047,
          0.17187108257270475,
          0.1005341681036597,
          1.0344491025576719,
          2.290733801957848,
          -2.6916747786740514,
          -1.0333249903820707,
          -0.28714038600110514,
          0.2151524479664407,
          -0.522330248044562,
          0.1460967975588475,
          -2.095354632496688,
          0.85300691028129,
          0.32218022167716703,
          0.6611188916737772,
          0.219235674187028,
          0.6043626270171994,
          -0.5438815110570238,
          -0.7867836688902382,
          -0.25254881660967504,
          -1.5437911531037813,
          -1.6282974051807124,
          -1.1702586742488221,
          -0.9637666275652607,
          0.7723413917401876,
          0.7038889240751445,
          -0.38785006405429523,
          2.4265069934883408,
          -0.015921305419591723,
          0.8621043683969853,
          0.035899320952788416,
          2.031734815832546,
          -0.08098571602998135,
          -0.7840014032171135,
          -1.0709852710850423,
          -1.8652551205239034,
          -1.0276108653166263,
          1.2840941764181228,
          1.0206444603407554,
          1.739851001966569,
          0.08703164224434952,
          -1.4892129630743196,
          -0.4671250530447547,
          0.8725253114037612,
          0.588163926968566,
          -1.2486585866449216,
          -0.7070050812333557,
          0.5235491861515154,
          1.5620810028531162,
          -0.06908401748320098,
          -0.4990292166845264,
          -1.062643465222129,
          2.0822509410822283,
          0.9928278924066326,
          -0.9652404737144156,
          0.280586945441175,
          0.7035157556270332,
          -1.1136901925402503,
          -1.3264639273382348,
          0.039743349401929536,
          1.0370694338987092,
          0.32534663217337756,
          -0.7106130799040847,
          -0.2127939105775505,
          -1.0119043204034097,
          0.7242887254965652,
          -0.20146537838860515,
          1.6360298709824186,
          1.666755550941301,
          0.44747132992870225,
          0.4554476841226329,
          0.8719859144802454,
          -0.38477249829957627,
          0.17703395334653876,
          -0.5275512900512666,
          1.2214633912240875,
          -0.9564945519115773,
          2.0123352038174613,
          -0.727155236871999,
          0.7309473294394849,
          -0.11855236572483953,
          -0.4100704251237475,
          1.6969969830770206,
          0.5558336307222187,
          0.40568516385858794,
          -1.4660740655556281,
          0.26765095807405315,
          -0.8985948023209357,
          -2.071210861648605
         ],
         "xaxis": "x8",
         "y": [
          -2.314890678163464,
          -0.30177437212597147,
          0.5499429699705268,
          -0.9526752027541245,
          1.5533303542681645,
          -0.5078252827169001,
          0.4028555741875542,
          -0.5774718509539073,
          -0.6811341105347527,
          0.0644489320205561,
          1.811506320652103,
          0.4778354701838685,
          0.05761873599105411,
          -0.7660180917968894,
          -0.383561855691717,
          -1.9708845566145123,
          0.1790104216355467,
          -0.26930717038848323,
          -0.5021951885006355,
          0.2526883247094073,
          -1.6581072814366244,
          -0.9829489286671428,
          0.3110804762010143,
          1.7189715803691583,
          0.20830928060301285,
          -0.729721483323263,
          -0.6472670362627534,
          0.3308526113256317,
          -1.2576301538162142,
          0.8578593551258539,
          0.1531917677976979,
          -1.4114793851091527,
          -0.7115824294309413,
          -0.650709281596651,
          -0.1797312135856715,
          -0.11129089263187959,
          0.8212644920402455,
          1.436643439487427,
          0.13506679470142205,
          -1.8462888693119657,
          3.203862495207228,
          0.5752222157505211,
          -0.28073796158962405,
          -0.8701286346240297,
          -1.8053420321718303,
          -1.8486942668584059,
          -0.5068460253551225,
          0.4987691045688844,
          -0.29005597513570286,
          0.9466939194327922,
          -0.6089183281809548,
          1.1417672338470617,
          -1.088662793594401,
          0.3643038000710208,
          -0.17898847966887502,
          -0.3451979256630047,
          0.8251441391588759,
          0.16051005723422476,
          -0.44254706983371356,
          -1.2568846638341369,
          0.5454228020711138,
          1.9552256234010204,
          -0.6337597480361455,
          0.26811263823655834,
          -0.12564519258363752,
          -0.004471482700457042,
          0.5984273818105452,
          -0.330062734246072,
          -2.2387209249844617,
          -1.8689651177427342,
          -1.110306320474275,
          0.7316123635486081,
          1.7097634472311631,
          -0.9646968649446509,
          1.607143723636374,
          -1.1133374146289832,
          0.3675698426196052,
          -1.47843347031786,
          -0.824001464782571,
          1.290645718979975,
          -0.3210143193836279,
          1.0794651265744086,
          0.11045871143526716,
          0.380385812050898,
          0.27005574992279774,
          -0.2113174148967174,
          -1.1717258088038764,
          -0.17229510893765648,
          0.9314307265527947,
          -0.387760509132024,
          -0.35271724025565754,
          -0.8488360226083353,
          -1.025655885301656,
          0.26384085787714573,
          1.8120787607099624,
          0.9100289597930974,
          0.12666333933874754,
          0.11588791987941716,
          -1.9145334684976296,
          1.5043947128368997
         ],
         "yaxis": "y8"
        },
        {
         "line": {
          "color": "rgba(128, 128, 128, 1.0)",
          "dash": "solid",
          "shape": "linear",
          "width": 1.3
         },
         "marker": {
          "size": 2,
          "symbol": "circle"
         },
         "mode": "markers",
         "name": "C",
         "text": "",
         "type": "scatter",
         "x": [
          0.10762388526296199,
          -0.7564418891284865,
          1.6126540986511892,
          0.7775682923362824,
          -0.5952959854744313,
          2.7165296870543663,
          -0.8418041837494875,
          0.4520263613717429,
          -1.1811618010748057,
          1.3017114072144773,
          1.3272738483408182,
          -1.2571625619582165,
          -1.5851832427856685,
          2.207114710090944,
          -0.9858571233790321,
          0.6254103733582416,
          1.1170542864569903,
          -0.5421854559616364,
          0.005037612594899869,
          -0.09960346946484637,
          -1.173575061482218,
          -0.7289483967404173,
          0.07800339985776875,
          -0.034754268614389135,
          -1.751240479785419,
          0.7717749524266126,
          0.08343341764260574,
          0.1986334309389733,
          -0.794258717921895,
          1.3437529637865553,
          1.1560148777149495,
          -0.34509571668566474,
          -0.0880157934620941,
          -0.5179391311478613,
          0.7021441294486146,
          0.05161627543106151,
          0.2209466178195064,
          -0.07138636983591397,
          -0.207924870196759,
          1.658956247192368,
          0.8846630544827088,
          0.6338655418849547,
          0.5243027738002651,
          0.4306726692742513,
          0.6543039138767474,
          0.6703944846780071,
          -0.45582041977913695,
          -1.5368390595450678,
          -0.43169265859801714,
          0.5775623520718516,
          0.7270362444133679,
          -0.9686402783675524,
          -0.7626460913795635,
          -0.007740911462933657,
          0.8426361921016096,
          -1.525063666185188,
          -1.4878236176538635,
          0.560411441799206,
          0.29484265879850674,
          -0.44354850857918005,
          -1.2369406866873534,
          -0.4408224576864079,
          0.42480069832885475,
          -0.7667741411620467,
          -0.700320783644171,
          1.6850601173535071,
          -0.06805298388497137,
          0.6400578864382191,
          -2.98067099973402,
          0.2247541322573582,
          -0.3052211289271923,
          -0.26910637193717996,
          -1.1397622939667247,
          1.5697320958149767,
          -1.6680788968914804,
          -0.4804863639728813,
          1.7012517997797407,
          -1.7312432770283541,
          1.0766473765396547,
          0.9987138864720232,
          -0.9536484947120728,
          -0.3166964888606845,
          -0.896993536707252,
          -1.7733819867210974,
          -0.39680350373954704,
          -0.46385931536628483,
          -0.17381558605655018,
          -0.861547502624248,
          0.5368907658398797,
          -0.38149470781202155,
          -0.04880061640656663,
          -0.9484946921437268,
          0.27269700979662254,
          0.213346612114495,
          -0.23502230780637598,
          -0.10578602471367916,
          0.8249413060109705,
          0.12317607400262938,
          0.1549693302015403,
          1.9405144461988928
         ],
         "xaxis": "x9",
         "y": [
          0.659062814123277,
          1.5684267703572246,
          0.05166116754989549,
          0.46424658709960276,
          0.4050267213964662,
          2.0513283440009213,
          0.15750168343706802,
          -1.2329616702978836,
          0.5468719624032921,
          0.4416206439542919,
          -0.19645572330201946,
          -0.522753499684,
          -0.28937813933244405,
          1.1569261054775832,
          0.2569883333209594,
          0.2220818014438884,
          0.9165207932446514,
          -1.143328182878145,
          1.4209775300608973,
          -0.6012633718532,
          -0.48611314848006837,
          -0.8796448245996384,
          -1.3444120569513685,
          0.4143508605018087,
          -0.5823443413856135,
          -0.2044878046225266,
          -0.7264987790673539,
          0.9444323657861515,
          -2.4554935073322084,
          0.3798461265137401,
          -1.2225752495033184,
          0.09793376438513397,
          0.35257145224202996,
          -1.035542480908029,
          0.42945250978354016,
          -1.2326425021376675,
          0.1993267694995079,
          3.21372178644483,
          -1.1317301474085883,
          0.12085425455187246,
          1.1500923110299464,
          0.617484558430184,
          -1.2399772087696725,
          0.023010425110181525,
          1.415054263505035,
          0.7571069872113684,
          0.5613023690551945,
          0.22974122208954417,
          -0.6962210502279587,
          -0.40616915166043815,
          2.7410444523894473,
          1.0826517837633405,
          0.8823904705286962,
          0.08569291305464524,
          1.1113534788639665,
          -0.0915372683949695,
          -1.0215343669866888,
          -0.9394341034505724,
          0.4982691287074044,
          -0.3588624149024244,
          -1.1314248780811467,
          0.8254307475119398,
          0.6451356387380806,
          0.13217533667654016,
          -0.2704089866434351,
          0.3629990732169382,
          0.1633434676493273,
          -1.0570817420017171,
          -1.3529533392728874,
          -0.18267517728312124,
          -0.4683112176250565,
          0.7707081821810905,
          -0.7660753684229836,
          0.22553479481983998,
          -0.06091220606052293,
          0.47461198687766865,
          -0.32251182807487,
          1.2487471371610814,
          -1.390360852402884,
          -0.6526355233986028,
          -1.0971539355141071,
          -0.4557383313076427,
          -1.1381957884531135,
          -0.7889075195025212,
          1.2072943416083557,
          -1.9847888053087293,
          0.5650817298590286,
          -0.28213575609956015,
          1.2981720046455998,
          1.42998960193017,
          0.5067691772062698,
          1.0041224521924397,
          -1.6626838024333388,
          -1.5773173585756795,
          0.4476668577684265,
          3.488402897257025,
          0.34940914337165174,
          -0.3227581348436228,
          0.5708815815411163,
          -0.4215012284826513
         ],
         "yaxis": "y9"
        },
        {
         "line": {
          "color": "rgba(128, 128, 128, 1.0)",
          "dash": "solid",
          "shape": "linear",
          "width": 1.3
         },
         "marker": {
          "size": 2,
          "symbol": "circle"
         },
         "mode": "markers",
         "name": "C",
         "text": "",
         "type": "scatter",
         "x": [
          -2.314890678163464,
          -0.30177437212597147,
          0.5499429699705268,
          -0.9526752027541245,
          1.5533303542681645,
          -0.5078252827169001,
          0.4028555741875542,
          -0.5774718509539073,
          -0.6811341105347527,
          0.0644489320205561,
          1.811506320652103,
          0.4778354701838685,
          0.05761873599105411,
          -0.7660180917968894,
          -0.383561855691717,
          -1.9708845566145123,
          0.1790104216355467,
          -0.26930717038848323,
          -0.5021951885006355,
          0.2526883247094073,
          -1.6581072814366244,
          -0.9829489286671428,
          0.3110804762010143,
          1.7189715803691583,
          0.20830928060301285,
          -0.729721483323263,
          -0.6472670362627534,
          0.3308526113256317,
          -1.2576301538162142,
          0.8578593551258539,
          0.1531917677976979,
          -1.4114793851091527,
          -0.7115824294309413,
          -0.650709281596651,
          -0.1797312135856715,
          -0.11129089263187959,
          0.8212644920402455,
          1.436643439487427,
          0.13506679470142205,
          -1.8462888693119657,
          3.203862495207228,
          0.5752222157505211,
          -0.28073796158962405,
          -0.8701286346240297,
          -1.8053420321718303,
          -1.8486942668584059,
          -0.5068460253551225,
          0.4987691045688844,
          -0.29005597513570286,
          0.9466939194327922,
          -0.6089183281809548,
          1.1417672338470617,
          -1.088662793594401,
          0.3643038000710208,
          -0.17898847966887502,
          -0.3451979256630047,
          0.8251441391588759,
          0.16051005723422476,
          -0.44254706983371356,
          -1.2568846638341369,
          0.5454228020711138,
          1.9552256234010204,
          -0.6337597480361455,
          0.26811263823655834,
          -0.12564519258363752,
          -0.004471482700457042,
          0.5984273818105452,
          -0.330062734246072,
          -2.2387209249844617,
          -1.8689651177427342,
          -1.110306320474275,
          0.7316123635486081,
          1.7097634472311631,
          -0.9646968649446509,
          1.607143723636374,
          -1.1133374146289832,
          0.3675698426196052,
          -1.47843347031786,
          -0.824001464782571,
          1.290645718979975,
          -0.3210143193836279,
          1.0794651265744086,
          0.11045871143526716,
          0.380385812050898,
          0.27005574992279774,
          -0.2113174148967174,
          -1.1717258088038764,
          -0.17229510893765648,
          0.9314307265527947,
          -0.387760509132024,
          -0.35271724025565754,
          -0.8488360226083353,
          -1.025655885301656,
          0.26384085787714573,
          1.8120787607099624,
          0.9100289597930974,
          0.12666333933874754,
          0.11588791987941716,
          -1.9145334684976296,
          1.5043947128368997
         ],
         "xaxis": "x10",
         "y": [
          0.659062814123277,
          1.5684267703572246,
          0.05166116754989549,
          0.46424658709960276,
          0.4050267213964662,
          2.0513283440009213,
          0.15750168343706802,
          -1.2329616702978836,
          0.5468719624032921,
          0.4416206439542919,
          -0.19645572330201946,
          -0.522753499684,
          -0.28937813933244405,
          1.1569261054775832,
          0.2569883333209594,
          0.2220818014438884,
          0.9165207932446514,
          -1.143328182878145,
          1.4209775300608973,
          -0.6012633718532,
          -0.48611314848006837,
          -0.8796448245996384,
          -1.3444120569513685,
          0.4143508605018087,
          -0.5823443413856135,
          -0.2044878046225266,
          -0.7264987790673539,
          0.9444323657861515,
          -2.4554935073322084,
          0.3798461265137401,
          -1.2225752495033184,
          0.09793376438513397,
          0.35257145224202996,
          -1.035542480908029,
          0.42945250978354016,
          -1.2326425021376675,
          0.1993267694995079,
          3.21372178644483,
          -1.1317301474085883,
          0.12085425455187246,
          1.1500923110299464,
          0.617484558430184,
          -1.2399772087696725,
          0.023010425110181525,
          1.415054263505035,
          0.7571069872113684,
          0.5613023690551945,
          0.22974122208954417,
          -0.6962210502279587,
          -0.40616915166043815,
          2.7410444523894473,
          1.0826517837633405,
          0.8823904705286962,
          0.08569291305464524,
          1.1113534788639665,
          -0.0915372683949695,
          -1.0215343669866888,
          -0.9394341034505724,
          0.4982691287074044,
          -0.3588624149024244,
          -1.1314248780811467,
          0.8254307475119398,
          0.6451356387380806,
          0.13217533667654016,
          -0.2704089866434351,
          0.3629990732169382,
          0.1633434676493273,
          -1.0570817420017171,
          -1.3529533392728874,
          -0.18267517728312124,
          -0.4683112176250565,
          0.7707081821810905,
          -0.7660753684229836,
          0.22553479481983998,
          -0.06091220606052293,
          0.47461198687766865,
          -0.32251182807487,
          1.2487471371610814,
          -1.390360852402884,
          -0.6526355233986028,
          -1.0971539355141071,
          -0.4557383313076427,
          -1.1381957884531135,
          -0.7889075195025212,
          1.2072943416083557,
          -1.9847888053087293,
          0.5650817298590286,
          -0.28213575609956015,
          1.2981720046455998,
          1.42998960193017,
          0.5067691772062698,
          1.0041224521924397,
          -1.6626838024333388,
          -1.5773173585756795,
          0.4476668577684265,
          3.488402897257025,
          0.34940914337165174,
          -0.3227581348436228,
          0.5708815815411163,
          -0.4215012284826513
         ],
         "yaxis": "y10"
        },
        {
         "histfunc": "count",
         "histnorm": "",
         "marker": {
          "color": "rgba(50, 171, 96, 1.0)",
          "line": {
           "color": "#4D5663",
           "width": 1.3
          }
         },
         "name": "C",
         "nbinsx": 10,
         "opacity": 0.8,
         "orientation": "v",
         "type": "histogram",
         "x": [
          0.659062814123277,
          1.5684267703572246,
          0.05166116754989549,
          0.46424658709960276,
          0.4050267213964662,
          2.0513283440009213,
          0.15750168343706802,
          -1.2329616702978836,
          0.5468719624032921,
          0.4416206439542919,
          -0.19645572330201946,
          -0.522753499684,
          -0.28937813933244405,
          1.1569261054775832,
          0.2569883333209594,
          0.2220818014438884,
          0.9165207932446514,
          -1.143328182878145,
          1.4209775300608973,
          -0.6012633718532,
          -0.48611314848006837,
          -0.8796448245996384,
          -1.3444120569513685,
          0.4143508605018087,
          -0.5823443413856135,
          -0.2044878046225266,
          -0.7264987790673539,
          0.9444323657861515,
          -2.4554935073322084,
          0.3798461265137401,
          -1.2225752495033184,
          0.09793376438513397,
          0.35257145224202996,
          -1.035542480908029,
          0.42945250978354016,
          -1.2326425021376675,
          0.1993267694995079,
          3.21372178644483,
          -1.1317301474085883,
          0.12085425455187246,
          1.1500923110299464,
          0.617484558430184,
          -1.2399772087696725,
          0.023010425110181525,
          1.415054263505035,
          0.7571069872113684,
          0.5613023690551945,
          0.22974122208954417,
          -0.6962210502279587,
          -0.40616915166043815,
          2.7410444523894473,
          1.0826517837633405,
          0.8823904705286962,
          0.08569291305464524,
          1.1113534788639665,
          -0.0915372683949695,
          -1.0215343669866888,
          -0.9394341034505724,
          0.4982691287074044,
          -0.3588624149024244,
          -1.1314248780811467,
          0.8254307475119398,
          0.6451356387380806,
          0.13217533667654016,
          -0.2704089866434351,
          0.3629990732169382,
          0.1633434676493273,
          -1.0570817420017171,
          -1.3529533392728874,
          -0.18267517728312124,
          -0.4683112176250565,
          0.7707081821810905,
          -0.7660753684229836,
          0.22553479481983998,
          -0.06091220606052293,
          0.47461198687766865,
          -0.32251182807487,
          1.2487471371610814,
          -1.390360852402884,
          -0.6526355233986028,
          -1.0971539355141071,
          -0.4557383313076427,
          -1.1381957884531135,
          -0.7889075195025212,
          1.2072943416083557,
          -1.9847888053087293,
          0.5650817298590286,
          -0.28213575609956015,
          1.2981720046455998,
          1.42998960193017,
          0.5067691772062698,
          1.0041224521924397,
          -1.6626838024333388,
          -1.5773173585756795,
          0.4476668577684265,
          3.488402897257025,
          0.34940914337165174,
          -0.3227581348436228,
          0.5708815815411163,
          -0.4215012284826513
         ],
         "xaxis": "x11",
         "yaxis": "y11"
        },
        {
         "line": {
          "color": "rgba(128, 128, 128, 1.0)",
          "dash": "solid",
          "shape": "linear",
          "width": 1.3
         },
         "marker": {
          "size": 2,
          "symbol": "circle"
         },
         "mode": "markers",
         "name": "C",
         "text": "",
         "type": "scatter",
         "x": [
          0.8399191798078127,
          -0.63613390094695,
          -0.6944267984119925,
          -0.16675655325343755,
          -0.6937286430279299,
          -0.6383933164652055,
          1.1838273421110919,
          0.8632458637605457,
          -2.4516200133467154,
          -0.6602935677065107,
          -0.5874492075325497,
          0.4489119378994047,
          0.17187108257270475,
          0.1005341681036597,
          1.0344491025576719,
          2.290733801957848,
          -2.6916747786740514,
          -1.0333249903820707,
          -0.28714038600110514,
          0.2151524479664407,
          -0.522330248044562,
          0.1460967975588475,
          -2.095354632496688,
          0.85300691028129,
          0.32218022167716703,
          0.6611188916737772,
          0.219235674187028,
          0.6043626270171994,
          -0.5438815110570238,
          -0.7867836688902382,
          -0.25254881660967504,
          -1.5437911531037813,
          -1.6282974051807124,
          -1.1702586742488221,
          -0.9637666275652607,
          0.7723413917401876,
          0.7038889240751445,
          -0.38785006405429523,
          2.4265069934883408,
          -0.015921305419591723,
          0.8621043683969853,
          0.035899320952788416,
          2.031734815832546,
          -0.08098571602998135,
          -0.7840014032171135,
          -1.0709852710850423,
          -1.8652551205239034,
          -1.0276108653166263,
          1.2840941764181228,
          1.0206444603407554,
          1.739851001966569,
          0.08703164224434952,
          -1.4892129630743196,
          -0.4671250530447547,
          0.8725253114037612,
          0.588163926968566,
          -1.2486585866449216,
          -0.7070050812333557,
          0.5235491861515154,
          1.5620810028531162,
          -0.06908401748320098,
          -0.4990292166845264,
          -1.062643465222129,
          2.0822509410822283,
          0.9928278924066326,
          -0.9652404737144156,
          0.280586945441175,
          0.7035157556270332,
          -1.1136901925402503,
          -1.3264639273382348,
          0.039743349401929536,
          1.0370694338987092,
          0.32534663217337756,
          -0.7106130799040847,
          -0.2127939105775505,
          -1.0119043204034097,
          0.7242887254965652,
          -0.20146537838860515,
          1.6360298709824186,
          1.666755550941301,
          0.44747132992870225,
          0.4554476841226329,
          0.8719859144802454,
          -0.38477249829957627,
          0.17703395334653876,
          -0.5275512900512666,
          1.2214633912240875,
          -0.9564945519115773,
          2.0123352038174613,
          -0.727155236871999,
          0.7309473294394849,
          -0.11855236572483953,
          -0.4100704251237475,
          1.6969969830770206,
          0.5558336307222187,
          0.40568516385858794,
          -1.4660740655556281,
          0.26765095807405315,
          -0.8985948023209357,
          -2.071210861648605
         ],
         "xaxis": "x12",
         "y": [
          0.659062814123277,
          1.5684267703572246,
          0.05166116754989549,
          0.46424658709960276,
          0.4050267213964662,
          2.0513283440009213,
          0.15750168343706802,
          -1.2329616702978836,
          0.5468719624032921,
          0.4416206439542919,
          -0.19645572330201946,
          -0.522753499684,
          -0.28937813933244405,
          1.1569261054775832,
          0.2569883333209594,
          0.2220818014438884,
          0.9165207932446514,
          -1.143328182878145,
          1.4209775300608973,
          -0.6012633718532,
          -0.48611314848006837,
          -0.8796448245996384,
          -1.3444120569513685,
          0.4143508605018087,
          -0.5823443413856135,
          -0.2044878046225266,
          -0.7264987790673539,
          0.9444323657861515,
          -2.4554935073322084,
          0.3798461265137401,
          -1.2225752495033184,
          0.09793376438513397,
          0.35257145224202996,
          -1.035542480908029,
          0.42945250978354016,
          -1.2326425021376675,
          0.1993267694995079,
          3.21372178644483,
          -1.1317301474085883,
          0.12085425455187246,
          1.1500923110299464,
          0.617484558430184,
          -1.2399772087696725,
          0.023010425110181525,
          1.415054263505035,
          0.7571069872113684,
          0.5613023690551945,
          0.22974122208954417,
          -0.6962210502279587,
          -0.40616915166043815,
          2.7410444523894473,
          1.0826517837633405,
          0.8823904705286962,
          0.08569291305464524,
          1.1113534788639665,
          -0.0915372683949695,
          -1.0215343669866888,
          -0.9394341034505724,
          0.4982691287074044,
          -0.3588624149024244,
          -1.1314248780811467,
          0.8254307475119398,
          0.6451356387380806,
          0.13217533667654016,
          -0.2704089866434351,
          0.3629990732169382,
          0.1633434676493273,
          -1.0570817420017171,
          -1.3529533392728874,
          -0.18267517728312124,
          -0.4683112176250565,
          0.7707081821810905,
          -0.7660753684229836,
          0.22553479481983998,
          -0.06091220606052293,
          0.47461198687766865,
          -0.32251182807487,
          1.2487471371610814,
          -1.390360852402884,
          -0.6526355233986028,
          -1.0971539355141071,
          -0.4557383313076427,
          -1.1381957884531135,
          -0.7889075195025212,
          1.2072943416083557,
          -1.9847888053087293,
          0.5650817298590286,
          -0.28213575609956015,
          1.2981720046455998,
          1.42998960193017,
          0.5067691772062698,
          1.0041224521924397,
          -1.6626838024333388,
          -1.5773173585756795,
          0.4476668577684265,
          3.488402897257025,
          0.34940914337165174,
          -0.3227581348436228,
          0.5708815815411163,
          -0.4215012284826513
         ],
         "yaxis": "y12"
        },
        {
         "line": {
          "color": "rgba(128, 128, 128, 1.0)",
          "dash": "solid",
          "shape": "linear",
          "width": 1.3
         },
         "marker": {
          "size": 2,
          "symbol": "circle"
         },
         "mode": "markers",
         "name": "D",
         "text": "",
         "type": "scatter",
         "x": [
          0.10762388526296199,
          -0.7564418891284865,
          1.6126540986511892,
          0.7775682923362824,
          -0.5952959854744313,
          2.7165296870543663,
          -0.8418041837494875,
          0.4520263613717429,
          -1.1811618010748057,
          1.3017114072144773,
          1.3272738483408182,
          -1.2571625619582165,
          -1.5851832427856685,
          2.207114710090944,
          -0.9858571233790321,
          0.6254103733582416,
          1.1170542864569903,
          -0.5421854559616364,
          0.005037612594899869,
          -0.09960346946484637,
          -1.173575061482218,
          -0.7289483967404173,
          0.07800339985776875,
          -0.034754268614389135,
          -1.751240479785419,
          0.7717749524266126,
          0.08343341764260574,
          0.1986334309389733,
          -0.794258717921895,
          1.3437529637865553,
          1.1560148777149495,
          -0.34509571668566474,
          -0.0880157934620941,
          -0.5179391311478613,
          0.7021441294486146,
          0.05161627543106151,
          0.2209466178195064,
          -0.07138636983591397,
          -0.207924870196759,
          1.658956247192368,
          0.8846630544827088,
          0.6338655418849547,
          0.5243027738002651,
          0.4306726692742513,
          0.6543039138767474,
          0.6703944846780071,
          -0.45582041977913695,
          -1.5368390595450678,
          -0.43169265859801714,
          0.5775623520718516,
          0.7270362444133679,
          -0.9686402783675524,
          -0.7626460913795635,
          -0.007740911462933657,
          0.8426361921016096,
          -1.525063666185188,
          -1.4878236176538635,
          0.560411441799206,
          0.29484265879850674,
          -0.44354850857918005,
          -1.2369406866873534,
          -0.4408224576864079,
          0.42480069832885475,
          -0.7667741411620467,
          -0.700320783644171,
          1.6850601173535071,
          -0.06805298388497137,
          0.6400578864382191,
          -2.98067099973402,
          0.2247541322573582,
          -0.3052211289271923,
          -0.26910637193717996,
          -1.1397622939667247,
          1.5697320958149767,
          -1.6680788968914804,
          -0.4804863639728813,
          1.7012517997797407,
          -1.7312432770283541,
          1.0766473765396547,
          0.9987138864720232,
          -0.9536484947120728,
          -0.3166964888606845,
          -0.896993536707252,
          -1.7733819867210974,
          -0.39680350373954704,
          -0.46385931536628483,
          -0.17381558605655018,
          -0.861547502624248,
          0.5368907658398797,
          -0.38149470781202155,
          -0.04880061640656663,
          -0.9484946921437268,
          0.27269700979662254,
          0.213346612114495,
          -0.23502230780637598,
          -0.10578602471367916,
          0.8249413060109705,
          0.12317607400262938,
          0.1549693302015403,
          1.9405144461988928
         ],
         "xaxis": "x13",
         "y": [
          0.8399191798078127,
          -0.63613390094695,
          -0.6944267984119925,
          -0.16675655325343755,
          -0.6937286430279299,
          -0.6383933164652055,
          1.1838273421110919,
          0.8632458637605457,
          -2.4516200133467154,
          -0.6602935677065107,
          -0.5874492075325497,
          0.4489119378994047,
          0.17187108257270475,
          0.1005341681036597,
          1.0344491025576719,
          2.290733801957848,
          -2.6916747786740514,
          -1.0333249903820707,
          -0.28714038600110514,
          0.2151524479664407,
          -0.522330248044562,
          0.1460967975588475,
          -2.095354632496688,
          0.85300691028129,
          0.32218022167716703,
          0.6611188916737772,
          0.219235674187028,
          0.6043626270171994,
          -0.5438815110570238,
          -0.7867836688902382,
          -0.25254881660967504,
          -1.5437911531037813,
          -1.6282974051807124,
          -1.1702586742488221,
          -0.9637666275652607,
          0.7723413917401876,
          0.7038889240751445,
          -0.38785006405429523,
          2.4265069934883408,
          -0.015921305419591723,
          0.8621043683969853,
          0.035899320952788416,
          2.031734815832546,
          -0.08098571602998135,
          -0.7840014032171135,
          -1.0709852710850423,
          -1.8652551205239034,
          -1.0276108653166263,
          1.2840941764181228,
          1.0206444603407554,
          1.739851001966569,
          0.08703164224434952,
          -1.4892129630743196,
          -0.4671250530447547,
          0.8725253114037612,
          0.588163926968566,
          -1.2486585866449216,
          -0.7070050812333557,
          0.5235491861515154,
          1.5620810028531162,
          -0.06908401748320098,
          -0.4990292166845264,
          -1.062643465222129,
          2.0822509410822283,
          0.9928278924066326,
          -0.9652404737144156,
          0.280586945441175,
          0.7035157556270332,
          -1.1136901925402503,
          -1.3264639273382348,
          0.039743349401929536,
          1.0370694338987092,
          0.32534663217337756,
          -0.7106130799040847,
          -0.2127939105775505,
          -1.0119043204034097,
          0.7242887254965652,
          -0.20146537838860515,
          1.6360298709824186,
          1.666755550941301,
          0.44747132992870225,
          0.4554476841226329,
          0.8719859144802454,
          -0.38477249829957627,
          0.17703395334653876,
          -0.5275512900512666,
          1.2214633912240875,
          -0.9564945519115773,
          2.0123352038174613,
          -0.727155236871999,
          0.7309473294394849,
          -0.11855236572483953,
          -0.4100704251237475,
          1.6969969830770206,
          0.5558336307222187,
          0.40568516385858794,
          -1.4660740655556281,
          0.26765095807405315,
          -0.8985948023209357,
          -2.071210861648605
         ],
         "yaxis": "y13"
        },
        {
         "line": {
          "color": "rgba(128, 128, 128, 1.0)",
          "dash": "solid",
          "shape": "linear",
          "width": 1.3
         },
         "marker": {
          "size": 2,
          "symbol": "circle"
         },
         "mode": "markers",
         "name": "D",
         "text": "",
         "type": "scatter",
         "x": [
          -2.314890678163464,
          -0.30177437212597147,
          0.5499429699705268,
          -0.9526752027541245,
          1.5533303542681645,
          -0.5078252827169001,
          0.4028555741875542,
          -0.5774718509539073,
          -0.6811341105347527,
          0.0644489320205561,
          1.811506320652103,
          0.4778354701838685,
          0.05761873599105411,
          -0.7660180917968894,
          -0.383561855691717,
          -1.9708845566145123,
          0.1790104216355467,
          -0.26930717038848323,
          -0.5021951885006355,
          0.2526883247094073,
          -1.6581072814366244,
          -0.9829489286671428,
          0.3110804762010143,
          1.7189715803691583,
          0.20830928060301285,
          -0.729721483323263,
          -0.6472670362627534,
          0.3308526113256317,
          -1.2576301538162142,
          0.8578593551258539,
          0.1531917677976979,
          -1.4114793851091527,
          -0.7115824294309413,
          -0.650709281596651,
          -0.1797312135856715,
          -0.11129089263187959,
          0.8212644920402455,
          1.436643439487427,
          0.13506679470142205,
          -1.8462888693119657,
          3.203862495207228,
          0.5752222157505211,
          -0.28073796158962405,
          -0.8701286346240297,
          -1.8053420321718303,
          -1.8486942668584059,
          -0.5068460253551225,
          0.4987691045688844,
          -0.29005597513570286,
          0.9466939194327922,
          -0.6089183281809548,
          1.1417672338470617,
          -1.088662793594401,
          0.3643038000710208,
          -0.17898847966887502,
          -0.3451979256630047,
          0.8251441391588759,
          0.16051005723422476,
          -0.44254706983371356,
          -1.2568846638341369,
          0.5454228020711138,
          1.9552256234010204,
          -0.6337597480361455,
          0.26811263823655834,
          -0.12564519258363752,
          -0.004471482700457042,
          0.5984273818105452,
          -0.330062734246072,
          -2.2387209249844617,
          -1.8689651177427342,
          -1.110306320474275,
          0.7316123635486081,
          1.7097634472311631,
          -0.9646968649446509,
          1.607143723636374,
          -1.1133374146289832,
          0.3675698426196052,
          -1.47843347031786,
          -0.824001464782571,
          1.290645718979975,
          -0.3210143193836279,
          1.0794651265744086,
          0.11045871143526716,
          0.380385812050898,
          0.27005574992279774,
          -0.2113174148967174,
          -1.1717258088038764,
          -0.17229510893765648,
          0.9314307265527947,
          -0.387760509132024,
          -0.35271724025565754,
          -0.8488360226083353,
          -1.025655885301656,
          0.26384085787714573,
          1.8120787607099624,
          0.9100289597930974,
          0.12666333933874754,
          0.11588791987941716,
          -1.9145334684976296,
          1.5043947128368997
         ],
         "xaxis": "x14",
         "y": [
          0.8399191798078127,
          -0.63613390094695,
          -0.6944267984119925,
          -0.16675655325343755,
          -0.6937286430279299,
          -0.6383933164652055,
          1.1838273421110919,
          0.8632458637605457,
          -2.4516200133467154,
          -0.6602935677065107,
          -0.5874492075325497,
          0.4489119378994047,
          0.17187108257270475,
          0.1005341681036597,
          1.0344491025576719,
          2.290733801957848,
          -2.6916747786740514,
          -1.0333249903820707,
          -0.28714038600110514,
          0.2151524479664407,
          -0.522330248044562,
          0.1460967975588475,
          -2.095354632496688,
          0.85300691028129,
          0.32218022167716703,
          0.6611188916737772,
          0.219235674187028,
          0.6043626270171994,
          -0.5438815110570238,
          -0.7867836688902382,
          -0.25254881660967504,
          -1.5437911531037813,
          -1.6282974051807124,
          -1.1702586742488221,
          -0.9637666275652607,
          0.7723413917401876,
          0.7038889240751445,
          -0.38785006405429523,
          2.4265069934883408,
          -0.015921305419591723,
          0.8621043683969853,
          0.035899320952788416,
          2.031734815832546,
          -0.08098571602998135,
          -0.7840014032171135,
          -1.0709852710850423,
          -1.8652551205239034,
          -1.0276108653166263,
          1.2840941764181228,
          1.0206444603407554,
          1.739851001966569,
          0.08703164224434952,
          -1.4892129630743196,
          -0.4671250530447547,
          0.8725253114037612,
          0.588163926968566,
          -1.2486585866449216,
          -0.7070050812333557,
          0.5235491861515154,
          1.5620810028531162,
          -0.06908401748320098,
          -0.4990292166845264,
          -1.062643465222129,
          2.0822509410822283,
          0.9928278924066326,
          -0.9652404737144156,
          0.280586945441175,
          0.7035157556270332,
          -1.1136901925402503,
          -1.3264639273382348,
          0.039743349401929536,
          1.0370694338987092,
          0.32534663217337756,
          -0.7106130799040847,
          -0.2127939105775505,
          -1.0119043204034097,
          0.7242887254965652,
          -0.20146537838860515,
          1.6360298709824186,
          1.666755550941301,
          0.44747132992870225,
          0.4554476841226329,
          0.8719859144802454,
          -0.38477249829957627,
          0.17703395334653876,
          -0.5275512900512666,
          1.2214633912240875,
          -0.9564945519115773,
          2.0123352038174613,
          -0.727155236871999,
          0.7309473294394849,
          -0.11855236572483953,
          -0.4100704251237475,
          1.6969969830770206,
          0.5558336307222187,
          0.40568516385858794,
          -1.4660740655556281,
          0.26765095807405315,
          -0.8985948023209357,
          -2.071210861648605
         ],
         "yaxis": "y14"
        },
        {
         "line": {
          "color": "rgba(128, 128, 128, 1.0)",
          "dash": "solid",
          "shape": "linear",
          "width": 1.3
         },
         "marker": {
          "size": 2,
          "symbol": "circle"
         },
         "mode": "markers",
         "name": "D",
         "text": "",
         "type": "scatter",
         "x": [
          0.659062814123277,
          1.5684267703572246,
          0.05166116754989549,
          0.46424658709960276,
          0.4050267213964662,
          2.0513283440009213,
          0.15750168343706802,
          -1.2329616702978836,
          0.5468719624032921,
          0.4416206439542919,
          -0.19645572330201946,
          -0.522753499684,
          -0.28937813933244405,
          1.1569261054775832,
          0.2569883333209594,
          0.2220818014438884,
          0.9165207932446514,
          -1.143328182878145,
          1.4209775300608973,
          -0.6012633718532,
          -0.48611314848006837,
          -0.8796448245996384,
          -1.3444120569513685,
          0.4143508605018087,
          -0.5823443413856135,
          -0.2044878046225266,
          -0.7264987790673539,
          0.9444323657861515,
          -2.4554935073322084,
          0.3798461265137401,
          -1.2225752495033184,
          0.09793376438513397,
          0.35257145224202996,
          -1.035542480908029,
          0.42945250978354016,
          -1.2326425021376675,
          0.1993267694995079,
          3.21372178644483,
          -1.1317301474085883,
          0.12085425455187246,
          1.1500923110299464,
          0.617484558430184,
          -1.2399772087696725,
          0.023010425110181525,
          1.415054263505035,
          0.7571069872113684,
          0.5613023690551945,
          0.22974122208954417,
          -0.6962210502279587,
          -0.40616915166043815,
          2.7410444523894473,
          1.0826517837633405,
          0.8823904705286962,
          0.08569291305464524,
          1.1113534788639665,
          -0.0915372683949695,
          -1.0215343669866888,
          -0.9394341034505724,
          0.4982691287074044,
          -0.3588624149024244,
          -1.1314248780811467,
          0.8254307475119398,
          0.6451356387380806,
          0.13217533667654016,
          -0.2704089866434351,
          0.3629990732169382,
          0.1633434676493273,
          -1.0570817420017171,
          -1.3529533392728874,
          -0.18267517728312124,
          -0.4683112176250565,
          0.7707081821810905,
          -0.7660753684229836,
          0.22553479481983998,
          -0.06091220606052293,
          0.47461198687766865,
          -0.32251182807487,
          1.2487471371610814,
          -1.390360852402884,
          -0.6526355233986028,
          -1.0971539355141071,
          -0.4557383313076427,
          -1.1381957884531135,
          -0.7889075195025212,
          1.2072943416083557,
          -1.9847888053087293,
          0.5650817298590286,
          -0.28213575609956015,
          1.2981720046455998,
          1.42998960193017,
          0.5067691772062698,
          1.0041224521924397,
          -1.6626838024333388,
          -1.5773173585756795,
          0.4476668577684265,
          3.488402897257025,
          0.34940914337165174,
          -0.3227581348436228,
          0.5708815815411163,
          -0.4215012284826513
         ],
         "xaxis": "x15",
         "y": [
          0.8399191798078127,
          -0.63613390094695,
          -0.6944267984119925,
          -0.16675655325343755,
          -0.6937286430279299,
          -0.6383933164652055,
          1.1838273421110919,
          0.8632458637605457,
          -2.4516200133467154,
          -0.6602935677065107,
          -0.5874492075325497,
          0.4489119378994047,
          0.17187108257270475,
          0.1005341681036597,
          1.0344491025576719,
          2.290733801957848,
          -2.6916747786740514,
          -1.0333249903820707,
          -0.28714038600110514,
          0.2151524479664407,
          -0.522330248044562,
          0.1460967975588475,
          -2.095354632496688,
          0.85300691028129,
          0.32218022167716703,
          0.6611188916737772,
          0.219235674187028,
          0.6043626270171994,
          -0.5438815110570238,
          -0.7867836688902382,
          -0.25254881660967504,
          -1.5437911531037813,
          -1.6282974051807124,
          -1.1702586742488221,
          -0.9637666275652607,
          0.7723413917401876,
          0.7038889240751445,
          -0.38785006405429523,
          2.4265069934883408,
          -0.015921305419591723,
          0.8621043683969853,
          0.035899320952788416,
          2.031734815832546,
          -0.08098571602998135,
          -0.7840014032171135,
          -1.0709852710850423,
          -1.8652551205239034,
          -1.0276108653166263,
          1.2840941764181228,
          1.0206444603407554,
          1.739851001966569,
          0.08703164224434952,
          -1.4892129630743196,
          -0.4671250530447547,
          0.8725253114037612,
          0.588163926968566,
          -1.2486585866449216,
          -0.7070050812333557,
          0.5235491861515154,
          1.5620810028531162,
          -0.06908401748320098,
          -0.4990292166845264,
          -1.062643465222129,
          2.0822509410822283,
          0.9928278924066326,
          -0.9652404737144156,
          0.280586945441175,
          0.7035157556270332,
          -1.1136901925402503,
          -1.3264639273382348,
          0.039743349401929536,
          1.0370694338987092,
          0.32534663217337756,
          -0.7106130799040847,
          -0.2127939105775505,
          -1.0119043204034097,
          0.7242887254965652,
          -0.20146537838860515,
          1.6360298709824186,
          1.666755550941301,
          0.44747132992870225,
          0.4554476841226329,
          0.8719859144802454,
          -0.38477249829957627,
          0.17703395334653876,
          -0.5275512900512666,
          1.2214633912240875,
          -0.9564945519115773,
          2.0123352038174613,
          -0.727155236871999,
          0.7309473294394849,
          -0.11855236572483953,
          -0.4100704251237475,
          1.6969969830770206,
          0.5558336307222187,
          0.40568516385858794,
          -1.4660740655556281,
          0.26765095807405315,
          -0.8985948023209357,
          -2.071210861648605
         ],
         "yaxis": "y15"
        },
        {
         "histfunc": "count",
         "histnorm": "",
         "marker": {
          "color": "rgba(128, 0, 128, 1.0)",
          "line": {
           "color": "#4D5663",
           "width": 1.3
          }
         },
         "name": "D",
         "nbinsx": 10,
         "opacity": 0.8,
         "orientation": "v",
         "type": "histogram",
         "x": [
          0.8399191798078127,
          -0.63613390094695,
          -0.6944267984119925,
          -0.16675655325343755,
          -0.6937286430279299,
          -0.6383933164652055,
          1.1838273421110919,
          0.8632458637605457,
          -2.4516200133467154,
          -0.6602935677065107,
          -0.5874492075325497,
          0.4489119378994047,
          0.17187108257270475,
          0.1005341681036597,
          1.0344491025576719,
          2.290733801957848,
          -2.6916747786740514,
          -1.0333249903820707,
          -0.28714038600110514,
          0.2151524479664407,
          -0.522330248044562,
          0.1460967975588475,
          -2.095354632496688,
          0.85300691028129,
          0.32218022167716703,
          0.6611188916737772,
          0.219235674187028,
          0.6043626270171994,
          -0.5438815110570238,
          -0.7867836688902382,
          -0.25254881660967504,
          -1.5437911531037813,
          -1.6282974051807124,
          -1.1702586742488221,
          -0.9637666275652607,
          0.7723413917401876,
          0.7038889240751445,
          -0.38785006405429523,
          2.4265069934883408,
          -0.015921305419591723,
          0.8621043683969853,
          0.035899320952788416,
          2.031734815832546,
          -0.08098571602998135,
          -0.7840014032171135,
          -1.0709852710850423,
          -1.8652551205239034,
          -1.0276108653166263,
          1.2840941764181228,
          1.0206444603407554,
          1.739851001966569,
          0.08703164224434952,
          -1.4892129630743196,
          -0.4671250530447547,
          0.8725253114037612,
          0.588163926968566,
          -1.2486585866449216,
          -0.7070050812333557,
          0.5235491861515154,
          1.5620810028531162,
          -0.06908401748320098,
          -0.4990292166845264,
          -1.062643465222129,
          2.0822509410822283,
          0.9928278924066326,
          -0.9652404737144156,
          0.280586945441175,
          0.7035157556270332,
          -1.1136901925402503,
          -1.3264639273382348,
          0.039743349401929536,
          1.0370694338987092,
          0.32534663217337756,
          -0.7106130799040847,
          -0.2127939105775505,
          -1.0119043204034097,
          0.7242887254965652,
          -0.20146537838860515,
          1.6360298709824186,
          1.666755550941301,
          0.44747132992870225,
          0.4554476841226329,
          0.8719859144802454,
          -0.38477249829957627,
          0.17703395334653876,
          -0.5275512900512666,
          1.2214633912240875,
          -0.9564945519115773,
          2.0123352038174613,
          -0.727155236871999,
          0.7309473294394849,
          -0.11855236572483953,
          -0.4100704251237475,
          1.6969969830770206,
          0.5558336307222187,
          0.40568516385858794,
          -1.4660740655556281,
          0.26765095807405315,
          -0.8985948023209357,
          -2.071210861648605
         ],
         "xaxis": "x16",
         "yaxis": "y16"
        }
       ],
       "layout": {
        "bargap": 0.02,
        "legend": {
         "bgcolor": "#F5F6F9",
         "font": {
          "color": "#4D5663"
         }
        },
        "paper_bgcolor": "#F5F6F9",
        "plot_bgcolor": "#F5F6F9",
        "showlegend": false,
        "template": {
         "data": {
          "bar": [
           {
            "error_x": {
             "color": "#2a3f5f"
            },
            "error_y": {
             "color": "#2a3f5f"
            },
            "marker": {
             "line": {
              "color": "#E5ECF6",
              "width": 0.5
             },
             "pattern": {
              "fillmode": "overlay",
              "size": 10,
              "solidity": 0.2
             }
            },
            "type": "bar"
           }
          ],
          "barpolar": [
           {
            "marker": {
             "line": {
              "color": "#E5ECF6",
              "width": 0.5
             },
             "pattern": {
              "fillmode": "overlay",
              "size": 10,
              "solidity": 0.2
             }
            },
            "type": "barpolar"
           }
          ],
          "carpet": [
           {
            "aaxis": {
             "endlinecolor": "#2a3f5f",
             "gridcolor": "white",
             "linecolor": "white",
             "minorgridcolor": "white",
             "startlinecolor": "#2a3f5f"
            },
            "baxis": {
             "endlinecolor": "#2a3f5f",
             "gridcolor": "white",
             "linecolor": "white",
             "minorgridcolor": "white",
             "startlinecolor": "#2a3f5f"
            },
            "type": "carpet"
           }
          ],
          "choropleth": [
           {
            "colorbar": {
             "outlinewidth": 0,
             "ticks": ""
            },
            "type": "choropleth"
           }
          ],
          "contour": [
           {
            "colorbar": {
             "outlinewidth": 0,
             "ticks": ""
            },
            "colorscale": [
             [
              0,
              "#0d0887"
             ],
             [
              0.1111111111111111,
              "#46039f"
             ],
             [
              0.2222222222222222,
              "#7201a8"
             ],
             [
              0.3333333333333333,
              "#9c179e"
             ],
             [
              0.4444444444444444,
              "#bd3786"
             ],
             [
              0.5555555555555556,
              "#d8576b"
             ],
             [
              0.6666666666666666,
              "#ed7953"
             ],
             [
              0.7777777777777778,
              "#fb9f3a"
             ],
             [
              0.8888888888888888,
              "#fdca26"
             ],
             [
              1,
              "#f0f921"
             ]
            ],
            "type": "contour"
           }
          ],
          "contourcarpet": [
           {
            "colorbar": {
             "outlinewidth": 0,
             "ticks": ""
            },
            "type": "contourcarpet"
           }
          ],
          "heatmap": [
           {
            "colorbar": {
             "outlinewidth": 0,
             "ticks": ""
            },
            "colorscale": [
             [
              0,
              "#0d0887"
             ],
             [
              0.1111111111111111,
              "#46039f"
             ],
             [
              0.2222222222222222,
              "#7201a8"
             ],
             [
              0.3333333333333333,
              "#9c179e"
             ],
             [
              0.4444444444444444,
              "#bd3786"
             ],
             [
              0.5555555555555556,
              "#d8576b"
             ],
             [
              0.6666666666666666,
              "#ed7953"
             ],
             [
              0.7777777777777778,
              "#fb9f3a"
             ],
             [
              0.8888888888888888,
              "#fdca26"
             ],
             [
              1,
              "#f0f921"
             ]
            ],
            "type": "heatmap"
           }
          ],
          "heatmapgl": [
           {
            "colorbar": {
             "outlinewidth": 0,
             "ticks": ""
            },
            "colorscale": [
             [
              0,
              "#0d0887"
             ],
             [
              0.1111111111111111,
              "#46039f"
             ],
             [
              0.2222222222222222,
              "#7201a8"
             ],
             [
              0.3333333333333333,
              "#9c179e"
             ],
             [
              0.4444444444444444,
              "#bd3786"
             ],
             [
              0.5555555555555556,
              "#d8576b"
             ],
             [
              0.6666666666666666,
              "#ed7953"
             ],
             [
              0.7777777777777778,
              "#fb9f3a"
             ],
             [
              0.8888888888888888,
              "#fdca26"
             ],
             [
              1,
              "#f0f921"
             ]
            ],
            "type": "heatmapgl"
           }
          ],
          "histogram": [
           {
            "marker": {
             "pattern": {
              "fillmode": "overlay",
              "size": 10,
              "solidity": 0.2
             }
            },
            "type": "histogram"
           }
          ],
          "histogram2d": [
           {
            "colorbar": {
             "outlinewidth": 0,
             "ticks": ""
            },
            "colorscale": [
             [
              0,
              "#0d0887"
             ],
             [
              0.1111111111111111,
              "#46039f"
             ],
             [
              0.2222222222222222,
              "#7201a8"
             ],
             [
              0.3333333333333333,
              "#9c179e"
             ],
             [
              0.4444444444444444,
              "#bd3786"
             ],
             [
              0.5555555555555556,
              "#d8576b"
             ],
             [
              0.6666666666666666,
              "#ed7953"
             ],
             [
              0.7777777777777778,
              "#fb9f3a"
             ],
             [
              0.8888888888888888,
              "#fdca26"
             ],
             [
              1,
              "#f0f921"
             ]
            ],
            "type": "histogram2d"
           }
          ],
          "histogram2dcontour": [
           {
            "colorbar": {
             "outlinewidth": 0,
             "ticks": ""
            },
            "colorscale": [
             [
              0,
              "#0d0887"
             ],
             [
              0.1111111111111111,
              "#46039f"
             ],
             [
              0.2222222222222222,
              "#7201a8"
             ],
             [
              0.3333333333333333,
              "#9c179e"
             ],
             [
              0.4444444444444444,
              "#bd3786"
             ],
             [
              0.5555555555555556,
              "#d8576b"
             ],
             [
              0.6666666666666666,
              "#ed7953"
             ],
             [
              0.7777777777777778,
              "#fb9f3a"
             ],
             [
              0.8888888888888888,
              "#fdca26"
             ],
             [
              1,
              "#f0f921"
             ]
            ],
            "type": "histogram2dcontour"
           }
          ],
          "mesh3d": [
           {
            "colorbar": {
             "outlinewidth": 0,
             "ticks": ""
            },
            "type": "mesh3d"
           }
          ],
          "parcoords": [
           {
            "line": {
             "colorbar": {
              "outlinewidth": 0,
              "ticks": ""
             }
            },
            "type": "parcoords"
           }
          ],
          "pie": [
           {
            "automargin": true,
            "type": "pie"
           }
          ],
          "scatter": [
           {
            "fillpattern": {
             "fillmode": "overlay",
             "size": 10,
             "solidity": 0.2
            },
            "type": "scatter"
           }
          ],
          "scatter3d": [
           {
            "line": {
             "colorbar": {
              "outlinewidth": 0,
              "ticks": ""
             }
            },
            "marker": {
             "colorbar": {
              "outlinewidth": 0,
              "ticks": ""
             }
            },
            "type": "scatter3d"
           }
          ],
          "scattercarpet": [
           {
            "marker": {
             "colorbar": {
              "outlinewidth": 0,
              "ticks": ""
             }
            },
            "type": "scattercarpet"
           }
          ],
          "scattergeo": [
           {
            "marker": {
             "colorbar": {
              "outlinewidth": 0,
              "ticks": ""
             }
            },
            "type": "scattergeo"
           }
          ],
          "scattergl": [
           {
            "marker": {
             "colorbar": {
              "outlinewidth": 0,
              "ticks": ""
             }
            },
            "type": "scattergl"
           }
          ],
          "scattermapbox": [
           {
            "marker": {
             "colorbar": {
              "outlinewidth": 0,
              "ticks": ""
             }
            },
            "type": "scattermapbox"
           }
          ],
          "scatterpolar": [
           {
            "marker": {
             "colorbar": {
              "outlinewidth": 0,
              "ticks": ""
             }
            },
            "type": "scatterpolar"
           }
          ],
          "scatterpolargl": [
           {
            "marker": {
             "colorbar": {
              "outlinewidth": 0,
              "ticks": ""
             }
            },
            "type": "scatterpolargl"
           }
          ],
          "scatterternary": [
           {
            "marker": {
             "colorbar": {
              "outlinewidth": 0,
              "ticks": ""
             }
            },
            "type": "scatterternary"
           }
          ],
          "surface": [
           {
            "colorbar": {
             "outlinewidth": 0,
             "ticks": ""
            },
            "colorscale": [
             [
              0,
              "#0d0887"
             ],
             [
              0.1111111111111111,
              "#46039f"
             ],
             [
              0.2222222222222222,
              "#7201a8"
             ],
             [
              0.3333333333333333,
              "#9c179e"
             ],
             [
              0.4444444444444444,
              "#bd3786"
             ],
             [
              0.5555555555555556,
              "#d8576b"
             ],
             [
              0.6666666666666666,
              "#ed7953"
             ],
             [
              0.7777777777777778,
              "#fb9f3a"
             ],
             [
              0.8888888888888888,
              "#fdca26"
             ],
             [
              1,
              "#f0f921"
             ]
            ],
            "type": "surface"
           }
          ],
          "table": [
           {
            "cells": {
             "fill": {
              "color": "#EBF0F8"
             },
             "line": {
              "color": "white"
             }
            },
            "header": {
             "fill": {
              "color": "#C8D4E3"
             },
             "line": {
              "color": "white"
             }
            },
            "type": "table"
           }
          ]
         },
         "layout": {
          "annotationdefaults": {
           "arrowcolor": "#2a3f5f",
           "arrowhead": 0,
           "arrowwidth": 1
          },
          "autotypenumbers": "strict",
          "coloraxis": {
           "colorbar": {
            "outlinewidth": 0,
            "ticks": ""
           }
          },
          "colorscale": {
           "diverging": [
            [
             0,
             "#8e0152"
            ],
            [
             0.1,
             "#c51b7d"
            ],
            [
             0.2,
             "#de77ae"
            ],
            [
             0.3,
             "#f1b6da"
            ],
            [
             0.4,
             "#fde0ef"
            ],
            [
             0.5,
             "#f7f7f7"
            ],
            [
             0.6,
             "#e6f5d0"
            ],
            [
             0.7,
             "#b8e186"
            ],
            [
             0.8,
             "#7fbc41"
            ],
            [
             0.9,
             "#4d9221"
            ],
            [
             1,
             "#276419"
            ]
           ],
           "sequential": [
            [
             0,
             "#0d0887"
            ],
            [
             0.1111111111111111,
             "#46039f"
            ],
            [
             0.2222222222222222,
             "#7201a8"
            ],
            [
             0.3333333333333333,
             "#9c179e"
            ],
            [
             0.4444444444444444,
             "#bd3786"
            ],
            [
             0.5555555555555556,
             "#d8576b"
            ],
            [
             0.6666666666666666,
             "#ed7953"
            ],
            [
             0.7777777777777778,
             "#fb9f3a"
            ],
            [
             0.8888888888888888,
             "#fdca26"
            ],
            [
             1,
             "#f0f921"
            ]
           ],
           "sequentialminus": [
            [
             0,
             "#0d0887"
            ],
            [
             0.1111111111111111,
             "#46039f"
            ],
            [
             0.2222222222222222,
             "#7201a8"
            ],
            [
             0.3333333333333333,
             "#9c179e"
            ],
            [
             0.4444444444444444,
             "#bd3786"
            ],
            [
             0.5555555555555556,
             "#d8576b"
            ],
            [
             0.6666666666666666,
             "#ed7953"
            ],
            [
             0.7777777777777778,
             "#fb9f3a"
            ],
            [
             0.8888888888888888,
             "#fdca26"
            ],
            [
             1,
             "#f0f921"
            ]
           ]
          },
          "colorway": [
           "#636efa",
           "#EF553B",
           "#00cc96",
           "#ab63fa",
           "#FFA15A",
           "#19d3f3",
           "#FF6692",
           "#B6E880",
           "#FF97FF",
           "#FECB52"
          ],
          "font": {
           "color": "#2a3f5f"
          },
          "geo": {
           "bgcolor": "white",
           "lakecolor": "white",
           "landcolor": "#E5ECF6",
           "showlakes": true,
           "showland": true,
           "subunitcolor": "white"
          },
          "hoverlabel": {
           "align": "left"
          },
          "hovermode": "closest",
          "mapbox": {
           "style": "light"
          },
          "paper_bgcolor": "white",
          "plot_bgcolor": "#E5ECF6",
          "polar": {
           "angularaxis": {
            "gridcolor": "white",
            "linecolor": "white",
            "ticks": ""
           },
           "bgcolor": "#E5ECF6",
           "radialaxis": {
            "gridcolor": "white",
            "linecolor": "white",
            "ticks": ""
           }
          },
          "scene": {
           "xaxis": {
            "backgroundcolor": "#E5ECF6",
            "gridcolor": "white",
            "gridwidth": 2,
            "linecolor": "white",
            "showbackground": true,
            "ticks": "",
            "zerolinecolor": "white"
           },
           "yaxis": {
            "backgroundcolor": "#E5ECF6",
            "gridcolor": "white",
            "gridwidth": 2,
            "linecolor": "white",
            "showbackground": true,
            "ticks": "",
            "zerolinecolor": "white"
           },
           "zaxis": {
            "backgroundcolor": "#E5ECF6",
            "gridcolor": "white",
            "gridwidth": 2,
            "linecolor": "white",
            "showbackground": true,
            "ticks": "",
            "zerolinecolor": "white"
           }
          },
          "shapedefaults": {
           "line": {
            "color": "#2a3f5f"
           }
          },
          "ternary": {
           "aaxis": {
            "gridcolor": "white",
            "linecolor": "white",
            "ticks": ""
           },
           "baxis": {
            "gridcolor": "white",
            "linecolor": "white",
            "ticks": ""
           },
           "bgcolor": "#E5ECF6",
           "caxis": {
            "gridcolor": "white",
            "linecolor": "white",
            "ticks": ""
           }
          },
          "title": {
           "x": 0.05
          },
          "xaxis": {
           "automargin": true,
           "gridcolor": "white",
           "linecolor": "white",
           "ticks": "",
           "title": {
            "standoff": 15
           },
           "zerolinecolor": "white",
           "zerolinewidth": 2
          },
          "yaxis": {
           "automargin": true,
           "gridcolor": "white",
           "linecolor": "white",
           "ticks": "",
           "title": {
            "standoff": 15
           },
           "zerolinecolor": "white",
           "zerolinewidth": 2
          }
         }
        },
        "title": {
         "font": {
          "color": "#4D5663"
         }
        },
        "xaxis": {
         "anchor": "y",
         "domain": [
          0,
          0.2125
         ],
         "gridcolor": "#E1E5ED",
         "showgrid": false,
         "tickfont": {
          "color": "#4D5663"
         },
         "title": {
          "font": {
           "color": "#4D5663"
          },
          "text": ""
         },
         "zerolinecolor": "#E1E5ED"
        },
        "xaxis10": {
         "anchor": "y10",
         "domain": [
          0.2625,
          0.475
         ],
         "gridcolor": "#E1E5ED",
         "showgrid": false,
         "tickfont": {
          "color": "#4D5663"
         },
         "title": {
          "font": {
           "color": "#4D5663"
          },
          "text": ""
         },
         "zerolinecolor": "#E1E5ED"
        },
        "xaxis11": {
         "anchor": "y11",
         "domain": [
          0.525,
          0.7375
         ],
         "gridcolor": "#E1E5ED",
         "showgrid": false,
         "tickfont": {
          "color": "#4D5663"
         },
         "title": {
          "font": {
           "color": "#4D5663"
          },
          "text": ""
         },
         "zerolinecolor": "#E1E5ED"
        },
        "xaxis12": {
         "anchor": "y12",
         "domain": [
          0.7875,
          1
         ],
         "gridcolor": "#E1E5ED",
         "showgrid": false,
         "tickfont": {
          "color": "#4D5663"
         },
         "title": {
          "font": {
           "color": "#4D5663"
          },
          "text": ""
         },
         "zerolinecolor": "#E1E5ED"
        },
        "xaxis13": {
         "anchor": "y13",
         "domain": [
          0,
          0.2125
         ],
         "gridcolor": "#E1E5ED",
         "showgrid": false,
         "tickfont": {
          "color": "#4D5663"
         },
         "title": {
          "font": {
           "color": "#4D5663"
          },
          "text": ""
         },
         "zerolinecolor": "#E1E5ED"
        },
        "xaxis14": {
         "anchor": "y14",
         "domain": [
          0.2625,
          0.475
         ],
         "gridcolor": "#E1E5ED",
         "showgrid": false,
         "tickfont": {
          "color": "#4D5663"
         },
         "title": {
          "font": {
           "color": "#4D5663"
          },
          "text": ""
         },
         "zerolinecolor": "#E1E5ED"
        },
        "xaxis15": {
         "anchor": "y15",
         "domain": [
          0.525,
          0.7375
         ],
         "gridcolor": "#E1E5ED",
         "showgrid": false,
         "tickfont": {
          "color": "#4D5663"
         },
         "title": {
          "font": {
           "color": "#4D5663"
          },
          "text": ""
         },
         "zerolinecolor": "#E1E5ED"
        },
        "xaxis16": {
         "anchor": "y16",
         "domain": [
          0.7875,
          1
         ],
         "gridcolor": "#E1E5ED",
         "showgrid": false,
         "tickfont": {
          "color": "#4D5663"
         },
         "title": {
          "font": {
           "color": "#4D5663"
          },
          "text": ""
         },
         "zerolinecolor": "#E1E5ED"
        },
        "xaxis2": {
         "anchor": "y2",
         "domain": [
          0.2625,
          0.475
         ],
         "gridcolor": "#E1E5ED",
         "showgrid": false,
         "tickfont": {
          "color": "#4D5663"
         },
         "title": {
          "font": {
           "color": "#4D5663"
          },
          "text": ""
         },
         "zerolinecolor": "#E1E5ED"
        },
        "xaxis3": {
         "anchor": "y3",
         "domain": [
          0.525,
          0.7375
         ],
         "gridcolor": "#E1E5ED",
         "showgrid": false,
         "tickfont": {
          "color": "#4D5663"
         },
         "title": {
          "font": {
           "color": "#4D5663"
          },
          "text": ""
         },
         "zerolinecolor": "#E1E5ED"
        },
        "xaxis4": {
         "anchor": "y4",
         "domain": [
          0.7875,
          1
         ],
         "gridcolor": "#E1E5ED",
         "showgrid": false,
         "tickfont": {
          "color": "#4D5663"
         },
         "title": {
          "font": {
           "color": "#4D5663"
          },
          "text": ""
         },
         "zerolinecolor": "#E1E5ED"
        },
        "xaxis5": {
         "anchor": "y5",
         "domain": [
          0,
          0.2125
         ],
         "gridcolor": "#E1E5ED",
         "showgrid": false,
         "tickfont": {
          "color": "#4D5663"
         },
         "title": {
          "font": {
           "color": "#4D5663"
          },
          "text": ""
         },
         "zerolinecolor": "#E1E5ED"
        },
        "xaxis6": {
         "anchor": "y6",
         "domain": [
          0.2625,
          0.475
         ],
         "gridcolor": "#E1E5ED",
         "showgrid": false,
         "tickfont": {
          "color": "#4D5663"
         },
         "title": {
          "font": {
           "color": "#4D5663"
          },
          "text": ""
         },
         "zerolinecolor": "#E1E5ED"
        },
        "xaxis7": {
         "anchor": "y7",
         "domain": [
          0.525,
          0.7375
         ],
         "gridcolor": "#E1E5ED",
         "showgrid": false,
         "tickfont": {
          "color": "#4D5663"
         },
         "title": {
          "font": {
           "color": "#4D5663"
          },
          "text": ""
         },
         "zerolinecolor": "#E1E5ED"
        },
        "xaxis8": {
         "anchor": "y8",
         "domain": [
          0.7875,
          1
         ],
         "gridcolor": "#E1E5ED",
         "showgrid": false,
         "tickfont": {
          "color": "#4D5663"
         },
         "title": {
          "font": {
           "color": "#4D5663"
          },
          "text": ""
         },
         "zerolinecolor": "#E1E5ED"
        },
        "xaxis9": {
         "anchor": "y9",
         "domain": [
          0,
          0.2125
         ],
         "gridcolor": "#E1E5ED",
         "showgrid": false,
         "tickfont": {
          "color": "#4D5663"
         },
         "title": {
          "font": {
           "color": "#4D5663"
          },
          "text": ""
         },
         "zerolinecolor": "#E1E5ED"
        },
        "yaxis": {
         "anchor": "x",
         "domain": [
          0.8025,
          1
         ],
         "gridcolor": "#E1E5ED",
         "showgrid": false,
         "tickfont": {
          "color": "#4D5663"
         },
         "title": {
          "font": {
           "color": "#4D5663"
          },
          "text": ""
         },
         "zerolinecolor": "#E1E5ED"
        },
        "yaxis10": {
         "anchor": "x10",
         "domain": [
          0.2675,
          0.465
         ],
         "gridcolor": "#E1E5ED",
         "showgrid": false,
         "tickfont": {
          "color": "#4D5663"
         },
         "title": {
          "font": {
           "color": "#4D5663"
          },
          "text": ""
         },
         "zerolinecolor": "#E1E5ED"
        },
        "yaxis11": {
         "anchor": "x11",
         "domain": [
          0.2675,
          0.465
         ],
         "gridcolor": "#E1E5ED",
         "showgrid": false,
         "tickfont": {
          "color": "#4D5663"
         },
         "title": {
          "font": {
           "color": "#4D5663"
          },
          "text": ""
         },
         "zerolinecolor": "#E1E5ED"
        },
        "yaxis12": {
         "anchor": "x12",
         "domain": [
          0.2675,
          0.465
         ],
         "gridcolor": "#E1E5ED",
         "showgrid": false,
         "tickfont": {
          "color": "#4D5663"
         },
         "title": {
          "font": {
           "color": "#4D5663"
          },
          "text": ""
         },
         "zerolinecolor": "#E1E5ED"
        },
        "yaxis13": {
         "anchor": "x13",
         "domain": [
          0,
          0.1975
         ],
         "gridcolor": "#E1E5ED",
         "showgrid": false,
         "tickfont": {
          "color": "#4D5663"
         },
         "title": {
          "font": {
           "color": "#4D5663"
          },
          "text": ""
         },
         "zerolinecolor": "#E1E5ED"
        },
        "yaxis14": {
         "anchor": "x14",
         "domain": [
          0,
          0.1975
         ],
         "gridcolor": "#E1E5ED",
         "showgrid": false,
         "tickfont": {
          "color": "#4D5663"
         },
         "title": {
          "font": {
           "color": "#4D5663"
          },
          "text": ""
         },
         "zerolinecolor": "#E1E5ED"
        },
        "yaxis15": {
         "anchor": "x15",
         "domain": [
          0,
          0.1975
         ],
         "gridcolor": "#E1E5ED",
         "showgrid": false,
         "tickfont": {
          "color": "#4D5663"
         },
         "title": {
          "font": {
           "color": "#4D5663"
          },
          "text": ""
         },
         "zerolinecolor": "#E1E5ED"
        },
        "yaxis16": {
         "anchor": "x16",
         "domain": [
          0,
          0.1975
         ],
         "gridcolor": "#E1E5ED",
         "showgrid": false,
         "tickfont": {
          "color": "#4D5663"
         },
         "title": {
          "font": {
           "color": "#4D5663"
          },
          "text": ""
         },
         "zerolinecolor": "#E1E5ED"
        },
        "yaxis2": {
         "anchor": "x2",
         "domain": [
          0.8025,
          1
         ],
         "gridcolor": "#E1E5ED",
         "showgrid": false,
         "tickfont": {
          "color": "#4D5663"
         },
         "title": {
          "font": {
           "color": "#4D5663"
          },
          "text": ""
         },
         "zerolinecolor": "#E1E5ED"
        },
        "yaxis3": {
         "anchor": "x3",
         "domain": [
          0.8025,
          1
         ],
         "gridcolor": "#E1E5ED",
         "showgrid": false,
         "tickfont": {
          "color": "#4D5663"
         },
         "title": {
          "font": {
           "color": "#4D5663"
          },
          "text": ""
         },
         "zerolinecolor": "#E1E5ED"
        },
        "yaxis4": {
         "anchor": "x4",
         "domain": [
          0.8025,
          1
         ],
         "gridcolor": "#E1E5ED",
         "showgrid": false,
         "tickfont": {
          "color": "#4D5663"
         },
         "title": {
          "font": {
           "color": "#4D5663"
          },
          "text": ""
         },
         "zerolinecolor": "#E1E5ED"
        },
        "yaxis5": {
         "anchor": "x5",
         "domain": [
          0.535,
          0.7325
         ],
         "gridcolor": "#E1E5ED",
         "showgrid": false,
         "tickfont": {
          "color": "#4D5663"
         },
         "title": {
          "font": {
           "color": "#4D5663"
          },
          "text": ""
         },
         "zerolinecolor": "#E1E5ED"
        },
        "yaxis6": {
         "anchor": "x6",
         "domain": [
          0.535,
          0.7325
         ],
         "gridcolor": "#E1E5ED",
         "showgrid": false,
         "tickfont": {
          "color": "#4D5663"
         },
         "title": {
          "font": {
           "color": "#4D5663"
          },
          "text": ""
         },
         "zerolinecolor": "#E1E5ED"
        },
        "yaxis7": {
         "anchor": "x7",
         "domain": [
          0.535,
          0.7325
         ],
         "gridcolor": "#E1E5ED",
         "showgrid": false,
         "tickfont": {
          "color": "#4D5663"
         },
         "title": {
          "font": {
           "color": "#4D5663"
          },
          "text": ""
         },
         "zerolinecolor": "#E1E5ED"
        },
        "yaxis8": {
         "anchor": "x8",
         "domain": [
          0.535,
          0.7325
         ],
         "gridcolor": "#E1E5ED",
         "showgrid": false,
         "tickfont": {
          "color": "#4D5663"
         },
         "title": {
          "font": {
           "color": "#4D5663"
          },
          "text": ""
         },
         "zerolinecolor": "#E1E5ED"
        },
        "yaxis9": {
         "anchor": "x9",
         "domain": [
          0.2675,
          0.465
         ],
         "gridcolor": "#E1E5ED",
         "showgrid": false,
         "tickfont": {
          "color": "#4D5663"
         },
         "title": {
          "font": {
           "color": "#4D5663"
          },
          "text": ""
         },
         "zerolinecolor": "#E1E5ED"
        }
       }
      },
      "text/html": [
       "<div>                            <div id=\"5b355d5d-db66-4912-8855-4590e5de5a79\" class=\"plotly-graph-div\" style=\"height:525px; width:100%;\"></div>            <script type=\"text/javascript\">                require([\"plotly\"], function(Plotly) {                    window.PLOTLYENV=window.PLOTLYENV || {};\n",
       "                    window.PLOTLYENV.BASE_URL='https://plot.ly';                                    if (document.getElementById(\"5b355d5d-db66-4912-8855-4590e5de5a79\")) {                    Plotly.newPlot(                        \"5b355d5d-db66-4912-8855-4590e5de5a79\",                        [{\"histfunc\":\"count\",\"histnorm\":\"\",\"marker\":{\"color\":\"rgba(255, 153, 51, 1.0)\",\"line\":{\"color\":\"#4D5663\",\"width\":1.3}},\"name\":\"A\",\"nbinsx\":10,\"opacity\":0.8,\"orientation\":\"v\",\"x\":[0.10762388526296199,-0.7564418891284865,1.6126540986511892,0.7775682923362824,-0.5952959854744313,2.7165296870543663,-0.8418041837494875,0.4520263613717429,-1.1811618010748057,1.3017114072144773,1.3272738483408182,-1.2571625619582165,-1.5851832427856685,2.207114710090944,-0.9858571233790321,0.6254103733582416,1.1170542864569903,-0.5421854559616364,0.005037612594899869,-0.09960346946484637,-1.173575061482218,-0.7289483967404173,0.07800339985776875,-0.034754268614389135,-1.751240479785419,0.7717749524266126,0.08343341764260574,0.1986334309389733,-0.794258717921895,1.3437529637865553,1.1560148777149495,-0.34509571668566474,-0.0880157934620941,-0.5179391311478613,0.7021441294486146,0.05161627543106151,0.2209466178195064,-0.07138636983591397,-0.207924870196759,1.658956247192368,0.8846630544827088,0.6338655418849547,0.5243027738002651,0.4306726692742513,0.6543039138767474,0.6703944846780071,-0.45582041977913695,-1.5368390595450678,-0.43169265859801714,0.5775623520718516,0.7270362444133679,-0.9686402783675524,-0.7626460913795635,-0.007740911462933657,0.8426361921016096,-1.525063666185188,-1.4878236176538635,0.560411441799206,0.29484265879850674,-0.44354850857918005,-1.2369406866873534,-0.4408224576864079,0.42480069832885475,-0.7667741411620467,-0.700320783644171,1.6850601173535071,-0.06805298388497137,0.6400578864382191,-2.98067099973402,0.2247541322573582,-0.3052211289271923,-0.26910637193717996,-1.1397622939667247,1.5697320958149767,-1.6680788968914804,-0.4804863639728813,1.7012517997797407,-1.7312432770283541,1.0766473765396547,0.9987138864720232,-0.9536484947120728,-0.3166964888606845,-0.896993536707252,-1.7733819867210974,-0.39680350373954704,-0.46385931536628483,-0.17381558605655018,-0.861547502624248,0.5368907658398797,-0.38149470781202155,-0.04880061640656663,-0.9484946921437268,0.27269700979662254,0.213346612114495,-0.23502230780637598,-0.10578602471367916,0.8249413060109705,0.12317607400262938,0.1549693302015403,1.9405144461988928],\"xaxis\":\"x\",\"yaxis\":\"y\",\"type\":\"histogram\"},{\"line\":{\"color\":\"rgba(128, 128, 128, 1.0)\",\"dash\":\"solid\",\"shape\":\"linear\",\"width\":1.3},\"marker\":{\"size\":2,\"symbol\":\"circle\"},\"mode\":\"markers\",\"name\":\"A\",\"text\":\"\",\"x\":[-2.314890678163464,-0.30177437212597147,0.5499429699705268,-0.9526752027541245,1.5533303542681645,-0.5078252827169001,0.4028555741875542,-0.5774718509539073,-0.6811341105347527,0.0644489320205561,1.811506320652103,0.4778354701838685,0.05761873599105411,-0.7660180917968894,-0.383561855691717,-1.9708845566145123,0.1790104216355467,-0.26930717038848323,-0.5021951885006355,0.2526883247094073,-1.6581072814366244,-0.9829489286671428,0.3110804762010143,1.7189715803691583,0.20830928060301285,-0.729721483323263,-0.6472670362627534,0.3308526113256317,-1.2576301538162142,0.8578593551258539,0.1531917677976979,-1.4114793851091527,-0.7115824294309413,-0.650709281596651,-0.1797312135856715,-0.11129089263187959,0.8212644920402455,1.436643439487427,0.13506679470142205,-1.8462888693119657,3.203862495207228,0.5752222157505211,-0.28073796158962405,-0.8701286346240297,-1.8053420321718303,-1.8486942668584059,-0.5068460253551225,0.4987691045688844,-0.29005597513570286,0.9466939194327922,-0.6089183281809548,1.1417672338470617,-1.088662793594401,0.3643038000710208,-0.17898847966887502,-0.3451979256630047,0.8251441391588759,0.16051005723422476,-0.44254706983371356,-1.2568846638341369,0.5454228020711138,1.9552256234010204,-0.6337597480361455,0.26811263823655834,-0.12564519258363752,-0.004471482700457042,0.5984273818105452,-0.330062734246072,-2.2387209249844617,-1.8689651177427342,-1.110306320474275,0.7316123635486081,1.7097634472311631,-0.9646968649446509,1.607143723636374,-1.1133374146289832,0.3675698426196052,-1.47843347031786,-0.824001464782571,1.290645718979975,-0.3210143193836279,1.0794651265744086,0.11045871143526716,0.380385812050898,0.27005574992279774,-0.2113174148967174,-1.1717258088038764,-0.17229510893765648,0.9314307265527947,-0.387760509132024,-0.35271724025565754,-0.8488360226083353,-1.025655885301656,0.26384085787714573,1.8120787607099624,0.9100289597930974,0.12666333933874754,0.11588791987941716,-1.9145334684976296,1.5043947128368997],\"xaxis\":\"x2\",\"y\":[0.10762388526296199,-0.7564418891284865,1.6126540986511892,0.7775682923362824,-0.5952959854744313,2.7165296870543663,-0.8418041837494875,0.4520263613717429,-1.1811618010748057,1.3017114072144773,1.3272738483408182,-1.2571625619582165,-1.5851832427856685,2.207114710090944,-0.9858571233790321,0.6254103733582416,1.1170542864569903,-0.5421854559616364,0.005037612594899869,-0.09960346946484637,-1.173575061482218,-0.7289483967404173,0.07800339985776875,-0.034754268614389135,-1.751240479785419,0.7717749524266126,0.08343341764260574,0.1986334309389733,-0.794258717921895,1.3437529637865553,1.1560148777149495,-0.34509571668566474,-0.0880157934620941,-0.5179391311478613,0.7021441294486146,0.05161627543106151,0.2209466178195064,-0.07138636983591397,-0.207924870196759,1.658956247192368,0.8846630544827088,0.6338655418849547,0.5243027738002651,0.4306726692742513,0.6543039138767474,0.6703944846780071,-0.45582041977913695,-1.5368390595450678,-0.43169265859801714,0.5775623520718516,0.7270362444133679,-0.9686402783675524,-0.7626460913795635,-0.007740911462933657,0.8426361921016096,-1.525063666185188,-1.4878236176538635,0.560411441799206,0.29484265879850674,-0.44354850857918005,-1.2369406866873534,-0.4408224576864079,0.42480069832885475,-0.7667741411620467,-0.700320783644171,1.6850601173535071,-0.06805298388497137,0.6400578864382191,-2.98067099973402,0.2247541322573582,-0.3052211289271923,-0.26910637193717996,-1.1397622939667247,1.5697320958149767,-1.6680788968914804,-0.4804863639728813,1.7012517997797407,-1.7312432770283541,1.0766473765396547,0.9987138864720232,-0.9536484947120728,-0.3166964888606845,-0.896993536707252,-1.7733819867210974,-0.39680350373954704,-0.46385931536628483,-0.17381558605655018,-0.861547502624248,0.5368907658398797,-0.38149470781202155,-0.04880061640656663,-0.9484946921437268,0.27269700979662254,0.213346612114495,-0.23502230780637598,-0.10578602471367916,0.8249413060109705,0.12317607400262938,0.1549693302015403,1.9405144461988928],\"yaxis\":\"y2\",\"type\":\"scatter\"},{\"line\":{\"color\":\"rgba(128, 128, 128, 1.0)\",\"dash\":\"solid\",\"shape\":\"linear\",\"width\":1.3},\"marker\":{\"size\":2,\"symbol\":\"circle\"},\"mode\":\"markers\",\"name\":\"A\",\"text\":\"\",\"x\":[0.659062814123277,1.5684267703572246,0.05166116754989549,0.46424658709960276,0.4050267213964662,2.0513283440009213,0.15750168343706802,-1.2329616702978836,0.5468719624032921,0.4416206439542919,-0.19645572330201946,-0.522753499684,-0.28937813933244405,1.1569261054775832,0.2569883333209594,0.2220818014438884,0.9165207932446514,-1.143328182878145,1.4209775300608973,-0.6012633718532,-0.48611314848006837,-0.8796448245996384,-1.3444120569513685,0.4143508605018087,-0.5823443413856135,-0.2044878046225266,-0.7264987790673539,0.9444323657861515,-2.4554935073322084,0.3798461265137401,-1.2225752495033184,0.09793376438513397,0.35257145224202996,-1.035542480908029,0.42945250978354016,-1.2326425021376675,0.1993267694995079,3.21372178644483,-1.1317301474085883,0.12085425455187246,1.1500923110299464,0.617484558430184,-1.2399772087696725,0.023010425110181525,1.415054263505035,0.7571069872113684,0.5613023690551945,0.22974122208954417,-0.6962210502279587,-0.40616915166043815,2.7410444523894473,1.0826517837633405,0.8823904705286962,0.08569291305464524,1.1113534788639665,-0.0915372683949695,-1.0215343669866888,-0.9394341034505724,0.4982691287074044,-0.3588624149024244,-1.1314248780811467,0.8254307475119398,0.6451356387380806,0.13217533667654016,-0.2704089866434351,0.3629990732169382,0.1633434676493273,-1.0570817420017171,-1.3529533392728874,-0.18267517728312124,-0.4683112176250565,0.7707081821810905,-0.7660753684229836,0.22553479481983998,-0.06091220606052293,0.47461198687766865,-0.32251182807487,1.2487471371610814,-1.390360852402884,-0.6526355233986028,-1.0971539355141071,-0.4557383313076427,-1.1381957884531135,-0.7889075195025212,1.2072943416083557,-1.9847888053087293,0.5650817298590286,-0.28213575609956015,1.2981720046455998,1.42998960193017,0.5067691772062698,1.0041224521924397,-1.6626838024333388,-1.5773173585756795,0.4476668577684265,3.488402897257025,0.34940914337165174,-0.3227581348436228,0.5708815815411163,-0.4215012284826513],\"xaxis\":\"x3\",\"y\":[0.10762388526296199,-0.7564418891284865,1.6126540986511892,0.7775682923362824,-0.5952959854744313,2.7165296870543663,-0.8418041837494875,0.4520263613717429,-1.1811618010748057,1.3017114072144773,1.3272738483408182,-1.2571625619582165,-1.5851832427856685,2.207114710090944,-0.9858571233790321,0.6254103733582416,1.1170542864569903,-0.5421854559616364,0.005037612594899869,-0.09960346946484637,-1.173575061482218,-0.7289483967404173,0.07800339985776875,-0.034754268614389135,-1.751240479785419,0.7717749524266126,0.08343341764260574,0.1986334309389733,-0.794258717921895,1.3437529637865553,1.1560148777149495,-0.34509571668566474,-0.0880157934620941,-0.5179391311478613,0.7021441294486146,0.05161627543106151,0.2209466178195064,-0.07138636983591397,-0.207924870196759,1.658956247192368,0.8846630544827088,0.6338655418849547,0.5243027738002651,0.4306726692742513,0.6543039138767474,0.6703944846780071,-0.45582041977913695,-1.5368390595450678,-0.43169265859801714,0.5775623520718516,0.7270362444133679,-0.9686402783675524,-0.7626460913795635,-0.007740911462933657,0.8426361921016096,-1.525063666185188,-1.4878236176538635,0.560411441799206,0.29484265879850674,-0.44354850857918005,-1.2369406866873534,-0.4408224576864079,0.42480069832885475,-0.7667741411620467,-0.700320783644171,1.6850601173535071,-0.06805298388497137,0.6400578864382191,-2.98067099973402,0.2247541322573582,-0.3052211289271923,-0.26910637193717996,-1.1397622939667247,1.5697320958149767,-1.6680788968914804,-0.4804863639728813,1.7012517997797407,-1.7312432770283541,1.0766473765396547,0.9987138864720232,-0.9536484947120728,-0.3166964888606845,-0.896993536707252,-1.7733819867210974,-0.39680350373954704,-0.46385931536628483,-0.17381558605655018,-0.861547502624248,0.5368907658398797,-0.38149470781202155,-0.04880061640656663,-0.9484946921437268,0.27269700979662254,0.213346612114495,-0.23502230780637598,-0.10578602471367916,0.8249413060109705,0.12317607400262938,0.1549693302015403,1.9405144461988928],\"yaxis\":\"y3\",\"type\":\"scatter\"},{\"line\":{\"color\":\"rgba(128, 128, 128, 1.0)\",\"dash\":\"solid\",\"shape\":\"linear\",\"width\":1.3},\"marker\":{\"size\":2,\"symbol\":\"circle\"},\"mode\":\"markers\",\"name\":\"A\",\"text\":\"\",\"x\":[0.8399191798078127,-0.63613390094695,-0.6944267984119925,-0.16675655325343755,-0.6937286430279299,-0.6383933164652055,1.1838273421110919,0.8632458637605457,-2.4516200133467154,-0.6602935677065107,-0.5874492075325497,0.4489119378994047,0.17187108257270475,0.1005341681036597,1.0344491025576719,2.290733801957848,-2.6916747786740514,-1.0333249903820707,-0.28714038600110514,0.2151524479664407,-0.522330248044562,0.1460967975588475,-2.095354632496688,0.85300691028129,0.32218022167716703,0.6611188916737772,0.219235674187028,0.6043626270171994,-0.5438815110570238,-0.7867836688902382,-0.25254881660967504,-1.5437911531037813,-1.6282974051807124,-1.1702586742488221,-0.9637666275652607,0.7723413917401876,0.7038889240751445,-0.38785006405429523,2.4265069934883408,-0.015921305419591723,0.8621043683969853,0.035899320952788416,2.031734815832546,-0.08098571602998135,-0.7840014032171135,-1.0709852710850423,-1.8652551205239034,-1.0276108653166263,1.2840941764181228,1.0206444603407554,1.739851001966569,0.08703164224434952,-1.4892129630743196,-0.4671250530447547,0.8725253114037612,0.588163926968566,-1.2486585866449216,-0.7070050812333557,0.5235491861515154,1.5620810028531162,-0.06908401748320098,-0.4990292166845264,-1.062643465222129,2.0822509410822283,0.9928278924066326,-0.9652404737144156,0.280586945441175,0.7035157556270332,-1.1136901925402503,-1.3264639273382348,0.039743349401929536,1.0370694338987092,0.32534663217337756,-0.7106130799040847,-0.2127939105775505,-1.0119043204034097,0.7242887254965652,-0.20146537838860515,1.6360298709824186,1.666755550941301,0.44747132992870225,0.4554476841226329,0.8719859144802454,-0.38477249829957627,0.17703395334653876,-0.5275512900512666,1.2214633912240875,-0.9564945519115773,2.0123352038174613,-0.727155236871999,0.7309473294394849,-0.11855236572483953,-0.4100704251237475,1.6969969830770206,0.5558336307222187,0.40568516385858794,-1.4660740655556281,0.26765095807405315,-0.8985948023209357,-2.071210861648605],\"xaxis\":\"x4\",\"y\":[0.10762388526296199,-0.7564418891284865,1.6126540986511892,0.7775682923362824,-0.5952959854744313,2.7165296870543663,-0.8418041837494875,0.4520263613717429,-1.1811618010748057,1.3017114072144773,1.3272738483408182,-1.2571625619582165,-1.5851832427856685,2.207114710090944,-0.9858571233790321,0.6254103733582416,1.1170542864569903,-0.5421854559616364,0.005037612594899869,-0.09960346946484637,-1.173575061482218,-0.7289483967404173,0.07800339985776875,-0.034754268614389135,-1.751240479785419,0.7717749524266126,0.08343341764260574,0.1986334309389733,-0.794258717921895,1.3437529637865553,1.1560148777149495,-0.34509571668566474,-0.0880157934620941,-0.5179391311478613,0.7021441294486146,0.05161627543106151,0.2209466178195064,-0.07138636983591397,-0.207924870196759,1.658956247192368,0.8846630544827088,0.6338655418849547,0.5243027738002651,0.4306726692742513,0.6543039138767474,0.6703944846780071,-0.45582041977913695,-1.5368390595450678,-0.43169265859801714,0.5775623520718516,0.7270362444133679,-0.9686402783675524,-0.7626460913795635,-0.007740911462933657,0.8426361921016096,-1.525063666185188,-1.4878236176538635,0.560411441799206,0.29484265879850674,-0.44354850857918005,-1.2369406866873534,-0.4408224576864079,0.42480069832885475,-0.7667741411620467,-0.700320783644171,1.6850601173535071,-0.06805298388497137,0.6400578864382191,-2.98067099973402,0.2247541322573582,-0.3052211289271923,-0.26910637193717996,-1.1397622939667247,1.5697320958149767,-1.6680788968914804,-0.4804863639728813,1.7012517997797407,-1.7312432770283541,1.0766473765396547,0.9987138864720232,-0.9536484947120728,-0.3166964888606845,-0.896993536707252,-1.7733819867210974,-0.39680350373954704,-0.46385931536628483,-0.17381558605655018,-0.861547502624248,0.5368907658398797,-0.38149470781202155,-0.04880061640656663,-0.9484946921437268,0.27269700979662254,0.213346612114495,-0.23502230780637598,-0.10578602471367916,0.8249413060109705,0.12317607400262938,0.1549693302015403,1.9405144461988928],\"yaxis\":\"y4\",\"type\":\"scatter\"},{\"line\":{\"color\":\"rgba(128, 128, 128, 1.0)\",\"dash\":\"solid\",\"shape\":\"linear\",\"width\":1.3},\"marker\":{\"size\":2,\"symbol\":\"circle\"},\"mode\":\"markers\",\"name\":\"B\",\"text\":\"\",\"x\":[0.10762388526296199,-0.7564418891284865,1.6126540986511892,0.7775682923362824,-0.5952959854744313,2.7165296870543663,-0.8418041837494875,0.4520263613717429,-1.1811618010748057,1.3017114072144773,1.3272738483408182,-1.2571625619582165,-1.5851832427856685,2.207114710090944,-0.9858571233790321,0.6254103733582416,1.1170542864569903,-0.5421854559616364,0.005037612594899869,-0.09960346946484637,-1.173575061482218,-0.7289483967404173,0.07800339985776875,-0.034754268614389135,-1.751240479785419,0.7717749524266126,0.08343341764260574,0.1986334309389733,-0.794258717921895,1.3437529637865553,1.1560148777149495,-0.34509571668566474,-0.0880157934620941,-0.5179391311478613,0.7021441294486146,0.05161627543106151,0.2209466178195064,-0.07138636983591397,-0.207924870196759,1.658956247192368,0.8846630544827088,0.6338655418849547,0.5243027738002651,0.4306726692742513,0.6543039138767474,0.6703944846780071,-0.45582041977913695,-1.5368390595450678,-0.43169265859801714,0.5775623520718516,0.7270362444133679,-0.9686402783675524,-0.7626460913795635,-0.007740911462933657,0.8426361921016096,-1.525063666185188,-1.4878236176538635,0.560411441799206,0.29484265879850674,-0.44354850857918005,-1.2369406866873534,-0.4408224576864079,0.42480069832885475,-0.7667741411620467,-0.700320783644171,1.6850601173535071,-0.06805298388497137,0.6400578864382191,-2.98067099973402,0.2247541322573582,-0.3052211289271923,-0.26910637193717996,-1.1397622939667247,1.5697320958149767,-1.6680788968914804,-0.4804863639728813,1.7012517997797407,-1.7312432770283541,1.0766473765396547,0.9987138864720232,-0.9536484947120728,-0.3166964888606845,-0.896993536707252,-1.7733819867210974,-0.39680350373954704,-0.46385931536628483,-0.17381558605655018,-0.861547502624248,0.5368907658398797,-0.38149470781202155,-0.04880061640656663,-0.9484946921437268,0.27269700979662254,0.213346612114495,-0.23502230780637598,-0.10578602471367916,0.8249413060109705,0.12317607400262938,0.1549693302015403,1.9405144461988928],\"xaxis\":\"x5\",\"y\":[-2.314890678163464,-0.30177437212597147,0.5499429699705268,-0.9526752027541245,1.5533303542681645,-0.5078252827169001,0.4028555741875542,-0.5774718509539073,-0.6811341105347527,0.0644489320205561,1.811506320652103,0.4778354701838685,0.05761873599105411,-0.7660180917968894,-0.383561855691717,-1.9708845566145123,0.1790104216355467,-0.26930717038848323,-0.5021951885006355,0.2526883247094073,-1.6581072814366244,-0.9829489286671428,0.3110804762010143,1.7189715803691583,0.20830928060301285,-0.729721483323263,-0.6472670362627534,0.3308526113256317,-1.2576301538162142,0.8578593551258539,0.1531917677976979,-1.4114793851091527,-0.7115824294309413,-0.650709281596651,-0.1797312135856715,-0.11129089263187959,0.8212644920402455,1.436643439487427,0.13506679470142205,-1.8462888693119657,3.203862495207228,0.5752222157505211,-0.28073796158962405,-0.8701286346240297,-1.8053420321718303,-1.8486942668584059,-0.5068460253551225,0.4987691045688844,-0.29005597513570286,0.9466939194327922,-0.6089183281809548,1.1417672338470617,-1.088662793594401,0.3643038000710208,-0.17898847966887502,-0.3451979256630047,0.8251441391588759,0.16051005723422476,-0.44254706983371356,-1.2568846638341369,0.5454228020711138,1.9552256234010204,-0.6337597480361455,0.26811263823655834,-0.12564519258363752,-0.004471482700457042,0.5984273818105452,-0.330062734246072,-2.2387209249844617,-1.8689651177427342,-1.110306320474275,0.7316123635486081,1.7097634472311631,-0.9646968649446509,1.607143723636374,-1.1133374146289832,0.3675698426196052,-1.47843347031786,-0.824001464782571,1.290645718979975,-0.3210143193836279,1.0794651265744086,0.11045871143526716,0.380385812050898,0.27005574992279774,-0.2113174148967174,-1.1717258088038764,-0.17229510893765648,0.9314307265527947,-0.387760509132024,-0.35271724025565754,-0.8488360226083353,-1.025655885301656,0.26384085787714573,1.8120787607099624,0.9100289597930974,0.12666333933874754,0.11588791987941716,-1.9145334684976296,1.5043947128368997],\"yaxis\":\"y5\",\"type\":\"scatter\"},{\"histfunc\":\"count\",\"histnorm\":\"\",\"marker\":{\"color\":\"rgba(55, 128, 191, 1.0)\",\"line\":{\"color\":\"#4D5663\",\"width\":1.3}},\"name\":\"B\",\"nbinsx\":10,\"opacity\":0.8,\"orientation\":\"v\",\"x\":[-2.314890678163464,-0.30177437212597147,0.5499429699705268,-0.9526752027541245,1.5533303542681645,-0.5078252827169001,0.4028555741875542,-0.5774718509539073,-0.6811341105347527,0.0644489320205561,1.811506320652103,0.4778354701838685,0.05761873599105411,-0.7660180917968894,-0.383561855691717,-1.9708845566145123,0.1790104216355467,-0.26930717038848323,-0.5021951885006355,0.2526883247094073,-1.6581072814366244,-0.9829489286671428,0.3110804762010143,1.7189715803691583,0.20830928060301285,-0.729721483323263,-0.6472670362627534,0.3308526113256317,-1.2576301538162142,0.8578593551258539,0.1531917677976979,-1.4114793851091527,-0.7115824294309413,-0.650709281596651,-0.1797312135856715,-0.11129089263187959,0.8212644920402455,1.436643439487427,0.13506679470142205,-1.8462888693119657,3.203862495207228,0.5752222157505211,-0.28073796158962405,-0.8701286346240297,-1.8053420321718303,-1.8486942668584059,-0.5068460253551225,0.4987691045688844,-0.29005597513570286,0.9466939194327922,-0.6089183281809548,1.1417672338470617,-1.088662793594401,0.3643038000710208,-0.17898847966887502,-0.3451979256630047,0.8251441391588759,0.16051005723422476,-0.44254706983371356,-1.2568846638341369,0.5454228020711138,1.9552256234010204,-0.6337597480361455,0.26811263823655834,-0.12564519258363752,-0.004471482700457042,0.5984273818105452,-0.330062734246072,-2.2387209249844617,-1.8689651177427342,-1.110306320474275,0.7316123635486081,1.7097634472311631,-0.9646968649446509,1.607143723636374,-1.1133374146289832,0.3675698426196052,-1.47843347031786,-0.824001464782571,1.290645718979975,-0.3210143193836279,1.0794651265744086,0.11045871143526716,0.380385812050898,0.27005574992279774,-0.2113174148967174,-1.1717258088038764,-0.17229510893765648,0.9314307265527947,-0.387760509132024,-0.35271724025565754,-0.8488360226083353,-1.025655885301656,0.26384085787714573,1.8120787607099624,0.9100289597930974,0.12666333933874754,0.11588791987941716,-1.9145334684976296,1.5043947128368997],\"xaxis\":\"x6\",\"yaxis\":\"y6\",\"type\":\"histogram\"},{\"line\":{\"color\":\"rgba(128, 128, 128, 1.0)\",\"dash\":\"solid\",\"shape\":\"linear\",\"width\":1.3},\"marker\":{\"size\":2,\"symbol\":\"circle\"},\"mode\":\"markers\",\"name\":\"B\",\"text\":\"\",\"x\":[0.659062814123277,1.5684267703572246,0.05166116754989549,0.46424658709960276,0.4050267213964662,2.0513283440009213,0.15750168343706802,-1.2329616702978836,0.5468719624032921,0.4416206439542919,-0.19645572330201946,-0.522753499684,-0.28937813933244405,1.1569261054775832,0.2569883333209594,0.2220818014438884,0.9165207932446514,-1.143328182878145,1.4209775300608973,-0.6012633718532,-0.48611314848006837,-0.8796448245996384,-1.3444120569513685,0.4143508605018087,-0.5823443413856135,-0.2044878046225266,-0.7264987790673539,0.9444323657861515,-2.4554935073322084,0.3798461265137401,-1.2225752495033184,0.09793376438513397,0.35257145224202996,-1.035542480908029,0.42945250978354016,-1.2326425021376675,0.1993267694995079,3.21372178644483,-1.1317301474085883,0.12085425455187246,1.1500923110299464,0.617484558430184,-1.2399772087696725,0.023010425110181525,1.415054263505035,0.7571069872113684,0.5613023690551945,0.22974122208954417,-0.6962210502279587,-0.40616915166043815,2.7410444523894473,1.0826517837633405,0.8823904705286962,0.08569291305464524,1.1113534788639665,-0.0915372683949695,-1.0215343669866888,-0.9394341034505724,0.4982691287074044,-0.3588624149024244,-1.1314248780811467,0.8254307475119398,0.6451356387380806,0.13217533667654016,-0.2704089866434351,0.3629990732169382,0.1633434676493273,-1.0570817420017171,-1.3529533392728874,-0.18267517728312124,-0.4683112176250565,0.7707081821810905,-0.7660753684229836,0.22553479481983998,-0.06091220606052293,0.47461198687766865,-0.32251182807487,1.2487471371610814,-1.390360852402884,-0.6526355233986028,-1.0971539355141071,-0.4557383313076427,-1.1381957884531135,-0.7889075195025212,1.2072943416083557,-1.9847888053087293,0.5650817298590286,-0.28213575609956015,1.2981720046455998,1.42998960193017,0.5067691772062698,1.0041224521924397,-1.6626838024333388,-1.5773173585756795,0.4476668577684265,3.488402897257025,0.34940914337165174,-0.3227581348436228,0.5708815815411163,-0.4215012284826513],\"xaxis\":\"x7\",\"y\":[-2.314890678163464,-0.30177437212597147,0.5499429699705268,-0.9526752027541245,1.5533303542681645,-0.5078252827169001,0.4028555741875542,-0.5774718509539073,-0.6811341105347527,0.0644489320205561,1.811506320652103,0.4778354701838685,0.05761873599105411,-0.7660180917968894,-0.383561855691717,-1.9708845566145123,0.1790104216355467,-0.26930717038848323,-0.5021951885006355,0.2526883247094073,-1.6581072814366244,-0.9829489286671428,0.3110804762010143,1.7189715803691583,0.20830928060301285,-0.729721483323263,-0.6472670362627534,0.3308526113256317,-1.2576301538162142,0.8578593551258539,0.1531917677976979,-1.4114793851091527,-0.7115824294309413,-0.650709281596651,-0.1797312135856715,-0.11129089263187959,0.8212644920402455,1.436643439487427,0.13506679470142205,-1.8462888693119657,3.203862495207228,0.5752222157505211,-0.28073796158962405,-0.8701286346240297,-1.8053420321718303,-1.8486942668584059,-0.5068460253551225,0.4987691045688844,-0.29005597513570286,0.9466939194327922,-0.6089183281809548,1.1417672338470617,-1.088662793594401,0.3643038000710208,-0.17898847966887502,-0.3451979256630047,0.8251441391588759,0.16051005723422476,-0.44254706983371356,-1.2568846638341369,0.5454228020711138,1.9552256234010204,-0.6337597480361455,0.26811263823655834,-0.12564519258363752,-0.004471482700457042,0.5984273818105452,-0.330062734246072,-2.2387209249844617,-1.8689651177427342,-1.110306320474275,0.7316123635486081,1.7097634472311631,-0.9646968649446509,1.607143723636374,-1.1133374146289832,0.3675698426196052,-1.47843347031786,-0.824001464782571,1.290645718979975,-0.3210143193836279,1.0794651265744086,0.11045871143526716,0.380385812050898,0.27005574992279774,-0.2113174148967174,-1.1717258088038764,-0.17229510893765648,0.9314307265527947,-0.387760509132024,-0.35271724025565754,-0.8488360226083353,-1.025655885301656,0.26384085787714573,1.8120787607099624,0.9100289597930974,0.12666333933874754,0.11588791987941716,-1.9145334684976296,1.5043947128368997],\"yaxis\":\"y7\",\"type\":\"scatter\"},{\"line\":{\"color\":\"rgba(128, 128, 128, 1.0)\",\"dash\":\"solid\",\"shape\":\"linear\",\"width\":1.3},\"marker\":{\"size\":2,\"symbol\":\"circle\"},\"mode\":\"markers\",\"name\":\"B\",\"text\":\"\",\"x\":[0.8399191798078127,-0.63613390094695,-0.6944267984119925,-0.16675655325343755,-0.6937286430279299,-0.6383933164652055,1.1838273421110919,0.8632458637605457,-2.4516200133467154,-0.6602935677065107,-0.5874492075325497,0.4489119378994047,0.17187108257270475,0.1005341681036597,1.0344491025576719,2.290733801957848,-2.6916747786740514,-1.0333249903820707,-0.28714038600110514,0.2151524479664407,-0.522330248044562,0.1460967975588475,-2.095354632496688,0.85300691028129,0.32218022167716703,0.6611188916737772,0.219235674187028,0.6043626270171994,-0.5438815110570238,-0.7867836688902382,-0.25254881660967504,-1.5437911531037813,-1.6282974051807124,-1.1702586742488221,-0.9637666275652607,0.7723413917401876,0.7038889240751445,-0.38785006405429523,2.4265069934883408,-0.015921305419591723,0.8621043683969853,0.035899320952788416,2.031734815832546,-0.08098571602998135,-0.7840014032171135,-1.0709852710850423,-1.8652551205239034,-1.0276108653166263,1.2840941764181228,1.0206444603407554,1.739851001966569,0.08703164224434952,-1.4892129630743196,-0.4671250530447547,0.8725253114037612,0.588163926968566,-1.2486585866449216,-0.7070050812333557,0.5235491861515154,1.5620810028531162,-0.06908401748320098,-0.4990292166845264,-1.062643465222129,2.0822509410822283,0.9928278924066326,-0.9652404737144156,0.280586945441175,0.7035157556270332,-1.1136901925402503,-1.3264639273382348,0.039743349401929536,1.0370694338987092,0.32534663217337756,-0.7106130799040847,-0.2127939105775505,-1.0119043204034097,0.7242887254965652,-0.20146537838860515,1.6360298709824186,1.666755550941301,0.44747132992870225,0.4554476841226329,0.8719859144802454,-0.38477249829957627,0.17703395334653876,-0.5275512900512666,1.2214633912240875,-0.9564945519115773,2.0123352038174613,-0.727155236871999,0.7309473294394849,-0.11855236572483953,-0.4100704251237475,1.6969969830770206,0.5558336307222187,0.40568516385858794,-1.4660740655556281,0.26765095807405315,-0.8985948023209357,-2.071210861648605],\"xaxis\":\"x8\",\"y\":[-2.314890678163464,-0.30177437212597147,0.5499429699705268,-0.9526752027541245,1.5533303542681645,-0.5078252827169001,0.4028555741875542,-0.5774718509539073,-0.6811341105347527,0.0644489320205561,1.811506320652103,0.4778354701838685,0.05761873599105411,-0.7660180917968894,-0.383561855691717,-1.9708845566145123,0.1790104216355467,-0.26930717038848323,-0.5021951885006355,0.2526883247094073,-1.6581072814366244,-0.9829489286671428,0.3110804762010143,1.7189715803691583,0.20830928060301285,-0.729721483323263,-0.6472670362627534,0.3308526113256317,-1.2576301538162142,0.8578593551258539,0.1531917677976979,-1.4114793851091527,-0.7115824294309413,-0.650709281596651,-0.1797312135856715,-0.11129089263187959,0.8212644920402455,1.436643439487427,0.13506679470142205,-1.8462888693119657,3.203862495207228,0.5752222157505211,-0.28073796158962405,-0.8701286346240297,-1.8053420321718303,-1.8486942668584059,-0.5068460253551225,0.4987691045688844,-0.29005597513570286,0.9466939194327922,-0.6089183281809548,1.1417672338470617,-1.088662793594401,0.3643038000710208,-0.17898847966887502,-0.3451979256630047,0.8251441391588759,0.16051005723422476,-0.44254706983371356,-1.2568846638341369,0.5454228020711138,1.9552256234010204,-0.6337597480361455,0.26811263823655834,-0.12564519258363752,-0.004471482700457042,0.5984273818105452,-0.330062734246072,-2.2387209249844617,-1.8689651177427342,-1.110306320474275,0.7316123635486081,1.7097634472311631,-0.9646968649446509,1.607143723636374,-1.1133374146289832,0.3675698426196052,-1.47843347031786,-0.824001464782571,1.290645718979975,-0.3210143193836279,1.0794651265744086,0.11045871143526716,0.380385812050898,0.27005574992279774,-0.2113174148967174,-1.1717258088038764,-0.17229510893765648,0.9314307265527947,-0.387760509132024,-0.35271724025565754,-0.8488360226083353,-1.025655885301656,0.26384085787714573,1.8120787607099624,0.9100289597930974,0.12666333933874754,0.11588791987941716,-1.9145334684976296,1.5043947128368997],\"yaxis\":\"y8\",\"type\":\"scatter\"},{\"line\":{\"color\":\"rgba(128, 128, 128, 1.0)\",\"dash\":\"solid\",\"shape\":\"linear\",\"width\":1.3},\"marker\":{\"size\":2,\"symbol\":\"circle\"},\"mode\":\"markers\",\"name\":\"C\",\"text\":\"\",\"x\":[0.10762388526296199,-0.7564418891284865,1.6126540986511892,0.7775682923362824,-0.5952959854744313,2.7165296870543663,-0.8418041837494875,0.4520263613717429,-1.1811618010748057,1.3017114072144773,1.3272738483408182,-1.2571625619582165,-1.5851832427856685,2.207114710090944,-0.9858571233790321,0.6254103733582416,1.1170542864569903,-0.5421854559616364,0.005037612594899869,-0.09960346946484637,-1.173575061482218,-0.7289483967404173,0.07800339985776875,-0.034754268614389135,-1.751240479785419,0.7717749524266126,0.08343341764260574,0.1986334309389733,-0.794258717921895,1.3437529637865553,1.1560148777149495,-0.34509571668566474,-0.0880157934620941,-0.5179391311478613,0.7021441294486146,0.05161627543106151,0.2209466178195064,-0.07138636983591397,-0.207924870196759,1.658956247192368,0.8846630544827088,0.6338655418849547,0.5243027738002651,0.4306726692742513,0.6543039138767474,0.6703944846780071,-0.45582041977913695,-1.5368390595450678,-0.43169265859801714,0.5775623520718516,0.7270362444133679,-0.9686402783675524,-0.7626460913795635,-0.007740911462933657,0.8426361921016096,-1.525063666185188,-1.4878236176538635,0.560411441799206,0.29484265879850674,-0.44354850857918005,-1.2369406866873534,-0.4408224576864079,0.42480069832885475,-0.7667741411620467,-0.700320783644171,1.6850601173535071,-0.06805298388497137,0.6400578864382191,-2.98067099973402,0.2247541322573582,-0.3052211289271923,-0.26910637193717996,-1.1397622939667247,1.5697320958149767,-1.6680788968914804,-0.4804863639728813,1.7012517997797407,-1.7312432770283541,1.0766473765396547,0.9987138864720232,-0.9536484947120728,-0.3166964888606845,-0.896993536707252,-1.7733819867210974,-0.39680350373954704,-0.46385931536628483,-0.17381558605655018,-0.861547502624248,0.5368907658398797,-0.38149470781202155,-0.04880061640656663,-0.9484946921437268,0.27269700979662254,0.213346612114495,-0.23502230780637598,-0.10578602471367916,0.8249413060109705,0.12317607400262938,0.1549693302015403,1.9405144461988928],\"xaxis\":\"x9\",\"y\":[0.659062814123277,1.5684267703572246,0.05166116754989549,0.46424658709960276,0.4050267213964662,2.0513283440009213,0.15750168343706802,-1.2329616702978836,0.5468719624032921,0.4416206439542919,-0.19645572330201946,-0.522753499684,-0.28937813933244405,1.1569261054775832,0.2569883333209594,0.2220818014438884,0.9165207932446514,-1.143328182878145,1.4209775300608973,-0.6012633718532,-0.48611314848006837,-0.8796448245996384,-1.3444120569513685,0.4143508605018087,-0.5823443413856135,-0.2044878046225266,-0.7264987790673539,0.9444323657861515,-2.4554935073322084,0.3798461265137401,-1.2225752495033184,0.09793376438513397,0.35257145224202996,-1.035542480908029,0.42945250978354016,-1.2326425021376675,0.1993267694995079,3.21372178644483,-1.1317301474085883,0.12085425455187246,1.1500923110299464,0.617484558430184,-1.2399772087696725,0.023010425110181525,1.415054263505035,0.7571069872113684,0.5613023690551945,0.22974122208954417,-0.6962210502279587,-0.40616915166043815,2.7410444523894473,1.0826517837633405,0.8823904705286962,0.08569291305464524,1.1113534788639665,-0.0915372683949695,-1.0215343669866888,-0.9394341034505724,0.4982691287074044,-0.3588624149024244,-1.1314248780811467,0.8254307475119398,0.6451356387380806,0.13217533667654016,-0.2704089866434351,0.3629990732169382,0.1633434676493273,-1.0570817420017171,-1.3529533392728874,-0.18267517728312124,-0.4683112176250565,0.7707081821810905,-0.7660753684229836,0.22553479481983998,-0.06091220606052293,0.47461198687766865,-0.32251182807487,1.2487471371610814,-1.390360852402884,-0.6526355233986028,-1.0971539355141071,-0.4557383313076427,-1.1381957884531135,-0.7889075195025212,1.2072943416083557,-1.9847888053087293,0.5650817298590286,-0.28213575609956015,1.2981720046455998,1.42998960193017,0.5067691772062698,1.0041224521924397,-1.6626838024333388,-1.5773173585756795,0.4476668577684265,3.488402897257025,0.34940914337165174,-0.3227581348436228,0.5708815815411163,-0.4215012284826513],\"yaxis\":\"y9\",\"type\":\"scatter\"},{\"line\":{\"color\":\"rgba(128, 128, 128, 1.0)\",\"dash\":\"solid\",\"shape\":\"linear\",\"width\":1.3},\"marker\":{\"size\":2,\"symbol\":\"circle\"},\"mode\":\"markers\",\"name\":\"C\",\"text\":\"\",\"x\":[-2.314890678163464,-0.30177437212597147,0.5499429699705268,-0.9526752027541245,1.5533303542681645,-0.5078252827169001,0.4028555741875542,-0.5774718509539073,-0.6811341105347527,0.0644489320205561,1.811506320652103,0.4778354701838685,0.05761873599105411,-0.7660180917968894,-0.383561855691717,-1.9708845566145123,0.1790104216355467,-0.26930717038848323,-0.5021951885006355,0.2526883247094073,-1.6581072814366244,-0.9829489286671428,0.3110804762010143,1.7189715803691583,0.20830928060301285,-0.729721483323263,-0.6472670362627534,0.3308526113256317,-1.2576301538162142,0.8578593551258539,0.1531917677976979,-1.4114793851091527,-0.7115824294309413,-0.650709281596651,-0.1797312135856715,-0.11129089263187959,0.8212644920402455,1.436643439487427,0.13506679470142205,-1.8462888693119657,3.203862495207228,0.5752222157505211,-0.28073796158962405,-0.8701286346240297,-1.8053420321718303,-1.8486942668584059,-0.5068460253551225,0.4987691045688844,-0.29005597513570286,0.9466939194327922,-0.6089183281809548,1.1417672338470617,-1.088662793594401,0.3643038000710208,-0.17898847966887502,-0.3451979256630047,0.8251441391588759,0.16051005723422476,-0.44254706983371356,-1.2568846638341369,0.5454228020711138,1.9552256234010204,-0.6337597480361455,0.26811263823655834,-0.12564519258363752,-0.004471482700457042,0.5984273818105452,-0.330062734246072,-2.2387209249844617,-1.8689651177427342,-1.110306320474275,0.7316123635486081,1.7097634472311631,-0.9646968649446509,1.607143723636374,-1.1133374146289832,0.3675698426196052,-1.47843347031786,-0.824001464782571,1.290645718979975,-0.3210143193836279,1.0794651265744086,0.11045871143526716,0.380385812050898,0.27005574992279774,-0.2113174148967174,-1.1717258088038764,-0.17229510893765648,0.9314307265527947,-0.387760509132024,-0.35271724025565754,-0.8488360226083353,-1.025655885301656,0.26384085787714573,1.8120787607099624,0.9100289597930974,0.12666333933874754,0.11588791987941716,-1.9145334684976296,1.5043947128368997],\"xaxis\":\"x10\",\"y\":[0.659062814123277,1.5684267703572246,0.05166116754989549,0.46424658709960276,0.4050267213964662,2.0513283440009213,0.15750168343706802,-1.2329616702978836,0.5468719624032921,0.4416206439542919,-0.19645572330201946,-0.522753499684,-0.28937813933244405,1.1569261054775832,0.2569883333209594,0.2220818014438884,0.9165207932446514,-1.143328182878145,1.4209775300608973,-0.6012633718532,-0.48611314848006837,-0.8796448245996384,-1.3444120569513685,0.4143508605018087,-0.5823443413856135,-0.2044878046225266,-0.7264987790673539,0.9444323657861515,-2.4554935073322084,0.3798461265137401,-1.2225752495033184,0.09793376438513397,0.35257145224202996,-1.035542480908029,0.42945250978354016,-1.2326425021376675,0.1993267694995079,3.21372178644483,-1.1317301474085883,0.12085425455187246,1.1500923110299464,0.617484558430184,-1.2399772087696725,0.023010425110181525,1.415054263505035,0.7571069872113684,0.5613023690551945,0.22974122208954417,-0.6962210502279587,-0.40616915166043815,2.7410444523894473,1.0826517837633405,0.8823904705286962,0.08569291305464524,1.1113534788639665,-0.0915372683949695,-1.0215343669866888,-0.9394341034505724,0.4982691287074044,-0.3588624149024244,-1.1314248780811467,0.8254307475119398,0.6451356387380806,0.13217533667654016,-0.2704089866434351,0.3629990732169382,0.1633434676493273,-1.0570817420017171,-1.3529533392728874,-0.18267517728312124,-0.4683112176250565,0.7707081821810905,-0.7660753684229836,0.22553479481983998,-0.06091220606052293,0.47461198687766865,-0.32251182807487,1.2487471371610814,-1.390360852402884,-0.6526355233986028,-1.0971539355141071,-0.4557383313076427,-1.1381957884531135,-0.7889075195025212,1.2072943416083557,-1.9847888053087293,0.5650817298590286,-0.28213575609956015,1.2981720046455998,1.42998960193017,0.5067691772062698,1.0041224521924397,-1.6626838024333388,-1.5773173585756795,0.4476668577684265,3.488402897257025,0.34940914337165174,-0.3227581348436228,0.5708815815411163,-0.4215012284826513],\"yaxis\":\"y10\",\"type\":\"scatter\"},{\"histfunc\":\"count\",\"histnorm\":\"\",\"marker\":{\"color\":\"rgba(50, 171, 96, 1.0)\",\"line\":{\"color\":\"#4D5663\",\"width\":1.3}},\"name\":\"C\",\"nbinsx\":10,\"opacity\":0.8,\"orientation\":\"v\",\"x\":[0.659062814123277,1.5684267703572246,0.05166116754989549,0.46424658709960276,0.4050267213964662,2.0513283440009213,0.15750168343706802,-1.2329616702978836,0.5468719624032921,0.4416206439542919,-0.19645572330201946,-0.522753499684,-0.28937813933244405,1.1569261054775832,0.2569883333209594,0.2220818014438884,0.9165207932446514,-1.143328182878145,1.4209775300608973,-0.6012633718532,-0.48611314848006837,-0.8796448245996384,-1.3444120569513685,0.4143508605018087,-0.5823443413856135,-0.2044878046225266,-0.7264987790673539,0.9444323657861515,-2.4554935073322084,0.3798461265137401,-1.2225752495033184,0.09793376438513397,0.35257145224202996,-1.035542480908029,0.42945250978354016,-1.2326425021376675,0.1993267694995079,3.21372178644483,-1.1317301474085883,0.12085425455187246,1.1500923110299464,0.617484558430184,-1.2399772087696725,0.023010425110181525,1.415054263505035,0.7571069872113684,0.5613023690551945,0.22974122208954417,-0.6962210502279587,-0.40616915166043815,2.7410444523894473,1.0826517837633405,0.8823904705286962,0.08569291305464524,1.1113534788639665,-0.0915372683949695,-1.0215343669866888,-0.9394341034505724,0.4982691287074044,-0.3588624149024244,-1.1314248780811467,0.8254307475119398,0.6451356387380806,0.13217533667654016,-0.2704089866434351,0.3629990732169382,0.1633434676493273,-1.0570817420017171,-1.3529533392728874,-0.18267517728312124,-0.4683112176250565,0.7707081821810905,-0.7660753684229836,0.22553479481983998,-0.06091220606052293,0.47461198687766865,-0.32251182807487,1.2487471371610814,-1.390360852402884,-0.6526355233986028,-1.0971539355141071,-0.4557383313076427,-1.1381957884531135,-0.7889075195025212,1.2072943416083557,-1.9847888053087293,0.5650817298590286,-0.28213575609956015,1.2981720046455998,1.42998960193017,0.5067691772062698,1.0041224521924397,-1.6626838024333388,-1.5773173585756795,0.4476668577684265,3.488402897257025,0.34940914337165174,-0.3227581348436228,0.5708815815411163,-0.4215012284826513],\"xaxis\":\"x11\",\"yaxis\":\"y11\",\"type\":\"histogram\"},{\"line\":{\"color\":\"rgba(128, 128, 128, 1.0)\",\"dash\":\"solid\",\"shape\":\"linear\",\"width\":1.3},\"marker\":{\"size\":2,\"symbol\":\"circle\"},\"mode\":\"markers\",\"name\":\"C\",\"text\":\"\",\"x\":[0.8399191798078127,-0.63613390094695,-0.6944267984119925,-0.16675655325343755,-0.6937286430279299,-0.6383933164652055,1.1838273421110919,0.8632458637605457,-2.4516200133467154,-0.6602935677065107,-0.5874492075325497,0.4489119378994047,0.17187108257270475,0.1005341681036597,1.0344491025576719,2.290733801957848,-2.6916747786740514,-1.0333249903820707,-0.28714038600110514,0.2151524479664407,-0.522330248044562,0.1460967975588475,-2.095354632496688,0.85300691028129,0.32218022167716703,0.6611188916737772,0.219235674187028,0.6043626270171994,-0.5438815110570238,-0.7867836688902382,-0.25254881660967504,-1.5437911531037813,-1.6282974051807124,-1.1702586742488221,-0.9637666275652607,0.7723413917401876,0.7038889240751445,-0.38785006405429523,2.4265069934883408,-0.015921305419591723,0.8621043683969853,0.035899320952788416,2.031734815832546,-0.08098571602998135,-0.7840014032171135,-1.0709852710850423,-1.8652551205239034,-1.0276108653166263,1.2840941764181228,1.0206444603407554,1.739851001966569,0.08703164224434952,-1.4892129630743196,-0.4671250530447547,0.8725253114037612,0.588163926968566,-1.2486585866449216,-0.7070050812333557,0.5235491861515154,1.5620810028531162,-0.06908401748320098,-0.4990292166845264,-1.062643465222129,2.0822509410822283,0.9928278924066326,-0.9652404737144156,0.280586945441175,0.7035157556270332,-1.1136901925402503,-1.3264639273382348,0.039743349401929536,1.0370694338987092,0.32534663217337756,-0.7106130799040847,-0.2127939105775505,-1.0119043204034097,0.7242887254965652,-0.20146537838860515,1.6360298709824186,1.666755550941301,0.44747132992870225,0.4554476841226329,0.8719859144802454,-0.38477249829957627,0.17703395334653876,-0.5275512900512666,1.2214633912240875,-0.9564945519115773,2.0123352038174613,-0.727155236871999,0.7309473294394849,-0.11855236572483953,-0.4100704251237475,1.6969969830770206,0.5558336307222187,0.40568516385858794,-1.4660740655556281,0.26765095807405315,-0.8985948023209357,-2.071210861648605],\"xaxis\":\"x12\",\"y\":[0.659062814123277,1.5684267703572246,0.05166116754989549,0.46424658709960276,0.4050267213964662,2.0513283440009213,0.15750168343706802,-1.2329616702978836,0.5468719624032921,0.4416206439542919,-0.19645572330201946,-0.522753499684,-0.28937813933244405,1.1569261054775832,0.2569883333209594,0.2220818014438884,0.9165207932446514,-1.143328182878145,1.4209775300608973,-0.6012633718532,-0.48611314848006837,-0.8796448245996384,-1.3444120569513685,0.4143508605018087,-0.5823443413856135,-0.2044878046225266,-0.7264987790673539,0.9444323657861515,-2.4554935073322084,0.3798461265137401,-1.2225752495033184,0.09793376438513397,0.35257145224202996,-1.035542480908029,0.42945250978354016,-1.2326425021376675,0.1993267694995079,3.21372178644483,-1.1317301474085883,0.12085425455187246,1.1500923110299464,0.617484558430184,-1.2399772087696725,0.023010425110181525,1.415054263505035,0.7571069872113684,0.5613023690551945,0.22974122208954417,-0.6962210502279587,-0.40616915166043815,2.7410444523894473,1.0826517837633405,0.8823904705286962,0.08569291305464524,1.1113534788639665,-0.0915372683949695,-1.0215343669866888,-0.9394341034505724,0.4982691287074044,-0.3588624149024244,-1.1314248780811467,0.8254307475119398,0.6451356387380806,0.13217533667654016,-0.2704089866434351,0.3629990732169382,0.1633434676493273,-1.0570817420017171,-1.3529533392728874,-0.18267517728312124,-0.4683112176250565,0.7707081821810905,-0.7660753684229836,0.22553479481983998,-0.06091220606052293,0.47461198687766865,-0.32251182807487,1.2487471371610814,-1.390360852402884,-0.6526355233986028,-1.0971539355141071,-0.4557383313076427,-1.1381957884531135,-0.7889075195025212,1.2072943416083557,-1.9847888053087293,0.5650817298590286,-0.28213575609956015,1.2981720046455998,1.42998960193017,0.5067691772062698,1.0041224521924397,-1.6626838024333388,-1.5773173585756795,0.4476668577684265,3.488402897257025,0.34940914337165174,-0.3227581348436228,0.5708815815411163,-0.4215012284826513],\"yaxis\":\"y12\",\"type\":\"scatter\"},{\"line\":{\"color\":\"rgba(128, 128, 128, 1.0)\",\"dash\":\"solid\",\"shape\":\"linear\",\"width\":1.3},\"marker\":{\"size\":2,\"symbol\":\"circle\"},\"mode\":\"markers\",\"name\":\"D\",\"text\":\"\",\"x\":[0.10762388526296199,-0.7564418891284865,1.6126540986511892,0.7775682923362824,-0.5952959854744313,2.7165296870543663,-0.8418041837494875,0.4520263613717429,-1.1811618010748057,1.3017114072144773,1.3272738483408182,-1.2571625619582165,-1.5851832427856685,2.207114710090944,-0.9858571233790321,0.6254103733582416,1.1170542864569903,-0.5421854559616364,0.005037612594899869,-0.09960346946484637,-1.173575061482218,-0.7289483967404173,0.07800339985776875,-0.034754268614389135,-1.751240479785419,0.7717749524266126,0.08343341764260574,0.1986334309389733,-0.794258717921895,1.3437529637865553,1.1560148777149495,-0.34509571668566474,-0.0880157934620941,-0.5179391311478613,0.7021441294486146,0.05161627543106151,0.2209466178195064,-0.07138636983591397,-0.207924870196759,1.658956247192368,0.8846630544827088,0.6338655418849547,0.5243027738002651,0.4306726692742513,0.6543039138767474,0.6703944846780071,-0.45582041977913695,-1.5368390595450678,-0.43169265859801714,0.5775623520718516,0.7270362444133679,-0.9686402783675524,-0.7626460913795635,-0.007740911462933657,0.8426361921016096,-1.525063666185188,-1.4878236176538635,0.560411441799206,0.29484265879850674,-0.44354850857918005,-1.2369406866873534,-0.4408224576864079,0.42480069832885475,-0.7667741411620467,-0.700320783644171,1.6850601173535071,-0.06805298388497137,0.6400578864382191,-2.98067099973402,0.2247541322573582,-0.3052211289271923,-0.26910637193717996,-1.1397622939667247,1.5697320958149767,-1.6680788968914804,-0.4804863639728813,1.7012517997797407,-1.7312432770283541,1.0766473765396547,0.9987138864720232,-0.9536484947120728,-0.3166964888606845,-0.896993536707252,-1.7733819867210974,-0.39680350373954704,-0.46385931536628483,-0.17381558605655018,-0.861547502624248,0.5368907658398797,-0.38149470781202155,-0.04880061640656663,-0.9484946921437268,0.27269700979662254,0.213346612114495,-0.23502230780637598,-0.10578602471367916,0.8249413060109705,0.12317607400262938,0.1549693302015403,1.9405144461988928],\"xaxis\":\"x13\",\"y\":[0.8399191798078127,-0.63613390094695,-0.6944267984119925,-0.16675655325343755,-0.6937286430279299,-0.6383933164652055,1.1838273421110919,0.8632458637605457,-2.4516200133467154,-0.6602935677065107,-0.5874492075325497,0.4489119378994047,0.17187108257270475,0.1005341681036597,1.0344491025576719,2.290733801957848,-2.6916747786740514,-1.0333249903820707,-0.28714038600110514,0.2151524479664407,-0.522330248044562,0.1460967975588475,-2.095354632496688,0.85300691028129,0.32218022167716703,0.6611188916737772,0.219235674187028,0.6043626270171994,-0.5438815110570238,-0.7867836688902382,-0.25254881660967504,-1.5437911531037813,-1.6282974051807124,-1.1702586742488221,-0.9637666275652607,0.7723413917401876,0.7038889240751445,-0.38785006405429523,2.4265069934883408,-0.015921305419591723,0.8621043683969853,0.035899320952788416,2.031734815832546,-0.08098571602998135,-0.7840014032171135,-1.0709852710850423,-1.8652551205239034,-1.0276108653166263,1.2840941764181228,1.0206444603407554,1.739851001966569,0.08703164224434952,-1.4892129630743196,-0.4671250530447547,0.8725253114037612,0.588163926968566,-1.2486585866449216,-0.7070050812333557,0.5235491861515154,1.5620810028531162,-0.06908401748320098,-0.4990292166845264,-1.062643465222129,2.0822509410822283,0.9928278924066326,-0.9652404737144156,0.280586945441175,0.7035157556270332,-1.1136901925402503,-1.3264639273382348,0.039743349401929536,1.0370694338987092,0.32534663217337756,-0.7106130799040847,-0.2127939105775505,-1.0119043204034097,0.7242887254965652,-0.20146537838860515,1.6360298709824186,1.666755550941301,0.44747132992870225,0.4554476841226329,0.8719859144802454,-0.38477249829957627,0.17703395334653876,-0.5275512900512666,1.2214633912240875,-0.9564945519115773,2.0123352038174613,-0.727155236871999,0.7309473294394849,-0.11855236572483953,-0.4100704251237475,1.6969969830770206,0.5558336307222187,0.40568516385858794,-1.4660740655556281,0.26765095807405315,-0.8985948023209357,-2.071210861648605],\"yaxis\":\"y13\",\"type\":\"scatter\"},{\"line\":{\"color\":\"rgba(128, 128, 128, 1.0)\",\"dash\":\"solid\",\"shape\":\"linear\",\"width\":1.3},\"marker\":{\"size\":2,\"symbol\":\"circle\"},\"mode\":\"markers\",\"name\":\"D\",\"text\":\"\",\"x\":[-2.314890678163464,-0.30177437212597147,0.5499429699705268,-0.9526752027541245,1.5533303542681645,-0.5078252827169001,0.4028555741875542,-0.5774718509539073,-0.6811341105347527,0.0644489320205561,1.811506320652103,0.4778354701838685,0.05761873599105411,-0.7660180917968894,-0.383561855691717,-1.9708845566145123,0.1790104216355467,-0.26930717038848323,-0.5021951885006355,0.2526883247094073,-1.6581072814366244,-0.9829489286671428,0.3110804762010143,1.7189715803691583,0.20830928060301285,-0.729721483323263,-0.6472670362627534,0.3308526113256317,-1.2576301538162142,0.8578593551258539,0.1531917677976979,-1.4114793851091527,-0.7115824294309413,-0.650709281596651,-0.1797312135856715,-0.11129089263187959,0.8212644920402455,1.436643439487427,0.13506679470142205,-1.8462888693119657,3.203862495207228,0.5752222157505211,-0.28073796158962405,-0.8701286346240297,-1.8053420321718303,-1.8486942668584059,-0.5068460253551225,0.4987691045688844,-0.29005597513570286,0.9466939194327922,-0.6089183281809548,1.1417672338470617,-1.088662793594401,0.3643038000710208,-0.17898847966887502,-0.3451979256630047,0.8251441391588759,0.16051005723422476,-0.44254706983371356,-1.2568846638341369,0.5454228020711138,1.9552256234010204,-0.6337597480361455,0.26811263823655834,-0.12564519258363752,-0.004471482700457042,0.5984273818105452,-0.330062734246072,-2.2387209249844617,-1.8689651177427342,-1.110306320474275,0.7316123635486081,1.7097634472311631,-0.9646968649446509,1.607143723636374,-1.1133374146289832,0.3675698426196052,-1.47843347031786,-0.824001464782571,1.290645718979975,-0.3210143193836279,1.0794651265744086,0.11045871143526716,0.380385812050898,0.27005574992279774,-0.2113174148967174,-1.1717258088038764,-0.17229510893765648,0.9314307265527947,-0.387760509132024,-0.35271724025565754,-0.8488360226083353,-1.025655885301656,0.26384085787714573,1.8120787607099624,0.9100289597930974,0.12666333933874754,0.11588791987941716,-1.9145334684976296,1.5043947128368997],\"xaxis\":\"x14\",\"y\":[0.8399191798078127,-0.63613390094695,-0.6944267984119925,-0.16675655325343755,-0.6937286430279299,-0.6383933164652055,1.1838273421110919,0.8632458637605457,-2.4516200133467154,-0.6602935677065107,-0.5874492075325497,0.4489119378994047,0.17187108257270475,0.1005341681036597,1.0344491025576719,2.290733801957848,-2.6916747786740514,-1.0333249903820707,-0.28714038600110514,0.2151524479664407,-0.522330248044562,0.1460967975588475,-2.095354632496688,0.85300691028129,0.32218022167716703,0.6611188916737772,0.219235674187028,0.6043626270171994,-0.5438815110570238,-0.7867836688902382,-0.25254881660967504,-1.5437911531037813,-1.6282974051807124,-1.1702586742488221,-0.9637666275652607,0.7723413917401876,0.7038889240751445,-0.38785006405429523,2.4265069934883408,-0.015921305419591723,0.8621043683969853,0.035899320952788416,2.031734815832546,-0.08098571602998135,-0.7840014032171135,-1.0709852710850423,-1.8652551205239034,-1.0276108653166263,1.2840941764181228,1.0206444603407554,1.739851001966569,0.08703164224434952,-1.4892129630743196,-0.4671250530447547,0.8725253114037612,0.588163926968566,-1.2486585866449216,-0.7070050812333557,0.5235491861515154,1.5620810028531162,-0.06908401748320098,-0.4990292166845264,-1.062643465222129,2.0822509410822283,0.9928278924066326,-0.9652404737144156,0.280586945441175,0.7035157556270332,-1.1136901925402503,-1.3264639273382348,0.039743349401929536,1.0370694338987092,0.32534663217337756,-0.7106130799040847,-0.2127939105775505,-1.0119043204034097,0.7242887254965652,-0.20146537838860515,1.6360298709824186,1.666755550941301,0.44747132992870225,0.4554476841226329,0.8719859144802454,-0.38477249829957627,0.17703395334653876,-0.5275512900512666,1.2214633912240875,-0.9564945519115773,2.0123352038174613,-0.727155236871999,0.7309473294394849,-0.11855236572483953,-0.4100704251237475,1.6969969830770206,0.5558336307222187,0.40568516385858794,-1.4660740655556281,0.26765095807405315,-0.8985948023209357,-2.071210861648605],\"yaxis\":\"y14\",\"type\":\"scatter\"},{\"line\":{\"color\":\"rgba(128, 128, 128, 1.0)\",\"dash\":\"solid\",\"shape\":\"linear\",\"width\":1.3},\"marker\":{\"size\":2,\"symbol\":\"circle\"},\"mode\":\"markers\",\"name\":\"D\",\"text\":\"\",\"x\":[0.659062814123277,1.5684267703572246,0.05166116754989549,0.46424658709960276,0.4050267213964662,2.0513283440009213,0.15750168343706802,-1.2329616702978836,0.5468719624032921,0.4416206439542919,-0.19645572330201946,-0.522753499684,-0.28937813933244405,1.1569261054775832,0.2569883333209594,0.2220818014438884,0.9165207932446514,-1.143328182878145,1.4209775300608973,-0.6012633718532,-0.48611314848006837,-0.8796448245996384,-1.3444120569513685,0.4143508605018087,-0.5823443413856135,-0.2044878046225266,-0.7264987790673539,0.9444323657861515,-2.4554935073322084,0.3798461265137401,-1.2225752495033184,0.09793376438513397,0.35257145224202996,-1.035542480908029,0.42945250978354016,-1.2326425021376675,0.1993267694995079,3.21372178644483,-1.1317301474085883,0.12085425455187246,1.1500923110299464,0.617484558430184,-1.2399772087696725,0.023010425110181525,1.415054263505035,0.7571069872113684,0.5613023690551945,0.22974122208954417,-0.6962210502279587,-0.40616915166043815,2.7410444523894473,1.0826517837633405,0.8823904705286962,0.08569291305464524,1.1113534788639665,-0.0915372683949695,-1.0215343669866888,-0.9394341034505724,0.4982691287074044,-0.3588624149024244,-1.1314248780811467,0.8254307475119398,0.6451356387380806,0.13217533667654016,-0.2704089866434351,0.3629990732169382,0.1633434676493273,-1.0570817420017171,-1.3529533392728874,-0.18267517728312124,-0.4683112176250565,0.7707081821810905,-0.7660753684229836,0.22553479481983998,-0.06091220606052293,0.47461198687766865,-0.32251182807487,1.2487471371610814,-1.390360852402884,-0.6526355233986028,-1.0971539355141071,-0.4557383313076427,-1.1381957884531135,-0.7889075195025212,1.2072943416083557,-1.9847888053087293,0.5650817298590286,-0.28213575609956015,1.2981720046455998,1.42998960193017,0.5067691772062698,1.0041224521924397,-1.6626838024333388,-1.5773173585756795,0.4476668577684265,3.488402897257025,0.34940914337165174,-0.3227581348436228,0.5708815815411163,-0.4215012284826513],\"xaxis\":\"x15\",\"y\":[0.8399191798078127,-0.63613390094695,-0.6944267984119925,-0.16675655325343755,-0.6937286430279299,-0.6383933164652055,1.1838273421110919,0.8632458637605457,-2.4516200133467154,-0.6602935677065107,-0.5874492075325497,0.4489119378994047,0.17187108257270475,0.1005341681036597,1.0344491025576719,2.290733801957848,-2.6916747786740514,-1.0333249903820707,-0.28714038600110514,0.2151524479664407,-0.522330248044562,0.1460967975588475,-2.095354632496688,0.85300691028129,0.32218022167716703,0.6611188916737772,0.219235674187028,0.6043626270171994,-0.5438815110570238,-0.7867836688902382,-0.25254881660967504,-1.5437911531037813,-1.6282974051807124,-1.1702586742488221,-0.9637666275652607,0.7723413917401876,0.7038889240751445,-0.38785006405429523,2.4265069934883408,-0.015921305419591723,0.8621043683969853,0.035899320952788416,2.031734815832546,-0.08098571602998135,-0.7840014032171135,-1.0709852710850423,-1.8652551205239034,-1.0276108653166263,1.2840941764181228,1.0206444603407554,1.739851001966569,0.08703164224434952,-1.4892129630743196,-0.4671250530447547,0.8725253114037612,0.588163926968566,-1.2486585866449216,-0.7070050812333557,0.5235491861515154,1.5620810028531162,-0.06908401748320098,-0.4990292166845264,-1.062643465222129,2.0822509410822283,0.9928278924066326,-0.9652404737144156,0.280586945441175,0.7035157556270332,-1.1136901925402503,-1.3264639273382348,0.039743349401929536,1.0370694338987092,0.32534663217337756,-0.7106130799040847,-0.2127939105775505,-1.0119043204034097,0.7242887254965652,-0.20146537838860515,1.6360298709824186,1.666755550941301,0.44747132992870225,0.4554476841226329,0.8719859144802454,-0.38477249829957627,0.17703395334653876,-0.5275512900512666,1.2214633912240875,-0.9564945519115773,2.0123352038174613,-0.727155236871999,0.7309473294394849,-0.11855236572483953,-0.4100704251237475,1.6969969830770206,0.5558336307222187,0.40568516385858794,-1.4660740655556281,0.26765095807405315,-0.8985948023209357,-2.071210861648605],\"yaxis\":\"y15\",\"type\":\"scatter\"},{\"histfunc\":\"count\",\"histnorm\":\"\",\"marker\":{\"color\":\"rgba(128, 0, 128, 1.0)\",\"line\":{\"color\":\"#4D5663\",\"width\":1.3}},\"name\":\"D\",\"nbinsx\":10,\"opacity\":0.8,\"orientation\":\"v\",\"x\":[0.8399191798078127,-0.63613390094695,-0.6944267984119925,-0.16675655325343755,-0.6937286430279299,-0.6383933164652055,1.1838273421110919,0.8632458637605457,-2.4516200133467154,-0.6602935677065107,-0.5874492075325497,0.4489119378994047,0.17187108257270475,0.1005341681036597,1.0344491025576719,2.290733801957848,-2.6916747786740514,-1.0333249903820707,-0.28714038600110514,0.2151524479664407,-0.522330248044562,0.1460967975588475,-2.095354632496688,0.85300691028129,0.32218022167716703,0.6611188916737772,0.219235674187028,0.6043626270171994,-0.5438815110570238,-0.7867836688902382,-0.25254881660967504,-1.5437911531037813,-1.6282974051807124,-1.1702586742488221,-0.9637666275652607,0.7723413917401876,0.7038889240751445,-0.38785006405429523,2.4265069934883408,-0.015921305419591723,0.8621043683969853,0.035899320952788416,2.031734815832546,-0.08098571602998135,-0.7840014032171135,-1.0709852710850423,-1.8652551205239034,-1.0276108653166263,1.2840941764181228,1.0206444603407554,1.739851001966569,0.08703164224434952,-1.4892129630743196,-0.4671250530447547,0.8725253114037612,0.588163926968566,-1.2486585866449216,-0.7070050812333557,0.5235491861515154,1.5620810028531162,-0.06908401748320098,-0.4990292166845264,-1.062643465222129,2.0822509410822283,0.9928278924066326,-0.9652404737144156,0.280586945441175,0.7035157556270332,-1.1136901925402503,-1.3264639273382348,0.039743349401929536,1.0370694338987092,0.32534663217337756,-0.7106130799040847,-0.2127939105775505,-1.0119043204034097,0.7242887254965652,-0.20146537838860515,1.6360298709824186,1.666755550941301,0.44747132992870225,0.4554476841226329,0.8719859144802454,-0.38477249829957627,0.17703395334653876,-0.5275512900512666,1.2214633912240875,-0.9564945519115773,2.0123352038174613,-0.727155236871999,0.7309473294394849,-0.11855236572483953,-0.4100704251237475,1.6969969830770206,0.5558336307222187,0.40568516385858794,-1.4660740655556281,0.26765095807405315,-0.8985948023209357,-2.071210861648605],\"xaxis\":\"x16\",\"yaxis\":\"y16\",\"type\":\"histogram\"}],                        {\"bargap\":0.02,\"legend\":{\"bgcolor\":\"#F5F6F9\",\"font\":{\"color\":\"#4D5663\"}},\"paper_bgcolor\":\"#F5F6F9\",\"plot_bgcolor\":\"#F5F6F9\",\"showlegend\":false,\"template\":{\"data\":{\"barpolar\":[{\"marker\":{\"line\":{\"color\":\"#E5ECF6\",\"width\":0.5},\"pattern\":{\"fillmode\":\"overlay\",\"size\":10,\"solidity\":0.2}},\"type\":\"barpolar\"}],\"bar\":[{\"error_x\":{\"color\":\"#2a3f5f\"},\"error_y\":{\"color\":\"#2a3f5f\"},\"marker\":{\"line\":{\"color\":\"#E5ECF6\",\"width\":0.5},\"pattern\":{\"fillmode\":\"overlay\",\"size\":10,\"solidity\":0.2}},\"type\":\"bar\"}],\"carpet\":[{\"aaxis\":{\"endlinecolor\":\"#2a3f5f\",\"gridcolor\":\"white\",\"linecolor\":\"white\",\"minorgridcolor\":\"white\",\"startlinecolor\":\"#2a3f5f\"},\"baxis\":{\"endlinecolor\":\"#2a3f5f\",\"gridcolor\":\"white\",\"linecolor\":\"white\",\"minorgridcolor\":\"white\",\"startlinecolor\":\"#2a3f5f\"},\"type\":\"carpet\"}],\"choropleth\":[{\"colorbar\":{\"outlinewidth\":0,\"ticks\":\"\"},\"type\":\"choropleth\"}],\"contourcarpet\":[{\"colorbar\":{\"outlinewidth\":0,\"ticks\":\"\"},\"type\":\"contourcarpet\"}],\"contour\":[{\"colorbar\":{\"outlinewidth\":0,\"ticks\":\"\"},\"colorscale\":[[0.0,\"#0d0887\"],[0.1111111111111111,\"#46039f\"],[0.2222222222222222,\"#7201a8\"],[0.3333333333333333,\"#9c179e\"],[0.4444444444444444,\"#bd3786\"],[0.5555555555555556,\"#d8576b\"],[0.6666666666666666,\"#ed7953\"],[0.7777777777777778,\"#fb9f3a\"],[0.8888888888888888,\"#fdca26\"],[1.0,\"#f0f921\"]],\"type\":\"contour\"}],\"heatmapgl\":[{\"colorbar\":{\"outlinewidth\":0,\"ticks\":\"\"},\"colorscale\":[[0.0,\"#0d0887\"],[0.1111111111111111,\"#46039f\"],[0.2222222222222222,\"#7201a8\"],[0.3333333333333333,\"#9c179e\"],[0.4444444444444444,\"#bd3786\"],[0.5555555555555556,\"#d8576b\"],[0.6666666666666666,\"#ed7953\"],[0.7777777777777778,\"#fb9f3a\"],[0.8888888888888888,\"#fdca26\"],[1.0,\"#f0f921\"]],\"type\":\"heatmapgl\"}],\"heatmap\":[{\"colorbar\":{\"outlinewidth\":0,\"ticks\":\"\"},\"colorscale\":[[0.0,\"#0d0887\"],[0.1111111111111111,\"#46039f\"],[0.2222222222222222,\"#7201a8\"],[0.3333333333333333,\"#9c179e\"],[0.4444444444444444,\"#bd3786\"],[0.5555555555555556,\"#d8576b\"],[0.6666666666666666,\"#ed7953\"],[0.7777777777777778,\"#fb9f3a\"],[0.8888888888888888,\"#fdca26\"],[1.0,\"#f0f921\"]],\"type\":\"heatmap\"}],\"histogram2dcontour\":[{\"colorbar\":{\"outlinewidth\":0,\"ticks\":\"\"},\"colorscale\":[[0.0,\"#0d0887\"],[0.1111111111111111,\"#46039f\"],[0.2222222222222222,\"#7201a8\"],[0.3333333333333333,\"#9c179e\"],[0.4444444444444444,\"#bd3786\"],[0.5555555555555556,\"#d8576b\"],[0.6666666666666666,\"#ed7953\"],[0.7777777777777778,\"#fb9f3a\"],[0.8888888888888888,\"#fdca26\"],[1.0,\"#f0f921\"]],\"type\":\"histogram2dcontour\"}],\"histogram2d\":[{\"colorbar\":{\"outlinewidth\":0,\"ticks\":\"\"},\"colorscale\":[[0.0,\"#0d0887\"],[0.1111111111111111,\"#46039f\"],[0.2222222222222222,\"#7201a8\"],[0.3333333333333333,\"#9c179e\"],[0.4444444444444444,\"#bd3786\"],[0.5555555555555556,\"#d8576b\"],[0.6666666666666666,\"#ed7953\"],[0.7777777777777778,\"#fb9f3a\"],[0.8888888888888888,\"#fdca26\"],[1.0,\"#f0f921\"]],\"type\":\"histogram2d\"}],\"histogram\":[{\"marker\":{\"pattern\":{\"fillmode\":\"overlay\",\"size\":10,\"solidity\":0.2}},\"type\":\"histogram\"}],\"mesh3d\":[{\"colorbar\":{\"outlinewidth\":0,\"ticks\":\"\"},\"type\":\"mesh3d\"}],\"parcoords\":[{\"line\":{\"colorbar\":{\"outlinewidth\":0,\"ticks\":\"\"}},\"type\":\"parcoords\"}],\"pie\":[{\"automargin\":true,\"type\":\"pie\"}],\"scatter3d\":[{\"line\":{\"colorbar\":{\"outlinewidth\":0,\"ticks\":\"\"}},\"marker\":{\"colorbar\":{\"outlinewidth\":0,\"ticks\":\"\"}},\"type\":\"scatter3d\"}],\"scattercarpet\":[{\"marker\":{\"colorbar\":{\"outlinewidth\":0,\"ticks\":\"\"}},\"type\":\"scattercarpet\"}],\"scattergeo\":[{\"marker\":{\"colorbar\":{\"outlinewidth\":0,\"ticks\":\"\"}},\"type\":\"scattergeo\"}],\"scattergl\":[{\"marker\":{\"colorbar\":{\"outlinewidth\":0,\"ticks\":\"\"}},\"type\":\"scattergl\"}],\"scattermapbox\":[{\"marker\":{\"colorbar\":{\"outlinewidth\":0,\"ticks\":\"\"}},\"type\":\"scattermapbox\"}],\"scatterpolargl\":[{\"marker\":{\"colorbar\":{\"outlinewidth\":0,\"ticks\":\"\"}},\"type\":\"scatterpolargl\"}],\"scatterpolar\":[{\"marker\":{\"colorbar\":{\"outlinewidth\":0,\"ticks\":\"\"}},\"type\":\"scatterpolar\"}],\"scatter\":[{\"fillpattern\":{\"fillmode\":\"overlay\",\"size\":10,\"solidity\":0.2},\"type\":\"scatter\"}],\"scatterternary\":[{\"marker\":{\"colorbar\":{\"outlinewidth\":0,\"ticks\":\"\"}},\"type\":\"scatterternary\"}],\"surface\":[{\"colorbar\":{\"outlinewidth\":0,\"ticks\":\"\"},\"colorscale\":[[0.0,\"#0d0887\"],[0.1111111111111111,\"#46039f\"],[0.2222222222222222,\"#7201a8\"],[0.3333333333333333,\"#9c179e\"],[0.4444444444444444,\"#bd3786\"],[0.5555555555555556,\"#d8576b\"],[0.6666666666666666,\"#ed7953\"],[0.7777777777777778,\"#fb9f3a\"],[0.8888888888888888,\"#fdca26\"],[1.0,\"#f0f921\"]],\"type\":\"surface\"}],\"table\":[{\"cells\":{\"fill\":{\"color\":\"#EBF0F8\"},\"line\":{\"color\":\"white\"}},\"header\":{\"fill\":{\"color\":\"#C8D4E3\"},\"line\":{\"color\":\"white\"}},\"type\":\"table\"}]},\"layout\":{\"annotationdefaults\":{\"arrowcolor\":\"#2a3f5f\",\"arrowhead\":0,\"arrowwidth\":1},\"autotypenumbers\":\"strict\",\"coloraxis\":{\"colorbar\":{\"outlinewidth\":0,\"ticks\":\"\"}},\"colorscale\":{\"diverging\":[[0,\"#8e0152\"],[0.1,\"#c51b7d\"],[0.2,\"#de77ae\"],[0.3,\"#f1b6da\"],[0.4,\"#fde0ef\"],[0.5,\"#f7f7f7\"],[0.6,\"#e6f5d0\"],[0.7,\"#b8e186\"],[0.8,\"#7fbc41\"],[0.9,\"#4d9221\"],[1,\"#276419\"]],\"sequential\":[[0.0,\"#0d0887\"],[0.1111111111111111,\"#46039f\"],[0.2222222222222222,\"#7201a8\"],[0.3333333333333333,\"#9c179e\"],[0.4444444444444444,\"#bd3786\"],[0.5555555555555556,\"#d8576b\"],[0.6666666666666666,\"#ed7953\"],[0.7777777777777778,\"#fb9f3a\"],[0.8888888888888888,\"#fdca26\"],[1.0,\"#f0f921\"]],\"sequentialminus\":[[0.0,\"#0d0887\"],[0.1111111111111111,\"#46039f\"],[0.2222222222222222,\"#7201a8\"],[0.3333333333333333,\"#9c179e\"],[0.4444444444444444,\"#bd3786\"],[0.5555555555555556,\"#d8576b\"],[0.6666666666666666,\"#ed7953\"],[0.7777777777777778,\"#fb9f3a\"],[0.8888888888888888,\"#fdca26\"],[1.0,\"#f0f921\"]]},\"colorway\":[\"#636efa\",\"#EF553B\",\"#00cc96\",\"#ab63fa\",\"#FFA15A\",\"#19d3f3\",\"#FF6692\",\"#B6E880\",\"#FF97FF\",\"#FECB52\"],\"font\":{\"color\":\"#2a3f5f\"},\"geo\":{\"bgcolor\":\"white\",\"lakecolor\":\"white\",\"landcolor\":\"#E5ECF6\",\"showlakes\":true,\"showland\":true,\"subunitcolor\":\"white\"},\"hoverlabel\":{\"align\":\"left\"},\"hovermode\":\"closest\",\"mapbox\":{\"style\":\"light\"},\"paper_bgcolor\":\"white\",\"plot_bgcolor\":\"#E5ECF6\",\"polar\":{\"angularaxis\":{\"gridcolor\":\"white\",\"linecolor\":\"white\",\"ticks\":\"\"},\"bgcolor\":\"#E5ECF6\",\"radialaxis\":{\"gridcolor\":\"white\",\"linecolor\":\"white\",\"ticks\":\"\"}},\"scene\":{\"xaxis\":{\"backgroundcolor\":\"#E5ECF6\",\"gridcolor\":\"white\",\"gridwidth\":2,\"linecolor\":\"white\",\"showbackground\":true,\"ticks\":\"\",\"zerolinecolor\":\"white\"},\"yaxis\":{\"backgroundcolor\":\"#E5ECF6\",\"gridcolor\":\"white\",\"gridwidth\":2,\"linecolor\":\"white\",\"showbackground\":true,\"ticks\":\"\",\"zerolinecolor\":\"white\"},\"zaxis\":{\"backgroundcolor\":\"#E5ECF6\",\"gridcolor\":\"white\",\"gridwidth\":2,\"linecolor\":\"white\",\"showbackground\":true,\"ticks\":\"\",\"zerolinecolor\":\"white\"}},\"shapedefaults\":{\"line\":{\"color\":\"#2a3f5f\"}},\"ternary\":{\"aaxis\":{\"gridcolor\":\"white\",\"linecolor\":\"white\",\"ticks\":\"\"},\"baxis\":{\"gridcolor\":\"white\",\"linecolor\":\"white\",\"ticks\":\"\"},\"bgcolor\":\"#E5ECF6\",\"caxis\":{\"gridcolor\":\"white\",\"linecolor\":\"white\",\"ticks\":\"\"}},\"title\":{\"x\":0.05},\"xaxis\":{\"automargin\":true,\"gridcolor\":\"white\",\"linecolor\":\"white\",\"ticks\":\"\",\"title\":{\"standoff\":15},\"zerolinecolor\":\"white\",\"zerolinewidth\":2},\"yaxis\":{\"automargin\":true,\"gridcolor\":\"white\",\"linecolor\":\"white\",\"ticks\":\"\",\"title\":{\"standoff\":15},\"zerolinecolor\":\"white\",\"zerolinewidth\":2}}},\"title\":{\"font\":{\"color\":\"#4D5663\"}},\"xaxis\":{\"anchor\":\"y\",\"domain\":[0.0,0.2125],\"gridcolor\":\"#E1E5ED\",\"showgrid\":false,\"tickfont\":{\"color\":\"#4D5663\"},\"title\":{\"font\":{\"color\":\"#4D5663\"},\"text\":\"\"},\"zerolinecolor\":\"#E1E5ED\"},\"yaxis\":{\"anchor\":\"x\",\"domain\":[0.8025,1.0],\"gridcolor\":\"#E1E5ED\",\"showgrid\":false,\"tickfont\":{\"color\":\"#4D5663\"},\"title\":{\"font\":{\"color\":\"#4D5663\"},\"text\":\"\"},\"zerolinecolor\":\"#E1E5ED\"},\"xaxis2\":{\"anchor\":\"y2\",\"domain\":[0.2625,0.475],\"gridcolor\":\"#E1E5ED\",\"showgrid\":false,\"tickfont\":{\"color\":\"#4D5663\"},\"title\":{\"font\":{\"color\":\"#4D5663\"},\"text\":\"\"},\"zerolinecolor\":\"#E1E5ED\"},\"yaxis2\":{\"anchor\":\"x2\",\"domain\":[0.8025,1.0],\"gridcolor\":\"#E1E5ED\",\"showgrid\":false,\"tickfont\":{\"color\":\"#4D5663\"},\"title\":{\"font\":{\"color\":\"#4D5663\"},\"text\":\"\"},\"zerolinecolor\":\"#E1E5ED\"},\"xaxis3\":{\"anchor\":\"y3\",\"domain\":[0.525,0.7375],\"gridcolor\":\"#E1E5ED\",\"showgrid\":false,\"tickfont\":{\"color\":\"#4D5663\"},\"title\":{\"font\":{\"color\":\"#4D5663\"},\"text\":\"\"},\"zerolinecolor\":\"#E1E5ED\"},\"yaxis3\":{\"anchor\":\"x3\",\"domain\":[0.8025,1.0],\"gridcolor\":\"#E1E5ED\",\"showgrid\":false,\"tickfont\":{\"color\":\"#4D5663\"},\"title\":{\"font\":{\"color\":\"#4D5663\"},\"text\":\"\"},\"zerolinecolor\":\"#E1E5ED\"},\"xaxis4\":{\"anchor\":\"y4\",\"domain\":[0.7875,1.0],\"gridcolor\":\"#E1E5ED\",\"showgrid\":false,\"tickfont\":{\"color\":\"#4D5663\"},\"title\":{\"font\":{\"color\":\"#4D5663\"},\"text\":\"\"},\"zerolinecolor\":\"#E1E5ED\"},\"yaxis4\":{\"anchor\":\"x4\",\"domain\":[0.8025,1.0],\"gridcolor\":\"#E1E5ED\",\"showgrid\":false,\"tickfont\":{\"color\":\"#4D5663\"},\"title\":{\"font\":{\"color\":\"#4D5663\"},\"text\":\"\"},\"zerolinecolor\":\"#E1E5ED\"},\"xaxis5\":{\"anchor\":\"y5\",\"domain\":[0.0,0.2125],\"gridcolor\":\"#E1E5ED\",\"showgrid\":false,\"tickfont\":{\"color\":\"#4D5663\"},\"title\":{\"font\":{\"color\":\"#4D5663\"},\"text\":\"\"},\"zerolinecolor\":\"#E1E5ED\"},\"yaxis5\":{\"anchor\":\"x5\",\"domain\":[0.535,0.7325],\"gridcolor\":\"#E1E5ED\",\"showgrid\":false,\"tickfont\":{\"color\":\"#4D5663\"},\"title\":{\"font\":{\"color\":\"#4D5663\"},\"text\":\"\"},\"zerolinecolor\":\"#E1E5ED\"},\"xaxis6\":{\"anchor\":\"y6\",\"domain\":[0.2625,0.475],\"gridcolor\":\"#E1E5ED\",\"showgrid\":false,\"tickfont\":{\"color\":\"#4D5663\"},\"title\":{\"font\":{\"color\":\"#4D5663\"},\"text\":\"\"},\"zerolinecolor\":\"#E1E5ED\"},\"yaxis6\":{\"anchor\":\"x6\",\"domain\":[0.535,0.7325],\"gridcolor\":\"#E1E5ED\",\"showgrid\":false,\"tickfont\":{\"color\":\"#4D5663\"},\"title\":{\"font\":{\"color\":\"#4D5663\"},\"text\":\"\"},\"zerolinecolor\":\"#E1E5ED\"},\"xaxis7\":{\"anchor\":\"y7\",\"domain\":[0.525,0.7375],\"gridcolor\":\"#E1E5ED\",\"showgrid\":false,\"tickfont\":{\"color\":\"#4D5663\"},\"title\":{\"font\":{\"color\":\"#4D5663\"},\"text\":\"\"},\"zerolinecolor\":\"#E1E5ED\"},\"yaxis7\":{\"anchor\":\"x7\",\"domain\":[0.535,0.7325],\"gridcolor\":\"#E1E5ED\",\"showgrid\":false,\"tickfont\":{\"color\":\"#4D5663\"},\"title\":{\"font\":{\"color\":\"#4D5663\"},\"text\":\"\"},\"zerolinecolor\":\"#E1E5ED\"},\"xaxis8\":{\"anchor\":\"y8\",\"domain\":[0.7875,1.0],\"gridcolor\":\"#E1E5ED\",\"showgrid\":false,\"tickfont\":{\"color\":\"#4D5663\"},\"title\":{\"font\":{\"color\":\"#4D5663\"},\"text\":\"\"},\"zerolinecolor\":\"#E1E5ED\"},\"yaxis8\":{\"anchor\":\"x8\",\"domain\":[0.535,0.7325],\"gridcolor\":\"#E1E5ED\",\"showgrid\":false,\"tickfont\":{\"color\":\"#4D5663\"},\"title\":{\"font\":{\"color\":\"#4D5663\"},\"text\":\"\"},\"zerolinecolor\":\"#E1E5ED\"},\"xaxis9\":{\"anchor\":\"y9\",\"domain\":[0.0,0.2125],\"gridcolor\":\"#E1E5ED\",\"showgrid\":false,\"tickfont\":{\"color\":\"#4D5663\"},\"title\":{\"font\":{\"color\":\"#4D5663\"},\"text\":\"\"},\"zerolinecolor\":\"#E1E5ED\"},\"yaxis9\":{\"anchor\":\"x9\",\"domain\":[0.2675,0.465],\"gridcolor\":\"#E1E5ED\",\"showgrid\":false,\"tickfont\":{\"color\":\"#4D5663\"},\"title\":{\"font\":{\"color\":\"#4D5663\"},\"text\":\"\"},\"zerolinecolor\":\"#E1E5ED\"},\"xaxis10\":{\"anchor\":\"y10\",\"domain\":[0.2625,0.475],\"gridcolor\":\"#E1E5ED\",\"showgrid\":false,\"tickfont\":{\"color\":\"#4D5663\"},\"title\":{\"font\":{\"color\":\"#4D5663\"},\"text\":\"\"},\"zerolinecolor\":\"#E1E5ED\"},\"yaxis10\":{\"anchor\":\"x10\",\"domain\":[0.2675,0.465],\"gridcolor\":\"#E1E5ED\",\"showgrid\":false,\"tickfont\":{\"color\":\"#4D5663\"},\"title\":{\"font\":{\"color\":\"#4D5663\"},\"text\":\"\"},\"zerolinecolor\":\"#E1E5ED\"},\"xaxis11\":{\"anchor\":\"y11\",\"domain\":[0.525,0.7375],\"gridcolor\":\"#E1E5ED\",\"showgrid\":false,\"tickfont\":{\"color\":\"#4D5663\"},\"title\":{\"font\":{\"color\":\"#4D5663\"},\"text\":\"\"},\"zerolinecolor\":\"#E1E5ED\"},\"yaxis11\":{\"anchor\":\"x11\",\"domain\":[0.2675,0.465],\"gridcolor\":\"#E1E5ED\",\"showgrid\":false,\"tickfont\":{\"color\":\"#4D5663\"},\"title\":{\"font\":{\"color\":\"#4D5663\"},\"text\":\"\"},\"zerolinecolor\":\"#E1E5ED\"},\"xaxis12\":{\"anchor\":\"y12\",\"domain\":[0.7875,1.0],\"gridcolor\":\"#E1E5ED\",\"showgrid\":false,\"tickfont\":{\"color\":\"#4D5663\"},\"title\":{\"font\":{\"color\":\"#4D5663\"},\"text\":\"\"},\"zerolinecolor\":\"#E1E5ED\"},\"yaxis12\":{\"anchor\":\"x12\",\"domain\":[0.2675,0.465],\"gridcolor\":\"#E1E5ED\",\"showgrid\":false,\"tickfont\":{\"color\":\"#4D5663\"},\"title\":{\"font\":{\"color\":\"#4D5663\"},\"text\":\"\"},\"zerolinecolor\":\"#E1E5ED\"},\"xaxis13\":{\"anchor\":\"y13\",\"domain\":[0.0,0.2125],\"gridcolor\":\"#E1E5ED\",\"showgrid\":false,\"tickfont\":{\"color\":\"#4D5663\"},\"title\":{\"font\":{\"color\":\"#4D5663\"},\"text\":\"\"},\"zerolinecolor\":\"#E1E5ED\"},\"yaxis13\":{\"anchor\":\"x13\",\"domain\":[0.0,0.1975],\"gridcolor\":\"#E1E5ED\",\"showgrid\":false,\"tickfont\":{\"color\":\"#4D5663\"},\"title\":{\"font\":{\"color\":\"#4D5663\"},\"text\":\"\"},\"zerolinecolor\":\"#E1E5ED\"},\"xaxis14\":{\"anchor\":\"y14\",\"domain\":[0.2625,0.475],\"gridcolor\":\"#E1E5ED\",\"showgrid\":false,\"tickfont\":{\"color\":\"#4D5663\"},\"title\":{\"font\":{\"color\":\"#4D5663\"},\"text\":\"\"},\"zerolinecolor\":\"#E1E5ED\"},\"yaxis14\":{\"anchor\":\"x14\",\"domain\":[0.0,0.1975],\"gridcolor\":\"#E1E5ED\",\"showgrid\":false,\"tickfont\":{\"color\":\"#4D5663\"},\"title\":{\"font\":{\"color\":\"#4D5663\"},\"text\":\"\"},\"zerolinecolor\":\"#E1E5ED\"},\"xaxis15\":{\"anchor\":\"y15\",\"domain\":[0.525,0.7375],\"gridcolor\":\"#E1E5ED\",\"showgrid\":false,\"tickfont\":{\"color\":\"#4D5663\"},\"title\":{\"font\":{\"color\":\"#4D5663\"},\"text\":\"\"},\"zerolinecolor\":\"#E1E5ED\"},\"yaxis15\":{\"anchor\":\"x15\",\"domain\":[0.0,0.1975],\"gridcolor\":\"#E1E5ED\",\"showgrid\":false,\"tickfont\":{\"color\":\"#4D5663\"},\"title\":{\"font\":{\"color\":\"#4D5663\"},\"text\":\"\"},\"zerolinecolor\":\"#E1E5ED\"},\"xaxis16\":{\"anchor\":\"y16\",\"domain\":[0.7875,1.0],\"gridcolor\":\"#E1E5ED\",\"showgrid\":false,\"tickfont\":{\"color\":\"#4D5663\"},\"title\":{\"font\":{\"color\":\"#4D5663\"},\"text\":\"\"},\"zerolinecolor\":\"#E1E5ED\"},\"yaxis16\":{\"anchor\":\"x16\",\"domain\":[0.0,0.1975],\"gridcolor\":\"#E1E5ED\",\"showgrid\":false,\"tickfont\":{\"color\":\"#4D5663\"},\"title\":{\"font\":{\"color\":\"#4D5663\"},\"text\":\"\"},\"zerolinecolor\":\"#E1E5ED\"}},                        {\"showLink\": true, \"linkText\": \"Export to plot.ly\", \"plotlyServerURL\": \"https://plot.ly\", \"responsive\": true}                    ).then(function(){\n",
       "                            \n",
       "var gd = document.getElementById('5b355d5d-db66-4912-8855-4590e5de5a79');\n",
       "var x = new MutationObserver(function (mutations, observer) {{\n",
       "        var display = window.getComputedStyle(gd).display;\n",
       "        if (!display || display === 'none') {{\n",
       "            console.log([gd, 'removed!']);\n",
       "            Plotly.purge(gd);\n",
       "            observer.disconnect();\n",
       "        }}\n",
       "}});\n",
       "\n",
       "// Listen for the removal of the full notebook cells\n",
       "var notebookContainer = gd.closest('#notebook-container');\n",
       "if (notebookContainer) {{\n",
       "    x.observe(notebookContainer, {childList: true});\n",
       "}}\n",
       "\n",
       "// Listen for the clearing of the current output cell\n",
       "var outputEl = gd.closest('.output');\n",
       "if (outputEl) {{\n",
       "    x.observe(outputEl, {childList: true});\n",
       "}}\n",
       "\n",
       "                        })                };                });            </script>        </div>"
      ]
     },
     "metadata": {},
     "output_type": "display_data"
    }
   ],
   "source": [
    "df.scatter_matrix()"
   ]
  },
  {
   "cell_type": "markdown",
   "metadata": {
    "collapsed": true
   },
   "source": [
    "# Great Job!"
   ]
  }
 ],
 "metadata": {
  "kernelspec": {
   "display_name": "Python 3.10.7 64-bit",
   "language": "python",
   "name": "python3"
  },
  "language_info": {
   "codemirror_mode": {
    "name": "ipython",
    "version": 3
   },
   "file_extension": ".py",
   "mimetype": "text/x-python",
   "name": "python",
   "nbconvert_exporter": "python",
   "pygments_lexer": "ipython3",
   "version": "3.10.7"
  },
  "vscode": {
   "interpreter": {
    "hash": "bea9779b8a0b5e9af4595245cc07759d22c7c553ff3d1c1b52e76260bd4a6931"
   }
  }
 },
 "nbformat": 4,
 "nbformat_minor": 0
}
